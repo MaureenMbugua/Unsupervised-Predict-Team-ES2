{
 "cells": [
  {
   "cell_type": "code",
   "execution_count": 1,
   "id": "71b03806",
   "metadata": {},
   "outputs": [],
   "source": [
    "import requests\n",
    "import pandas as pd\n",
    "import numpy as np\n",
    "from numpy import random\n",
    "import itertools\n",
    "import matplotlib.pyplot as plt\n",
    "import re\n",
    "import seaborn as sns\n",
    "import matplotlib.pyplot as plt\n",
    "import matplotlib.ticker as ticker\n",
    "sns.set_style('darkgrid')\n",
    "from wordcloud import WordCloud\n",
    "from ipywidgets import interact, interact_manual, widgets\n",
    "\n",
    "import os"
   ]
  },
  {
   "cell_type": "markdown",
   "id": "3f3f50c3",
   "metadata": {},
   "source": [
    "### Loading Dataset"
   ]
  },
  {
   "cell_type": "markdown",
   "id": "4fce4d9b",
   "metadata": {},
   "source": [
    "Loading all dataset for the project and appending to a list"
   ]
  },
  {
   "cell_type": "code",
   "execution_count": 2,
   "id": "ea42a1c4",
   "metadata": {
    "scrolled": false
   },
   "outputs": [
    {
     "name": "stdout",
     "output_type": "stream",
     "text": [
      "0 Overview of genome_scores.csv DataFrame\n"
     ]
    },
    {
     "data": {
      "text/html": [
       "<div>\n",
       "<style scoped>\n",
       "    .dataframe tbody tr th:only-of-type {\n",
       "        vertical-align: middle;\n",
       "    }\n",
       "\n",
       "    .dataframe tbody tr th {\n",
       "        vertical-align: top;\n",
       "    }\n",
       "\n",
       "    .dataframe thead th {\n",
       "        text-align: right;\n",
       "    }\n",
       "</style>\n",
       "<table border=\"1\" class=\"dataframe\">\n",
       "  <thead>\n",
       "    <tr style=\"text-align: right;\">\n",
       "      <th></th>\n",
       "      <th>movieId</th>\n",
       "      <th>tagId</th>\n",
       "      <th>relevance</th>\n",
       "    </tr>\n",
       "  </thead>\n",
       "  <tbody>\n",
       "    <tr>\n",
       "      <th>0</th>\n",
       "      <td>1</td>\n",
       "      <td>1</td>\n",
       "      <td>0.02875</td>\n",
       "    </tr>\n",
       "    <tr>\n",
       "      <th>1</th>\n",
       "      <td>1</td>\n",
       "      <td>2</td>\n",
       "      <td>0.02375</td>\n",
       "    </tr>\n",
       "    <tr>\n",
       "      <th>2</th>\n",
       "      <td>1</td>\n",
       "      <td>3</td>\n",
       "      <td>0.06250</td>\n",
       "    </tr>\n",
       "    <tr>\n",
       "      <th>3</th>\n",
       "      <td>1</td>\n",
       "      <td>4</td>\n",
       "      <td>0.07575</td>\n",
       "    </tr>\n",
       "    <tr>\n",
       "      <th>4</th>\n",
       "      <td>1</td>\n",
       "      <td>5</td>\n",
       "      <td>0.14075</td>\n",
       "    </tr>\n",
       "  </tbody>\n",
       "</table>\n",
       "</div>"
      ],
      "text/plain": [
       "   movieId  tagId  relevance\n",
       "0        1      1    0.02875\n",
       "1        1      2    0.02375\n",
       "2        1      3    0.06250\n",
       "3        1      4    0.07575\n",
       "4        1      5    0.14075"
      ]
     },
     "metadata": {},
     "output_type": "display_data"
    },
    {
     "name": "stdout",
     "output_type": "stream",
     "text": [
      "(15584448, 3)\n",
      "1 Overview of genome_tags.csv DataFrame\n"
     ]
    },
    {
     "data": {
      "text/html": [
       "<div>\n",
       "<style scoped>\n",
       "    .dataframe tbody tr th:only-of-type {\n",
       "        vertical-align: middle;\n",
       "    }\n",
       "\n",
       "    .dataframe tbody tr th {\n",
       "        vertical-align: top;\n",
       "    }\n",
       "\n",
       "    .dataframe thead th {\n",
       "        text-align: right;\n",
       "    }\n",
       "</style>\n",
       "<table border=\"1\" class=\"dataframe\">\n",
       "  <thead>\n",
       "    <tr style=\"text-align: right;\">\n",
       "      <th></th>\n",
       "      <th>tagId</th>\n",
       "      <th>tag</th>\n",
       "    </tr>\n",
       "  </thead>\n",
       "  <tbody>\n",
       "    <tr>\n",
       "      <th>0</th>\n",
       "      <td>1</td>\n",
       "      <td>007</td>\n",
       "    </tr>\n",
       "    <tr>\n",
       "      <th>1</th>\n",
       "      <td>2</td>\n",
       "      <td>007 (series)</td>\n",
       "    </tr>\n",
       "    <tr>\n",
       "      <th>2</th>\n",
       "      <td>3</td>\n",
       "      <td>18th century</td>\n",
       "    </tr>\n",
       "    <tr>\n",
       "      <th>3</th>\n",
       "      <td>4</td>\n",
       "      <td>1920s</td>\n",
       "    </tr>\n",
       "    <tr>\n",
       "      <th>4</th>\n",
       "      <td>5</td>\n",
       "      <td>1930s</td>\n",
       "    </tr>\n",
       "  </tbody>\n",
       "</table>\n",
       "</div>"
      ],
      "text/plain": [
       "   tagId           tag\n",
       "0      1           007\n",
       "1      2  007 (series)\n",
       "2      3  18th century\n",
       "3      4         1920s\n",
       "4      5         1930s"
      ]
     },
     "metadata": {},
     "output_type": "display_data"
    },
    {
     "name": "stdout",
     "output_type": "stream",
     "text": [
      "(1128, 2)\n",
      "2 Overview of imdb_data.csv DataFrame\n"
     ]
    },
    {
     "data": {
      "text/html": [
       "<div>\n",
       "<style scoped>\n",
       "    .dataframe tbody tr th:only-of-type {\n",
       "        vertical-align: middle;\n",
       "    }\n",
       "\n",
       "    .dataframe tbody tr th {\n",
       "        vertical-align: top;\n",
       "    }\n",
       "\n",
       "    .dataframe thead th {\n",
       "        text-align: right;\n",
       "    }\n",
       "</style>\n",
       "<table border=\"1\" class=\"dataframe\">\n",
       "  <thead>\n",
       "    <tr style=\"text-align: right;\">\n",
       "      <th></th>\n",
       "      <th>movieId</th>\n",
       "      <th>title_cast</th>\n",
       "      <th>director</th>\n",
       "      <th>runtime</th>\n",
       "      <th>budget</th>\n",
       "      <th>plot_keywords</th>\n",
       "    </tr>\n",
       "  </thead>\n",
       "  <tbody>\n",
       "    <tr>\n",
       "      <th>0</th>\n",
       "      <td>1</td>\n",
       "      <td>Tom Hanks|Tim Allen|Don Rickles|Jim Varney|Wal...</td>\n",
       "      <td>John Lasseter</td>\n",
       "      <td>81.0</td>\n",
       "      <td>$30,000,000</td>\n",
       "      <td>toy|rivalry|cowboy|cgi animation</td>\n",
       "    </tr>\n",
       "    <tr>\n",
       "      <th>1</th>\n",
       "      <td>2</td>\n",
       "      <td>Robin Williams|Jonathan Hyde|Kirsten Dunst|Bra...</td>\n",
       "      <td>Jonathan Hensleigh</td>\n",
       "      <td>104.0</td>\n",
       "      <td>$65,000,000</td>\n",
       "      <td>board game|adventurer|fight|game</td>\n",
       "    </tr>\n",
       "    <tr>\n",
       "      <th>2</th>\n",
       "      <td>3</td>\n",
       "      <td>Walter Matthau|Jack Lemmon|Sophia Loren|Ann-Ma...</td>\n",
       "      <td>Mark Steven Johnson</td>\n",
       "      <td>101.0</td>\n",
       "      <td>$25,000,000</td>\n",
       "      <td>boat|lake|neighbor|rivalry</td>\n",
       "    </tr>\n",
       "    <tr>\n",
       "      <th>3</th>\n",
       "      <td>4</td>\n",
       "      <td>Whitney Houston|Angela Bassett|Loretta Devine|...</td>\n",
       "      <td>Terry McMillan</td>\n",
       "      <td>124.0</td>\n",
       "      <td>$16,000,000</td>\n",
       "      <td>black american|husband wife relationship|betra...</td>\n",
       "    </tr>\n",
       "    <tr>\n",
       "      <th>4</th>\n",
       "      <td>5</td>\n",
       "      <td>Steve Martin|Diane Keaton|Martin Short|Kimberl...</td>\n",
       "      <td>Albert Hackett</td>\n",
       "      <td>106.0</td>\n",
       "      <td>$30,000,000</td>\n",
       "      <td>fatherhood|doberman|dog|mansion</td>\n",
       "    </tr>\n",
       "  </tbody>\n",
       "</table>\n",
       "</div>"
      ],
      "text/plain": [
       "   movieId                                         title_cast  \\\n",
       "0        1  Tom Hanks|Tim Allen|Don Rickles|Jim Varney|Wal...   \n",
       "1        2  Robin Williams|Jonathan Hyde|Kirsten Dunst|Bra...   \n",
       "2        3  Walter Matthau|Jack Lemmon|Sophia Loren|Ann-Ma...   \n",
       "3        4  Whitney Houston|Angela Bassett|Loretta Devine|...   \n",
       "4        5  Steve Martin|Diane Keaton|Martin Short|Kimberl...   \n",
       "\n",
       "              director  runtime       budget  \\\n",
       "0        John Lasseter     81.0  $30,000,000   \n",
       "1   Jonathan Hensleigh    104.0  $65,000,000   \n",
       "2  Mark Steven Johnson    101.0  $25,000,000   \n",
       "3       Terry McMillan    124.0  $16,000,000   \n",
       "4       Albert Hackett    106.0  $30,000,000   \n",
       "\n",
       "                                       plot_keywords  \n",
       "0                   toy|rivalry|cowboy|cgi animation  \n",
       "1                   board game|adventurer|fight|game  \n",
       "2                         boat|lake|neighbor|rivalry  \n",
       "3  black american|husband wife relationship|betra...  \n",
       "4                    fatherhood|doberman|dog|mansion  "
      ]
     },
     "metadata": {},
     "output_type": "display_data"
    },
    {
     "name": "stdout",
     "output_type": "stream",
     "text": [
      "(27278, 6)\n",
      "3 Overview of links.csv DataFrame\n"
     ]
    },
    {
     "data": {
      "text/html": [
       "<div>\n",
       "<style scoped>\n",
       "    .dataframe tbody tr th:only-of-type {\n",
       "        vertical-align: middle;\n",
       "    }\n",
       "\n",
       "    .dataframe tbody tr th {\n",
       "        vertical-align: top;\n",
       "    }\n",
       "\n",
       "    .dataframe thead th {\n",
       "        text-align: right;\n",
       "    }\n",
       "</style>\n",
       "<table border=\"1\" class=\"dataframe\">\n",
       "  <thead>\n",
       "    <tr style=\"text-align: right;\">\n",
       "      <th></th>\n",
       "      <th>movieId</th>\n",
       "      <th>imdbId</th>\n",
       "      <th>tmdbId</th>\n",
       "    </tr>\n",
       "  </thead>\n",
       "  <tbody>\n",
       "    <tr>\n",
       "      <th>0</th>\n",
       "      <td>1</td>\n",
       "      <td>114709</td>\n",
       "      <td>862.0</td>\n",
       "    </tr>\n",
       "    <tr>\n",
       "      <th>1</th>\n",
       "      <td>2</td>\n",
       "      <td>113497</td>\n",
       "      <td>8844.0</td>\n",
       "    </tr>\n",
       "    <tr>\n",
       "      <th>2</th>\n",
       "      <td>3</td>\n",
       "      <td>113228</td>\n",
       "      <td>15602.0</td>\n",
       "    </tr>\n",
       "    <tr>\n",
       "      <th>3</th>\n",
       "      <td>4</td>\n",
       "      <td>114885</td>\n",
       "      <td>31357.0</td>\n",
       "    </tr>\n",
       "    <tr>\n",
       "      <th>4</th>\n",
       "      <td>5</td>\n",
       "      <td>113041</td>\n",
       "      <td>11862.0</td>\n",
       "    </tr>\n",
       "  </tbody>\n",
       "</table>\n",
       "</div>"
      ],
      "text/plain": [
       "   movieId  imdbId   tmdbId\n",
       "0        1  114709    862.0\n",
       "1        2  113497   8844.0\n",
       "2        3  113228  15602.0\n",
       "3        4  114885  31357.0\n",
       "4        5  113041  11862.0"
      ]
     },
     "metadata": {},
     "output_type": "display_data"
    },
    {
     "name": "stdout",
     "output_type": "stream",
     "text": [
      "(62423, 3)\n",
      "4 Overview of movies.csv DataFrame\n"
     ]
    },
    {
     "data": {
      "text/html": [
       "<div>\n",
       "<style scoped>\n",
       "    .dataframe tbody tr th:only-of-type {\n",
       "        vertical-align: middle;\n",
       "    }\n",
       "\n",
       "    .dataframe tbody tr th {\n",
       "        vertical-align: top;\n",
       "    }\n",
       "\n",
       "    .dataframe thead th {\n",
       "        text-align: right;\n",
       "    }\n",
       "</style>\n",
       "<table border=\"1\" class=\"dataframe\">\n",
       "  <thead>\n",
       "    <tr style=\"text-align: right;\">\n",
       "      <th></th>\n",
       "      <th>movieId</th>\n",
       "      <th>title</th>\n",
       "      <th>genres</th>\n",
       "    </tr>\n",
       "  </thead>\n",
       "  <tbody>\n",
       "    <tr>\n",
       "      <th>0</th>\n",
       "      <td>1</td>\n",
       "      <td>Toy Story (1995)</td>\n",
       "      <td>Adventure|Animation|Children|Comedy|Fantasy</td>\n",
       "    </tr>\n",
       "    <tr>\n",
       "      <th>1</th>\n",
       "      <td>2</td>\n",
       "      <td>Jumanji (1995)</td>\n",
       "      <td>Adventure|Children|Fantasy</td>\n",
       "    </tr>\n",
       "    <tr>\n",
       "      <th>2</th>\n",
       "      <td>3</td>\n",
       "      <td>Grumpier Old Men (1995)</td>\n",
       "      <td>Comedy|Romance</td>\n",
       "    </tr>\n",
       "    <tr>\n",
       "      <th>3</th>\n",
       "      <td>4</td>\n",
       "      <td>Waiting to Exhale (1995)</td>\n",
       "      <td>Comedy|Drama|Romance</td>\n",
       "    </tr>\n",
       "    <tr>\n",
       "      <th>4</th>\n",
       "      <td>5</td>\n",
       "      <td>Father of the Bride Part II (1995)</td>\n",
       "      <td>Comedy</td>\n",
       "    </tr>\n",
       "  </tbody>\n",
       "</table>\n",
       "</div>"
      ],
      "text/plain": [
       "   movieId                               title  \\\n",
       "0        1                    Toy Story (1995)   \n",
       "1        2                      Jumanji (1995)   \n",
       "2        3             Grumpier Old Men (1995)   \n",
       "3        4            Waiting to Exhale (1995)   \n",
       "4        5  Father of the Bride Part II (1995)   \n",
       "\n",
       "                                        genres  \n",
       "0  Adventure|Animation|Children|Comedy|Fantasy  \n",
       "1                   Adventure|Children|Fantasy  \n",
       "2                               Comedy|Romance  \n",
       "3                         Comedy|Drama|Romance  \n",
       "4                                       Comedy  "
      ]
     },
     "metadata": {},
     "output_type": "display_data"
    },
    {
     "name": "stdout",
     "output_type": "stream",
     "text": [
      "(62423, 3)\n",
      "5 Overview of sample_submission.csv DataFrame\n"
     ]
    },
    {
     "data": {
      "text/html": [
       "<div>\n",
       "<style scoped>\n",
       "    .dataframe tbody tr th:only-of-type {\n",
       "        vertical-align: middle;\n",
       "    }\n",
       "\n",
       "    .dataframe tbody tr th {\n",
       "        vertical-align: top;\n",
       "    }\n",
       "\n",
       "    .dataframe thead th {\n",
       "        text-align: right;\n",
       "    }\n",
       "</style>\n",
       "<table border=\"1\" class=\"dataframe\">\n",
       "  <thead>\n",
       "    <tr style=\"text-align: right;\">\n",
       "      <th></th>\n",
       "      <th>Id</th>\n",
       "      <th>rating</th>\n",
       "    </tr>\n",
       "  </thead>\n",
       "  <tbody>\n",
       "    <tr>\n",
       "      <th>0</th>\n",
       "      <td>1_2011</td>\n",
       "      <td>1.0</td>\n",
       "    </tr>\n",
       "    <tr>\n",
       "      <th>1</th>\n",
       "      <td>1_4144</td>\n",
       "      <td>1.0</td>\n",
       "    </tr>\n",
       "    <tr>\n",
       "      <th>2</th>\n",
       "      <td>1_5767</td>\n",
       "      <td>1.0</td>\n",
       "    </tr>\n",
       "    <tr>\n",
       "      <th>3</th>\n",
       "      <td>1_6711</td>\n",
       "      <td>1.0</td>\n",
       "    </tr>\n",
       "    <tr>\n",
       "      <th>4</th>\n",
       "      <td>1_7318</td>\n",
       "      <td>1.0</td>\n",
       "    </tr>\n",
       "  </tbody>\n",
       "</table>\n",
       "</div>"
      ],
      "text/plain": [
       "       Id  rating\n",
       "0  1_2011     1.0\n",
       "1  1_4144     1.0\n",
       "2  1_5767     1.0\n",
       "3  1_6711     1.0\n",
       "4  1_7318     1.0"
      ]
     },
     "metadata": {},
     "output_type": "display_data"
    },
    {
     "name": "stdout",
     "output_type": "stream",
     "text": [
      "(5000019, 2)\n",
      "6 Overview of tags.csv DataFrame\n"
     ]
    },
    {
     "data": {
      "text/html": [
       "<div>\n",
       "<style scoped>\n",
       "    .dataframe tbody tr th:only-of-type {\n",
       "        vertical-align: middle;\n",
       "    }\n",
       "\n",
       "    .dataframe tbody tr th {\n",
       "        vertical-align: top;\n",
       "    }\n",
       "\n",
       "    .dataframe thead th {\n",
       "        text-align: right;\n",
       "    }\n",
       "</style>\n",
       "<table border=\"1\" class=\"dataframe\">\n",
       "  <thead>\n",
       "    <tr style=\"text-align: right;\">\n",
       "      <th></th>\n",
       "      <th>userId</th>\n",
       "      <th>movieId</th>\n",
       "      <th>tag</th>\n",
       "      <th>timestamp</th>\n",
       "    </tr>\n",
       "  </thead>\n",
       "  <tbody>\n",
       "    <tr>\n",
       "      <th>0</th>\n",
       "      <td>3</td>\n",
       "      <td>260</td>\n",
       "      <td>classic</td>\n",
       "      <td>1439472355</td>\n",
       "    </tr>\n",
       "    <tr>\n",
       "      <th>1</th>\n",
       "      <td>3</td>\n",
       "      <td>260</td>\n",
       "      <td>sci-fi</td>\n",
       "      <td>1439472256</td>\n",
       "    </tr>\n",
       "    <tr>\n",
       "      <th>2</th>\n",
       "      <td>4</td>\n",
       "      <td>1732</td>\n",
       "      <td>dark comedy</td>\n",
       "      <td>1573943598</td>\n",
       "    </tr>\n",
       "    <tr>\n",
       "      <th>3</th>\n",
       "      <td>4</td>\n",
       "      <td>1732</td>\n",
       "      <td>great dialogue</td>\n",
       "      <td>1573943604</td>\n",
       "    </tr>\n",
       "    <tr>\n",
       "      <th>4</th>\n",
       "      <td>4</td>\n",
       "      <td>7569</td>\n",
       "      <td>so bad it's good</td>\n",
       "      <td>1573943455</td>\n",
       "    </tr>\n",
       "  </tbody>\n",
       "</table>\n",
       "</div>"
      ],
      "text/plain": [
       "   userId  movieId               tag   timestamp\n",
       "0       3      260           classic  1439472355\n",
       "1       3      260            sci-fi  1439472256\n",
       "2       4     1732       dark comedy  1573943598\n",
       "3       4     1732    great dialogue  1573943604\n",
       "4       4     7569  so bad it's good  1573943455"
      ]
     },
     "metadata": {},
     "output_type": "display_data"
    },
    {
     "name": "stdout",
     "output_type": "stream",
     "text": [
      "(1093360, 4)\n",
      "7 Overview of test.csv DataFrame\n"
     ]
    },
    {
     "data": {
      "text/html": [
       "<div>\n",
       "<style scoped>\n",
       "    .dataframe tbody tr th:only-of-type {\n",
       "        vertical-align: middle;\n",
       "    }\n",
       "\n",
       "    .dataframe tbody tr th {\n",
       "        vertical-align: top;\n",
       "    }\n",
       "\n",
       "    .dataframe thead th {\n",
       "        text-align: right;\n",
       "    }\n",
       "</style>\n",
       "<table border=\"1\" class=\"dataframe\">\n",
       "  <thead>\n",
       "    <tr style=\"text-align: right;\">\n",
       "      <th></th>\n",
       "      <th>userId</th>\n",
       "      <th>movieId</th>\n",
       "    </tr>\n",
       "  </thead>\n",
       "  <tbody>\n",
       "    <tr>\n",
       "      <th>0</th>\n",
       "      <td>1</td>\n",
       "      <td>2011</td>\n",
       "    </tr>\n",
       "    <tr>\n",
       "      <th>1</th>\n",
       "      <td>1</td>\n",
       "      <td>4144</td>\n",
       "    </tr>\n",
       "    <tr>\n",
       "      <th>2</th>\n",
       "      <td>1</td>\n",
       "      <td>5767</td>\n",
       "    </tr>\n",
       "    <tr>\n",
       "      <th>3</th>\n",
       "      <td>1</td>\n",
       "      <td>6711</td>\n",
       "    </tr>\n",
       "    <tr>\n",
       "      <th>4</th>\n",
       "      <td>1</td>\n",
       "      <td>7318</td>\n",
       "    </tr>\n",
       "  </tbody>\n",
       "</table>\n",
       "</div>"
      ],
      "text/plain": [
       "   userId  movieId\n",
       "0       1     2011\n",
       "1       1     4144\n",
       "2       1     5767\n",
       "3       1     6711\n",
       "4       1     7318"
      ]
     },
     "metadata": {},
     "output_type": "display_data"
    },
    {
     "name": "stdout",
     "output_type": "stream",
     "text": [
      "(5000019, 2)\n",
      "8 Overview of train.csv DataFrame\n"
     ]
    },
    {
     "data": {
      "text/html": [
       "<div>\n",
       "<style scoped>\n",
       "    .dataframe tbody tr th:only-of-type {\n",
       "        vertical-align: middle;\n",
       "    }\n",
       "\n",
       "    .dataframe tbody tr th {\n",
       "        vertical-align: top;\n",
       "    }\n",
       "\n",
       "    .dataframe thead th {\n",
       "        text-align: right;\n",
       "    }\n",
       "</style>\n",
       "<table border=\"1\" class=\"dataframe\">\n",
       "  <thead>\n",
       "    <tr style=\"text-align: right;\">\n",
       "      <th></th>\n",
       "      <th>userId</th>\n",
       "      <th>movieId</th>\n",
       "      <th>rating</th>\n",
       "      <th>timestamp</th>\n",
       "    </tr>\n",
       "  </thead>\n",
       "  <tbody>\n",
       "    <tr>\n",
       "      <th>0</th>\n",
       "      <td>5163</td>\n",
       "      <td>57669</td>\n",
       "      <td>4.0</td>\n",
       "      <td>1518349992</td>\n",
       "    </tr>\n",
       "    <tr>\n",
       "      <th>1</th>\n",
       "      <td>106343</td>\n",
       "      <td>5</td>\n",
       "      <td>4.5</td>\n",
       "      <td>1206238739</td>\n",
       "    </tr>\n",
       "    <tr>\n",
       "      <th>2</th>\n",
       "      <td>146790</td>\n",
       "      <td>5459</td>\n",
       "      <td>5.0</td>\n",
       "      <td>1076215539</td>\n",
       "    </tr>\n",
       "    <tr>\n",
       "      <th>3</th>\n",
       "      <td>106362</td>\n",
       "      <td>32296</td>\n",
       "      <td>2.0</td>\n",
       "      <td>1423042565</td>\n",
       "    </tr>\n",
       "    <tr>\n",
       "      <th>4</th>\n",
       "      <td>9041</td>\n",
       "      <td>366</td>\n",
       "      <td>3.0</td>\n",
       "      <td>833375837</td>\n",
       "    </tr>\n",
       "  </tbody>\n",
       "</table>\n",
       "</div>"
      ],
      "text/plain": [
       "   userId  movieId  rating   timestamp\n",
       "0    5163    57669     4.0  1518349992\n",
       "1  106343        5     4.5  1206238739\n",
       "2  146790     5459     5.0  1076215539\n",
       "3  106362    32296     2.0  1423042565\n",
       "4    9041      366     3.0   833375837"
      ]
     },
     "metadata": {},
     "output_type": "display_data"
    },
    {
     "name": "stdout",
     "output_type": "stream",
     "text": [
      "(10000038, 4)\n"
     ]
    }
   ],
   "source": [
    "path = \"./edsa-movie-recommendation-2022\"\n",
    "dir_list = os.listdir(path)\n",
    "listing = []\n",
    "df_list = []\n",
    "for x in dir_list:\n",
    "    if x.endswith('.csv'):\n",
    "        listing .append(x)\n",
    "count = 0\n",
    "for x in listing:\n",
    "    print(f\"{count} Overview of {x} DataFrame\")\n",
    "    temp_df = pd.read_csv(f'{path}/{x}')\n",
    "    df_list.append(temp_df)\n",
    "    display(temp_df.head())\n",
    "    print(temp_df.shape)\n",
    "    count += 1"
   ]
  },
  {
   "cell_type": "markdown",
   "id": "1734fdc1",
   "metadata": {},
   "source": [
    "### Exploring `movies` dataset "
   ]
  },
  {
   "cell_type": "code",
   "execution_count": 3,
   "id": "0f48c06e",
   "metadata": {},
   "outputs": [
    {
     "data": {
      "text/html": [
       "<div>\n",
       "<style scoped>\n",
       "    .dataframe tbody tr th:only-of-type {\n",
       "        vertical-align: middle;\n",
       "    }\n",
       "\n",
       "    .dataframe tbody tr th {\n",
       "        vertical-align: top;\n",
       "    }\n",
       "\n",
       "    .dataframe thead th {\n",
       "        text-align: right;\n",
       "    }\n",
       "</style>\n",
       "<table border=\"1\" class=\"dataframe\">\n",
       "  <thead>\n",
       "    <tr style=\"text-align: right;\">\n",
       "      <th></th>\n",
       "      <th>movieId</th>\n",
       "      <th>title</th>\n",
       "      <th>genres</th>\n",
       "    </tr>\n",
       "  </thead>\n",
       "  <tbody>\n",
       "    <tr>\n",
       "      <th>0</th>\n",
       "      <td>1</td>\n",
       "      <td>Toy Story (1995)</td>\n",
       "      <td>Adventure|Animation|Children|Comedy|Fantasy</td>\n",
       "    </tr>\n",
       "    <tr>\n",
       "      <th>1</th>\n",
       "      <td>2</td>\n",
       "      <td>Jumanji (1995)</td>\n",
       "      <td>Adventure|Children|Fantasy</td>\n",
       "    </tr>\n",
       "    <tr>\n",
       "      <th>2</th>\n",
       "      <td>3</td>\n",
       "      <td>Grumpier Old Men (1995)</td>\n",
       "      <td>Comedy|Romance</td>\n",
       "    </tr>\n",
       "    <tr>\n",
       "      <th>3</th>\n",
       "      <td>4</td>\n",
       "      <td>Waiting to Exhale (1995)</td>\n",
       "      <td>Comedy|Drama|Romance</td>\n",
       "    </tr>\n",
       "    <tr>\n",
       "      <th>4</th>\n",
       "      <td>5</td>\n",
       "      <td>Father of the Bride Part II (1995)</td>\n",
       "      <td>Comedy</td>\n",
       "    </tr>\n",
       "  </tbody>\n",
       "</table>\n",
       "</div>"
      ],
      "text/plain": [
       "   movieId                               title  \\\n",
       "0        1                    Toy Story (1995)   \n",
       "1        2                      Jumanji (1995)   \n",
       "2        3             Grumpier Old Men (1995)   \n",
       "3        4            Waiting to Exhale (1995)   \n",
       "4        5  Father of the Bride Part II (1995)   \n",
       "\n",
       "                                        genres  \n",
       "0  Adventure|Animation|Children|Comedy|Fantasy  \n",
       "1                   Adventure|Children|Fantasy  \n",
       "2                               Comedy|Romance  \n",
       "3                         Comedy|Drama|Romance  \n",
       "4                                       Comedy  "
      ]
     },
     "execution_count": 3,
     "metadata": {},
     "output_type": "execute_result"
    }
   ],
   "source": [
    "df_movies = df_list[4].copy()\n",
    "df_movies.head()"
   ]
  },
  {
   "cell_type": "code",
   "execution_count": 4,
   "id": "705d69b0",
   "metadata": {},
   "outputs": [
    {
     "name": "stdout",
     "output_type": "stream",
     "text": [
      "<class 'pandas.core.frame.DataFrame'>\n",
      "RangeIndex: 62423 entries, 0 to 62422\n",
      "Data columns (total 3 columns):\n",
      " #   Column   Non-Null Count  Dtype \n",
      "---  ------   --------------  ----- \n",
      " 0   movieId  62423 non-null  int64 \n",
      " 1   title    62423 non-null  object\n",
      " 2   genres   62423 non-null  object\n",
      "dtypes: int64(1), object(2)\n",
      "memory usage: 1.4+ MB\n"
     ]
    }
   ],
   "source": [
    "df_movies.info()"
   ]
  },
  {
   "cell_type": "markdown",
   "id": "db35777c",
   "metadata": {},
   "source": [
    "The `movies` dataset has `62423` rows/movies and `3` features describing this movies and it has no null value since all value taly in the `Non-null count` column"
   ]
  },
  {
   "cell_type": "markdown",
   "id": "2cdcbb89",
   "metadata": {},
   "source": [
    "Extracting each movies year to forma new column on when each movies was made"
   ]
  },
  {
   "cell_type": "code",
   "execution_count": 5,
   "id": "129863fc",
   "metadata": {},
   "outputs": [
    {
     "data": {
      "text/html": [
       "<div>\n",
       "<style scoped>\n",
       "    .dataframe tbody tr th:only-of-type {\n",
       "        vertical-align: middle;\n",
       "    }\n",
       "\n",
       "    .dataframe tbody tr th {\n",
       "        vertical-align: top;\n",
       "    }\n",
       "\n",
       "    .dataframe thead th {\n",
       "        text-align: right;\n",
       "    }\n",
       "</style>\n",
       "<table border=\"1\" class=\"dataframe\">\n",
       "  <thead>\n",
       "    <tr style=\"text-align: right;\">\n",
       "      <th></th>\n",
       "      <th>movieId</th>\n",
       "      <th>title</th>\n",
       "      <th>genres</th>\n",
       "      <th>year_made</th>\n",
       "    </tr>\n",
       "  </thead>\n",
       "  <tbody>\n",
       "    <tr>\n",
       "      <th>0</th>\n",
       "      <td>1</td>\n",
       "      <td>Toy Story (1995)</td>\n",
       "      <td>Adventure|Animation|Children|Comedy|Fantasy</td>\n",
       "      <td>1995</td>\n",
       "    </tr>\n",
       "    <tr>\n",
       "      <th>1</th>\n",
       "      <td>2</td>\n",
       "      <td>Jumanji (1995)</td>\n",
       "      <td>Adventure|Children|Fantasy</td>\n",
       "      <td>1995</td>\n",
       "    </tr>\n",
       "    <tr>\n",
       "      <th>2</th>\n",
       "      <td>3</td>\n",
       "      <td>Grumpier Old Men (1995)</td>\n",
       "      <td>Comedy|Romance</td>\n",
       "      <td>1995</td>\n",
       "    </tr>\n",
       "    <tr>\n",
       "      <th>3</th>\n",
       "      <td>4</td>\n",
       "      <td>Waiting to Exhale (1995)</td>\n",
       "      <td>Comedy|Drama|Romance</td>\n",
       "      <td>1995</td>\n",
       "    </tr>\n",
       "    <tr>\n",
       "      <th>4</th>\n",
       "      <td>5</td>\n",
       "      <td>Father of the Bride Part II (1995)</td>\n",
       "      <td>Comedy</td>\n",
       "      <td>1995</td>\n",
       "    </tr>\n",
       "  </tbody>\n",
       "</table>\n",
       "</div>"
      ],
      "text/plain": [
       "   movieId                               title  \\\n",
       "0        1                    Toy Story (1995)   \n",
       "1        2                      Jumanji (1995)   \n",
       "2        3             Grumpier Old Men (1995)   \n",
       "3        4            Waiting to Exhale (1995)   \n",
       "4        5  Father of the Bride Part II (1995)   \n",
       "\n",
       "                                        genres year_made  \n",
       "0  Adventure|Animation|Children|Comedy|Fantasy      1995  \n",
       "1                   Adventure|Children|Fantasy      1995  \n",
       "2                               Comedy|Romance      1995  \n",
       "3                         Comedy|Drama|Romance      1995  \n",
       "4                                       Comedy      1995  "
      ]
     },
     "execution_count": 5,
     "metadata": {},
     "output_type": "execute_result"
    }
   ],
   "source": [
    "df_movies[\"year_made\"] = df_movies[\"title\"].apply(lambda x: \"\".join(re.findall(r\"\\((\\d+)\\)+$\", x)) \n",
    "                                                  if re.findall(r\"\\((\\d+)\\)+$\", x) else 0)\n",
    "\n",
    "df_movies.head()"
   ]
  },
  {
   "cell_type": "code",
   "execution_count": 6,
   "id": "5201bc43",
   "metadata": {},
   "outputs": [
    {
     "data": {
      "text/plain": [
       "movieId      0\n",
       "title        0\n",
       "genres       0\n",
       "year_made    0\n",
       "dtype: int64"
      ]
     },
     "execution_count": 6,
     "metadata": {},
     "output_type": "execute_result"
    }
   ],
   "source": [
    "# confirm if all movies have a year in it title and that we don't have a null value in our new column\n",
    "df_movies.isna().sum()"
   ]
  },
  {
   "cell_type": "code",
   "execution_count": 7,
   "id": "9b41c5ed",
   "metadata": {},
   "outputs": [
    {
     "data": {
      "text/html": [
       "<div>\n",
       "<style scoped>\n",
       "    .dataframe tbody tr th:only-of-type {\n",
       "        vertical-align: middle;\n",
       "    }\n",
       "\n",
       "    .dataframe tbody tr th {\n",
       "        vertical-align: top;\n",
       "    }\n",
       "\n",
       "    .dataframe thead th {\n",
       "        text-align: right;\n",
       "    }\n",
       "</style>\n",
       "<table border=\"1\" class=\"dataframe\">\n",
       "  <thead>\n",
       "    <tr style=\"text-align: right;\">\n",
       "      <th></th>\n",
       "      <th>movieId</th>\n",
       "      <th>title</th>\n",
       "      <th>year_made</th>\n",
       "      <th>genre</th>\n",
       "    </tr>\n",
       "  </thead>\n",
       "  <tbody>\n",
       "    <tr>\n",
       "      <th>0</th>\n",
       "      <td>1</td>\n",
       "      <td>Toy Story (1995)</td>\n",
       "      <td>1995</td>\n",
       "      <td>Adventure</td>\n",
       "    </tr>\n",
       "    <tr>\n",
       "      <th>0</th>\n",
       "      <td>1</td>\n",
       "      <td>Toy Story (1995)</td>\n",
       "      <td>1995</td>\n",
       "      <td>Animation</td>\n",
       "    </tr>\n",
       "    <tr>\n",
       "      <th>0</th>\n",
       "      <td>1</td>\n",
       "      <td>Toy Story (1995)</td>\n",
       "      <td>1995</td>\n",
       "      <td>Children</td>\n",
       "    </tr>\n",
       "    <tr>\n",
       "      <th>0</th>\n",
       "      <td>1</td>\n",
       "      <td>Toy Story (1995)</td>\n",
       "      <td>1995</td>\n",
       "      <td>Comedy</td>\n",
       "    </tr>\n",
       "    <tr>\n",
       "      <th>0</th>\n",
       "      <td>1</td>\n",
       "      <td>Toy Story (1995)</td>\n",
       "      <td>1995</td>\n",
       "      <td>Fantasy</td>\n",
       "    </tr>\n",
       "  </tbody>\n",
       "</table>\n",
       "</div>"
      ],
      "text/plain": [
       "   movieId             title year_made      genre\n",
       "0        1  Toy Story (1995)      1995  Adventure\n",
       "0        1  Toy Story (1995)      1995  Animation\n",
       "0        1  Toy Story (1995)      1995   Children\n",
       "0        1  Toy Story (1995)      1995     Comedy\n",
       "0        1  Toy Story (1995)      1995    Fantasy"
      ]
     },
     "execution_count": 7,
     "metadata": {},
     "output_type": "execute_result"
    }
   ],
   "source": [
    "# making each genres into a list to be able to split\n",
    "df_movies['genres'] = df_movies['genres'].fillna('').apply(lambda x: x.split(\"|\"))\n",
    "\n",
    "# Splitting each genre to each movies\n",
    "genre = df_movies.apply(lambda x: pd.Series(x['genres']),axis=1).stack().reset_index(level=1, drop=True)\n",
    "genre.name = 'genre'\n",
    "df_mov_gen = df_movies.drop('genres', axis=1).join(genre)\n",
    "df_mov_gen.head()"
   ]
  },
  {
   "cell_type": "code",
   "execution_count": 8,
   "id": "74a63655",
   "metadata": {},
   "outputs": [],
   "source": [
    "# Converting 'year_made' into numeric datatype\n",
    "df_mov_gen[\"year_made\"] = df_mov_gen[\"year_made\"].astype('int64')"
   ]
  },
  {
   "cell_type": "code",
   "execution_count": 9,
   "id": "f1ae47b1",
   "metadata": {},
   "outputs": [
    {
     "data": {
      "image/png": "[encoded data removed]",
      "text/plain": [
       "<Figure size 720x576 with 1 Axes>"
      ]
     },
     "metadata": {},
     "output_type": "display_data"
    }
   ],
   "source": [
    "# visualizing how the year of the movies are distributed\n",
    "df_mov_year = df_mov_gen.groupby(\"year_made\").agg({\"movieId\":\"count\"}).reset_index()\n",
    "fig, ax = plt.subplots(figsize=(10,8))\n",
    "ax = sns.barplot(data=df_mov_year,  x=\"year_made\", y=\"movieId\")\n",
    "ax.xaxis.set_major_locator(ticker.MultipleLocator(20))\n",
    "plt.show()"
   ]
  },
  {
   "cell_type": "code",
   "execution_count": 10,
   "id": "b6ce6e1a",
   "metadata": {},
   "outputs": [
    {
     "data": {
      "image/png": "[encoded data removed]",
      "text/plain": [
       "<Figure size 720x576 with 1 Axes>"
      ]
     },
     "metadata": {},
     "output_type": "display_data"
    }
   ],
   "source": [
    "# visualizing how the genres of the movies are distributed\n",
    "df_grp_gens = df_mov_gen.groupby(\"genre\").agg({\"movieId\":\"count\"}).reset_index()\n",
    "fig, ax = plt.subplots(figsize=(10,8))\n",
    "ax = sns.barplot(data=df_grp_gens,  x=\"genre\", y=\"movieId\")\n",
    "ax.set_xticks(ax.get_xticks())\n",
    "ax.set_xticklabels(ax.get_xticklabels(), rotation=45, ha='right')\n",
    "plt.show()"
   ]
  },
  {
   "cell_type": "markdown",
   "id": "d5af2e63",
   "metadata": {},
   "source": [
    "#### Creating a `word-cloud` for title of movies base on the `genres`"
   ]
  },
  {
   "cell_type": "code",
   "execution_count": 11,
   "id": "66862086",
   "metadata": {},
   "outputs": [],
   "source": [
    "def bag_of_words_count(words, splitter: str=' ',  word_dict={}):\n",
    "    \"\"\" this function takes in a list of words and returns a dictionary\n",
    "        with each word as a key, and the value represents the number of\n",
    "        times that word appeared\"\"\"\n",
    "    words = words.split(splitter)\n",
    "    for word in words:\n",
    "        if word in word_dict.keys():\n",
    "            word_dict[word] += 1\n",
    "        else:\n",
    "            word_dict[word] = 1\n",
    "    return word_dict"
   ]
  },
  {
   "cell_type": "code",
   "execution_count": 12,
   "id": "07c45077",
   "metadata": {},
   "outputs": [],
   "source": [
    "def word_extract(df=df_mov_gen, coln: str='title', splitter=' '):\n",
    "    \"\"\"This use to compile all the word and there frequency \n",
    "    in the individual category found in a particular column\"\"\"\n",
    "#     count = 0\n",
    "    result = {}\n",
    "    type_labels = df.genre.unique()\n",
    "    genres_dict = {}\n",
    "    df_grp = df.groupby('genre')\n",
    "    for pp in type_labels:\n",
    "        genres_dict[pp] = {}\n",
    "        for row in df_grp.get_group(pp)[coln]:\n",
    "            genres_dict[pp] = bag_of_words_count(words=row, splitter=splitter, word_dict=genres_dict[pp])\n",
    "    return genres_dict"
   ]
  },
  {
   "cell_type": "code",
   "execution_count": 13,
   "id": "f6fd2626",
   "metadata": {},
   "outputs": [
    {
     "data": {
      "application/vnd.jupyter.widget-view+json": {
       "model_id": "a48ff246a91345dbb7dc7a1051e1afb4",
       "version_major": 2,
       "version_minor": 0
      },
      "text/plain": [
       "interactive(children=(Dropdown(description='genre_name', options=('Adventure', 'Animation', 'Children', 'Comed…"
      ]
     },
     "metadata": {},
     "output_type": "display_data"
    }
   ],
   "source": [
    "# Interactive plotting\n",
    "def iplotting():\n",
    "    d = word_extract()\n",
    "    @interact_manual\n",
    "    def selecting(genre_name = d.keys()):\n",
    "        word_cloud_genre=WordCloud(width=1500, height=800, background_color='black', min_font_size=2,\n",
    "                        min_word_length=3).generate(str(d[genre_name]))\n",
    "        plt.figure(figsize=(20,10))\n",
    "        plt.axis('off')\n",
    "        plt.title(f'Word Cloud for {genre_name} Genre Movie titles',fontsize=30)\n",
    "        plt.imshow(word_cloud_genre);\n",
    "iplotting()"
   ]
  },
  {
   "cell_type": "markdown",
   "id": "a2ff07e1",
   "metadata": {},
   "source": [
    "### Exploring `train` dataset"
   ]
  },
  {
   "cell_type": "markdown",
   "id": "7a9e9036",
   "metadata": {},
   "source": [
    "Exploring the train dataset to gain insight into the rating of `movies` and there various tags using the `genome scores and tags`"
   ]
  },
  {
   "cell_type": "code",
   "execution_count": 14,
   "id": "e387cbe9",
   "metadata": {},
   "outputs": [],
   "source": [
    "df_genome_scores = df_list[0].copy() # loading & assigning a varaible to the 'genome_scores' dataset\n",
    "df_genome_tags = df_list[1].copy() # loading & assigning a varaible to the 'genome_tags' dataset\n",
    "df_train = df_list[8].copy() # loading & assigning a varaible to the 'train' dataset\n"
   ]
  },
  {
   "cell_type": "markdown",
   "id": "67d8b803",
   "metadata": {},
   "source": [
    "Merging the three dataframe plus `movies` dataset above to make one fine and informed dataframe"
   ]
  },
  {
   "cell_type": "code",
   "execution_count": 15,
   "id": "0d8b2fd4",
   "metadata": {},
   "outputs": [
    {
     "data": {
      "text/plain": [
       "(15584448, 4)"
      ]
     },
     "metadata": {},
     "output_type": "display_data"
    },
    {
     "data": {
      "text/html": [
       "<div>\n",
       "<style scoped>\n",
       "    .dataframe tbody tr th:only-of-type {\n",
       "        vertical-align: middle;\n",
       "    }\n",
       "\n",
       "    .dataframe tbody tr th {\n",
       "        vertical-align: top;\n",
       "    }\n",
       "\n",
       "    .dataframe thead th {\n",
       "        text-align: right;\n",
       "    }\n",
       "</style>\n",
       "<table border=\"1\" class=\"dataframe\">\n",
       "  <thead>\n",
       "    <tr style=\"text-align: right;\">\n",
       "      <th></th>\n",
       "      <th>movieId</th>\n",
       "      <th>tagId</th>\n",
       "      <th>relevance</th>\n",
       "      <th>tag</th>\n",
       "    </tr>\n",
       "  </thead>\n",
       "  <tbody>\n",
       "    <tr>\n",
       "      <th>0</th>\n",
       "      <td>1</td>\n",
       "      <td>1</td>\n",
       "      <td>0.02875</td>\n",
       "      <td>007</td>\n",
       "    </tr>\n",
       "    <tr>\n",
       "      <th>1</th>\n",
       "      <td>1</td>\n",
       "      <td>2</td>\n",
       "      <td>0.02375</td>\n",
       "      <td>007 (series)</td>\n",
       "    </tr>\n",
       "    <tr>\n",
       "      <th>2</th>\n",
       "      <td>1</td>\n",
       "      <td>3</td>\n",
       "      <td>0.06250</td>\n",
       "      <td>18th century</td>\n",
       "    </tr>\n",
       "    <tr>\n",
       "      <th>3</th>\n",
       "      <td>1</td>\n",
       "      <td>4</td>\n",
       "      <td>0.07575</td>\n",
       "      <td>1920s</td>\n",
       "    </tr>\n",
       "    <tr>\n",
       "      <th>4</th>\n",
       "      <td>1</td>\n",
       "      <td>5</td>\n",
       "      <td>0.14075</td>\n",
       "      <td>1930s</td>\n",
       "    </tr>\n",
       "    <tr>\n",
       "      <th>5</th>\n",
       "      <td>1</td>\n",
       "      <td>6</td>\n",
       "      <td>0.14675</td>\n",
       "      <td>1950s</td>\n",
       "    </tr>\n",
       "    <tr>\n",
       "      <th>6</th>\n",
       "      <td>1</td>\n",
       "      <td>7</td>\n",
       "      <td>0.06350</td>\n",
       "      <td>1960s</td>\n",
       "    </tr>\n",
       "    <tr>\n",
       "      <th>7</th>\n",
       "      <td>1</td>\n",
       "      <td>8</td>\n",
       "      <td>0.20375</td>\n",
       "      <td>1970s</td>\n",
       "    </tr>\n",
       "    <tr>\n",
       "      <th>8</th>\n",
       "      <td>1</td>\n",
       "      <td>9</td>\n",
       "      <td>0.20200</td>\n",
       "      <td>1980s</td>\n",
       "    </tr>\n",
       "    <tr>\n",
       "      <th>9</th>\n",
       "      <td>1</td>\n",
       "      <td>10</td>\n",
       "      <td>0.03075</td>\n",
       "      <td>19th century</td>\n",
       "    </tr>\n",
       "  </tbody>\n",
       "</table>\n",
       "</div>"
      ],
      "text/plain": [
       "   movieId  tagId  relevance           tag\n",
       "0        1      1    0.02875           007\n",
       "1        1      2    0.02375  007 (series)\n",
       "2        1      3    0.06250  18th century\n",
       "3        1      4    0.07575         1920s\n",
       "4        1      5    0.14075         1930s\n",
       "5        1      6    0.14675         1950s\n",
       "6        1      7    0.06350         1960s\n",
       "7        1      8    0.20375         1970s\n",
       "8        1      9    0.20200         1980s\n",
       "9        1     10    0.03075  19th century"
      ]
     },
     "execution_count": 15,
     "metadata": {},
     "output_type": "execute_result"
    }
   ],
   "source": [
    "# Combining dataframe 'df_genome_scores' and 'df_genome_tags'\n",
    "genome_comb = df_genome_scores.merge(df_genome_tags, how=\"left\", on=[\"tagId\"])\n",
    "display(genome_comb.shape)\n",
    "genome_comb.head(10)"
   ]
  },
  {
   "cell_type": "code",
   "execution_count": 16,
   "id": "2719813d",
   "metadata": {},
   "outputs": [
    {
     "data": {
      "text/plain": [
       "(13816, 2)"
      ]
     },
     "metadata": {},
     "output_type": "display_data"
    },
    {
     "data": {
      "text/html": [
       "<div>\n",
       "<style scoped>\n",
       "    .dataframe tbody tr th:only-of-type {\n",
       "        vertical-align: middle;\n",
       "    }\n",
       "\n",
       "    .dataframe tbody tr th {\n",
       "        vertical-align: top;\n",
       "    }\n",
       "\n",
       "    .dataframe thead th {\n",
       "        text-align: right;\n",
       "    }\n",
       "</style>\n",
       "<table border=\"1\" class=\"dataframe\">\n",
       "  <thead>\n",
       "    <tr style=\"text-align: right;\">\n",
       "      <th></th>\n",
       "      <th>movieId</th>\n",
       "      <th>relevance</th>\n",
       "    </tr>\n",
       "  </thead>\n",
       "  <tbody>\n",
       "    <tr>\n",
       "      <th>0</th>\n",
       "      <td>1</td>\n",
       "      <td>0.99925</td>\n",
       "    </tr>\n",
       "    <tr>\n",
       "      <th>1</th>\n",
       "      <td>2</td>\n",
       "      <td>0.97600</td>\n",
       "    </tr>\n",
       "    <tr>\n",
       "      <th>2</th>\n",
       "      <td>3</td>\n",
       "      <td>0.97525</td>\n",
       "    </tr>\n",
       "    <tr>\n",
       "      <th>3</th>\n",
       "      <td>4</td>\n",
       "      <td>0.97525</td>\n",
       "    </tr>\n",
       "    <tr>\n",
       "      <th>4</th>\n",
       "      <td>5</td>\n",
       "      <td>0.96025</td>\n",
       "    </tr>\n",
       "  </tbody>\n",
       "</table>\n",
       "</div>"
      ],
      "text/plain": [
       "   movieId  relevance\n",
       "0        1    0.99925\n",
       "1        2    0.97600\n",
       "2        3    0.97525\n",
       "3        4    0.97525\n",
       "4        5    0.96025"
      ]
     },
     "execution_count": 16,
     "metadata": {},
     "output_type": "execute_result"
    }
   ],
   "source": [
    "# grouping by 'movieId' and by calculating maximum 'relevance' corresponding to know the actual 'tag' of a 'movie'\n",
    "genome_grp = genome_comb.groupby('movieId')[[\"relevance\"]].max().reset_index()\n",
    "display(genome_grp.shape)\n",
    "genome_grp.head()"
   ]
  },
  {
   "cell_type": "code",
   "execution_count": 17,
   "id": "ed4ea050",
   "metadata": {},
   "outputs": [
    {
     "data": {
      "text/html": [
       "<div>\n",
       "<style scoped>\n",
       "    .dataframe tbody tr th:only-of-type {\n",
       "        vertical-align: middle;\n",
       "    }\n",
       "\n",
       "    .dataframe tbody tr th {\n",
       "        vertical-align: top;\n",
       "    }\n",
       "\n",
       "    .dataframe thead th {\n",
       "        text-align: right;\n",
       "    }\n",
       "</style>\n",
       "<table border=\"1\" class=\"dataframe\">\n",
       "  <thead>\n",
       "    <tr style=\"text-align: right;\">\n",
       "      <th></th>\n",
       "      <th>movieId</th>\n",
       "      <th>tag</th>\n",
       "    </tr>\n",
       "  </thead>\n",
       "  <tbody>\n",
       "    <tr>\n",
       "      <th>0</th>\n",
       "      <td>1</td>\n",
       "      <td>toys</td>\n",
       "    </tr>\n",
       "    <tr>\n",
       "      <th>1</th>\n",
       "      <td>2</td>\n",
       "      <td>adventure</td>\n",
       "    </tr>\n",
       "    <tr>\n",
       "      <th>2</th>\n",
       "      <td>3</td>\n",
       "      <td>sequel</td>\n",
       "    </tr>\n",
       "    <tr>\n",
       "      <th>3</th>\n",
       "      <td>4</td>\n",
       "      <td>women</td>\n",
       "    </tr>\n",
       "    <tr>\n",
       "      <th>4</th>\n",
       "      <td>5</td>\n",
       "      <td>sequel</td>\n",
       "    </tr>\n",
       "  </tbody>\n",
       "</table>\n",
       "</div>"
      ],
      "text/plain": [
       "   movieId        tag\n",
       "0        1       toys\n",
       "1        2  adventure\n",
       "2        3     sequel\n",
       "3        4      women\n",
       "4        5     sequel"
      ]
     },
     "execution_count": 17,
     "metadata": {},
     "output_type": "execute_result"
    }
   ],
   "source": [
    "# Combinig the the grouped dataframe with the original dataframe to match each 'tag' to it respecitive 'relevance'\n",
    "genome_comb1 = genome_grp.merge(genome_comb[['movieId', 'relevance', 'tag']], on=[\"movieId\", \"relevance\"])\n",
    "\n",
    "# drop duplicates to have a sync. merge of movie and `tag` and unccessary 'relevance' column\n",
    "genome_comb1 = genome_comb1.drop_duplicates(subset=['movieId'])\n",
    "genome_comb1 = genome_comb1.drop('relevance', axis=1)\n",
    "\n",
    "genome_comb1.head()"
   ]
  },
  {
   "cell_type": "code",
   "execution_count": 18,
   "id": "fccee883",
   "metadata": {},
   "outputs": [
    {
     "data": {
      "text/plain": [
       "(10000038, 5)"
      ]
     },
     "metadata": {},
     "output_type": "display_data"
    },
    {
     "data": {
      "text/html": [
       "<div>\n",
       "<style scoped>\n",
       "    .dataframe tbody tr th:only-of-type {\n",
       "        vertical-align: middle;\n",
       "    }\n",
       "\n",
       "    .dataframe tbody tr th {\n",
       "        vertical-align: top;\n",
       "    }\n",
       "\n",
       "    .dataframe thead th {\n",
       "        text-align: right;\n",
       "    }\n",
       "</style>\n",
       "<table border=\"1\" class=\"dataframe\">\n",
       "  <thead>\n",
       "    <tr style=\"text-align: right;\">\n",
       "      <th></th>\n",
       "      <th>userId</th>\n",
       "      <th>movieId</th>\n",
       "      <th>rating</th>\n",
       "      <th>timestamp</th>\n",
       "      <th>tag</th>\n",
       "    </tr>\n",
       "  </thead>\n",
       "  <tbody>\n",
       "    <tr>\n",
       "      <th>0</th>\n",
       "      <td>5163</td>\n",
       "      <td>57669</td>\n",
       "      <td>4.0</td>\n",
       "      <td>1518349992</td>\n",
       "      <td>hit men</td>\n",
       "    </tr>\n",
       "    <tr>\n",
       "      <th>1</th>\n",
       "      <td>106343</td>\n",
       "      <td>5</td>\n",
       "      <td>4.5</td>\n",
       "      <td>1206238739</td>\n",
       "      <td>sequel</td>\n",
       "    </tr>\n",
       "    <tr>\n",
       "      <th>2</th>\n",
       "      <td>146790</td>\n",
       "      <td>5459</td>\n",
       "      <td>5.0</td>\n",
       "      <td>1076215539</td>\n",
       "      <td>alien</td>\n",
       "    </tr>\n",
       "    <tr>\n",
       "      <th>3</th>\n",
       "      <td>106362</td>\n",
       "      <td>32296</td>\n",
       "      <td>2.0</td>\n",
       "      <td>1423042565</td>\n",
       "      <td>sequels</td>\n",
       "    </tr>\n",
       "    <tr>\n",
       "      <th>4</th>\n",
       "      <td>9041</td>\n",
       "      <td>366</td>\n",
       "      <td>3.0</td>\n",
       "      <td>833375837</td>\n",
       "      <td>horror</td>\n",
       "    </tr>\n",
       "    <tr>\n",
       "      <th>5</th>\n",
       "      <td>120949</td>\n",
       "      <td>81768</td>\n",
       "      <td>3.0</td>\n",
       "      <td>1289595242</td>\n",
       "      <td>NaN</td>\n",
       "    </tr>\n",
       "    <tr>\n",
       "      <th>6</th>\n",
       "      <td>19630</td>\n",
       "      <td>62049</td>\n",
       "      <td>4.0</td>\n",
       "      <td>1246729817</td>\n",
       "      <td>george orwell</td>\n",
       "    </tr>\n",
       "    <tr>\n",
       "      <th>7</th>\n",
       "      <td>21066</td>\n",
       "      <td>2282</td>\n",
       "      <td>1.0</td>\n",
       "      <td>945785907</td>\n",
       "      <td>weird</td>\n",
       "    </tr>\n",
       "    <tr>\n",
       "      <th>8</th>\n",
       "      <td>117563</td>\n",
       "      <td>120474</td>\n",
       "      <td>4.0</td>\n",
       "      <td>1515108225</td>\n",
       "      <td>toys</td>\n",
       "    </tr>\n",
       "    <tr>\n",
       "      <th>9</th>\n",
       "      <td>144018</td>\n",
       "      <td>1997</td>\n",
       "      <td>5.0</td>\n",
       "      <td>1109967647</td>\n",
       "      <td>horror</td>\n",
       "    </tr>\n",
       "  </tbody>\n",
       "</table>\n",
       "</div>"
      ],
      "text/plain": [
       "   userId  movieId  rating   timestamp            tag\n",
       "0    5163    57669     4.0  1518349992        hit men\n",
       "1  106343        5     4.5  1206238739         sequel\n",
       "2  146790     5459     5.0  1076215539          alien\n",
       "3  106362    32296     2.0  1423042565        sequels\n",
       "4    9041      366     3.0   833375837         horror\n",
       "5  120949    81768     3.0  1289595242            NaN\n",
       "6   19630    62049     4.0  1246729817  george orwell\n",
       "7   21066     2282     1.0   945785907          weird\n",
       "8  117563   120474     4.0  1515108225           toys\n",
       "9  144018     1997     5.0  1109967647         horror"
      ]
     },
     "execution_count": 18,
     "metadata": {},
     "output_type": "execute_result"
    }
   ],
   "source": [
    "# merging ealier dataframe 'df_comb2' with tag and movie dataframe 'df_gem_comb1'\n",
    "train_tags = df_train.merge(genome_comb1, how='left', on=[\"movieId\"])\n",
    "display(train_tags.shape)\n",
    "train_tags.head(10)"
   ]
  },
  {
   "cell_type": "code",
   "execution_count": 19,
   "id": "648c4a3c",
   "metadata": {},
   "outputs": [
    {
     "data": {
      "text/plain": [
       "(10000038, 8)"
      ]
     },
     "metadata": {},
     "output_type": "display_data"
    },
    {
     "data": {
      "text/html": [
       "<div>\n",
       "<style scoped>\n",
       "    .dataframe tbody tr th:only-of-type {\n",
       "        vertical-align: middle;\n",
       "    }\n",
       "\n",
       "    .dataframe tbody tr th {\n",
       "        vertical-align: top;\n",
       "    }\n",
       "\n",
       "    .dataframe thead th {\n",
       "        text-align: right;\n",
       "    }\n",
       "</style>\n",
       "<table border=\"1\" class=\"dataframe\">\n",
       "  <thead>\n",
       "    <tr style=\"text-align: right;\">\n",
       "      <th></th>\n",
       "      <th>userId</th>\n",
       "      <th>movieId</th>\n",
       "      <th>rating</th>\n",
       "      <th>timestamp</th>\n",
       "      <th>tag</th>\n",
       "      <th>title</th>\n",
       "      <th>genres</th>\n",
       "      <th>year_made</th>\n",
       "    </tr>\n",
       "  </thead>\n",
       "  <tbody>\n",
       "    <tr>\n",
       "      <th>0</th>\n",
       "      <td>5163</td>\n",
       "      <td>57669</td>\n",
       "      <td>4.0</td>\n",
       "      <td>1518349992</td>\n",
       "      <td>hit men</td>\n",
       "      <td>In Bruges (2008)</td>\n",
       "      <td>[Comedy, Crime, Drama, Thriller]</td>\n",
       "      <td>2008</td>\n",
       "    </tr>\n",
       "    <tr>\n",
       "      <th>1</th>\n",
       "      <td>87388</td>\n",
       "      <td>57669</td>\n",
       "      <td>3.5</td>\n",
       "      <td>1237455297</td>\n",
       "      <td>hit men</td>\n",
       "      <td>In Bruges (2008)</td>\n",
       "      <td>[Comedy, Crime, Drama, Thriller]</td>\n",
       "      <td>2008</td>\n",
       "    </tr>\n",
       "    <tr>\n",
       "      <th>2</th>\n",
       "      <td>137050</td>\n",
       "      <td>57669</td>\n",
       "      <td>4.0</td>\n",
       "      <td>1425631854</td>\n",
       "      <td>hit men</td>\n",
       "      <td>In Bruges (2008)</td>\n",
       "      <td>[Comedy, Crime, Drama, Thriller]</td>\n",
       "      <td>2008</td>\n",
       "    </tr>\n",
       "    <tr>\n",
       "      <th>3</th>\n",
       "      <td>120490</td>\n",
       "      <td>57669</td>\n",
       "      <td>4.5</td>\n",
       "      <td>1408228517</td>\n",
       "      <td>hit men</td>\n",
       "      <td>In Bruges (2008)</td>\n",
       "      <td>[Comedy, Crime, Drama, Thriller]</td>\n",
       "      <td>2008</td>\n",
       "    </tr>\n",
       "    <tr>\n",
       "      <th>4</th>\n",
       "      <td>50616</td>\n",
       "      <td>57669</td>\n",
       "      <td>4.5</td>\n",
       "      <td>1446941640</td>\n",
       "      <td>hit men</td>\n",
       "      <td>In Bruges (2008)</td>\n",
       "      <td>[Comedy, Crime, Drama, Thriller]</td>\n",
       "      <td>2008</td>\n",
       "    </tr>\n",
       "    <tr>\n",
       "      <th>5</th>\n",
       "      <td>99887</td>\n",
       "      <td>57669</td>\n",
       "      <td>0.5</td>\n",
       "      <td>1448839196</td>\n",
       "      <td>hit men</td>\n",
       "      <td>In Bruges (2008)</td>\n",
       "      <td>[Comedy, Crime, Drama, Thriller]</td>\n",
       "      <td>2008</td>\n",
       "    </tr>\n",
       "    <tr>\n",
       "      <th>6</th>\n",
       "      <td>120194</td>\n",
       "      <td>57669</td>\n",
       "      <td>4.5</td>\n",
       "      <td>1479382352</td>\n",
       "      <td>hit men</td>\n",
       "      <td>In Bruges (2008)</td>\n",
       "      <td>[Comedy, Crime, Drama, Thriller]</td>\n",
       "      <td>2008</td>\n",
       "    </tr>\n",
       "    <tr>\n",
       "      <th>7</th>\n",
       "      <td>847</td>\n",
       "      <td>57669</td>\n",
       "      <td>3.5</td>\n",
       "      <td>1232893563</td>\n",
       "      <td>hit men</td>\n",
       "      <td>In Bruges (2008)</td>\n",
       "      <td>[Comedy, Crime, Drama, Thriller]</td>\n",
       "      <td>2008</td>\n",
       "    </tr>\n",
       "    <tr>\n",
       "      <th>8</th>\n",
       "      <td>47201</td>\n",
       "      <td>57669</td>\n",
       "      <td>4.5</td>\n",
       "      <td>1464351173</td>\n",
       "      <td>hit men</td>\n",
       "      <td>In Bruges (2008)</td>\n",
       "      <td>[Comedy, Crime, Drama, Thriller]</td>\n",
       "      <td>2008</td>\n",
       "    </tr>\n",
       "    <tr>\n",
       "      <th>9</th>\n",
       "      <td>94499</td>\n",
       "      <td>57669</td>\n",
       "      <td>4.5</td>\n",
       "      <td>1316689295</td>\n",
       "      <td>hit men</td>\n",
       "      <td>In Bruges (2008)</td>\n",
       "      <td>[Comedy, Crime, Drama, Thriller]</td>\n",
       "      <td>2008</td>\n",
       "    </tr>\n",
       "  </tbody>\n",
       "</table>\n",
       "</div>"
      ],
      "text/plain": [
       "   userId  movieId  rating   timestamp      tag             title  \\\n",
       "0    5163    57669     4.0  1518349992  hit men  In Bruges (2008)   \n",
       "1   87388    57669     3.5  1237455297  hit men  In Bruges (2008)   \n",
       "2  137050    57669     4.0  1425631854  hit men  In Bruges (2008)   \n",
       "3  120490    57669     4.5  1408228517  hit men  In Bruges (2008)   \n",
       "4   50616    57669     4.5  1446941640  hit men  In Bruges (2008)   \n",
       "5   99887    57669     0.5  1448839196  hit men  In Bruges (2008)   \n",
       "6  120194    57669     4.5  1479382352  hit men  In Bruges (2008)   \n",
       "7     847    57669     3.5  1232893563  hit men  In Bruges (2008)   \n",
       "8   47201    57669     4.5  1464351173  hit men  In Bruges (2008)   \n",
       "9   94499    57669     4.5  1316689295  hit men  In Bruges (2008)   \n",
       "\n",
       "                             genres year_made  \n",
       "0  [Comedy, Crime, Drama, Thriller]      2008  \n",
       "1  [Comedy, Crime, Drama, Thriller]      2008  \n",
       "2  [Comedy, Crime, Drama, Thriller]      2008  \n",
       "3  [Comedy, Crime, Drama, Thriller]      2008  \n",
       "4  [Comedy, Crime, Drama, Thriller]      2008  \n",
       "5  [Comedy, Crime, Drama, Thriller]      2008  \n",
       "6  [Comedy, Crime, Drama, Thriller]      2008  \n",
       "7  [Comedy, Crime, Drama, Thriller]      2008  \n",
       "8  [Comedy, Crime, Drama, Thriller]      2008  \n",
       "9  [Comedy, Crime, Drama, Thriller]      2008  "
      ]
     },
     "execution_count": 19,
     "metadata": {},
     "output_type": "execute_result"
    }
   ],
   "source": [
    "#combining dataframe in index 8 and index 4 from the df_list\n",
    "train_comb = train_tags.merge(df_movies, how=\"inner\", on=[\"movieId\"])\n",
    "display(train_comb.shape)\n",
    "train_comb.head(10)"
   ]
  },
  {
   "cell_type": "code",
   "execution_count": 20,
   "id": "a372e696",
   "metadata": {},
   "outputs": [
    {
     "data": {
      "text/plain": [
       "userId            0\n",
       "movieId           0\n",
       "rating            0\n",
       "timestamp         0\n",
       "tag          130490\n",
       "title             0\n",
       "genres            0\n",
       "year_made         0\n",
       "dtype: int64"
      ]
     },
     "execution_count": 20,
     "metadata": {},
     "output_type": "execute_result"
    }
   ],
   "source": [
    "# Checking for null value after merging\n",
    "train_comb.isnull().sum()"
   ]
  },
  {
   "cell_type": "markdown",
   "id": "ec158b27",
   "metadata": {},
   "source": [
    "The tag features have a few null value in comparism with the large dataset, we will go ahead to replace those null values with keyword `unknown`"
   ]
  },
  {
   "cell_type": "code",
   "execution_count": 21,
   "id": "59842c3e",
   "metadata": {},
   "outputs": [],
   "source": [
    "# making each genres into a list to be able to split\n",
    "train_comb['tag'] = train_comb['tag'].fillna('unknown')"
   ]
  },
  {
   "cell_type": "markdown",
   "id": "72b00f0c",
   "metadata": {},
   "source": [
    "#### Converting the timestampe into `datetime` datatype and aslo into new features"
   ]
  },
  {
   "cell_type": "code",
   "execution_count": 22,
   "id": "4c48b82d",
   "metadata": {},
   "outputs": [],
   "source": [
    "train_comb['Rating_Datetime'] = pd.to_datetime(train_comb['timestamp'], unit='s')\n",
    "train_comb.drop('timestamp', axis=1, inplace=True)"
   ]
  },
  {
   "cell_type": "code",
   "execution_count": 23,
   "id": "7d3ac6e4",
   "metadata": {},
   "outputs": [
    {
     "data": {
      "text/html": [
       "<div>\n",
       "<style scoped>\n",
       "    .dataframe tbody tr th:only-of-type {\n",
       "        vertical-align: middle;\n",
       "    }\n",
       "\n",
       "    .dataframe tbody tr th {\n",
       "        vertical-align: top;\n",
       "    }\n",
       "\n",
       "    .dataframe thead th {\n",
       "        text-align: right;\n",
       "    }\n",
       "</style>\n",
       "<table border=\"1\" class=\"dataframe\">\n",
       "  <thead>\n",
       "    <tr style=\"text-align: right;\">\n",
       "      <th></th>\n",
       "      <th>userId</th>\n",
       "      <th>movieId</th>\n",
       "      <th>rating</th>\n",
       "      <th>tag</th>\n",
       "      <th>title</th>\n",
       "      <th>genres</th>\n",
       "      <th>year_made</th>\n",
       "      <th>Rating_Datetime</th>\n",
       "    </tr>\n",
       "  </thead>\n",
       "  <tbody>\n",
       "    <tr>\n",
       "      <th>0</th>\n",
       "      <td>5163</td>\n",
       "      <td>57669</td>\n",
       "      <td>4.0</td>\n",
       "      <td>hit men</td>\n",
       "      <td>In Bruges (2008)</td>\n",
       "      <td>[Comedy, Crime, Drama, Thriller]</td>\n",
       "      <td>2008</td>\n",
       "      <td>2018-02-11 11:53:12</td>\n",
       "    </tr>\n",
       "    <tr>\n",
       "      <th>1</th>\n",
       "      <td>87388</td>\n",
       "      <td>57669</td>\n",
       "      <td>3.5</td>\n",
       "      <td>hit men</td>\n",
       "      <td>In Bruges (2008)</td>\n",
       "      <td>[Comedy, Crime, Drama, Thriller]</td>\n",
       "      <td>2008</td>\n",
       "      <td>2009-03-19 09:34:57</td>\n",
       "    </tr>\n",
       "    <tr>\n",
       "      <th>2</th>\n",
       "      <td>137050</td>\n",
       "      <td>57669</td>\n",
       "      <td>4.0</td>\n",
       "      <td>hit men</td>\n",
       "      <td>In Bruges (2008)</td>\n",
       "      <td>[Comedy, Crime, Drama, Thriller]</td>\n",
       "      <td>2008</td>\n",
       "      <td>2015-03-06 08:50:54</td>\n",
       "    </tr>\n",
       "    <tr>\n",
       "      <th>3</th>\n",
       "      <td>120490</td>\n",
       "      <td>57669</td>\n",
       "      <td>4.5</td>\n",
       "      <td>hit men</td>\n",
       "      <td>In Bruges (2008)</td>\n",
       "      <td>[Comedy, Crime, Drama, Thriller]</td>\n",
       "      <td>2008</td>\n",
       "      <td>2014-08-16 22:35:17</td>\n",
       "    </tr>\n",
       "    <tr>\n",
       "      <th>4</th>\n",
       "      <td>50616</td>\n",
       "      <td>57669</td>\n",
       "      <td>4.5</td>\n",
       "      <td>hit men</td>\n",
       "      <td>In Bruges (2008)</td>\n",
       "      <td>[Comedy, Crime, Drama, Thriller]</td>\n",
       "      <td>2008</td>\n",
       "      <td>2015-11-08 00:14:00</td>\n",
       "    </tr>\n",
       "  </tbody>\n",
       "</table>\n",
       "</div>"
      ],
      "text/plain": [
       "   userId  movieId  rating      tag             title  \\\n",
       "0    5163    57669     4.0  hit men  In Bruges (2008)   \n",
       "1   87388    57669     3.5  hit men  In Bruges (2008)   \n",
       "2  137050    57669     4.0  hit men  In Bruges (2008)   \n",
       "3  120490    57669     4.5  hit men  In Bruges (2008)   \n",
       "4   50616    57669     4.5  hit men  In Bruges (2008)   \n",
       "\n",
       "                             genres year_made     Rating_Datetime  \n",
       "0  [Comedy, Crime, Drama, Thriller]      2008 2018-02-11 11:53:12  \n",
       "1  [Comedy, Crime, Drama, Thriller]      2008 2009-03-19 09:34:57  \n",
       "2  [Comedy, Crime, Drama, Thriller]      2008 2015-03-06 08:50:54  \n",
       "3  [Comedy, Crime, Drama, Thriller]      2008 2014-08-16 22:35:17  \n",
       "4  [Comedy, Crime, Drama, Thriller]      2008 2015-11-08 00:14:00  "
      ]
     },
     "execution_count": 23,
     "metadata": {},
     "output_type": "execute_result"
    }
   ],
   "source": [
    "train_comb.head()"
   ]
  },
  {
   "cell_type": "code",
   "execution_count": 24,
   "id": "59bc383d",
   "metadata": {},
   "outputs": [
    {
     "name": "stdout",
     "output_type": "stream",
     "text": [
      "<class 'pandas.core.frame.DataFrame'>\n",
      "Int64Index: 10000038 entries, 0 to 10000037\n",
      "Data columns (total 8 columns):\n",
      " #   Column           Dtype         \n",
      "---  ------           -----         \n",
      " 0   userId           int64         \n",
      " 1   movieId          int64         \n",
      " 2   rating           float64       \n",
      " 3   tag              object        \n",
      " 4   title            object        \n",
      " 5   genres           object        \n",
      " 6   year_made        object        \n",
      " 7   Rating_Datetime  datetime64[ns]\n",
      "dtypes: datetime64[ns](1), float64(1), int64(2), object(4)\n",
      "memory usage: 686.6+ MB\n"
     ]
    }
   ],
   "source": [
    "train_comb.info()"
   ]
  },
  {
   "cell_type": "code",
   "execution_count": 25,
   "id": "5d8b80cb",
   "metadata": {},
   "outputs": [],
   "source": [
    "# Converting 'year_made' into numeric datatype\n",
    "train_comb[\"year_made\"] = train_comb[\"year_made\"].astype('int64')"
   ]
  },
  {
   "cell_type": "code",
   "execution_count": 26,
   "id": "8656a12e",
   "metadata": {},
   "outputs": [
    {
     "data": {
      "text/plain": [
       "userId    162541\n",
       "dtype: int64"
      ]
     },
     "execution_count": 26,
     "metadata": {},
     "output_type": "execute_result"
    }
   ],
   "source": [
    "# Let's have a look at the unique number of users\n",
    "train_comb[[\"userId\"]].nunique() "
   ]
  },
  {
   "cell_type": "code",
   "execution_count": 27,
   "id": "83dc3253",
   "metadata": {},
   "outputs": [
    {
     "data": {
      "image/png": "[encoded data removed]",
      "text/plain": [
       "<Figure size 720x432 with 1 Axes>"
      ]
     },
     "metadata": {},
     "output_type": "display_data"
    }
   ],
   "source": [
    "# distribution of mean rating\n",
    "rating_grp = train_comb.groupby(\"movieId\")[[\"rating\"]].mean()\n",
    "rating_grp.hist(figsize=(10, 6));"
   ]
  },
  {
   "cell_type": "markdown",
   "id": "85965844",
   "metadata": {},
   "source": [
    "Bulk of the rating are between the value of `3-4` which bascially informed us while the dristibution is `left skewed`"
   ]
  },
  {
   "cell_type": "code",
   "execution_count": 28,
   "id": "1fe0e049",
   "metadata": {},
   "outputs": [],
   "source": [
    "# Group all 2 star and lower ratings together\n",
    "ratings = train_comb.copy()\n",
    "ratings[ratings.rating == 0.5] = 2\n",
    "ratings[ratings.rating == 1] = 2\n",
    "ratings[ratings.rating == 1.5] = 2"
   ]
  },
  {
   "cell_type": "code",
   "execution_count": 29,
   "id": "cf6ee96d",
   "metadata": {},
   "outputs": [],
   "source": [
    "def viza(title: str):\n",
    "    # Extract selected movie ratings\n",
    "    top = ratings[ratings['title'] == title]\n",
    "\n",
    "    # Count how many ratings are in each category: 1 star, 2 star, ect\n",
    "    grouped = pd.DataFrame(top.groupby(['rating'])['title'].count())\n",
    "    grouped.rename(columns={'title': 'rating_count'}, inplace=True)\n",
    "\n",
    "    # Create the figure\n",
    "    fig = plt.figure(figsize=(15, 10))\n",
    "    ax = fig.add_subplot(122)\n",
    "\n",
    "    # Create the colour palette\n",
    "    temp = grouped['rating_count']\n",
    "    temp_mod = [f'{round((x / sum(temp)) * 100)}%' for x in temp]\n",
    "    labels = [f'{x} Stars - {y}' for x, y in zip(grouped.index, temp_mod)]\n",
    "    theme = plt.get_cmap('Reds')\n",
    "    ax.set_prop_cycle(\"color\", [theme(1. * i / len(labels))\n",
    "                                for i in range(len(labels))])\n",
    "\n",
    "    # Create the pie chart\n",
    "    pie = ax.pie(grouped['rating_count'],\n",
    "                 labels=labels,\n",
    "                 shadow=True,\n",
    "                 startangle=10,\n",
    "                 pctdistance=1.115,\n",
    "                 explode=(random.choice([0.1], size=(len(grouped['rating_count']))))\n",
    "                 )\n",
    "\n",
    "    # Turn the pie chart into a donut chart\n",
    "    centre_circle = plt.Circle((0, 0), 0.70, fc='white')\n",
    "    fig = plt.gcf()\n",
    "    fig.gca().add_artist(centre_circle)\n",
    "\n",
    "    # Display the donut chart with a legend\n",
    "    ax.set_title(f'Rating distribution for the {title}\\n', fontsize=15)\n",
    "    plt.tight_layout()\n",
    "    plt.show()"
   ]
  },
  {
   "cell_type": "code",
   "execution_count": 30,
   "id": "71e326ac",
   "metadata": {},
   "outputs": [
    {
     "data": {
      "application/vnd.jupyter.widget-view+json": {
       "model_id": "d66eb26049b44ec183be7dbfb967d0cb",
       "version_major": 2,
       "version_minor": 0
      },
      "text/plain": [
       "interactive(children=(Dropdown(description='genres', options=('Adventure', 'Animation', 'Children', 'Comedy', …"
      ]
     },
     "metadata": {},
     "output_type": "display_data"
    }
   ],
   "source": [
    "# Interactive visual how movie fair via user ratings\n",
    "def iplotting_rating():\n",
    "    genres_df = df_mov_gen.groupby('genre')[['title']]\n",
    "    genres = df_mov_gen.genre.unique()\n",
    "#     titles=genres_df.get_group(gen)\n",
    "    @interact\n",
    "    def selecting(genres=genres):\n",
    "        titles = genres_df.get_group(genres)['title'].to_list()\n",
    "        @interact_manual\n",
    "        def selecting1(titles=titles):\n",
    "            viza(titles)\n",
    "iplotting_rating()\n"
   ]
  },
  {
   "cell_type": "markdown",
   "id": "01a47ec9",
   "metadata": {},
   "source": [
    "#### Exploring `imdb_data` DataFrame"
   ]
  },
  {
   "cell_type": "code",
   "execution_count": 31,
   "id": "cc336650",
   "metadata": {
    "scrolled": false
   },
   "outputs": [
    {
     "data": {
      "text/plain": [
       "(9633031, 13)"
      ]
     },
     "metadata": {},
     "output_type": "display_data"
    },
    {
     "data": {
      "text/html": [
       "<div>\n",
       "<style scoped>\n",
       "    .dataframe tbody tr th:only-of-type {\n",
       "        vertical-align: middle;\n",
       "    }\n",
       "\n",
       "    .dataframe tbody tr th {\n",
       "        vertical-align: top;\n",
       "    }\n",
       "\n",
       "    .dataframe thead th {\n",
       "        text-align: right;\n",
       "    }\n",
       "</style>\n",
       "<table border=\"1\" class=\"dataframe\">\n",
       "  <thead>\n",
       "    <tr style=\"text-align: right;\">\n",
       "      <th></th>\n",
       "      <th>movieId</th>\n",
       "      <th>title_cast</th>\n",
       "      <th>director</th>\n",
       "      <th>runtime</th>\n",
       "      <th>budget</th>\n",
       "      <th>plot_keywords</th>\n",
       "      <th>userId</th>\n",
       "      <th>rating</th>\n",
       "      <th>tag</th>\n",
       "      <th>title</th>\n",
       "      <th>genres</th>\n",
       "      <th>year_made</th>\n",
       "      <th>Rating_Datetime</th>\n",
       "    </tr>\n",
       "  </thead>\n",
       "  <tbody>\n",
       "    <tr>\n",
       "      <th>0</th>\n",
       "      <td>1</td>\n",
       "      <td>Tom Hanks|Tim Allen|Don Rickles|Jim Varney|Wal...</td>\n",
       "      <td>John Lasseter</td>\n",
       "      <td>81.0</td>\n",
       "      <td>$30,000,000</td>\n",
       "      <td>toy|rivalry|cowboy|cgi animation</td>\n",
       "      <td>158849</td>\n",
       "      <td>5.0</td>\n",
       "      <td>toys</td>\n",
       "      <td>Toy Story (1995)</td>\n",
       "      <td>[Adventure, Animation, Children, Comedy, Fantasy]</td>\n",
       "      <td>1995</td>\n",
       "      <td>2001-07-09 22:13:06</td>\n",
       "    </tr>\n",
       "    <tr>\n",
       "      <th>1</th>\n",
       "      <td>1</td>\n",
       "      <td>Tom Hanks|Tim Allen|Don Rickles|Jim Varney|Wal...</td>\n",
       "      <td>John Lasseter</td>\n",
       "      <td>81.0</td>\n",
       "      <td>$30,000,000</td>\n",
       "      <td>toy|rivalry|cowboy|cgi animation</td>\n",
       "      <td>97203</td>\n",
       "      <td>5.0</td>\n",
       "      <td>toys</td>\n",
       "      <td>Toy Story (1995)</td>\n",
       "      <td>[Adventure, Animation, Children, Comedy, Fantasy]</td>\n",
       "      <td>1995</td>\n",
       "      <td>1999-11-15 16:25:55</td>\n",
       "    </tr>\n",
       "    <tr>\n",
       "      <th>2</th>\n",
       "      <td>1</td>\n",
       "      <td>Tom Hanks|Tim Allen|Don Rickles|Jim Varney|Wal...</td>\n",
       "      <td>John Lasseter</td>\n",
       "      <td>81.0</td>\n",
       "      <td>$30,000,000</td>\n",
       "      <td>toy|rivalry|cowboy|cgi animation</td>\n",
       "      <td>161871</td>\n",
       "      <td>3.0</td>\n",
       "      <td>toys</td>\n",
       "      <td>Toy Story (1995)</td>\n",
       "      <td>[Adventure, Animation, Children, Comedy, Fantasy]</td>\n",
       "      <td>1995</td>\n",
       "      <td>1996-05-26 09:56:16</td>\n",
       "    </tr>\n",
       "    <tr>\n",
       "      <th>3</th>\n",
       "      <td>1</td>\n",
       "      <td>Tom Hanks|Tim Allen|Don Rickles|Jim Varney|Wal...</td>\n",
       "      <td>John Lasseter</td>\n",
       "      <td>81.0</td>\n",
       "      <td>$30,000,000</td>\n",
       "      <td>toy|rivalry|cowboy|cgi animation</td>\n",
       "      <td>45117</td>\n",
       "      <td>4.0</td>\n",
       "      <td>toys</td>\n",
       "      <td>Toy Story (1995)</td>\n",
       "      <td>[Adventure, Animation, Children, Comedy, Fantasy]</td>\n",
       "      <td>1995</td>\n",
       "      <td>2015-09-14 18:56:09</td>\n",
       "    </tr>\n",
       "    <tr>\n",
       "      <th>4</th>\n",
       "      <td>1</td>\n",
       "      <td>Tom Hanks|Tim Allen|Don Rickles|Jim Varney|Wal...</td>\n",
       "      <td>John Lasseter</td>\n",
       "      <td>81.0</td>\n",
       "      <td>$30,000,000</td>\n",
       "      <td>toy|rivalry|cowboy|cgi animation</td>\n",
       "      <td>27431</td>\n",
       "      <td>5.0</td>\n",
       "      <td>toys</td>\n",
       "      <td>Toy Story (1995)</td>\n",
       "      <td>[Adventure, Animation, Children, Comedy, Fantasy]</td>\n",
       "      <td>1995</td>\n",
       "      <td>1996-12-04 02:50:27</td>\n",
       "    </tr>\n",
       "  </tbody>\n",
       "</table>\n",
       "</div>"
      ],
      "text/plain": [
       "   movieId                                         title_cast       director  \\\n",
       "0        1  Tom Hanks|Tim Allen|Don Rickles|Jim Varney|Wal...  John Lasseter   \n",
       "1        1  Tom Hanks|Tim Allen|Don Rickles|Jim Varney|Wal...  John Lasseter   \n",
       "2        1  Tom Hanks|Tim Allen|Don Rickles|Jim Varney|Wal...  John Lasseter   \n",
       "3        1  Tom Hanks|Tim Allen|Don Rickles|Jim Varney|Wal...  John Lasseter   \n",
       "4        1  Tom Hanks|Tim Allen|Don Rickles|Jim Varney|Wal...  John Lasseter   \n",
       "\n",
       "   runtime       budget                     plot_keywords  userId  rating  \\\n",
       "0     81.0  $30,000,000  toy|rivalry|cowboy|cgi animation  158849     5.0   \n",
       "1     81.0  $30,000,000  toy|rivalry|cowboy|cgi animation   97203     5.0   \n",
       "2     81.0  $30,000,000  toy|rivalry|cowboy|cgi animation  161871     3.0   \n",
       "3     81.0  $30,000,000  toy|rivalry|cowboy|cgi animation   45117     4.0   \n",
       "4     81.0  $30,000,000  toy|rivalry|cowboy|cgi animation   27431     5.0   \n",
       "\n",
       "    tag             title                                             genres  \\\n",
       "0  toys  Toy Story (1995)  [Adventure, Animation, Children, Comedy, Fantasy]   \n",
       "1  toys  Toy Story (1995)  [Adventure, Animation, Children, Comedy, Fantasy]   \n",
       "2  toys  Toy Story (1995)  [Adventure, Animation, Children, Comedy, Fantasy]   \n",
       "3  toys  Toy Story (1995)  [Adventure, Animation, Children, Comedy, Fantasy]   \n",
       "4  toys  Toy Story (1995)  [Adventure, Animation, Children, Comedy, Fantasy]   \n",
       "\n",
       "   year_made     Rating_Datetime  \n",
       "0       1995 2001-07-09 22:13:06  \n",
       "1       1995 1999-11-15 16:25:55  \n",
       "2       1995 1996-05-26 09:56:16  \n",
       "3       1995 2015-09-14 18:56:09  \n",
       "4       1995 1996-12-04 02:50:27  "
      ]
     },
     "execution_count": 31,
     "metadata": {},
     "output_type": "execute_result"
    }
   ],
   "source": [
    "# combining dataframe in index 2 from the df_list and current train merged 'train_comb' to give\n",
    "# an enrich dataset for exploration of 'imdb data'\n",
    "df_imdb = df_list[2].merge(train_comb, how=\"inner\", on=[\"movieId\"])\n",
    "display(df_imdb.shape)\n",
    "df_imdb.head()"
   ]
  },
  {
   "cell_type": "code",
   "execution_count": 32,
   "id": "a84c17aa",
   "metadata": {},
   "outputs": [
    {
     "data": {
      "text/plain": [
       "movieId                  0\n",
       "title_cast         2604407\n",
       "director           2602688\n",
       "runtime            2653058\n",
       "budget             3152276\n",
       "plot_keywords      2610043\n",
       "userId                   0\n",
       "rating                   0\n",
       "tag                      0\n",
       "title                    0\n",
       "genres                   0\n",
       "year_made                0\n",
       "Rating_Datetime          0\n",
       "dtype: int64"
      ]
     },
     "execution_count": 32,
     "metadata": {},
     "output_type": "execute_result"
    }
   ],
   "source": [
    "# Checking for null values\n",
    "df_imdb.isnull().sum()"
   ]
  },
  {
   "cell_type": "code",
   "execution_count": 33,
   "id": "ac6cc982",
   "metadata": {},
   "outputs": [
    {
     "data": {
      "text/plain": [
       "movieId            0\n",
       "title_cast         0\n",
       "director           0\n",
       "runtime            0\n",
       "budget             0\n",
       "plot_keywords      0\n",
       "userId             0\n",
       "rating             0\n",
       "tag                0\n",
       "title              0\n",
       "genres             0\n",
       "year_made          0\n",
       "Rating_Datetime    0\n",
       "dtype: int64"
      ]
     },
     "execution_count": 33,
     "metadata": {},
     "output_type": "execute_result"
    }
   ],
   "source": [
    "# Dropping null values to have a better unbiased analysis of the dataset\n",
    "df_imdb = df_imdb.dropna(subset=['budget', 'runtime', 'plot_keywords', 'title_cast'])\n",
    "\n",
    "# Checking for null values again\n",
    "df_imdb.isnull().sum()"
   ]
  },
  {
   "cell_type": "code",
   "execution_count": 34,
   "id": "7ca0a65f",
   "metadata": {},
   "outputs": [
    {
     "name": "stdout",
     "output_type": "stream",
     "text": [
      "We have 162182 numbers of users in the new and modified \"imdb\" dataset and      \n",
      "We also have 6418 number of movies to explore YAY!!!\n",
      "The dataset has 6454993 rows/entries and 13 features/columns\n"
     ]
    }
   ],
   "source": [
    "print(f'We have {df_imdb.userId.nunique()} numbers of users in the new and modified \"imdb\" dataset and\\\n",
    "      \\nWe also have {df_imdb.movieId.nunique()} number of movies to explore YAY!!!')\n",
    "\n",
    "print(f'The dataset has {df_imdb.shape[0]} rows/entries and {df_imdb.shape[1]} features/columns') "
   ]
  },
  {
   "cell_type": "markdown",
   "id": "1bc1167d",
   "metadata": {},
   "source": [
    "#### Engineer new features for the `IMDB` dataset"
   ]
  },
  {
   "cell_type": "code",
   "execution_count": 35,
   "id": "d1fb698c",
   "metadata": {},
   "outputs": [],
   "source": [
    "df_imdb['rated_year'] = pd.DatetimeIndex(df_imdb['Rating_Datetime']).year\n",
    "df_imdb['rated_month'] = pd.DatetimeIndex(df_imdb['Rating_Datetime']).month\n",
    "df_imdb['rated_day'] = pd.DatetimeIndex(df_imdb['Rating_Datetime']).day\n",
    "df_imdb.drop('Rating_Datetime', axis=1, inplace=True)"
   ]
  },
  {
   "cell_type": "code",
   "execution_count": 36,
   "id": "9ffdc338",
   "metadata": {},
   "outputs": [
    {
     "data": {
      "text/html": [
       "<div>\n",
       "<style scoped>\n",
       "    .dataframe tbody tr th:only-of-type {\n",
       "        vertical-align: middle;\n",
       "    }\n",
       "\n",
       "    .dataframe tbody tr th {\n",
       "        vertical-align: top;\n",
       "    }\n",
       "\n",
       "    .dataframe thead th {\n",
       "        text-align: right;\n",
       "    }\n",
       "</style>\n",
       "<table border=\"1\" class=\"dataframe\">\n",
       "  <thead>\n",
       "    <tr style=\"text-align: right;\">\n",
       "      <th></th>\n",
       "      <th>movieId</th>\n",
       "      <th>title_cast</th>\n",
       "      <th>director</th>\n",
       "      <th>runtime</th>\n",
       "      <th>budget</th>\n",
       "      <th>plot_keywords</th>\n",
       "      <th>userId</th>\n",
       "      <th>rating</th>\n",
       "      <th>tag</th>\n",
       "      <th>title</th>\n",
       "      <th>genres</th>\n",
       "      <th>year_made</th>\n",
       "      <th>rated_year</th>\n",
       "      <th>rated_month</th>\n",
       "      <th>rated_day</th>\n",
       "    </tr>\n",
       "  </thead>\n",
       "  <tbody>\n",
       "    <tr>\n",
       "      <th>6774969</th>\n",
       "      <td>5872</td>\n",
       "      <td>Pierce Brosnan|Halle Berry|Toby Stephens|Rosam...</td>\n",
       "      <td>Ian Fleming</td>\n",
       "      <td>133.0</td>\n",
       "      <td>$142,000,000</td>\n",
       "      <td>north korea|iceland|007|gadget car</td>\n",
       "      <td>27582</td>\n",
       "      <td>3.0</td>\n",
       "      <td>007 (series)</td>\n",
       "      <td>Die Another Day (2002)</td>\n",
       "      <td>[Action, Adventure, Thriller]</td>\n",
       "      <td>2002</td>\n",
       "      <td>2006</td>\n",
       "      <td>1</td>\n",
       "      <td>29</td>\n",
       "    </tr>\n",
       "    <tr>\n",
       "      <th>246972</th>\n",
       "      <td>50</td>\n",
       "      <td>Stephen Baldwin|Gabriel Byrne|Benicio Del Toro...</td>\n",
       "      <td>Christopher McQuarrie</td>\n",
       "      <td>106.0</td>\n",
       "      <td>$6,000,000</td>\n",
       "      <td>criminal|suspect|criminal mastermind|flashback</td>\n",
       "      <td>46887</td>\n",
       "      <td>3.5</td>\n",
       "      <td>oscar (best supporting actor)</td>\n",
       "      <td>Usual Suspects, The (1995)</td>\n",
       "      <td>[Crime, Mystery, Thriller]</td>\n",
       "      <td>1995</td>\n",
       "      <td>2016</td>\n",
       "      <td>1</td>\n",
       "      <td>17</td>\n",
       "    </tr>\n",
       "    <tr>\n",
       "      <th>4963762</th>\n",
       "      <td>2916</td>\n",
       "      <td>Arnold Schwarzenegger|Rachel Ticotin|Sharon St...</td>\n",
       "      <td>Philip K. Dick</td>\n",
       "      <td>113.0</td>\n",
       "      <td>$65,000,000</td>\n",
       "      <td>implanted memory|false memory|space colony|amb...</td>\n",
       "      <td>40883</td>\n",
       "      <td>4.0</td>\n",
       "      <td>futuristic</td>\n",
       "      <td>Total Recall (1990)</td>\n",
       "      <td>[Action, Adventure, Sci-Fi, Thriller]</td>\n",
       "      <td>1990</td>\n",
       "      <td>2017</td>\n",
       "      <td>8</td>\n",
       "      <td>7</td>\n",
       "    </tr>\n",
       "    <tr>\n",
       "      <th>9526469</th>\n",
       "      <td>112552</td>\n",
       "      <td>Miles Teller|J.K. Simmons|Paul Reiser|Melissa ...</td>\n",
       "      <td>Damien Chazelle</td>\n",
       "      <td>106.0</td>\n",
       "      <td>$3,300,000</td>\n",
       "      <td>drummer|music school|new york city|conservatory</td>\n",
       "      <td>145389</td>\n",
       "      <td>4.0</td>\n",
       "      <td>oscar (best supporting actor)</td>\n",
       "      <td>Whiplash (2014)</td>\n",
       "      <td>[Drama]</td>\n",
       "      <td>2014</td>\n",
       "      <td>2016</td>\n",
       "      <td>2</td>\n",
       "      <td>2</td>\n",
       "    </tr>\n",
       "    <tr>\n",
       "      <th>1669579</th>\n",
       "      <td>597</td>\n",
       "      <td>Richard Gere|Julia Roberts|Ralph Bellamy|Jason...</td>\n",
       "      <td>J.F. Lawton</td>\n",
       "      <td>119.0</td>\n",
       "      <td>$14,000,000</td>\n",
       "      <td>hotel|falling in love with a prostitute|prosti...</td>\n",
       "      <td>37754</td>\n",
       "      <td>3.0</td>\n",
       "      <td>romantic comedy</td>\n",
       "      <td>Pretty Woman (1990)</td>\n",
       "      <td>[Comedy, Romance]</td>\n",
       "      <td>1990</td>\n",
       "      <td>1999</td>\n",
       "      <td>12</td>\n",
       "      <td>13</td>\n",
       "    </tr>\n",
       "  </tbody>\n",
       "</table>\n",
       "</div>"
      ],
      "text/plain": [
       "         movieId                                         title_cast  \\\n",
       "6774969     5872  Pierce Brosnan|Halle Berry|Toby Stephens|Rosam...   \n",
       "246972        50  Stephen Baldwin|Gabriel Byrne|Benicio Del Toro...   \n",
       "4963762     2916  Arnold Schwarzenegger|Rachel Ticotin|Sharon St...   \n",
       "9526469   112552  Miles Teller|J.K. Simmons|Paul Reiser|Melissa ...   \n",
       "1669579      597  Richard Gere|Julia Roberts|Ralph Bellamy|Jason...   \n",
       "\n",
       "                      director  runtime        budget  \\\n",
       "6774969            Ian Fleming    133.0  $142,000,000   \n",
       "246972   Christopher McQuarrie    106.0    $6,000,000   \n",
       "4963762         Philip K. Dick    113.0   $65,000,000   \n",
       "9526469        Damien Chazelle    106.0    $3,300,000   \n",
       "1669579            J.F. Lawton    119.0   $14,000,000   \n",
       "\n",
       "                                             plot_keywords  userId  rating  \\\n",
       "6774969                 north korea|iceland|007|gadget car   27582     3.0   \n",
       "246972      criminal|suspect|criminal mastermind|flashback   46887     3.5   \n",
       "4963762  implanted memory|false memory|space colony|amb...   40883     4.0   \n",
       "9526469    drummer|music school|new york city|conservatory  145389     4.0   \n",
       "1669579  hotel|falling in love with a prostitute|prosti...   37754     3.0   \n",
       "\n",
       "                                   tag                       title  \\\n",
       "6774969                   007 (series)      Die Another Day (2002)   \n",
       "246972   oscar (best supporting actor)  Usual Suspects, The (1995)   \n",
       "4963762                     futuristic         Total Recall (1990)   \n",
       "9526469  oscar (best supporting actor)             Whiplash (2014)   \n",
       "1669579                romantic comedy         Pretty Woman (1990)   \n",
       "\n",
       "                                        genres  year_made  rated_year  \\\n",
       "6774969          [Action, Adventure, Thriller]       2002        2006   \n",
       "246972              [Crime, Mystery, Thriller]       1995        2016   \n",
       "4963762  [Action, Adventure, Sci-Fi, Thriller]       1990        2017   \n",
       "9526469                                [Drama]       2014        2016   \n",
       "1669579                      [Comedy, Romance]       1990        1999   \n",
       "\n",
       "         rated_month  rated_day  \n",
       "6774969            1         29  \n",
       "246972             1         17  \n",
       "4963762            8          7  \n",
       "9526469            2          2  \n",
       "1669579           12         13  "
      ]
     },
     "execution_count": 36,
     "metadata": {},
     "output_type": "execute_result"
    }
   ],
   "source": [
    "df_imdb.sample(5)"
   ]
  },
  {
   "cell_type": "markdown",
   "id": "c3657d6b",
   "metadata": {},
   "source": [
    "#### Important  words for `Plot` and `Cast`"
   ]
  },
  {
   "cell_type": "code",
   "execution_count": 37,
   "id": "d9b1bbb9",
   "metadata": {},
   "outputs": [],
   "source": [
    "def imdb_extract(coln: str, splitter='|', df=df_imdb):\n",
    "    \"\"\"This use to compile all the keyword and there frequency \n",
    "    in the imdb dataset found in a particular column\"\"\"\n",
    "    keywords_dict = {}\n",
    "    movieId = df.movieId.unique()\n",
    "    df_grp = df_imdb.groupby('movieId')\n",
    "    for pp in movieId:\n",
    "        row = df_grp.get_group(pp)[coln].values[0]\n",
    "        keywords_dict = bag_of_words_count(words=row, splitter=splitter, word_dict=keywords_dict)\n",
    "        \n",
    "#     Sorting the dictionary\n",
    "    sorted_dt = {key: value for key, value in sorted(keywords_dict.items(), key=lambda item: item[1], reverse=True)}\n",
    "    return sorted_dt"
   ]
  },
  {
   "cell_type": "code",
   "execution_count": 38,
   "id": "39732def",
   "metadata": {},
   "outputs": [],
   "source": [
    "# making a dictionary for the keyword and there frequency\n",
    "keyword_dict = imdb_extract(coln='plot_keywords')\n",
    "\n",
    "# making a dictionary for the cast (actors and actress) and there frequency\n",
    "casts_dict = imdb_extract(coln='title_cast')"
   ]
  },
  {
   "cell_type": "code",
   "execution_count": 39,
   "id": "541eded0",
   "metadata": {},
   "outputs": [
    {
     "data": {
      "application/vnd.jupyter.widget-view+json": {
       "model_id": "356b0c3939c0496e93a6ec5a9c98258c",
       "version_major": 2,
       "version_minor": 0
      },
      "text/plain": [
       "interactive(children=(Dropdown(description='WordType', options=('Plot Keywords', 'Title Cast'), value='Plot Ke…"
      ]
     },
     "metadata": {},
     "output_type": "display_data"
    }
   ],
   "source": [
    "def iplotting():   \n",
    "    slider = widgets.IntSlider(value=25, min=10, max=50, step=1)\n",
    "    @interact_manual\n",
    "    def selecting(WordType=['Plot Keywords', 'Title Cast'], Frequency=slider, ):\n",
    "        if WordType == 'Title Cast':\n",
    "            num_dict_items = dict(itertools.islice(casts_dict.items(), Frequency))\n",
    "        else:\n",
    "            num_dict_items = dict(itertools.islice(keyword_dict.items(), Frequency))\n",
    "        word_cloud_genre=WordCloud(width=1500, height=800, background_color='white',\n",
    "                                   relative_scaling=0.2, min_font_size=2,).generate_from_frequencies(num_dict_items)\n",
    "        plt.figure(figsize=(20,10))\n",
    "        plt.axis('off')\n",
    "        plt.title(f'{WordType} for Movies',fontsize=30)\n",
    "        plt.imshow(word_cloud_genre);\n",
    "iplotting()"
   ]
  },
  {
   "cell_type": "markdown",
   "id": "a820ecbb",
   "metadata": {},
   "source": [
    "#### Movie Runtime Distribution"
   ]
  },
  {
   "cell_type": "code",
   "execution_count": 40,
   "id": "ae9737d7",
   "metadata": {},
   "outputs": [
    {
     "data": {
      "image/png": "[encoded data removed]",
      "text/plain": [
       "<Figure size 1080x504 with 1 Axes>"
      ]
     },
     "metadata": {},
     "output_type": "display_data"
    }
   ],
   "source": [
    "runtime_df = df_imdb.groupby('movieId')[['runtime']].mean()\n",
    "plt.figure(figsize=(15, 7))\n",
    "sns.histplot(runtime_df, bins=20)\n",
    "plt.xticks([30, 70, 110, 160, 200, 400, 600, 800])\n",
    "plt.show()"
   ]
  },
  {
   "cell_type": "markdown",
   "id": "124abd87",
   "metadata": {},
   "source": [
    "The `runtime` shows that bulk of movies are between `70-110 minutes` duration<br>\n",
    "while from `300 minutes` movies and `upwards` are rare and can be considered outliers"
   ]
  },
  {
   "cell_type": "markdown",
   "id": "e4e972c2",
   "metadata": {},
   "source": [
    "#### Budget VS Rating\n",
    "Visual for budget and how it affect rating by `users`"
   ]
  },
  {
   "cell_type": "code",
   "execution_count": 41,
   "id": "ac082d13",
   "metadata": {},
   "outputs": [],
   "source": [
    "# Converting budget into numeric datatype\n",
    "df_imdb['budget_currency'] = df_imdb.budget.apply(lambda x: re.match('[^0-9]+', x).group(0))\n",
    "df_imdb['budgets'] = df_imdb.budget.apply(lambda x: x.replace(re.match('[^0-9]+', x).group(0), ''))\n",
    "df_imdb['budgets'] = df_imdb.budgets.apply(lambda x: x.replace(',', '')).astype('float64')\n"
   ]
  },
  {
   "cell_type": "code",
   "execution_count": 42,
   "id": "a63592ac",
   "metadata": {},
   "outputs": [
    {
     "data": {
      "text/plain": [
       "array(['$', 'GBP', 'EUR', 'CAD', 'FRF', 'DEM', 'AUD', 'JPY', 'HKD', 'CHF',\n",
       "       'ESP', 'INR', 'BEF', 'SEK', 'ATS', 'NOK', 'FIM', 'SGD', 'DKK',\n",
       "       'THB', 'BRL', 'NLG', 'BND', 'CNY', 'NZD', 'HUF', 'KRW', 'CZK',\n",
       "       'PLN', 'ISK', 'BGL', 'IDR', 'MYR', 'CLP', 'MXN', 'ARS', 'ILS',\n",
       "       'PTE', 'VEB', 'TWD', 'NGN', 'ITL', 'LVL', 'RUR', 'PHP'],\n",
       "      dtype=object)"
      ]
     },
     "execution_count": 42,
     "metadata": {},
     "output_type": "execute_result"
    }
   ],
   "source": [
    "# Lisiting all currency in our dataset\n",
    "currency = df_imdb.budget_currency.unique()\n",
    "currency"
   ]
  },
  {
   "cell_type": "code",
   "execution_count": 43,
   "id": "79c54fca",
   "metadata": {},
   "outputs": [],
   "source": [
    "# Importing current exchange rate from `exchangerate-api.com`\n",
    "url = 'https://open.er-api.com/v6/latest/USD'\n",
    "data = requests.get(url).json()\n",
    "currencies = data['rates']"
   ]
  },
  {
   "cell_type": "code",
   "execution_count": 44,
   "id": "bf678b8a",
   "metadata": {},
   "outputs": [
    {
     "name": "stdout",
     "output_type": "stream",
     "text": [
      "$,FRF,DEM,ESP,BEF,ATS,FIM,NLG,BGL,PTE,VEB,ITL,LVL,RUR,"
     ]
    }
   ],
   "source": [
    "# currency not in the json file\n",
    "for x in currency:\n",
    "    if x not in currencies:\n",
    "        print(x, end=\",\")"
   ]
  },
  {
   "cell_type": "code",
   "execution_count": 45,
   "id": "4a4ed94b",
   "metadata": {},
   "outputs": [],
   "source": [
    "# inputing manually for currency not so popular and not in the json file\n",
    "other_curr = {'$':1, 'FRF':0.155, 'DEM':0.52, 'ESP':1.02, 'BEF':0.025, 'ATS':0.074, \n",
    "              'FIM':0.17, 'NLG':0.46, 'BGL':0.52, 'PTE':0.00508, 'VEB':0.0000000018,\n",
    "              'ITL':0.000526, 'LVL':1.449,'RUR':0.016,}"
   ]
  },
  {
   "cell_type": "code",
   "execution_count": 46,
   "id": "fe7644b9",
   "metadata": {},
   "outputs": [],
   "source": [
    "# appending exchange rate against dollar to a dictionary\n",
    "currency_exchange = {}\n",
    "for x in currency:\n",
    "    currency_exchange[x] = (currencies | other_curr)[x]\n",
    "# currency_exchange"
   ]
  },
  {
   "cell_type": "code",
   "execution_count": 47,
   "id": "cbf8b1ce",
   "metadata": {},
   "outputs": [
    {
     "data": {
      "text/html": [
       "<div>\n",
       "<style scoped>\n",
       "    .dataframe tbody tr th:only-of-type {\n",
       "        vertical-align: middle;\n",
       "    }\n",
       "\n",
       "    .dataframe tbody tr th {\n",
       "        vertical-align: top;\n",
       "    }\n",
       "\n",
       "    .dataframe thead th {\n",
       "        text-align: right;\n",
       "    }\n",
       "</style>\n",
       "<table border=\"1\" class=\"dataframe\">\n",
       "  <thead>\n",
       "    <tr style=\"text-align: right;\">\n",
       "      <th></th>\n",
       "      <th>rating</th>\n",
       "      <th>budget_currency</th>\n",
       "      <th>budgets</th>\n",
       "      <th>budget</th>\n",
       "    </tr>\n",
       "    <tr>\n",
       "      <th>movieId</th>\n",
       "      <th></th>\n",
       "      <th></th>\n",
       "      <th></th>\n",
       "      <th></th>\n",
       "    </tr>\n",
       "  </thead>\n",
       "  <tbody>\n",
       "    <tr>\n",
       "      <th>116207</th>\n",
       "      <td>3.428571</td>\n",
       "      <td>$</td>\n",
       "      <td>16000000.0</td>\n",
       "      <td>16000000</td>\n",
       "    </tr>\n",
       "    <tr>\n",
       "      <th>106734</th>\n",
       "      <td>2.875000</td>\n",
       "      <td>$</td>\n",
       "      <td>2000000.0</td>\n",
       "      <td>2000000</td>\n",
       "    </tr>\n",
       "    <tr>\n",
       "      <th>89023</th>\n",
       "      <td>4.000000</td>\n",
       "      <td>HUF</td>\n",
       "      <td>1500000.0</td>\n",
       "      <td>3777</td>\n",
       "    </tr>\n",
       "    <tr>\n",
       "      <th>130424</th>\n",
       "      <td>3.000000</td>\n",
       "      <td>SEK</td>\n",
       "      <td>48000000.0</td>\n",
       "      <td>4562738</td>\n",
       "    </tr>\n",
       "    <tr>\n",
       "      <th>85332</th>\n",
       "      <td>2.500000</td>\n",
       "      <td>$</td>\n",
       "      <td>23500000.0</td>\n",
       "      <td>23500000</td>\n",
       "    </tr>\n",
       "    <tr>\n",
       "      <th>84407</th>\n",
       "      <td>3.637931</td>\n",
       "      <td>EUR</td>\n",
       "      <td>4830000.0</td>\n",
       "      <td>4913530</td>\n",
       "    </tr>\n",
       "    <tr>\n",
       "      <th>51939</th>\n",
       "      <td>2.813846</td>\n",
       "      <td>$</td>\n",
       "      <td>34000000.0</td>\n",
       "      <td>34000000</td>\n",
       "    </tr>\n",
       "    <tr>\n",
       "      <th>65651</th>\n",
       "      <td>3.100000</td>\n",
       "      <td>$</td>\n",
       "      <td>3000000.0</td>\n",
       "      <td>3000000</td>\n",
       "    </tr>\n",
       "    <tr>\n",
       "      <th>51086</th>\n",
       "      <td>3.076364</td>\n",
       "      <td>$</td>\n",
       "      <td>30000000.0</td>\n",
       "      <td>30000000</td>\n",
       "    </tr>\n",
       "    <tr>\n",
       "      <th>1407</th>\n",
       "      <td>3.278940</td>\n",
       "      <td>$</td>\n",
       "      <td>14000000.0</td>\n",
       "      <td>14000000</td>\n",
       "    </tr>\n",
       "  </tbody>\n",
       "</table>\n",
       "</div>"
      ],
      "text/plain": [
       "           rating budget_currency     budgets    budget\n",
       "movieId                                                \n",
       "116207   3.428571               $  16000000.0  16000000\n",
       "106734   2.875000               $   2000000.0   2000000\n",
       "89023    4.000000             HUF   1500000.0      3777\n",
       "130424   3.000000             SEK  48000000.0   4562738\n",
       "85332    2.500000               $  23500000.0  23500000\n",
       "84407    3.637931             EUR   4830000.0   4913530\n",
       "51939    2.813846               $  34000000.0  34000000\n",
       "65651    3.100000               $   3000000.0   3000000\n",
       "51086    3.076364               $  30000000.0  30000000\n",
       "1407     3.278940               $  14000000.0  14000000"
      ]
     },
     "execution_count": 47,
     "metadata": {},
     "output_type": "execute_result"
    }
   ],
   "source": [
    "# Grouping to movies and converting all currency to 'USD'\n",
    "movie_grp = df_imdb.groupby('movieId').agg({\"rating\":\"mean\",\n",
    "                                            \"budget_currency\":lambda x: pd.Series.mode(x)[0], \"budgets\":\"mean\"})\n",
    "movie_grp['budget'] = movie_grp.apply(lambda x: round(x.budgets/currency_exchange[x.budget_currency]), axis=1)\n",
    "movie_grp.sample(10)"
   ]
  },
  {
   "cell_type": "code",
   "execution_count": 48,
   "id": "ccae3581",
   "metadata": {},
   "outputs": [
    {
     "data": {
      "image/png": "[encoded data removed]",
      "text/plain": [
       "<Figure size 720x360 with 1 Axes>"
      ]
     },
     "metadata": {},
     "output_type": "display_data"
    }
   ],
   "source": [
    "# Using visual to check for outliers\n",
    "fig, ax = plt.subplots(1, figsize=(10,5))\n",
    "sns.boxenplot(x='budget', data=movie_grp);\n"
   ]
  },
  {
   "cell_type": "markdown",
   "id": "d8d67d04",
   "metadata": {},
   "source": [
    "This visual show us there is extreme outlier(s) in the dataset and will have bad influence on the intepretation of following visuals, therefore we need to remove those `outliers`"
   ]
  },
  {
   "cell_type": "code",
   "execution_count": 49,
   "id": "cc0fdcb1",
   "metadata": {},
   "outputs": [],
   "source": [
    "# Dealing with outliers, since we have an outrageous one in our dataset\n",
    "Q1 = np.percentile(movie_grp['budget'], 25.0)\n",
    "Q3 = np.percentile(movie_grp['budget'], 75.0)\n",
    "IQR = Q3 - Q1\n",
    "df_sub1 = movie_grp[movie_grp['budget'] > Q3 + 1.5*IQR]\n",
    "movie_grp_mod = movie_grp.drop(df_sub1.index)"
   ]
  },
  {
   "cell_type": "code",
   "execution_count": 50,
   "id": "b185e58a",
   "metadata": {},
   "outputs": [
    {
     "data": {
      "image/png": "[encoded data removed]",
      "text/plain": [
       "<Figure size 720x360 with 1 Axes>"
      ]
     },
     "metadata": {},
     "output_type": "display_data"
    }
   ],
   "source": [
    "# Using visual to check again for outliers\n",
    "fig, ax = plt.subplots(1, figsize=(10,5))\n",
    "sns.boxenplot(x='budget', data=movie_grp_mod);"
   ]
  },
  {
   "cell_type": "code",
   "execution_count": 52,
   "id": "f2b5da47",
   "metadata": {},
   "outputs": [
    {
     "data": {
      "image/png": "[encoded data removed]",
      "text/plain": [
       "<Figure size 1080x504 with 1 Axes>"
      ]
     },
     "metadata": {},
     "output_type": "display_data"
    }
   ],
   "source": [
    "# Plotting a scatter plot to visualize relationship between \n",
    "plt.figure(figsize=(15, 7))\n",
    "sns.scatterplot(data=movie_grp_mod, y='budget', x='rating');"
   ]
  },
  {
   "cell_type": "markdown",
   "id": "bc39f700",
   "metadata": {},
   "source": [
    "Though there might be some correlation between `budgets and rating` it is very `weak` and it is safe to assume that money used in making film does not really have much impart into what make user give good ratings"
   ]
  }
 ],
 "metadata": {
  "kernelspec": {
   "display_name": "Python 3 (ipykernel)",
   "language": "python",
   "name": "python3"
  },
  "language_info": {
   "codemirror_mode": {
    "name": "ipython",
    "version": 3
   },
   "file_extension": ".py",
   "mimetype": "text/x-python",
   "name": "python",
   "nbconvert_exporter": "python",
   "pygments_lexer": "ipython3",
   "version": "3.9.12"
  }
 },
 "nbformat": 4,
 "nbformat_minor": 5
}
