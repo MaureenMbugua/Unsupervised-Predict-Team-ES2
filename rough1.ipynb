{
 "cells": [
  {
   "cell_type": "code",
   "execution_count": 1,
   "id": "71b03806",
   "metadata": {},
   "outputs": [],
   "source": [
    "import requests\n",
    "import pandas as pd\n",
    "import numpy as np\n",
    "from numpy import random\n",
    "import itertools\n",
    "import matplotlib.pyplot as plt\n",
    "import re\n",
    "import seaborn as sns\n",
    "import matplotlib.pyplot as plt\n",
    "import matplotlib.ticker as ticker\n",
    "sns.set_style('darkgrid')\n",
    "from wordcloud import WordCloud\n",
    "from ipywidgets import interact, interact_manual, widgets\n",
    "\n",
    "import os"
   ]
  },
  {
   "cell_type": "markdown",
   "id": "3f3f50c3",
   "metadata": {},
   "source": [
    "### Loading Dataset"
   ]
  },
  {
   "cell_type": "markdown",
   "id": "4fce4d9b",
   "metadata": {},
   "source": [
    "Loading all dataset for the project and appending to a list"
   ]
  },
  {
   "cell_type": "code",
   "execution_count": 2,
   "id": "ea42a1c4",
   "metadata": {
    "scrolled": false
   },
   "outputs": [
    {
     "name": "stdout",
     "output_type": "stream",
     "text": [
      "index 0: Overview of genome_scores.csv DataFrame\n"
     ]
    },
    {
     "data": {
      "text/html": [
       "<div>\n",
       "<style scoped>\n",
       "    .dataframe tbody tr th:only-of-type {\n",
       "        vertical-align: middle;\n",
       "    }\n",
       "\n",
       "    .dataframe tbody tr th {\n",
       "        vertical-align: top;\n",
       "    }\n",
       "\n",
       "    .dataframe thead th {\n",
       "        text-align: right;\n",
       "    }\n",
       "</style>\n",
       "<table border=\"1\" class=\"dataframe\">\n",
       "  <thead>\n",
       "    <tr style=\"text-align: right;\">\n",
       "      <th></th>\n",
       "      <th>movieId</th>\n",
       "      <th>tagId</th>\n",
       "      <th>relevance</th>\n",
       "    </tr>\n",
       "  </thead>\n",
       "  <tbody>\n",
       "    <tr>\n",
       "      <th>0</th>\n",
       "      <td>1</td>\n",
       "      <td>1</td>\n",
       "      <td>0.02875</td>\n",
       "    </tr>\n",
       "    <tr>\n",
       "      <th>1</th>\n",
       "      <td>1</td>\n",
       "      <td>2</td>\n",
       "      <td>0.02375</td>\n",
       "    </tr>\n",
       "    <tr>\n",
       "      <th>2</th>\n",
       "      <td>1</td>\n",
       "      <td>3</td>\n",
       "      <td>0.06250</td>\n",
       "    </tr>\n",
       "    <tr>\n",
       "      <th>3</th>\n",
       "      <td>1</td>\n",
       "      <td>4</td>\n",
       "      <td>0.07575</td>\n",
       "    </tr>\n",
       "    <tr>\n",
       "      <th>4</th>\n",
       "      <td>1</td>\n",
       "      <td>5</td>\n",
       "      <td>0.14075</td>\n",
       "    </tr>\n",
       "  </tbody>\n",
       "</table>\n",
       "</div>"
      ],
      "text/plain": [
       "   movieId  tagId  relevance\n",
       "0        1      1    0.02875\n",
       "1        1      2    0.02375\n",
       "2        1      3    0.06250\n",
       "3        1      4    0.07575\n",
       "4        1      5    0.14075"
      ]
     },
     "metadata": {},
     "output_type": "display_data"
    },
    {
     "name": "stdout",
     "output_type": "stream",
     "text": [
      "(15584448, 3)\n",
      "index 1: Overview of genome_tags.csv DataFrame\n"
     ]
    },
    {
     "data": {
      "text/html": [
       "<div>\n",
       "<style scoped>\n",
       "    .dataframe tbody tr th:only-of-type {\n",
       "        vertical-align: middle;\n",
       "    }\n",
       "\n",
       "    .dataframe tbody tr th {\n",
       "        vertical-align: top;\n",
       "    }\n",
       "\n",
       "    .dataframe thead th {\n",
       "        text-align: right;\n",
       "    }\n",
       "</style>\n",
       "<table border=\"1\" class=\"dataframe\">\n",
       "  <thead>\n",
       "    <tr style=\"text-align: right;\">\n",
       "      <th></th>\n",
       "      <th>tagId</th>\n",
       "      <th>tag</th>\n",
       "    </tr>\n",
       "  </thead>\n",
       "  <tbody>\n",
       "    <tr>\n",
       "      <th>0</th>\n",
       "      <td>1</td>\n",
       "      <td>007</td>\n",
       "    </tr>\n",
       "    <tr>\n",
       "      <th>1</th>\n",
       "      <td>2</td>\n",
       "      <td>007 (series)</td>\n",
       "    </tr>\n",
       "    <tr>\n",
       "      <th>2</th>\n",
       "      <td>3</td>\n",
       "      <td>18th century</td>\n",
       "    </tr>\n",
       "    <tr>\n",
       "      <th>3</th>\n",
       "      <td>4</td>\n",
       "      <td>1920s</td>\n",
       "    </tr>\n",
       "    <tr>\n",
       "      <th>4</th>\n",
       "      <td>5</td>\n",
       "      <td>1930s</td>\n",
       "    </tr>\n",
       "  </tbody>\n",
       "</table>\n",
       "</div>"
      ],
      "text/plain": [
       "   tagId           tag\n",
       "0      1           007\n",
       "1      2  007 (series)\n",
       "2      3  18th century\n",
       "3      4         1920s\n",
       "4      5         1930s"
      ]
     },
     "metadata": {},
     "output_type": "display_data"
    },
    {
     "name": "stdout",
     "output_type": "stream",
     "text": [
      "(1128, 2)\n",
      "index 2: Overview of imdb_data.csv DataFrame\n"
     ]
    },
    {
     "data": {
      "text/html": [
       "<div>\n",
       "<style scoped>\n",
       "    .dataframe tbody tr th:only-of-type {\n",
       "        vertical-align: middle;\n",
       "    }\n",
       "\n",
       "    .dataframe tbody tr th {\n",
       "        vertical-align: top;\n",
       "    }\n",
       "\n",
       "    .dataframe thead th {\n",
       "        text-align: right;\n",
       "    }\n",
       "</style>\n",
       "<table border=\"1\" class=\"dataframe\">\n",
       "  <thead>\n",
       "    <tr style=\"text-align: right;\">\n",
       "      <th></th>\n",
       "      <th>movieId</th>\n",
       "      <th>title_cast</th>\n",
       "      <th>director</th>\n",
       "      <th>runtime</th>\n",
       "      <th>budget</th>\n",
       "      <th>plot_keywords</th>\n",
       "    </tr>\n",
       "  </thead>\n",
       "  <tbody>\n",
       "    <tr>\n",
       "      <th>0</th>\n",
       "      <td>1</td>\n",
       "      <td>Tom Hanks|Tim Allen|Don Rickles|Jim Varney|Wal...</td>\n",
       "      <td>John Lasseter</td>\n",
       "      <td>81.0</td>\n",
       "      <td>$30,000,000</td>\n",
       "      <td>toy|rivalry|cowboy|cgi animation</td>\n",
       "    </tr>\n",
       "    <tr>\n",
       "      <th>1</th>\n",
       "      <td>2</td>\n",
       "      <td>Robin Williams|Jonathan Hyde|Kirsten Dunst|Bra...</td>\n",
       "      <td>Jonathan Hensleigh</td>\n",
       "      <td>104.0</td>\n",
       "      <td>$65,000,000</td>\n",
       "      <td>board game|adventurer|fight|game</td>\n",
       "    </tr>\n",
       "    <tr>\n",
       "      <th>2</th>\n",
       "      <td>3</td>\n",
       "      <td>Walter Matthau|Jack Lemmon|Sophia Loren|Ann-Ma...</td>\n",
       "      <td>Mark Steven Johnson</td>\n",
       "      <td>101.0</td>\n",
       "      <td>$25,000,000</td>\n",
       "      <td>boat|lake|neighbor|rivalry</td>\n",
       "    </tr>\n",
       "    <tr>\n",
       "      <th>3</th>\n",
       "      <td>4</td>\n",
       "      <td>Whitney Houston|Angela Bassett|Loretta Devine|...</td>\n",
       "      <td>Terry McMillan</td>\n",
       "      <td>124.0</td>\n",
       "      <td>$16,000,000</td>\n",
       "      <td>black american|husband wife relationship|betra...</td>\n",
       "    </tr>\n",
       "    <tr>\n",
       "      <th>4</th>\n",
       "      <td>5</td>\n",
       "      <td>Steve Martin|Diane Keaton|Martin Short|Kimberl...</td>\n",
       "      <td>Albert Hackett</td>\n",
       "      <td>106.0</td>\n",
       "      <td>$30,000,000</td>\n",
       "      <td>fatherhood|doberman|dog|mansion</td>\n",
       "    </tr>\n",
       "  </tbody>\n",
       "</table>\n",
       "</div>"
      ],
      "text/plain": [
       "   movieId                                         title_cast  \\\n",
       "0        1  Tom Hanks|Tim Allen|Don Rickles|Jim Varney|Wal...   \n",
       "1        2  Robin Williams|Jonathan Hyde|Kirsten Dunst|Bra...   \n",
       "2        3  Walter Matthau|Jack Lemmon|Sophia Loren|Ann-Ma...   \n",
       "3        4  Whitney Houston|Angela Bassett|Loretta Devine|...   \n",
       "4        5  Steve Martin|Diane Keaton|Martin Short|Kimberl...   \n",
       "\n",
       "              director  runtime       budget  \\\n",
       "0        John Lasseter     81.0  $30,000,000   \n",
       "1   Jonathan Hensleigh    104.0  $65,000,000   \n",
       "2  Mark Steven Johnson    101.0  $25,000,000   \n",
       "3       Terry McMillan    124.0  $16,000,000   \n",
       "4       Albert Hackett    106.0  $30,000,000   \n",
       "\n",
       "                                       plot_keywords  \n",
       "0                   toy|rivalry|cowboy|cgi animation  \n",
       "1                   board game|adventurer|fight|game  \n",
       "2                         boat|lake|neighbor|rivalry  \n",
       "3  black american|husband wife relationship|betra...  \n",
       "4                    fatherhood|doberman|dog|mansion  "
      ]
     },
     "metadata": {},
     "output_type": "display_data"
    },
    {
     "name": "stdout",
     "output_type": "stream",
     "text": [
      "(27278, 6)\n",
      "index 3: Overview of links.csv DataFrame\n"
     ]
    },
    {
     "data": {
      "text/html": [
       "<div>\n",
       "<style scoped>\n",
       "    .dataframe tbody tr th:only-of-type {\n",
       "        vertical-align: middle;\n",
       "    }\n",
       "\n",
       "    .dataframe tbody tr th {\n",
       "        vertical-align: top;\n",
       "    }\n",
       "\n",
       "    .dataframe thead th {\n",
       "        text-align: right;\n",
       "    }\n",
       "</style>\n",
       "<table border=\"1\" class=\"dataframe\">\n",
       "  <thead>\n",
       "    <tr style=\"text-align: right;\">\n",
       "      <th></th>\n",
       "      <th>movieId</th>\n",
       "      <th>imdbId</th>\n",
       "      <th>tmdbId</th>\n",
       "    </tr>\n",
       "  </thead>\n",
       "  <tbody>\n",
       "    <tr>\n",
       "      <th>0</th>\n",
       "      <td>1</td>\n",
       "      <td>114709</td>\n",
       "      <td>862.0</td>\n",
       "    </tr>\n",
       "    <tr>\n",
       "      <th>1</th>\n",
       "      <td>2</td>\n",
       "      <td>113497</td>\n",
       "      <td>8844.0</td>\n",
       "    </tr>\n",
       "    <tr>\n",
       "      <th>2</th>\n",
       "      <td>3</td>\n",
       "      <td>113228</td>\n",
       "      <td>15602.0</td>\n",
       "    </tr>\n",
       "    <tr>\n",
       "      <th>3</th>\n",
       "      <td>4</td>\n",
       "      <td>114885</td>\n",
       "      <td>31357.0</td>\n",
       "    </tr>\n",
       "    <tr>\n",
       "      <th>4</th>\n",
       "      <td>5</td>\n",
       "      <td>113041</td>\n",
       "      <td>11862.0</td>\n",
       "    </tr>\n",
       "  </tbody>\n",
       "</table>\n",
       "</div>"
      ],
      "text/plain": [
       "   movieId  imdbId   tmdbId\n",
       "0        1  114709    862.0\n",
       "1        2  113497   8844.0\n",
       "2        3  113228  15602.0\n",
       "3        4  114885  31357.0\n",
       "4        5  113041  11862.0"
      ]
     },
     "metadata": {},
     "output_type": "display_data"
    },
    {
     "name": "stdout",
     "output_type": "stream",
     "text": [
      "(62423, 3)\n",
      "index 4: Overview of movies.csv DataFrame\n"
     ]
    },
    {
     "data": {
      "text/html": [
       "<div>\n",
       "<style scoped>\n",
       "    .dataframe tbody tr th:only-of-type {\n",
       "        vertical-align: middle;\n",
       "    }\n",
       "\n",
       "    .dataframe tbody tr th {\n",
       "        vertical-align: top;\n",
       "    }\n",
       "\n",
       "    .dataframe thead th {\n",
       "        text-align: right;\n",
       "    }\n",
       "</style>\n",
       "<table border=\"1\" class=\"dataframe\">\n",
       "  <thead>\n",
       "    <tr style=\"text-align: right;\">\n",
       "      <th></th>\n",
       "      <th>movieId</th>\n",
       "      <th>title</th>\n",
       "      <th>genres</th>\n",
       "    </tr>\n",
       "  </thead>\n",
       "  <tbody>\n",
       "    <tr>\n",
       "      <th>0</th>\n",
       "      <td>1</td>\n",
       "      <td>Toy Story (1995)</td>\n",
       "      <td>Adventure|Animation|Children|Comedy|Fantasy</td>\n",
       "    </tr>\n",
       "    <tr>\n",
       "      <th>1</th>\n",
       "      <td>2</td>\n",
       "      <td>Jumanji (1995)</td>\n",
       "      <td>Adventure|Children|Fantasy</td>\n",
       "    </tr>\n",
       "    <tr>\n",
       "      <th>2</th>\n",
       "      <td>3</td>\n",
       "      <td>Grumpier Old Men (1995)</td>\n",
       "      <td>Comedy|Romance</td>\n",
       "    </tr>\n",
       "    <tr>\n",
       "      <th>3</th>\n",
       "      <td>4</td>\n",
       "      <td>Waiting to Exhale (1995)</td>\n",
       "      <td>Comedy|Drama|Romance</td>\n",
       "    </tr>\n",
       "    <tr>\n",
       "      <th>4</th>\n",
       "      <td>5</td>\n",
       "      <td>Father of the Bride Part II (1995)</td>\n",
       "      <td>Comedy</td>\n",
       "    </tr>\n",
       "  </tbody>\n",
       "</table>\n",
       "</div>"
      ],
      "text/plain": [
       "   movieId                               title  \\\n",
       "0        1                    Toy Story (1995)   \n",
       "1        2                      Jumanji (1995)   \n",
       "2        3             Grumpier Old Men (1995)   \n",
       "3        4            Waiting to Exhale (1995)   \n",
       "4        5  Father of the Bride Part II (1995)   \n",
       "\n",
       "                                        genres  \n",
       "0  Adventure|Animation|Children|Comedy|Fantasy  \n",
       "1                   Adventure|Children|Fantasy  \n",
       "2                               Comedy|Romance  \n",
       "3                         Comedy|Drama|Romance  \n",
       "4                                       Comedy  "
      ]
     },
     "metadata": {},
     "output_type": "display_data"
    },
    {
     "name": "stdout",
     "output_type": "stream",
     "text": [
      "(62423, 3)\n",
      "index 5: Overview of sample_submission.csv DataFrame\n"
     ]
    },
    {
     "data": {
      "text/html": [
       "<div>\n",
       "<style scoped>\n",
       "    .dataframe tbody tr th:only-of-type {\n",
       "        vertical-align: middle;\n",
       "    }\n",
       "\n",
       "    .dataframe tbody tr th {\n",
       "        vertical-align: top;\n",
       "    }\n",
       "\n",
       "    .dataframe thead th {\n",
       "        text-align: right;\n",
       "    }\n",
       "</style>\n",
       "<table border=\"1\" class=\"dataframe\">\n",
       "  <thead>\n",
       "    <tr style=\"text-align: right;\">\n",
       "      <th></th>\n",
       "      <th>Id</th>\n",
       "      <th>rating</th>\n",
       "    </tr>\n",
       "  </thead>\n",
       "  <tbody>\n",
       "    <tr>\n",
       "      <th>0</th>\n",
       "      <td>1_2011</td>\n",
       "      <td>1.0</td>\n",
       "    </tr>\n",
       "    <tr>\n",
       "      <th>1</th>\n",
       "      <td>1_4144</td>\n",
       "      <td>1.0</td>\n",
       "    </tr>\n",
       "    <tr>\n",
       "      <th>2</th>\n",
       "      <td>1_5767</td>\n",
       "      <td>1.0</td>\n",
       "    </tr>\n",
       "    <tr>\n",
       "      <th>3</th>\n",
       "      <td>1_6711</td>\n",
       "      <td>1.0</td>\n",
       "    </tr>\n",
       "    <tr>\n",
       "      <th>4</th>\n",
       "      <td>1_7318</td>\n",
       "      <td>1.0</td>\n",
       "    </tr>\n",
       "  </tbody>\n",
       "</table>\n",
       "</div>"
      ],
      "text/plain": [
       "       Id  rating\n",
       "0  1_2011     1.0\n",
       "1  1_4144     1.0\n",
       "2  1_5767     1.0\n",
       "3  1_6711     1.0\n",
       "4  1_7318     1.0"
      ]
     },
     "metadata": {},
     "output_type": "display_data"
    },
    {
     "name": "stdout",
     "output_type": "stream",
     "text": [
      "(5000019, 2)\n",
      "index 6: Overview of tags.csv DataFrame\n"
     ]
    },
    {
     "data": {
      "text/html": [
       "<div>\n",
       "<style scoped>\n",
       "    .dataframe tbody tr th:only-of-type {\n",
       "        vertical-align: middle;\n",
       "    }\n",
       "\n",
       "    .dataframe tbody tr th {\n",
       "        vertical-align: top;\n",
       "    }\n",
       "\n",
       "    .dataframe thead th {\n",
       "        text-align: right;\n",
       "    }\n",
       "</style>\n",
       "<table border=\"1\" class=\"dataframe\">\n",
       "  <thead>\n",
       "    <tr style=\"text-align: right;\">\n",
       "      <th></th>\n",
       "      <th>userId</th>\n",
       "      <th>movieId</th>\n",
       "      <th>tag</th>\n",
       "      <th>timestamp</th>\n",
       "    </tr>\n",
       "  </thead>\n",
       "  <tbody>\n",
       "    <tr>\n",
       "      <th>0</th>\n",
       "      <td>3</td>\n",
       "      <td>260</td>\n",
       "      <td>classic</td>\n",
       "      <td>1439472355</td>\n",
       "    </tr>\n",
       "    <tr>\n",
       "      <th>1</th>\n",
       "      <td>3</td>\n",
       "      <td>260</td>\n",
       "      <td>sci-fi</td>\n",
       "      <td>1439472256</td>\n",
       "    </tr>\n",
       "    <tr>\n",
       "      <th>2</th>\n",
       "      <td>4</td>\n",
       "      <td>1732</td>\n",
       "      <td>dark comedy</td>\n",
       "      <td>1573943598</td>\n",
       "    </tr>\n",
       "    <tr>\n",
       "      <th>3</th>\n",
       "      <td>4</td>\n",
       "      <td>1732</td>\n",
       "      <td>great dialogue</td>\n",
       "      <td>1573943604</td>\n",
       "    </tr>\n",
       "    <tr>\n",
       "      <th>4</th>\n",
       "      <td>4</td>\n",
       "      <td>7569</td>\n",
       "      <td>so bad it's good</td>\n",
       "      <td>1573943455</td>\n",
       "    </tr>\n",
       "  </tbody>\n",
       "</table>\n",
       "</div>"
      ],
      "text/plain": [
       "   userId  movieId               tag   timestamp\n",
       "0       3      260           classic  1439472355\n",
       "1       3      260            sci-fi  1439472256\n",
       "2       4     1732       dark comedy  1573943598\n",
       "3       4     1732    great dialogue  1573943604\n",
       "4       4     7569  so bad it's good  1573943455"
      ]
     },
     "metadata": {},
     "output_type": "display_data"
    },
    {
     "name": "stdout",
     "output_type": "stream",
     "text": [
      "(1093360, 4)\n",
      "index 7: Overview of test.csv DataFrame\n"
     ]
    },
    {
     "data": {
      "text/html": [
       "<div>\n",
       "<style scoped>\n",
       "    .dataframe tbody tr th:only-of-type {\n",
       "        vertical-align: middle;\n",
       "    }\n",
       "\n",
       "    .dataframe tbody tr th {\n",
       "        vertical-align: top;\n",
       "    }\n",
       "\n",
       "    .dataframe thead th {\n",
       "        text-align: right;\n",
       "    }\n",
       "</style>\n",
       "<table border=\"1\" class=\"dataframe\">\n",
       "  <thead>\n",
       "    <tr style=\"text-align: right;\">\n",
       "      <th></th>\n",
       "      <th>userId</th>\n",
       "      <th>movieId</th>\n",
       "    </tr>\n",
       "  </thead>\n",
       "  <tbody>\n",
       "    <tr>\n",
       "      <th>0</th>\n",
       "      <td>1</td>\n",
       "      <td>2011</td>\n",
       "    </tr>\n",
       "    <tr>\n",
       "      <th>1</th>\n",
       "      <td>1</td>\n",
       "      <td>4144</td>\n",
       "    </tr>\n",
       "    <tr>\n",
       "      <th>2</th>\n",
       "      <td>1</td>\n",
       "      <td>5767</td>\n",
       "    </tr>\n",
       "    <tr>\n",
       "      <th>3</th>\n",
       "      <td>1</td>\n",
       "      <td>6711</td>\n",
       "    </tr>\n",
       "    <tr>\n",
       "      <th>4</th>\n",
       "      <td>1</td>\n",
       "      <td>7318</td>\n",
       "    </tr>\n",
       "  </tbody>\n",
       "</table>\n",
       "</div>"
      ],
      "text/plain": [
       "   userId  movieId\n",
       "0       1     2011\n",
       "1       1     4144\n",
       "2       1     5767\n",
       "3       1     6711\n",
       "4       1     7318"
      ]
     },
     "metadata": {},
     "output_type": "display_data"
    },
    {
     "name": "stdout",
     "output_type": "stream",
     "text": [
      "(5000019, 2)\n",
      "index 8: Overview of train.csv DataFrame\n"
     ]
    },
    {
     "data": {
      "text/html": [
       "<div>\n",
       "<style scoped>\n",
       "    .dataframe tbody tr th:only-of-type {\n",
       "        vertical-align: middle;\n",
       "    }\n",
       "\n",
       "    .dataframe tbody tr th {\n",
       "        vertical-align: top;\n",
       "    }\n",
       "\n",
       "    .dataframe thead th {\n",
       "        text-align: right;\n",
       "    }\n",
       "</style>\n",
       "<table border=\"1\" class=\"dataframe\">\n",
       "  <thead>\n",
       "    <tr style=\"text-align: right;\">\n",
       "      <th></th>\n",
       "      <th>userId</th>\n",
       "      <th>movieId</th>\n",
       "      <th>rating</th>\n",
       "      <th>timestamp</th>\n",
       "    </tr>\n",
       "  </thead>\n",
       "  <tbody>\n",
       "    <tr>\n",
       "      <th>0</th>\n",
       "      <td>5163</td>\n",
       "      <td>57669</td>\n",
       "      <td>4.0</td>\n",
       "      <td>1518349992</td>\n",
       "    </tr>\n",
       "    <tr>\n",
       "      <th>1</th>\n",
       "      <td>106343</td>\n",
       "      <td>5</td>\n",
       "      <td>4.5</td>\n",
       "      <td>1206238739</td>\n",
       "    </tr>\n",
       "    <tr>\n",
       "      <th>2</th>\n",
       "      <td>146790</td>\n",
       "      <td>5459</td>\n",
       "      <td>5.0</td>\n",
       "      <td>1076215539</td>\n",
       "    </tr>\n",
       "    <tr>\n",
       "      <th>3</th>\n",
       "      <td>106362</td>\n",
       "      <td>32296</td>\n",
       "      <td>2.0</td>\n",
       "      <td>1423042565</td>\n",
       "    </tr>\n",
       "    <tr>\n",
       "      <th>4</th>\n",
       "      <td>9041</td>\n",
       "      <td>366</td>\n",
       "      <td>3.0</td>\n",
       "      <td>833375837</td>\n",
       "    </tr>\n",
       "  </tbody>\n",
       "</table>\n",
       "</div>"
      ],
      "text/plain": [
       "   userId  movieId  rating   timestamp\n",
       "0    5163    57669     4.0  1518349992\n",
       "1  106343        5     4.5  1206238739\n",
       "2  146790     5459     5.0  1076215539\n",
       "3  106362    32296     2.0  1423042565\n",
       "4    9041      366     3.0   833375837"
      ]
     },
     "metadata": {},
     "output_type": "display_data"
    },
    {
     "name": "stdout",
     "output_type": "stream",
     "text": [
      "(10000038, 4)\n"
     ]
    }
   ],
   "source": [
    "path = \"./edsa-movie-recommendation-2022\"\n",
    "dir_list = os.listdir(path)\n",
    "listing = []\n",
    "df_list = []\n",
    "for x in dir_list:\n",
    "    if x.endswith('.csv'):\n",
    "        listing .append(x)\n",
    "count = 0\n",
    "for x in listing:\n",
    "    print(f\"index {count}: Overview of {x} DataFrame\")\n",
    "    temp_df = pd.read_csv(f'{path}/{x}')\n",
    "    df_list.append(temp_df)\n",
    "    display(temp_df.head())\n",
    "    print(temp_df.shape)\n",
    "    count += 1"
   ]
  },
  {
   "cell_type": "markdown",
   "id": "1734fdc1",
   "metadata": {},
   "source": [
    "### Exploring `movies` dataset "
   ]
  },
  {
   "cell_type": "code",
   "execution_count": 3,
   "id": "0f48c06e",
   "metadata": {},
   "outputs": [
    {
     "data": {
      "text/html": [
       "<div>\n",
       "<style scoped>\n",
       "    .dataframe tbody tr th:only-of-type {\n",
       "        vertical-align: middle;\n",
       "    }\n",
       "\n",
       "    .dataframe tbody tr th {\n",
       "        vertical-align: top;\n",
       "    }\n",
       "\n",
       "    .dataframe thead th {\n",
       "        text-align: right;\n",
       "    }\n",
       "</style>\n",
       "<table border=\"1\" class=\"dataframe\">\n",
       "  <thead>\n",
       "    <tr style=\"text-align: right;\">\n",
       "      <th></th>\n",
       "      <th>movieId</th>\n",
       "      <th>title</th>\n",
       "      <th>genres</th>\n",
       "    </tr>\n",
       "  </thead>\n",
       "  <tbody>\n",
       "    <tr>\n",
       "      <th>0</th>\n",
       "      <td>1</td>\n",
       "      <td>Toy Story (1995)</td>\n",
       "      <td>Adventure|Animation|Children|Comedy|Fantasy</td>\n",
       "    </tr>\n",
       "    <tr>\n",
       "      <th>1</th>\n",
       "      <td>2</td>\n",
       "      <td>Jumanji (1995)</td>\n",
       "      <td>Adventure|Children|Fantasy</td>\n",
       "    </tr>\n",
       "    <tr>\n",
       "      <th>2</th>\n",
       "      <td>3</td>\n",
       "      <td>Grumpier Old Men (1995)</td>\n",
       "      <td>Comedy|Romance</td>\n",
       "    </tr>\n",
       "    <tr>\n",
       "      <th>3</th>\n",
       "      <td>4</td>\n",
       "      <td>Waiting to Exhale (1995)</td>\n",
       "      <td>Comedy|Drama|Romance</td>\n",
       "    </tr>\n",
       "    <tr>\n",
       "      <th>4</th>\n",
       "      <td>5</td>\n",
       "      <td>Father of the Bride Part II (1995)</td>\n",
       "      <td>Comedy</td>\n",
       "    </tr>\n",
       "  </tbody>\n",
       "</table>\n",
       "</div>"
      ],
      "text/plain": [
       "   movieId                               title  \\\n",
       "0        1                    Toy Story (1995)   \n",
       "1        2                      Jumanji (1995)   \n",
       "2        3             Grumpier Old Men (1995)   \n",
       "3        4            Waiting to Exhale (1995)   \n",
       "4        5  Father of the Bride Part II (1995)   \n",
       "\n",
       "                                        genres  \n",
       "0  Adventure|Animation|Children|Comedy|Fantasy  \n",
       "1                   Adventure|Children|Fantasy  \n",
       "2                               Comedy|Romance  \n",
       "3                         Comedy|Drama|Romance  \n",
       "4                                       Comedy  "
      ]
     },
     "execution_count": 3,
     "metadata": {},
     "output_type": "execute_result"
    }
   ],
   "source": [
    "df_movies = df_list[4].copy()\n",
    "df_movies.head()"
   ]
  },
  {
   "cell_type": "code",
   "execution_count": 4,
   "id": "705d69b0",
   "metadata": {},
   "outputs": [
    {
     "name": "stdout",
     "output_type": "stream",
     "text": [
      "<class 'pandas.core.frame.DataFrame'>\n",
      "RangeIndex: 62423 entries, 0 to 62422\n",
      "Data columns (total 3 columns):\n",
      " #   Column   Non-Null Count  Dtype \n",
      "---  ------   --------------  ----- \n",
      " 0   movieId  62423 non-null  int64 \n",
      " 1   title    62423 non-null  object\n",
      " 2   genres   62423 non-null  object\n",
      "dtypes: int64(1), object(2)\n",
      "memory usage: 1.4+ MB\n"
     ]
    }
   ],
   "source": [
    "df_movies.info()"
   ]
  },
  {
   "cell_type": "markdown",
   "id": "db35777c",
   "metadata": {},
   "source": [
    "The `movies` dataset has `62423` rows/movies and `3` features describing this movies and it has no null value since all value taly in the `Non-null count` column"
   ]
  },
  {
   "cell_type": "markdown",
   "id": "2cdcbb89",
   "metadata": {},
   "source": [
    "Extracting each movies year to forma new column on when each movies was made"
   ]
  },
  {
   "cell_type": "code",
   "execution_count": 5,
   "id": "129863fc",
   "metadata": {},
   "outputs": [
    {
     "data": {
      "text/html": [
       "<div>\n",
       "<style scoped>\n",
       "    .dataframe tbody tr th:only-of-type {\n",
       "        vertical-align: middle;\n",
       "    }\n",
       "\n",
       "    .dataframe tbody tr th {\n",
       "        vertical-align: top;\n",
       "    }\n",
       "\n",
       "    .dataframe thead th {\n",
       "        text-align: right;\n",
       "    }\n",
       "</style>\n",
       "<table border=\"1\" class=\"dataframe\">\n",
       "  <thead>\n",
       "    <tr style=\"text-align: right;\">\n",
       "      <th></th>\n",
       "      <th>movieId</th>\n",
       "      <th>title</th>\n",
       "      <th>genres</th>\n",
       "      <th>year_made</th>\n",
       "    </tr>\n",
       "  </thead>\n",
       "  <tbody>\n",
       "    <tr>\n",
       "      <th>0</th>\n",
       "      <td>1</td>\n",
       "      <td>Toy Story (1995)</td>\n",
       "      <td>Adventure|Animation|Children|Comedy|Fantasy</td>\n",
       "      <td>1995</td>\n",
       "    </tr>\n",
       "    <tr>\n",
       "      <th>1</th>\n",
       "      <td>2</td>\n",
       "      <td>Jumanji (1995)</td>\n",
       "      <td>Adventure|Children|Fantasy</td>\n",
       "      <td>1995</td>\n",
       "    </tr>\n",
       "    <tr>\n",
       "      <th>2</th>\n",
       "      <td>3</td>\n",
       "      <td>Grumpier Old Men (1995)</td>\n",
       "      <td>Comedy|Romance</td>\n",
       "      <td>1995</td>\n",
       "    </tr>\n",
       "    <tr>\n",
       "      <th>3</th>\n",
       "      <td>4</td>\n",
       "      <td>Waiting to Exhale (1995)</td>\n",
       "      <td>Comedy|Drama|Romance</td>\n",
       "      <td>1995</td>\n",
       "    </tr>\n",
       "    <tr>\n",
       "      <th>4</th>\n",
       "      <td>5</td>\n",
       "      <td>Father of the Bride Part II (1995)</td>\n",
       "      <td>Comedy</td>\n",
       "      <td>1995</td>\n",
       "    </tr>\n",
       "  </tbody>\n",
       "</table>\n",
       "</div>"
      ],
      "text/plain": [
       "   movieId                               title  \\\n",
       "0        1                    Toy Story (1995)   \n",
       "1        2                      Jumanji (1995)   \n",
       "2        3             Grumpier Old Men (1995)   \n",
       "3        4            Waiting to Exhale (1995)   \n",
       "4        5  Father of the Bride Part II (1995)   \n",
       "\n",
       "                                        genres year_made  \n",
       "0  Adventure|Animation|Children|Comedy|Fantasy      1995  \n",
       "1                   Adventure|Children|Fantasy      1995  \n",
       "2                               Comedy|Romance      1995  \n",
       "3                         Comedy|Drama|Romance      1995  \n",
       "4                                       Comedy      1995  "
      ]
     },
     "execution_count": 5,
     "metadata": {},
     "output_type": "execute_result"
    }
   ],
   "source": [
    "df_movies[\"year_made\"] = df_movies[\"title\"].apply(lambda x: \"\".join(re.findall(r\"\\((\\d+)\\)+$\", x)) \n",
    "                                                  if re.findall(r\"\\((\\d+)\\)+$\", x) else 0)\n",
    "\n",
    "df_movies.head()"
   ]
  },
  {
   "cell_type": "code",
   "execution_count": 6,
   "id": "5201bc43",
   "metadata": {},
   "outputs": [
    {
     "data": {
      "text/plain": [
       "movieId      0\n",
       "title        0\n",
       "genres       0\n",
       "year_made    0\n",
       "dtype: int64"
      ]
     },
     "execution_count": 6,
     "metadata": {},
     "output_type": "execute_result"
    }
   ],
   "source": [
    "# confirm if all movies have a year in it title and that we don't have a null value in our new column\n",
    "df_movies.isna().sum()"
   ]
  },
  {
   "cell_type": "code",
   "execution_count": 7,
   "id": "9b41c5ed",
   "metadata": {},
   "outputs": [
    {
     "data": {
      "text/html": [
       "<div>\n",
       "<style scoped>\n",
       "    .dataframe tbody tr th:only-of-type {\n",
       "        vertical-align: middle;\n",
       "    }\n",
       "\n",
       "    .dataframe tbody tr th {\n",
       "        vertical-align: top;\n",
       "    }\n",
       "\n",
       "    .dataframe thead th {\n",
       "        text-align: right;\n",
       "    }\n",
       "</style>\n",
       "<table border=\"1\" class=\"dataframe\">\n",
       "  <thead>\n",
       "    <tr style=\"text-align: right;\">\n",
       "      <th></th>\n",
       "      <th>movieId</th>\n",
       "      <th>title</th>\n",
       "      <th>year_made</th>\n",
       "      <th>genre</th>\n",
       "    </tr>\n",
       "  </thead>\n",
       "  <tbody>\n",
       "    <tr>\n",
       "      <th>0</th>\n",
       "      <td>1</td>\n",
       "      <td>Toy Story (1995)</td>\n",
       "      <td>1995</td>\n",
       "      <td>Adventure</td>\n",
       "    </tr>\n",
       "    <tr>\n",
       "      <th>0</th>\n",
       "      <td>1</td>\n",
       "      <td>Toy Story (1995)</td>\n",
       "      <td>1995</td>\n",
       "      <td>Animation</td>\n",
       "    </tr>\n",
       "    <tr>\n",
       "      <th>0</th>\n",
       "      <td>1</td>\n",
       "      <td>Toy Story (1995)</td>\n",
       "      <td>1995</td>\n",
       "      <td>Children</td>\n",
       "    </tr>\n",
       "    <tr>\n",
       "      <th>0</th>\n",
       "      <td>1</td>\n",
       "      <td>Toy Story (1995)</td>\n",
       "      <td>1995</td>\n",
       "      <td>Comedy</td>\n",
       "    </tr>\n",
       "    <tr>\n",
       "      <th>0</th>\n",
       "      <td>1</td>\n",
       "      <td>Toy Story (1995)</td>\n",
       "      <td>1995</td>\n",
       "      <td>Fantasy</td>\n",
       "    </tr>\n",
       "  </tbody>\n",
       "</table>\n",
       "</div>"
      ],
      "text/plain": [
       "   movieId             title year_made      genre\n",
       "0        1  Toy Story (1995)      1995  Adventure\n",
       "0        1  Toy Story (1995)      1995  Animation\n",
       "0        1  Toy Story (1995)      1995   Children\n",
       "0        1  Toy Story (1995)      1995     Comedy\n",
       "0        1  Toy Story (1995)      1995    Fantasy"
      ]
     },
     "execution_count": 7,
     "metadata": {},
     "output_type": "execute_result"
    }
   ],
   "source": [
    "# making each genres into a list to be able to split\n",
    "df_movies['genres'] = df_movies['genres'].fillna('').apply(lambda x: x.split(\"|\"))\n",
    "\n",
    "# Splitting each genre to each movies\n",
    "genre = df_movies.apply(lambda x: pd.Series(x['genres']),axis=1).stack().reset_index(level=1, drop=True)\n",
    "genre.name = 'genre'\n",
    "df_mov_gen = df_movies.drop('genres', axis=1).join(genre)\n",
    "df_mov_gen.head()"
   ]
  },
  {
   "cell_type": "code",
   "execution_count": 8,
   "id": "74a63655",
   "metadata": {},
   "outputs": [],
   "source": [
    "# Converting 'year_made' into numeric datatype\n",
    "df_mov_gen[\"year_made\"] = df_mov_gen[\"year_made\"].astype('int64')"
   ]
  },
  {
   "cell_type": "code",
   "execution_count": 9,
   "id": "f1ae47b1",
   "metadata": {},
   "outputs": [
    {
     "data": {
      "image/png": "[encoded data removed]",
      "text/plain": [
       "<Figure size 720x576 with 1 Axes>"
      ]
     },
     "metadata": {},
     "output_type": "display_data"
    }
   ],
   "source": [
    "# visualizing how the year of the movies are distributed\n",
    "df_mov_year = df_mov_gen.groupby(\"year_made\").agg({\"movieId\":\"count\"}).reset_index()\n",
    "fig, ax = plt.subplots(figsize=(10,8))\n",
    "ax = sns.barplot(data=df_mov_year,  x=\"year_made\", y=\"movieId\")\n",
    "ax.xaxis.set_major_locator(ticker.MultipleLocator(20))\n",
    "plt.show()"
   ]
  },
  {
   "cell_type": "code",
   "execution_count": 10,
   "id": "b6ce6e1a",
   "metadata": {},
   "outputs": [
    {
     "data": {
      "image/png": "[encoded data removed]",
      "text/plain": [
       "<Figure size 720x576 with 1 Axes>"
      ]
     },
     "metadata": {},
     "output_type": "display_data"
    }
   ],
   "source": [
    "# visualizing how the genres of the movies are distributed\n",
    "df_grp_gens = df_mov_gen.groupby(\"genre\").agg({\"movieId\":\"count\"}).reset_index()\n",
    "fig, ax = plt.subplots(figsize=(10,8))\n",
    "ax = sns.barplot(data=df_grp_gens,  x=\"genre\", y=\"movieId\")\n",
    "ax.set_xticks(ax.get_xticks())\n",
    "ax.set_xticklabels(ax.get_xticklabels(), rotation=45, ha='right')\n",
    "plt.show()"
   ]
  },
  {
   "cell_type": "markdown",
   "id": "d5af2e63",
   "metadata": {},
   "source": [
    "#### Creating a `word-cloud` for title of movies base on the `genres`"
   ]
  },
  {
   "cell_type": "code",
   "execution_count": 11,
   "id": "66862086",
   "metadata": {},
   "outputs": [],
   "source": [
    "def bag_of_words_count(words, splitter: str=' ',  word_dict={}):\n",
    "    \"\"\" this function takes in a list of words and returns a dictionary\n",
    "        with each word as a key, and the value represents the number of\n",
    "        times that word appeared\"\"\"\n",
    "    words = words.split(splitter)\n",
    "    for word in words:\n",
    "        if word in word_dict.keys():\n",
    "            word_dict[word] += 1\n",
    "        else:\n",
    "            word_dict[word] = 1\n",
    "    return word_dict"
   ]
  },
  {
   "cell_type": "code",
   "execution_count": 12,
   "id": "07c45077",
   "metadata": {},
   "outputs": [],
   "source": [
    "def word_extract(df=df_mov_gen, coln: str='title', splitter=' '):\n",
    "    \"\"\"This use to compile all the word and there frequency \n",
    "    in the individual category found in a particular column\"\"\"\n",
    "#     count = 0\n",
    "    result = {}\n",
    "    type_labels = df.genre.unique()\n",
    "    genres_dict = {}\n",
    "    df_grp = df.groupby('genre')\n",
    "    for pp in type_labels:\n",
    "        genres_dict[pp] = {}\n",
    "        for row in df_grp.get_group(pp)[coln]:\n",
    "            genres_dict[pp] = bag_of_words_count(words=row, splitter=splitter, word_dict=genres_dict[pp])\n",
    "    return genres_dict"
   ]
  },
  {
   "cell_type": "code",
   "execution_count": 13,
   "id": "f6fd2626",
   "metadata": {},
   "outputs": [
    {
     "data": {
      "application/vnd.jupyter.widget-view+json": {
       "model_id": "6d37c6ea89a94b3b89435b4a9478d1f5",
       "version_major": 2,
       "version_minor": 0
      },
      "text/plain": [
       "interactive(children=(Dropdown(description='genre_name', options=('Adventure', 'Animation', 'Children', 'Comed…"
      ]
     },
     "metadata": {},
     "output_type": "display_data"
    }
   ],
   "source": [
    "# Interactive plotting\n",
    "def iplotting():\n",
    "    d = word_extract()\n",
    "    @interact_manual\n",
    "    def selecting(genre_name = d.keys()):\n",
    "        word_cloud_genre=WordCloud(width=1500, height=800, background_color='black', min_font_size=2,\n",
    "                        min_word_length=3).generate(str(d[genre_name]))\n",
    "        plt.figure(figsize=(20,10))\n",
    "        plt.axis('off')\n",
    "        plt.title(f'Word Cloud for {genre_name} Genre Movie titles',fontsize=30)\n",
    "        plt.imshow(word_cloud_genre);\n",
    "iplotting()"
   ]
  },
  {
   "cell_type": "markdown",
   "id": "a2ff07e1",
   "metadata": {},
   "source": [
    "### Exploring `train` dataset"
   ]
  },
  {
   "cell_type": "markdown",
   "id": "7a9e9036",
   "metadata": {},
   "source": [
    "Exploring the train dataset to gain insight into the rating of `movies` and there various tags using the `genome scores and tags`"
   ]
  },
  {
   "cell_type": "code",
   "execution_count": 14,
   "id": "e387cbe9",
   "metadata": {},
   "outputs": [],
   "source": [
    "df_genome_scores = df_list[0].copy() # loading & assigning a varaible to the 'genome_scores' dataset\n",
    "df_genome_tags = df_list[1].copy() # loading & assigning a varaible to the 'genome_tags' dataset\n",
    "df_train = df_list[8].copy() # loading & assigning a varaible to the 'train' dataset\n"
   ]
  },
  {
   "cell_type": "markdown",
   "id": "67d8b803",
   "metadata": {},
   "source": [
    "Merging the three dataframe plus `movies` dataset above to make one fine and informed dataframe"
   ]
  },
  {
   "cell_type": "code",
   "execution_count": 15,
   "id": "0d8b2fd4",
   "metadata": {},
   "outputs": [
    {
     "data": {
      "text/plain": [
       "(15584448, 4)"
      ]
     },
     "metadata": {},
     "output_type": "display_data"
    },
    {
     "data": {
      "text/html": [
       "<div>\n",
       "<style scoped>\n",
       "    .dataframe tbody tr th:only-of-type {\n",
       "        vertical-align: middle;\n",
       "    }\n",
       "\n",
       "    .dataframe tbody tr th {\n",
       "        vertical-align: top;\n",
       "    }\n",
       "\n",
       "    .dataframe thead th {\n",
       "        text-align: right;\n",
       "    }\n",
       "</style>\n",
       "<table border=\"1\" class=\"dataframe\">\n",
       "  <thead>\n",
       "    <tr style=\"text-align: right;\">\n",
       "      <th></th>\n",
       "      <th>movieId</th>\n",
       "      <th>tagId</th>\n",
       "      <th>relevance</th>\n",
       "      <th>tag</th>\n",
       "    </tr>\n",
       "  </thead>\n",
       "  <tbody>\n",
       "    <tr>\n",
       "      <th>0</th>\n",
       "      <td>1</td>\n",
       "      <td>1</td>\n",
       "      <td>0.02875</td>\n",
       "      <td>007</td>\n",
       "    </tr>\n",
       "    <tr>\n",
       "      <th>1</th>\n",
       "      <td>1</td>\n",
       "      <td>2</td>\n",
       "      <td>0.02375</td>\n",
       "      <td>007 (series)</td>\n",
       "    </tr>\n",
       "    <tr>\n",
       "      <th>2</th>\n",
       "      <td>1</td>\n",
       "      <td>3</td>\n",
       "      <td>0.06250</td>\n",
       "      <td>18th century</td>\n",
       "    </tr>\n",
       "    <tr>\n",
       "      <th>3</th>\n",
       "      <td>1</td>\n",
       "      <td>4</td>\n",
       "      <td>0.07575</td>\n",
       "      <td>1920s</td>\n",
       "    </tr>\n",
       "    <tr>\n",
       "      <th>4</th>\n",
       "      <td>1</td>\n",
       "      <td>5</td>\n",
       "      <td>0.14075</td>\n",
       "      <td>1930s</td>\n",
       "    </tr>\n",
       "    <tr>\n",
       "      <th>5</th>\n",
       "      <td>1</td>\n",
       "      <td>6</td>\n",
       "      <td>0.14675</td>\n",
       "      <td>1950s</td>\n",
       "    </tr>\n",
       "    <tr>\n",
       "      <th>6</th>\n",
       "      <td>1</td>\n",
       "      <td>7</td>\n",
       "      <td>0.06350</td>\n",
       "      <td>1960s</td>\n",
       "    </tr>\n",
       "    <tr>\n",
       "      <th>7</th>\n",
       "      <td>1</td>\n",
       "      <td>8</td>\n",
       "      <td>0.20375</td>\n",
       "      <td>1970s</td>\n",
       "    </tr>\n",
       "    <tr>\n",
       "      <th>8</th>\n",
       "      <td>1</td>\n",
       "      <td>9</td>\n",
       "      <td>0.20200</td>\n",
       "      <td>1980s</td>\n",
       "    </tr>\n",
       "    <tr>\n",
       "      <th>9</th>\n",
       "      <td>1</td>\n",
       "      <td>10</td>\n",
       "      <td>0.03075</td>\n",
       "      <td>19th century</td>\n",
       "    </tr>\n",
       "  </tbody>\n",
       "</table>\n",
       "</div>"
      ],
      "text/plain": [
       "   movieId  tagId  relevance           tag\n",
       "0        1      1    0.02875           007\n",
       "1        1      2    0.02375  007 (series)\n",
       "2        1      3    0.06250  18th century\n",
       "3        1      4    0.07575         1920s\n",
       "4        1      5    0.14075         1930s\n",
       "5        1      6    0.14675         1950s\n",
       "6        1      7    0.06350         1960s\n",
       "7        1      8    0.20375         1970s\n",
       "8        1      9    0.20200         1980s\n",
       "9        1     10    0.03075  19th century"
      ]
     },
     "execution_count": 15,
     "metadata": {},
     "output_type": "execute_result"
    }
   ],
   "source": [
    "# Combining dataframe 'df_genome_scores' and 'df_genome_tags'\n",
    "genome_comb = df_genome_scores.merge(df_genome_tags, how=\"left\", on=[\"tagId\"])\n",
    "display(genome_comb.shape)\n",
    "genome_comb.head(10)"
   ]
  },
  {
   "cell_type": "code",
   "execution_count": 16,
   "id": "2719813d",
   "metadata": {},
   "outputs": [
    {
     "data": {
      "text/plain": [
       "(13816, 2)"
      ]
     },
     "metadata": {},
     "output_type": "display_data"
    },
    {
     "data": {
      "text/html": [
       "<div>\n",
       "<style scoped>\n",
       "    .dataframe tbody tr th:only-of-type {\n",
       "        vertical-align: middle;\n",
       "    }\n",
       "\n",
       "    .dataframe tbody tr th {\n",
       "        vertical-align: top;\n",
       "    }\n",
       "\n",
       "    .dataframe thead th {\n",
       "        text-align: right;\n",
       "    }\n",
       "</style>\n",
       "<table border=\"1\" class=\"dataframe\">\n",
       "  <thead>\n",
       "    <tr style=\"text-align: right;\">\n",
       "      <th></th>\n",
       "      <th>movieId</th>\n",
       "      <th>relevance</th>\n",
       "    </tr>\n",
       "  </thead>\n",
       "  <tbody>\n",
       "    <tr>\n",
       "      <th>0</th>\n",
       "      <td>1</td>\n",
       "      <td>0.99925</td>\n",
       "    </tr>\n",
       "    <tr>\n",
       "      <th>1</th>\n",
       "      <td>2</td>\n",
       "      <td>0.97600</td>\n",
       "    </tr>\n",
       "    <tr>\n",
       "      <th>2</th>\n",
       "      <td>3</td>\n",
       "      <td>0.97525</td>\n",
       "    </tr>\n",
       "    <tr>\n",
       "      <th>3</th>\n",
       "      <td>4</td>\n",
       "      <td>0.97525</td>\n",
       "    </tr>\n",
       "    <tr>\n",
       "      <th>4</th>\n",
       "      <td>5</td>\n",
       "      <td>0.96025</td>\n",
       "    </tr>\n",
       "  </tbody>\n",
       "</table>\n",
       "</div>"
      ],
      "text/plain": [
       "   movieId  relevance\n",
       "0        1    0.99925\n",
       "1        2    0.97600\n",
       "2        3    0.97525\n",
       "3        4    0.97525\n",
       "4        5    0.96025"
      ]
     },
     "execution_count": 16,
     "metadata": {},
     "output_type": "execute_result"
    }
   ],
   "source": [
    "# grouping by 'movieId' and by calculating maximum 'relevance' corresponding to know the actual 'tag' of a 'movie'\n",
    "genome_grp = genome_comb.groupby('movieId')[[\"relevance\"]].max().reset_index()\n",
    "display(genome_grp.shape)\n",
    "genome_grp.head()"
   ]
  },
  {
   "cell_type": "code",
   "execution_count": 17,
   "id": "ed4ea050",
   "metadata": {},
   "outputs": [
    {
     "data": {
      "text/html": [
       "<div>\n",
       "<style scoped>\n",
       "    .dataframe tbody tr th:only-of-type {\n",
       "        vertical-align: middle;\n",
       "    }\n",
       "\n",
       "    .dataframe tbody tr th {\n",
       "        vertical-align: top;\n",
       "    }\n",
       "\n",
       "    .dataframe thead th {\n",
       "        text-align: right;\n",
       "    }\n",
       "</style>\n",
       "<table border=\"1\" class=\"dataframe\">\n",
       "  <thead>\n",
       "    <tr style=\"text-align: right;\">\n",
       "      <th></th>\n",
       "      <th>movieId</th>\n",
       "      <th>tag</th>\n",
       "    </tr>\n",
       "  </thead>\n",
       "  <tbody>\n",
       "    <tr>\n",
       "      <th>0</th>\n",
       "      <td>1</td>\n",
       "      <td>toys</td>\n",
       "    </tr>\n",
       "    <tr>\n",
       "      <th>1</th>\n",
       "      <td>2</td>\n",
       "      <td>adventure</td>\n",
       "    </tr>\n",
       "    <tr>\n",
       "      <th>2</th>\n",
       "      <td>3</td>\n",
       "      <td>sequel</td>\n",
       "    </tr>\n",
       "    <tr>\n",
       "      <th>3</th>\n",
       "      <td>4</td>\n",
       "      <td>women</td>\n",
       "    </tr>\n",
       "    <tr>\n",
       "      <th>4</th>\n",
       "      <td>5</td>\n",
       "      <td>sequel</td>\n",
       "    </tr>\n",
       "  </tbody>\n",
       "</table>\n",
       "</div>"
      ],
      "text/plain": [
       "   movieId        tag\n",
       "0        1       toys\n",
       "1        2  adventure\n",
       "2        3     sequel\n",
       "3        4      women\n",
       "4        5     sequel"
      ]
     },
     "execution_count": 17,
     "metadata": {},
     "output_type": "execute_result"
    }
   ],
   "source": [
    "# Combinig the the grouped dataframe with the original dataframe to match each 'tag' to it respecitive 'relevance'\n",
    "genome_comb1 = genome_grp.merge(genome_comb[['movieId', 'relevance', 'tag']], on=[\"movieId\", \"relevance\"])\n",
    "\n",
    "# drop duplicates to have a sync. merge of movie and `tag` and unccessary 'relevance' column\n",
    "genome_comb1 = genome_comb1.drop_duplicates(subset=['movieId'])\n",
    "genome_comb1 = genome_comb1.drop('relevance', axis=1)\n",
    "\n",
    "genome_comb1.head()"
   ]
  },
  {
   "cell_type": "code",
   "execution_count": 18,
   "id": "fccee883",
   "metadata": {},
   "outputs": [
    {
     "data": {
      "text/plain": [
       "(10000038, 5)"
      ]
     },
     "metadata": {},
     "output_type": "display_data"
    },
    {
     "data": {
      "text/html": [
       "<div>\n",
       "<style scoped>\n",
       "    .dataframe tbody tr th:only-of-type {\n",
       "        vertical-align: middle;\n",
       "    }\n",
       "\n",
       "    .dataframe tbody tr th {\n",
       "        vertical-align: top;\n",
       "    }\n",
       "\n",
       "    .dataframe thead th {\n",
       "        text-align: right;\n",
       "    }\n",
       "</style>\n",
       "<table border=\"1\" class=\"dataframe\">\n",
       "  <thead>\n",
       "    <tr style=\"text-align: right;\">\n",
       "      <th></th>\n",
       "      <th>userId</th>\n",
       "      <th>movieId</th>\n",
       "      <th>rating</th>\n",
       "      <th>timestamp</th>\n",
       "      <th>tag</th>\n",
       "    </tr>\n",
       "  </thead>\n",
       "  <tbody>\n",
       "    <tr>\n",
       "      <th>0</th>\n",
       "      <td>5163</td>\n",
       "      <td>57669</td>\n",
       "      <td>4.0</td>\n",
       "      <td>1518349992</td>\n",
       "      <td>hit men</td>\n",
       "    </tr>\n",
       "    <tr>\n",
       "      <th>1</th>\n",
       "      <td>106343</td>\n",
       "      <td>5</td>\n",
       "      <td>4.5</td>\n",
       "      <td>1206238739</td>\n",
       "      <td>sequel</td>\n",
       "    </tr>\n",
       "    <tr>\n",
       "      <th>2</th>\n",
       "      <td>146790</td>\n",
       "      <td>5459</td>\n",
       "      <td>5.0</td>\n",
       "      <td>1076215539</td>\n",
       "      <td>alien</td>\n",
       "    </tr>\n",
       "    <tr>\n",
       "      <th>3</th>\n",
       "      <td>106362</td>\n",
       "      <td>32296</td>\n",
       "      <td>2.0</td>\n",
       "      <td>1423042565</td>\n",
       "      <td>sequels</td>\n",
       "    </tr>\n",
       "    <tr>\n",
       "      <th>4</th>\n",
       "      <td>9041</td>\n",
       "      <td>366</td>\n",
       "      <td>3.0</td>\n",
       "      <td>833375837</td>\n",
       "      <td>horror</td>\n",
       "    </tr>\n",
       "    <tr>\n",
       "      <th>5</th>\n",
       "      <td>120949</td>\n",
       "      <td>81768</td>\n",
       "      <td>3.0</td>\n",
       "      <td>1289595242</td>\n",
       "      <td>NaN</td>\n",
       "    </tr>\n",
       "    <tr>\n",
       "      <th>6</th>\n",
       "      <td>19630</td>\n",
       "      <td>62049</td>\n",
       "      <td>4.0</td>\n",
       "      <td>1246729817</td>\n",
       "      <td>george orwell</td>\n",
       "    </tr>\n",
       "    <tr>\n",
       "      <th>7</th>\n",
       "      <td>21066</td>\n",
       "      <td>2282</td>\n",
       "      <td>1.0</td>\n",
       "      <td>945785907</td>\n",
       "      <td>weird</td>\n",
       "    </tr>\n",
       "    <tr>\n",
       "      <th>8</th>\n",
       "      <td>117563</td>\n",
       "      <td>120474</td>\n",
       "      <td>4.0</td>\n",
       "      <td>1515108225</td>\n",
       "      <td>toys</td>\n",
       "    </tr>\n",
       "    <tr>\n",
       "      <th>9</th>\n",
       "      <td>144018</td>\n",
       "      <td>1997</td>\n",
       "      <td>5.0</td>\n",
       "      <td>1109967647</td>\n",
       "      <td>horror</td>\n",
       "    </tr>\n",
       "  </tbody>\n",
       "</table>\n",
       "</div>"
      ],
      "text/plain": [
       "   userId  movieId  rating   timestamp            tag\n",
       "0    5163    57669     4.0  1518349992        hit men\n",
       "1  106343        5     4.5  1206238739         sequel\n",
       "2  146790     5459     5.0  1076215539          alien\n",
       "3  106362    32296     2.0  1423042565        sequels\n",
       "4    9041      366     3.0   833375837         horror\n",
       "5  120949    81768     3.0  1289595242            NaN\n",
       "6   19630    62049     4.0  1246729817  george orwell\n",
       "7   21066     2282     1.0   945785907          weird\n",
       "8  117563   120474     4.0  1515108225           toys\n",
       "9  144018     1997     5.0  1109967647         horror"
      ]
     },
     "execution_count": 18,
     "metadata": {},
     "output_type": "execute_result"
    }
   ],
   "source": [
    "# merging ealier dataframe 'df_comb2' with tag and movie dataframe 'df_gem_comb1'\n",
    "train_tags = df_train.merge(genome_comb1, how='left', on=[\"movieId\"])\n",
    "display(train_tags.shape)\n",
    "train_tags.head(10)"
   ]
  },
  {
   "cell_type": "code",
   "execution_count": 19,
   "id": "648c4a3c",
   "metadata": {},
   "outputs": [
    {
     "data": {
      "text/plain": [
       "(10000038, 8)"
      ]
     },
     "metadata": {},
     "output_type": "display_data"
    },
    {
     "data": {
      "text/html": [
       "<div>\n",
       "<style scoped>\n",
       "    .dataframe tbody tr th:only-of-type {\n",
       "        vertical-align: middle;\n",
       "    }\n",
       "\n",
       "    .dataframe tbody tr th {\n",
       "        vertical-align: top;\n",
       "    }\n",
       "\n",
       "    .dataframe thead th {\n",
       "        text-align: right;\n",
       "    }\n",
       "</style>\n",
       "<table border=\"1\" class=\"dataframe\">\n",
       "  <thead>\n",
       "    <tr style=\"text-align: right;\">\n",
       "      <th></th>\n",
       "      <th>userId</th>\n",
       "      <th>movieId</th>\n",
       "      <th>rating</th>\n",
       "      <th>timestamp</th>\n",
       "      <th>tag</th>\n",
       "      <th>title</th>\n",
       "      <th>genres</th>\n",
       "      <th>year_made</th>\n",
       "    </tr>\n",
       "  </thead>\n",
       "  <tbody>\n",
       "    <tr>\n",
       "      <th>0</th>\n",
       "      <td>5163</td>\n",
       "      <td>57669</td>\n",
       "      <td>4.0</td>\n",
       "      <td>1518349992</td>\n",
       "      <td>hit men</td>\n",
       "      <td>In Bruges (2008)</td>\n",
       "      <td>[Comedy, Crime, Drama, Thriller]</td>\n",
       "      <td>2008</td>\n",
       "    </tr>\n",
       "    <tr>\n",
       "      <th>1</th>\n",
       "      <td>87388</td>\n",
       "      <td>57669</td>\n",
       "      <td>3.5</td>\n",
       "      <td>1237455297</td>\n",
       "      <td>hit men</td>\n",
       "      <td>In Bruges (2008)</td>\n",
       "      <td>[Comedy, Crime, Drama, Thriller]</td>\n",
       "      <td>2008</td>\n",
       "    </tr>\n",
       "    <tr>\n",
       "      <th>2</th>\n",
       "      <td>137050</td>\n",
       "      <td>57669</td>\n",
       "      <td>4.0</td>\n",
       "      <td>1425631854</td>\n",
       "      <td>hit men</td>\n",
       "      <td>In Bruges (2008)</td>\n",
       "      <td>[Comedy, Crime, Drama, Thriller]</td>\n",
       "      <td>2008</td>\n",
       "    </tr>\n",
       "    <tr>\n",
       "      <th>3</th>\n",
       "      <td>120490</td>\n",
       "      <td>57669</td>\n",
       "      <td>4.5</td>\n",
       "      <td>1408228517</td>\n",
       "      <td>hit men</td>\n",
       "      <td>In Bruges (2008)</td>\n",
       "      <td>[Comedy, Crime, Drama, Thriller]</td>\n",
       "      <td>2008</td>\n",
       "    </tr>\n",
       "    <tr>\n",
       "      <th>4</th>\n",
       "      <td>50616</td>\n",
       "      <td>57669</td>\n",
       "      <td>4.5</td>\n",
       "      <td>1446941640</td>\n",
       "      <td>hit men</td>\n",
       "      <td>In Bruges (2008)</td>\n",
       "      <td>[Comedy, Crime, Drama, Thriller]</td>\n",
       "      <td>2008</td>\n",
       "    </tr>\n",
       "    <tr>\n",
       "      <th>5</th>\n",
       "      <td>99887</td>\n",
       "      <td>57669</td>\n",
       "      <td>0.5</td>\n",
       "      <td>1448839196</td>\n",
       "      <td>hit men</td>\n",
       "      <td>In Bruges (2008)</td>\n",
       "      <td>[Comedy, Crime, Drama, Thriller]</td>\n",
       "      <td>2008</td>\n",
       "    </tr>\n",
       "    <tr>\n",
       "      <th>6</th>\n",
       "      <td>120194</td>\n",
       "      <td>57669</td>\n",
       "      <td>4.5</td>\n",
       "      <td>1479382352</td>\n",
       "      <td>hit men</td>\n",
       "      <td>In Bruges (2008)</td>\n",
       "      <td>[Comedy, Crime, Drama, Thriller]</td>\n",
       "      <td>2008</td>\n",
       "    </tr>\n",
       "    <tr>\n",
       "      <th>7</th>\n",
       "      <td>847</td>\n",
       "      <td>57669</td>\n",
       "      <td>3.5</td>\n",
       "      <td>1232893563</td>\n",
       "      <td>hit men</td>\n",
       "      <td>In Bruges (2008)</td>\n",
       "      <td>[Comedy, Crime, Drama, Thriller]</td>\n",
       "      <td>2008</td>\n",
       "    </tr>\n",
       "    <tr>\n",
       "      <th>8</th>\n",
       "      <td>47201</td>\n",
       "      <td>57669</td>\n",
       "      <td>4.5</td>\n",
       "      <td>1464351173</td>\n",
       "      <td>hit men</td>\n",
       "      <td>In Bruges (2008)</td>\n",
       "      <td>[Comedy, Crime, Drama, Thriller]</td>\n",
       "      <td>2008</td>\n",
       "    </tr>\n",
       "    <tr>\n",
       "      <th>9</th>\n",
       "      <td>94499</td>\n",
       "      <td>57669</td>\n",
       "      <td>4.5</td>\n",
       "      <td>1316689295</td>\n",
       "      <td>hit men</td>\n",
       "      <td>In Bruges (2008)</td>\n",
       "      <td>[Comedy, Crime, Drama, Thriller]</td>\n",
       "      <td>2008</td>\n",
       "    </tr>\n",
       "  </tbody>\n",
       "</table>\n",
       "</div>"
      ],
      "text/plain": [
       "   userId  movieId  rating   timestamp      tag             title  \\\n",
       "0    5163    57669     4.0  1518349992  hit men  In Bruges (2008)   \n",
       "1   87388    57669     3.5  1237455297  hit men  In Bruges (2008)   \n",
       "2  137050    57669     4.0  1425631854  hit men  In Bruges (2008)   \n",
       "3  120490    57669     4.5  1408228517  hit men  In Bruges (2008)   \n",
       "4   50616    57669     4.5  1446941640  hit men  In Bruges (2008)   \n",
       "5   99887    57669     0.5  1448839196  hit men  In Bruges (2008)   \n",
       "6  120194    57669     4.5  1479382352  hit men  In Bruges (2008)   \n",
       "7     847    57669     3.5  1232893563  hit men  In Bruges (2008)   \n",
       "8   47201    57669     4.5  1464351173  hit men  In Bruges (2008)   \n",
       "9   94499    57669     4.5  1316689295  hit men  In Bruges (2008)   \n",
       "\n",
       "                             genres year_made  \n",
       "0  [Comedy, Crime, Drama, Thriller]      2008  \n",
       "1  [Comedy, Crime, Drama, Thriller]      2008  \n",
       "2  [Comedy, Crime, Drama, Thriller]      2008  \n",
       "3  [Comedy, Crime, Drama, Thriller]      2008  \n",
       "4  [Comedy, Crime, Drama, Thriller]      2008  \n",
       "5  [Comedy, Crime, Drama, Thriller]      2008  \n",
       "6  [Comedy, Crime, Drama, Thriller]      2008  \n",
       "7  [Comedy, Crime, Drama, Thriller]      2008  \n",
       "8  [Comedy, Crime, Drama, Thriller]      2008  \n",
       "9  [Comedy, Crime, Drama, Thriller]      2008  "
      ]
     },
     "execution_count": 19,
     "metadata": {},
     "output_type": "execute_result"
    }
   ],
   "source": [
    "#combining dataframe in index 8 and index 4 from the df_list\n",
    "train_comb = train_tags.merge(df_movies, how=\"inner\", on=[\"movieId\"])\n",
    "display(train_comb.shape)\n",
    "train_comb.head(10)"
   ]
  },
  {
   "cell_type": "code",
   "execution_count": 20,
   "id": "a372e696",
   "metadata": {},
   "outputs": [
    {
     "data": {
      "text/plain": [
       "userId            0\n",
       "movieId           0\n",
       "rating            0\n",
       "timestamp         0\n",
       "tag          130490\n",
       "title             0\n",
       "genres            0\n",
       "year_made         0\n",
       "dtype: int64"
      ]
     },
     "execution_count": 20,
     "metadata": {},
     "output_type": "execute_result"
    }
   ],
   "source": [
    "# Checking for null value after merging\n",
    "train_comb.isnull().sum()"
   ]
  },
  {
   "cell_type": "markdown",
   "id": "ec158b27",
   "metadata": {},
   "source": [
    "The tag features have a few null value in comparism with the large dataset, we will go ahead to replace those null values with keyword `unknown`"
   ]
  },
  {
   "cell_type": "code",
   "execution_count": 21,
   "id": "59842c3e",
   "metadata": {},
   "outputs": [],
   "source": [
    "# making each genres into a list to be able to split\n",
    "train_comb['tag'] = train_comb['tag'].fillna('unknown')"
   ]
  },
  {
   "cell_type": "markdown",
   "id": "72b00f0c",
   "metadata": {},
   "source": [
    "#### Converting the timestampe into `datetime` datatype and aslo into new features"
   ]
  },
  {
   "cell_type": "code",
   "execution_count": 22,
   "id": "4c48b82d",
   "metadata": {},
   "outputs": [],
   "source": [
    "train_comb['Rating_Datetime'] = pd.to_datetime(train_comb['timestamp'], unit='s')\n",
    "train_comb.drop('timestamp', axis=1, inplace=True)"
   ]
  },
  {
   "cell_type": "code",
   "execution_count": 23,
   "id": "7d3ac6e4",
   "metadata": {},
   "outputs": [
    {
     "data": {
      "text/html": [
       "<div>\n",
       "<style scoped>\n",
       "    .dataframe tbody tr th:only-of-type {\n",
       "        vertical-align: middle;\n",
       "    }\n",
       "\n",
       "    .dataframe tbody tr th {\n",
       "        vertical-align: top;\n",
       "    }\n",
       "\n",
       "    .dataframe thead th {\n",
       "        text-align: right;\n",
       "    }\n",
       "</style>\n",
       "<table border=\"1\" class=\"dataframe\">\n",
       "  <thead>\n",
       "    <tr style=\"text-align: right;\">\n",
       "      <th></th>\n",
       "      <th>userId</th>\n",
       "      <th>movieId</th>\n",
       "      <th>rating</th>\n",
       "      <th>tag</th>\n",
       "      <th>title</th>\n",
       "      <th>genres</th>\n",
       "      <th>year_made</th>\n",
       "      <th>Rating_Datetime</th>\n",
       "    </tr>\n",
       "  </thead>\n",
       "  <tbody>\n",
       "    <tr>\n",
       "      <th>0</th>\n",
       "      <td>5163</td>\n",
       "      <td>57669</td>\n",
       "      <td>4.0</td>\n",
       "      <td>hit men</td>\n",
       "      <td>In Bruges (2008)</td>\n",
       "      <td>[Comedy, Crime, Drama, Thriller]</td>\n",
       "      <td>2008</td>\n",
       "      <td>2018-02-11 11:53:12</td>\n",
       "    </tr>\n",
       "    <tr>\n",
       "      <th>1</th>\n",
       "      <td>87388</td>\n",
       "      <td>57669</td>\n",
       "      <td>3.5</td>\n",
       "      <td>hit men</td>\n",
       "      <td>In Bruges (2008)</td>\n",
       "      <td>[Comedy, Crime, Drama, Thriller]</td>\n",
       "      <td>2008</td>\n",
       "      <td>2009-03-19 09:34:57</td>\n",
       "    </tr>\n",
       "    <tr>\n",
       "      <th>2</th>\n",
       "      <td>137050</td>\n",
       "      <td>57669</td>\n",
       "      <td>4.0</td>\n",
       "      <td>hit men</td>\n",
       "      <td>In Bruges (2008)</td>\n",
       "      <td>[Comedy, Crime, Drama, Thriller]</td>\n",
       "      <td>2008</td>\n",
       "      <td>2015-03-06 08:50:54</td>\n",
       "    </tr>\n",
       "    <tr>\n",
       "      <th>3</th>\n",
       "      <td>120490</td>\n",
       "      <td>57669</td>\n",
       "      <td>4.5</td>\n",
       "      <td>hit men</td>\n",
       "      <td>In Bruges (2008)</td>\n",
       "      <td>[Comedy, Crime, Drama, Thriller]</td>\n",
       "      <td>2008</td>\n",
       "      <td>2014-08-16 22:35:17</td>\n",
       "    </tr>\n",
       "    <tr>\n",
       "      <th>4</th>\n",
       "      <td>50616</td>\n",
       "      <td>57669</td>\n",
       "      <td>4.5</td>\n",
       "      <td>hit men</td>\n",
       "      <td>In Bruges (2008)</td>\n",
       "      <td>[Comedy, Crime, Drama, Thriller]</td>\n",
       "      <td>2008</td>\n",
       "      <td>2015-11-08 00:14:00</td>\n",
       "    </tr>\n",
       "  </tbody>\n",
       "</table>\n",
       "</div>"
      ],
      "text/plain": [
       "   userId  movieId  rating      tag             title  \\\n",
       "0    5163    57669     4.0  hit men  In Bruges (2008)   \n",
       "1   87388    57669     3.5  hit men  In Bruges (2008)   \n",
       "2  137050    57669     4.0  hit men  In Bruges (2008)   \n",
       "3  120490    57669     4.5  hit men  In Bruges (2008)   \n",
       "4   50616    57669     4.5  hit men  In Bruges (2008)   \n",
       "\n",
       "                             genres year_made     Rating_Datetime  \n",
       "0  [Comedy, Crime, Drama, Thriller]      2008 2018-02-11 11:53:12  \n",
       "1  [Comedy, Crime, Drama, Thriller]      2008 2009-03-19 09:34:57  \n",
       "2  [Comedy, Crime, Drama, Thriller]      2008 2015-03-06 08:50:54  \n",
       "3  [Comedy, Crime, Drama, Thriller]      2008 2014-08-16 22:35:17  \n",
       "4  [Comedy, Crime, Drama, Thriller]      2008 2015-11-08 00:14:00  "
      ]
     },
     "execution_count": 23,
     "metadata": {},
     "output_type": "execute_result"
    }
   ],
   "source": [
    "train_comb.head()"
   ]
  },
  {
   "cell_type": "code",
   "execution_count": 24,
   "id": "59bc383d",
   "metadata": {},
   "outputs": [
    {
     "name": "stdout",
     "output_type": "stream",
     "text": [
      "<class 'pandas.core.frame.DataFrame'>\n",
      "Int64Index: 10000038 entries, 0 to 10000037\n",
      "Data columns (total 8 columns):\n",
      " #   Column           Dtype         \n",
      "---  ------           -----         \n",
      " 0   userId           int64         \n",
      " 1   movieId          int64         \n",
      " 2   rating           float64       \n",
      " 3   tag              object        \n",
      " 4   title            object        \n",
      " 5   genres           object        \n",
      " 6   year_made        object        \n",
      " 7   Rating_Datetime  datetime64[ns]\n",
      "dtypes: datetime64[ns](1), float64(1), int64(2), object(4)\n",
      "memory usage: 686.6+ MB\n"
     ]
    }
   ],
   "source": [
    "train_comb.info()"
   ]
  },
  {
   "cell_type": "code",
   "execution_count": 25,
   "id": "5d8b80cb",
   "metadata": {},
   "outputs": [],
   "source": [
    "# Converting 'year_made' into numeric datatype\n",
    "train_comb[\"year_made\"] = train_comb[\"year_made\"].astype('int64')"
   ]
  },
  {
   "cell_type": "code",
   "execution_count": 26,
   "id": "8656a12e",
   "metadata": {},
   "outputs": [
    {
     "data": {
      "text/plain": [
       "userId    162541\n",
       "dtype: int64"
      ]
     },
     "execution_count": 26,
     "metadata": {},
     "output_type": "execute_result"
    }
   ],
   "source": [
    "# Let's have a look at the unique number of users\n",
    "train_comb[[\"userId\"]].nunique() "
   ]
  },
  {
   "cell_type": "code",
   "execution_count": 27,
   "id": "83dc3253",
   "metadata": {},
   "outputs": [
    {
     "data": {
      "image/png": "[encoded data removed]",
      "text/plain": [
       "<Figure size 720x432 with 1 Axes>"
      ]
     },
     "metadata": {},
     "output_type": "display_data"
    }
   ],
   "source": [
    "# distribution of mean rating\n",
    "rating_grp = train_comb.groupby(\"movieId\")[[\"rating\"]].mean()\n",
    "rating_grp.hist(figsize=(10, 6));"
   ]
  },
  {
   "cell_type": "markdown",
   "id": "85965844",
   "metadata": {},
   "source": [
    "Bulk of the rating are between the value of `3-4` which bascially informed us while the dristibution is `left skewed`"
   ]
  },
  {
   "cell_type": "code",
   "execution_count": 28,
   "id": "1fe0e049",
   "metadata": {},
   "outputs": [],
   "source": [
    "# Group all 2 star and lower ratings together\n",
    "ratings = train_comb.copy()\n",
    "ratings[ratings.rating == 0.5] = 2\n",
    "ratings[ratings.rating == 1] = 2\n",
    "ratings[ratings.rating == 1.5] = 2"
   ]
  },
  {
   "cell_type": "code",
   "execution_count": 29,
   "id": "cf6ee96d",
   "metadata": {},
   "outputs": [],
   "source": [
    "def viza(title: str):\n",
    "    # Extract selected movie ratings\n",
    "    top = ratings[ratings['title'] == title]\n",
    "\n",
    "    # Count how many ratings are in each category: 1 star, 2 star, ect\n",
    "    grouped = pd.DataFrame(top.groupby(['rating'])['title'].count())\n",
    "    grouped.rename(columns={'title': 'rating_count'}, inplace=True)\n",
    "\n",
    "    # Create the figure\n",
    "    fig = plt.figure(figsize=(15, 10))\n",
    "    ax = fig.add_subplot(122)\n",
    "\n",
    "    # Create the colour palette\n",
    "    temp = grouped['rating_count']\n",
    "    temp_mod = [f'{round((x / sum(temp)) * 100)}%' for x in temp]\n",
    "    labels = [f'{x} Stars - {y}' for x, y in zip(grouped.index, temp_mod)]\n",
    "    theme = plt.get_cmap('Reds')\n",
    "    ax.set_prop_cycle(\"color\", [theme(1. * i / len(labels))\n",
    "                                for i in range(len(labels))])\n",
    "\n",
    "    # Create the pie chart\n",
    "    pie = ax.pie(grouped['rating_count'],\n",
    "                 labels=labels,\n",
    "                 shadow=True,\n",
    "                 startangle=10,\n",
    "                 pctdistance=1.115,\n",
    "                 explode=(random.choice([0.1], size=(len(grouped['rating_count']))))\n",
    "                 )\n",
    "\n",
    "    # Turn the pie chart into a donut chart\n",
    "    centre_circle = plt.Circle((0, 0), 0.70, fc='white')\n",
    "    fig = plt.gcf()\n",
    "    fig.gca().add_artist(centre_circle)\n",
    "\n",
    "    # Display the donut chart with a legend\n",
    "    ax.set_title(f'Rating distribution for the {title}\\n', fontsize=15)\n",
    "    plt.tight_layout()\n",
    "    plt.show()"
   ]
  },
  {
   "cell_type": "code",
   "execution_count": 30,
   "id": "71e326ac",
   "metadata": {},
   "outputs": [
    {
     "data": {
      "application/vnd.jupyter.widget-view+json": {
       "model_id": "8208d374b08447c3820ce618352312ba",
       "version_major": 2,
       "version_minor": 0
      },
      "text/plain": [
       "interactive(children=(Dropdown(description='genres', options=('Adventure', 'Animation', 'Children', 'Comedy', …"
      ]
     },
     "metadata": {},
     "output_type": "display_data"
    }
   ],
   "source": [
    "# Interactive visual how movie fair via user ratings\n",
    "def iplotting_rating():\n",
    "    genres_df = df_mov_gen.groupby('genre')[['title']]\n",
    "    genres = df_mov_gen.genre.unique()\n",
    "#     titles=genres_df.get_group(gen)\n",
    "    @interact\n",
    "    def selecting(genres=genres):\n",
    "        titles = genres_df.get_group(genres)['title'].to_list()\n",
    "        @interact_manual\n",
    "        def selecting1(titles=titles):\n",
    "            viza(titles)\n",
    "iplotting_rating()\n"
   ]
  },
  {
   "cell_type": "markdown",
   "id": "01a47ec9",
   "metadata": {},
   "source": [
    "#### Exploring `imdb_data` DataFrame"
   ]
  },
  {
   "cell_type": "code",
   "execution_count": 31,
   "id": "cc336650",
   "metadata": {
    "scrolled": false
   },
   "outputs": [
    {
     "data": {
      "text/plain": [
       "(9633031, 13)"
      ]
     },
     "metadata": {},
     "output_type": "display_data"
    },
    {
     "data": {
      "text/html": [
       "<div>\n",
       "<style scoped>\n",
       "    .dataframe tbody tr th:only-of-type {\n",
       "        vertical-align: middle;\n",
       "    }\n",
       "\n",
       "    .dataframe tbody tr th {\n",
       "        vertical-align: top;\n",
       "    }\n",
       "\n",
       "    .dataframe thead th {\n",
       "        text-align: right;\n",
       "    }\n",
       "</style>\n",
       "<table border=\"1\" class=\"dataframe\">\n",
       "  <thead>\n",
       "    <tr style=\"text-align: right;\">\n",
       "      <th></th>\n",
       "      <th>movieId</th>\n",
       "      <th>title_cast</th>\n",
       "      <th>director</th>\n",
       "      <th>runtime</th>\n",
       "      <th>budget</th>\n",
       "      <th>plot_keywords</th>\n",
       "      <th>userId</th>\n",
       "      <th>rating</th>\n",
       "      <th>tag</th>\n",
       "      <th>title</th>\n",
       "      <th>genres</th>\n",
       "      <th>year_made</th>\n",
       "      <th>Rating_Datetime</th>\n",
       "    </tr>\n",
       "  </thead>\n",
       "  <tbody>\n",
       "    <tr>\n",
       "      <th>0</th>\n",
       "      <td>1</td>\n",
       "      <td>Tom Hanks|Tim Allen|Don Rickles|Jim Varney|Wal...</td>\n",
       "      <td>John Lasseter</td>\n",
       "      <td>81.0</td>\n",
       "      <td>$30,000,000</td>\n",
       "      <td>toy|rivalry|cowboy|cgi animation</td>\n",
       "      <td>158849</td>\n",
       "      <td>5.0</td>\n",
       "      <td>toys</td>\n",
       "      <td>Toy Story (1995)</td>\n",
       "      <td>[Adventure, Animation, Children, Comedy, Fantasy]</td>\n",
       "      <td>1995</td>\n",
       "      <td>2001-07-09 22:13:06</td>\n",
       "    </tr>\n",
       "    <tr>\n",
       "      <th>1</th>\n",
       "      <td>1</td>\n",
       "      <td>Tom Hanks|Tim Allen|Don Rickles|Jim Varney|Wal...</td>\n",
       "      <td>John Lasseter</td>\n",
       "      <td>81.0</td>\n",
       "      <td>$30,000,000</td>\n",
       "      <td>toy|rivalry|cowboy|cgi animation</td>\n",
       "      <td>97203</td>\n",
       "      <td>5.0</td>\n",
       "      <td>toys</td>\n",
       "      <td>Toy Story (1995)</td>\n",
       "      <td>[Adventure, Animation, Children, Comedy, Fantasy]</td>\n",
       "      <td>1995</td>\n",
       "      <td>1999-11-15 16:25:55</td>\n",
       "    </tr>\n",
       "    <tr>\n",
       "      <th>2</th>\n",
       "      <td>1</td>\n",
       "      <td>Tom Hanks|Tim Allen|Don Rickles|Jim Varney|Wal...</td>\n",
       "      <td>John Lasseter</td>\n",
       "      <td>81.0</td>\n",
       "      <td>$30,000,000</td>\n",
       "      <td>toy|rivalry|cowboy|cgi animation</td>\n",
       "      <td>161871</td>\n",
       "      <td>3.0</td>\n",
       "      <td>toys</td>\n",
       "      <td>Toy Story (1995)</td>\n",
       "      <td>[Adventure, Animation, Children, Comedy, Fantasy]</td>\n",
       "      <td>1995</td>\n",
       "      <td>1996-05-26 09:56:16</td>\n",
       "    </tr>\n",
       "    <tr>\n",
       "      <th>3</th>\n",
       "      <td>1</td>\n",
       "      <td>Tom Hanks|Tim Allen|Don Rickles|Jim Varney|Wal...</td>\n",
       "      <td>John Lasseter</td>\n",
       "      <td>81.0</td>\n",
       "      <td>$30,000,000</td>\n",
       "      <td>toy|rivalry|cowboy|cgi animation</td>\n",
       "      <td>45117</td>\n",
       "      <td>4.0</td>\n",
       "      <td>toys</td>\n",
       "      <td>Toy Story (1995)</td>\n",
       "      <td>[Adventure, Animation, Children, Comedy, Fantasy]</td>\n",
       "      <td>1995</td>\n",
       "      <td>2015-09-14 18:56:09</td>\n",
       "    </tr>\n",
       "    <tr>\n",
       "      <th>4</th>\n",
       "      <td>1</td>\n",
       "      <td>Tom Hanks|Tim Allen|Don Rickles|Jim Varney|Wal...</td>\n",
       "      <td>John Lasseter</td>\n",
       "      <td>81.0</td>\n",
       "      <td>$30,000,000</td>\n",
       "      <td>toy|rivalry|cowboy|cgi animation</td>\n",
       "      <td>27431</td>\n",
       "      <td>5.0</td>\n",
       "      <td>toys</td>\n",
       "      <td>Toy Story (1995)</td>\n",
       "      <td>[Adventure, Animation, Children, Comedy, Fantasy]</td>\n",
       "      <td>1995</td>\n",
       "      <td>1996-12-04 02:50:27</td>\n",
       "    </tr>\n",
       "  </tbody>\n",
       "</table>\n",
       "</div>"
      ],
      "text/plain": [
       "   movieId                                         title_cast       director  \\\n",
       "0        1  Tom Hanks|Tim Allen|Don Rickles|Jim Varney|Wal...  John Lasseter   \n",
       "1        1  Tom Hanks|Tim Allen|Don Rickles|Jim Varney|Wal...  John Lasseter   \n",
       "2        1  Tom Hanks|Tim Allen|Don Rickles|Jim Varney|Wal...  John Lasseter   \n",
       "3        1  Tom Hanks|Tim Allen|Don Rickles|Jim Varney|Wal...  John Lasseter   \n",
       "4        1  Tom Hanks|Tim Allen|Don Rickles|Jim Varney|Wal...  John Lasseter   \n",
       "\n",
       "   runtime       budget                     plot_keywords  userId  rating  \\\n",
       "0     81.0  $30,000,000  toy|rivalry|cowboy|cgi animation  158849     5.0   \n",
       "1     81.0  $30,000,000  toy|rivalry|cowboy|cgi animation   97203     5.0   \n",
       "2     81.0  $30,000,000  toy|rivalry|cowboy|cgi animation  161871     3.0   \n",
       "3     81.0  $30,000,000  toy|rivalry|cowboy|cgi animation   45117     4.0   \n",
       "4     81.0  $30,000,000  toy|rivalry|cowboy|cgi animation   27431     5.0   \n",
       "\n",
       "    tag             title                                             genres  \\\n",
       "0  toys  Toy Story (1995)  [Adventure, Animation, Children, Comedy, Fantasy]   \n",
       "1  toys  Toy Story (1995)  [Adventure, Animation, Children, Comedy, Fantasy]   \n",
       "2  toys  Toy Story (1995)  [Adventure, Animation, Children, Comedy, Fantasy]   \n",
       "3  toys  Toy Story (1995)  [Adventure, Animation, Children, Comedy, Fantasy]   \n",
       "4  toys  Toy Story (1995)  [Adventure, Animation, Children, Comedy, Fantasy]   \n",
       "\n",
       "   year_made     Rating_Datetime  \n",
       "0       1995 2001-07-09 22:13:06  \n",
       "1       1995 1999-11-15 16:25:55  \n",
       "2       1995 1996-05-26 09:56:16  \n",
       "3       1995 2015-09-14 18:56:09  \n",
       "4       1995 1996-12-04 02:50:27  "
      ]
     },
     "execution_count": 31,
     "metadata": {},
     "output_type": "execute_result"
    }
   ],
   "source": [
    "# combining dataframe in index 2 from the df_list and current train merged 'train_comb' to give\n",
    "# an enrich dataset for exploration of 'imdb data'\n",
    "df_imdb = df_list[2].merge(train_comb, how=\"inner\", on=[\"movieId\"])\n",
    "display(df_imdb.shape)\n",
    "df_imdb.head()"
   ]
  },
  {
   "cell_type": "code",
   "execution_count": 32,
   "id": "a84c17aa",
   "metadata": {},
   "outputs": [
    {
     "data": {
      "text/plain": [
       "movieId                  0\n",
       "title_cast         2604407\n",
       "director           2602688\n",
       "runtime            2653058\n",
       "budget             3152276\n",
       "plot_keywords      2610043\n",
       "userId                   0\n",
       "rating                   0\n",
       "tag                      0\n",
       "title                    0\n",
       "genres                   0\n",
       "year_made                0\n",
       "Rating_Datetime          0\n",
       "dtype: int64"
      ]
     },
     "execution_count": 32,
     "metadata": {},
     "output_type": "execute_result"
    }
   ],
   "source": [
    "# Checking for null values\n",
    "df_imdb.isnull().sum()"
   ]
  },
  {
   "cell_type": "code",
   "execution_count": 33,
   "id": "ac6cc982",
   "metadata": {},
   "outputs": [
    {
     "data": {
      "text/plain": [
       "movieId            0\n",
       "title_cast         0\n",
       "director           0\n",
       "runtime            0\n",
       "budget             0\n",
       "plot_keywords      0\n",
       "userId             0\n",
       "rating             0\n",
       "tag                0\n",
       "title              0\n",
       "genres             0\n",
       "year_made          0\n",
       "Rating_Datetime    0\n",
       "dtype: int64"
      ]
     },
     "execution_count": 33,
     "metadata": {},
     "output_type": "execute_result"
    }
   ],
   "source": [
    "# Dropping null values to have a better unbiased analysis of the dataset\n",
    "df_imdb = df_imdb.dropna(subset=['budget', 'runtime', 'plot_keywords', 'title_cast'])\n",
    "\n",
    "# Checking for null values again\n",
    "df_imdb.isnull().sum()"
   ]
  },
  {
   "cell_type": "code",
   "execution_count": 34,
   "id": "7ca0a65f",
   "metadata": {},
   "outputs": [
    {
     "name": "stdout",
     "output_type": "stream",
     "text": [
      "We have 162182 numbers of users in the new and modified \"imdb\" dataset and      \n",
      "We also have 6418 number of movies to explore YAY!!!\n",
      "The dataset has 6454993 rows/entries and 13 features/columns\n"
     ]
    }
   ],
   "source": [
    "print(f'We have {df_imdb.userId.nunique()} numbers of users in the new and modified \"imdb\" dataset and\\\n",
    "      \\nWe also have {df_imdb.movieId.nunique()} number of movies to explore YAY!!!')\n",
    "\n",
    "print(f'The dataset has {df_imdb.shape[0]} rows/entries and {df_imdb.shape[1]} features/columns') "
   ]
  },
  {
   "cell_type": "markdown",
   "id": "1bc1167d",
   "metadata": {},
   "source": [
    "#### Engineer new features for the `IMDB` dataset"
   ]
  },
  {
   "cell_type": "code",
   "execution_count": 35,
   "id": "d1fb698c",
   "metadata": {},
   "outputs": [],
   "source": [
    "df_imdb['rated_year'] = pd.DatetimeIndex(df_imdb['Rating_Datetime']).year\n",
    "df_imdb['rated_month'] = pd.DatetimeIndex(df_imdb['Rating_Datetime']).month\n",
    "df_imdb['rated_day'] = pd.DatetimeIndex(df_imdb['Rating_Datetime']).day\n",
    "df_imdb.drop('Rating_Datetime', axis=1, inplace=True)"
   ]
  },
  {
   "cell_type": "code",
   "execution_count": 36,
   "id": "9ffdc338",
   "metadata": {},
   "outputs": [
    {
     "data": {
      "text/html": [
       "<div>\n",
       "<style scoped>\n",
       "    .dataframe tbody tr th:only-of-type {\n",
       "        vertical-align: middle;\n",
       "    }\n",
       "\n",
       "    .dataframe tbody tr th {\n",
       "        vertical-align: top;\n",
       "    }\n",
       "\n",
       "    .dataframe thead th {\n",
       "        text-align: right;\n",
       "    }\n",
       "</style>\n",
       "<table border=\"1\" class=\"dataframe\">\n",
       "  <thead>\n",
       "    <tr style=\"text-align: right;\">\n",
       "      <th></th>\n",
       "      <th>movieId</th>\n",
       "      <th>title_cast</th>\n",
       "      <th>director</th>\n",
       "      <th>runtime</th>\n",
       "      <th>budget</th>\n",
       "      <th>plot_keywords</th>\n",
       "      <th>userId</th>\n",
       "      <th>rating</th>\n",
       "      <th>tag</th>\n",
       "      <th>title</th>\n",
       "      <th>genres</th>\n",
       "      <th>year_made</th>\n",
       "      <th>rated_year</th>\n",
       "      <th>rated_month</th>\n",
       "      <th>rated_day</th>\n",
       "    </tr>\n",
       "  </thead>\n",
       "  <tbody>\n",
       "    <tr>\n",
       "      <th>645890</th>\n",
       "      <td>247</td>\n",
       "      <td>Melanie Lynskey|Kate Winslet|Sarah Peirse|Dian...</td>\n",
       "      <td>Fran Walsh</td>\n",
       "      <td>99.0</td>\n",
       "      <td>$5,000,000</td>\n",
       "      <td>fantasy life|orgy|sex with a minor|teenage crush</td>\n",
       "      <td>66926</td>\n",
       "      <td>4.0</td>\n",
       "      <td>obsession</td>\n",
       "      <td>Heavenly Creatures (1994)</td>\n",
       "      <td>[Crime, Drama]</td>\n",
       "      <td>1994</td>\n",
       "      <td>2004</td>\n",
       "      <td>8</td>\n",
       "      <td>4</td>\n",
       "    </tr>\n",
       "    <tr>\n",
       "      <th>5782794</th>\n",
       "      <td>3897</td>\n",
       "      <td>Billy Crudup|Frances McDormand|Kate Hudson|Jas...</td>\n",
       "      <td>Cameron Crowe</td>\n",
       "      <td>122.0</td>\n",
       "      <td>$60,000,000</td>\n",
       "      <td>on the road|rock 'n' roll|1970s|tour bus</td>\n",
       "      <td>24143</td>\n",
       "      <td>3.0</td>\n",
       "      <td>rock and roll</td>\n",
       "      <td>Almost Famous (2000)</td>\n",
       "      <td>[Drama]</td>\n",
       "      <td>2000</td>\n",
       "      <td>2005</td>\n",
       "      <td>3</td>\n",
       "      <td>28</td>\n",
       "    </tr>\n",
       "    <tr>\n",
       "      <th>522096</th>\n",
       "      <td>185</td>\n",
       "      <td>Sandra Bullock|Jeremy Northam|Dennis Miller|Di...</td>\n",
       "      <td>John Brancato</td>\n",
       "      <td>114.0</td>\n",
       "      <td>$22,000,000</td>\n",
       "      <td>computer|identity|identity theft|computer hacker</td>\n",
       "      <td>67635</td>\n",
       "      <td>3.0</td>\n",
       "      <td>internet</td>\n",
       "      <td>Net, The (1995)</td>\n",
       "      <td>[Action, Crime, Thriller]</td>\n",
       "      <td>1995</td>\n",
       "      <td>1996</td>\n",
       "      <td>6</td>\n",
       "      <td>7</td>\n",
       "    </tr>\n",
       "    <tr>\n",
       "      <th>8734068</th>\n",
       "      <td>69757</td>\n",
       "      <td>Joseph Gordon-Levitt|Zooey Deschanel|Geoffrey ...</td>\n",
       "      <td>Scott Neustadter</td>\n",
       "      <td>95.0</td>\n",
       "      <td>$7,500,000</td>\n",
       "      <td>true love|bangs|hiked skirt|premarital sex</td>\n",
       "      <td>157425</td>\n",
       "      <td>5.0</td>\n",
       "      <td>relationships</td>\n",
       "      <td>(500) Days of Summer (2009)</td>\n",
       "      <td>[Comedy, Drama, Romance]</td>\n",
       "      <td>2009</td>\n",
       "      <td>2010</td>\n",
       "      <td>3</td>\n",
       "      <td>23</td>\n",
       "    </tr>\n",
       "    <tr>\n",
       "      <th>8386997</th>\n",
       "      <td>55830</td>\n",
       "      <td>Jack Black|Yasiin Bey|Danny Glover|Mia Farrow|...</td>\n",
       "      <td>Michel Gondry</td>\n",
       "      <td>102.0</td>\n",
       "      <td>$20,000,000</td>\n",
       "      <td>video store|movie premiere|videotape|scene dur...</td>\n",
       "      <td>136860</td>\n",
       "      <td>3.0</td>\n",
       "      <td>original</td>\n",
       "      <td>Be Kind Rewind (2008)</td>\n",
       "      <td>[Comedy]</td>\n",
       "      <td>2008</td>\n",
       "      <td>2011</td>\n",
       "      <td>10</td>\n",
       "      <td>19</td>\n",
       "    </tr>\n",
       "  </tbody>\n",
       "</table>\n",
       "</div>"
      ],
      "text/plain": [
       "         movieId                                         title_cast  \\\n",
       "645890       247  Melanie Lynskey|Kate Winslet|Sarah Peirse|Dian...   \n",
       "5782794     3897  Billy Crudup|Frances McDormand|Kate Hudson|Jas...   \n",
       "522096       185  Sandra Bullock|Jeremy Northam|Dennis Miller|Di...   \n",
       "8734068    69757  Joseph Gordon-Levitt|Zooey Deschanel|Geoffrey ...   \n",
       "8386997    55830  Jack Black|Yasiin Bey|Danny Glover|Mia Farrow|...   \n",
       "\n",
       "                 director  runtime       budget  \\\n",
       "645890         Fran Walsh     99.0   $5,000,000   \n",
       "5782794     Cameron Crowe    122.0  $60,000,000   \n",
       "522096      John Brancato    114.0  $22,000,000   \n",
       "8734068  Scott Neustadter     95.0   $7,500,000   \n",
       "8386997     Michel Gondry    102.0  $20,000,000   \n",
       "\n",
       "                                             plot_keywords  userId  rating  \\\n",
       "645890    fantasy life|orgy|sex with a minor|teenage crush   66926     4.0   \n",
       "5782794           on the road|rock 'n' roll|1970s|tour bus   24143     3.0   \n",
       "522096    computer|identity|identity theft|computer hacker   67635     3.0   \n",
       "8734068         true love|bangs|hiked skirt|premarital sex  157425     5.0   \n",
       "8386997  video store|movie premiere|videotape|scene dur...  136860     3.0   \n",
       "\n",
       "                   tag                        title  \\\n",
       "645890       obsession    Heavenly Creatures (1994)   \n",
       "5782794  rock and roll         Almost Famous (2000)   \n",
       "522096        internet              Net, The (1995)   \n",
       "8734068  relationships  (500) Days of Summer (2009)   \n",
       "8386997       original        Be Kind Rewind (2008)   \n",
       "\n",
       "                            genres  year_made  rated_year  rated_month  \\\n",
       "645890              [Crime, Drama]       1994        2004            8   \n",
       "5782794                    [Drama]       2000        2005            3   \n",
       "522096   [Action, Crime, Thriller]       1995        1996            6   \n",
       "8734068   [Comedy, Drama, Romance]       2009        2010            3   \n",
       "8386997                   [Comedy]       2008        2011           10   \n",
       "\n",
       "         rated_day  \n",
       "645890           4  \n",
       "5782794         28  \n",
       "522096           7  \n",
       "8734068         23  \n",
       "8386997         19  "
      ]
     },
     "execution_count": 36,
     "metadata": {},
     "output_type": "execute_result"
    }
   ],
   "source": [
    "df_imdb.sample(5)"
   ]
  },
  {
   "cell_type": "markdown",
   "id": "c3657d6b",
   "metadata": {},
   "source": [
    "#### Important  words for `Plot` and `Cast`"
   ]
  },
  {
   "cell_type": "code",
   "execution_count": 37,
   "id": "d9b1bbb9",
   "metadata": {},
   "outputs": [],
   "source": [
    "def imdb_extract(coln: str, splitter='|', df=df_imdb):\n",
    "    \"\"\"This use to compile all the keyword and there frequency \n",
    "    in the imdb dataset found in a particular column\"\"\"\n",
    "    keywords_dict = {}\n",
    "    movieId = df.movieId.unique()\n",
    "    df_grp = df_imdb.groupby('movieId')\n",
    "    for pp in movieId:\n",
    "        row = df_grp.get_group(pp)[coln].values[0]\n",
    "        keywords_dict = bag_of_words_count(words=row, splitter=splitter, word_dict=keywords_dict)\n",
    "        \n",
    "#     Sorting the dictionary\n",
    "    sorted_dt = {key: value for key, value in sorted(keywords_dict.items(), key=lambda item: item[1], reverse=True)}\n",
    "    return sorted_dt"
   ]
  },
  {
   "cell_type": "code",
   "execution_count": 38,
   "id": "39732def",
   "metadata": {},
   "outputs": [],
   "source": [
    "# making a dictionary for the keyword and there frequency\n",
    "keyword_dict = imdb_extract(coln='plot_keywords')\n",
    "\n",
    "# making a dictionary for the cast (actors and actress) and there frequency\n",
    "casts_dict = imdb_extract(coln='title_cast')"
   ]
  },
  {
   "cell_type": "code",
   "execution_count": 39,
   "id": "541eded0",
   "metadata": {},
   "outputs": [
    {
     "data": {
      "application/vnd.jupyter.widget-view+json": {
       "model_id": "b7d23022686a476694d02e242af9e97d",
       "version_major": 2,
       "version_minor": 0
      },
      "text/plain": [
       "interactive(children=(Dropdown(description='WordType', options=('Plot Keywords', 'Title Cast'), value='Plot Ke…"
      ]
     },
     "metadata": {},
     "output_type": "display_data"
    }
   ],
   "source": [
    "def iplotting():   \n",
    "    slider = widgets.IntSlider(value=25, min=10, max=50, step=1)\n",
    "    @interact_manual\n",
    "    def selecting(WordType=['Plot Keywords', 'Title Cast'], Frequency=slider, ):\n",
    "        if WordType == 'Title Cast':\n",
    "            num_dict_items = dict(itertools.islice(casts_dict.items(), Frequency))\n",
    "        else:\n",
    "            num_dict_items = dict(itertools.islice(keyword_dict.items(), Frequency))\n",
    "        word_cloud_genre=WordCloud(width=1500, height=800, background_color='white',\n",
    "                                   relative_scaling=0.2, min_font_size=2,).generate_from_frequencies(num_dict_items)\n",
    "        plt.figure(figsize=(20,10))\n",
    "        plt.axis('off')\n",
    "        plt.title(f'{WordType} for Movies',fontsize=30)\n",
    "        plt.imshow(word_cloud_genre);\n",
    "iplotting()"
   ]
  },
  {
   "cell_type": "markdown",
   "id": "a820ecbb",
   "metadata": {},
   "source": [
    "#### Movie Runtime Distribution"
   ]
  },
  {
   "cell_type": "code",
   "execution_count": 40,
   "id": "ae9737d7",
   "metadata": {},
   "outputs": [
    {
     "data": {
      "image/png": "[encoded data removed]",
      "text/plain": [
       "<Figure size 1080x504 with 1 Axes>"
      ]
     },
     "metadata": {},
     "output_type": "display_data"
    }
   ],
   "source": [
    "runtime_df = df_imdb.groupby('movieId')[['runtime']].mean()\n",
    "plt.figure(figsize=(15, 7))\n",
    "sns.histplot(runtime_df, bins=20)\n",
    "plt.xticks([30, 70, 110, 160, 200, 400, 600, 800])\n",
    "plt.show()"
   ]
  },
  {
   "cell_type": "markdown",
   "id": "124abd87",
   "metadata": {},
   "source": [
    "The `runtime` shows that bulk of movies are between `70-110 minutes` durations<br>\n",
    "while from `300 minutes` movies and `upwards` are rare and can be considered outliers"
   ]
  },
  {
   "cell_type": "markdown",
   "id": "e4e972c2",
   "metadata": {},
   "source": [
    "#### Budget VS Rating\n",
    "Visual for budget and how it affect rating by `users`"
   ]
  },
  {
   "cell_type": "code",
   "execution_count": 41,
   "id": "ac082d13",
   "metadata": {},
   "outputs": [],
   "source": [
    "# Converting budget into numeric datatype\n",
    "df_imdb['budget_currency'] = df_imdb.budget.apply(lambda x: re.match('[^0-9]+', x).group(0))\n",
    "df_imdb['budgets'] = df_imdb.budget.apply(lambda x: x.replace(re.match('[^0-9]+', x).group(0), ''))\n",
    "df_imdb['budgets'] = df_imdb.budgets.apply(lambda x: x.replace(',', '')).astype('float64')\n"
   ]
  },
  {
   "cell_type": "code",
   "execution_count": 42,
   "id": "a63592ac",
   "metadata": {},
   "outputs": [
    {
     "data": {
      "text/plain": [
       "array(['$', 'GBP', 'EUR', 'CAD', 'FRF', 'DEM', 'AUD', 'JPY', 'HKD', 'CHF',\n",
       "       'ESP', 'INR', 'BEF', 'SEK', 'ATS', 'NOK', 'FIM', 'SGD', 'DKK',\n",
       "       'THB', 'BRL', 'NLG', 'BND', 'CNY', 'NZD', 'HUF', 'KRW', 'CZK',\n",
       "       'PLN', 'ISK', 'BGL', 'IDR', 'MYR', 'CLP', 'MXN', 'ARS', 'ILS',\n",
       "       'PTE', 'VEB', 'TWD', 'NGN', 'ITL', 'LVL', 'RUR', 'PHP'],\n",
       "      dtype=object)"
      ]
     },
     "execution_count": 42,
     "metadata": {},
     "output_type": "execute_result"
    }
   ],
   "source": [
    "# Lisiting all currency in our dataset\n",
    "currency = df_imdb.budget_currency.unique()\n",
    "currency"
   ]
  },
  {
   "cell_type": "code",
   "execution_count": 43,
   "id": "79c54fca",
   "metadata": {},
   "outputs": [],
   "source": [
    "# Importing current exchange rate from `exchangerate-api.com`\n",
    "url = 'https://open.er-api.com/v6/latest/USD'\n",
    "data = requests.get(url).json()\n",
    "currencies = data['rates']"
   ]
  },
  {
   "cell_type": "code",
   "execution_count": 44,
   "id": "bf678b8a",
   "metadata": {},
   "outputs": [
    {
     "name": "stdout",
     "output_type": "stream",
     "text": [
      "$,FRF,DEM,ESP,BEF,ATS,FIM,NLG,BGL,PTE,VEB,ITL,LVL,RUR,"
     ]
    }
   ],
   "source": [
    "# currency not in the json file\n",
    "for x in currency:\n",
    "    if x not in currencies:\n",
    "        print(x, end=\",\")"
   ]
  },
  {
   "cell_type": "code",
   "execution_count": 45,
   "id": "4a4ed94b",
   "metadata": {},
   "outputs": [],
   "source": [
    "# inputing manually for currency not so popular and not in the json file\n",
    "other_curr = {'$':1, 'FRF':0.155, 'DEM':0.52, 'ESP':1.02, 'BEF':0.025, 'ATS':0.074, \n",
    "              'FIM':0.17, 'NLG':0.46, 'BGL':0.52, 'PTE':0.00508, 'VEB':0.0000000018,\n",
    "              'ITL':0.000526, 'LVL':1.449,'RUR':0.016,}"
   ]
  },
  {
   "cell_type": "code",
   "execution_count": 46,
   "id": "fe7644b9",
   "metadata": {},
   "outputs": [],
   "source": [
    "# appending exchange rate against dollar to a dictionary\n",
    "currency_exchange = {}\n",
    "for x in currency:\n",
    "    currency_exchange[x] = (currencies | other_curr)[x]\n",
    "# currency_exchange"
   ]
  },
  {
   "cell_type": "code",
   "execution_count": 47,
   "id": "cbf8b1ce",
   "metadata": {},
   "outputs": [
    {
     "data": {
      "text/html": [
       "<div>\n",
       "<style scoped>\n",
       "    .dataframe tbody tr th:only-of-type {\n",
       "        vertical-align: middle;\n",
       "    }\n",
       "\n",
       "    .dataframe tbody tr th {\n",
       "        vertical-align: top;\n",
       "    }\n",
       "\n",
       "    .dataframe thead th {\n",
       "        text-align: right;\n",
       "    }\n",
       "</style>\n",
       "<table border=\"1\" class=\"dataframe\">\n",
       "  <thead>\n",
       "    <tr style=\"text-align: right;\">\n",
       "      <th></th>\n",
       "      <th>rating</th>\n",
       "      <th>budget_currency</th>\n",
       "      <th>budgets</th>\n",
       "      <th>conv_budget</th>\n",
       "    </tr>\n",
       "    <tr>\n",
       "      <th>movieId</th>\n",
       "      <th></th>\n",
       "      <th></th>\n",
       "      <th></th>\n",
       "      <th></th>\n",
       "    </tr>\n",
       "  </thead>\n",
       "  <tbody>\n",
       "    <tr>\n",
       "      <th>1379</th>\n",
       "      <td>3.002683</td>\n",
       "      <td>$</td>\n",
       "      <td>20000000.0</td>\n",
       "      <td>20000000</td>\n",
       "    </tr>\n",
       "    <tr>\n",
       "      <th>7951</th>\n",
       "      <td>3.343284</td>\n",
       "      <td>$</td>\n",
       "      <td>11000000.0</td>\n",
       "      <td>11000000</td>\n",
       "    </tr>\n",
       "    <tr>\n",
       "      <th>94746</th>\n",
       "      <td>3.073529</td>\n",
       "      <td>EUR</td>\n",
       "      <td>24000000.0</td>\n",
       "      <td>24415056</td>\n",
       "    </tr>\n",
       "    <tr>\n",
       "      <th>5265</th>\n",
       "      <td>3.172862</td>\n",
       "      <td>$</td>\n",
       "      <td>50000000.0</td>\n",
       "      <td>50000000</td>\n",
       "    </tr>\n",
       "    <tr>\n",
       "      <th>632</th>\n",
       "      <td>3.947853</td>\n",
       "      <td>GBP</td>\n",
       "      <td>2500000.0</td>\n",
       "      <td>3001200</td>\n",
       "    </tr>\n",
       "    <tr>\n",
       "      <th>95307</th>\n",
       "      <td>2.978417</td>\n",
       "      <td>$</td>\n",
       "      <td>75000000.0</td>\n",
       "      <td>75000000</td>\n",
       "    </tr>\n",
       "    <tr>\n",
       "      <th>80398</th>\n",
       "      <td>3.268293</td>\n",
       "      <td>EUR</td>\n",
       "      <td>18000000.0</td>\n",
       "      <td>18311292</td>\n",
       "    </tr>\n",
       "    <tr>\n",
       "      <th>94469</th>\n",
       "      <td>3.724490</td>\n",
       "      <td>AUD</td>\n",
       "      <td>8500000.0</td>\n",
       "      <td>5821918</td>\n",
       "    </tr>\n",
       "    <tr>\n",
       "      <th>75808</th>\n",
       "      <td>3.166667</td>\n",
       "      <td>$</td>\n",
       "      <td>5000000.0</td>\n",
       "      <td>5000000</td>\n",
       "    </tr>\n",
       "    <tr>\n",
       "      <th>119220</th>\n",
       "      <td>2.500000</td>\n",
       "      <td>EUR</td>\n",
       "      <td>172000.0</td>\n",
       "      <td>174975</td>\n",
       "    </tr>\n",
       "  </tbody>\n",
       "</table>\n",
       "</div>"
      ],
      "text/plain": [
       "           rating budget_currency     budgets  conv_budget\n",
       "movieId                                                   \n",
       "1379     3.002683               $  20000000.0     20000000\n",
       "7951     3.343284               $  11000000.0     11000000\n",
       "94746    3.073529             EUR  24000000.0     24415056\n",
       "5265     3.172862               $  50000000.0     50000000\n",
       "632      3.947853             GBP   2500000.0      3001200\n",
       "95307    2.978417               $  75000000.0     75000000\n",
       "80398    3.268293             EUR  18000000.0     18311292\n",
       "94469    3.724490             AUD   8500000.0      5821918\n",
       "75808    3.166667               $   5000000.0      5000000\n",
       "119220   2.500000             EUR    172000.0       174975"
      ]
     },
     "execution_count": 47,
     "metadata": {},
     "output_type": "execute_result"
    }
   ],
   "source": [
    "# Grouping to movies and converting all currency to 'USD'\n",
    "movie_grp = df_imdb.groupby('movieId').agg({\"rating\":\"mean\",\n",
    "                                            \"budget_currency\":lambda x: pd.Series.mode(x)[0], \"budgets\":\"mean\"})\n",
    "movie_grp['conv_budget'] = movie_grp.apply(lambda x: round(x.budgets/currency_exchange[x.budget_currency]), axis=1)\n",
    "movie_grp.sample(10)"
   ]
  },
  {
   "cell_type": "code",
   "execution_count": 48,
   "id": "ccae3581",
   "metadata": {},
   "outputs": [
    {
     "data": {
      "image/png": "[encoded data removed]",
      "text/plain": [
       "<Figure size 720x360 with 1 Axes>"
      ]
     },
     "metadata": {},
     "output_type": "display_data"
    }
   ],
   "source": [
    "# Using visual to check for outliers\n",
    "fig, ax = plt.subplots(1, figsize=(10,5))\n",
    "sns.boxenplot(x='conv_budget', data=movie_grp);\n"
   ]
  },
  {
   "cell_type": "markdown",
   "id": "d8d67d04",
   "metadata": {},
   "source": [
    "This visual show us there is extreme outlier(s) in the dataset and will have bad influence on the intepretation of following visuals, therefore we need to remove those `outliers`"
   ]
  },
  {
   "cell_type": "code",
   "execution_count": 49,
   "id": "cc0fdcb1",
   "metadata": {},
   "outputs": [],
   "source": [
    "# Dealing with outliers, since we have an outrageous one in our dataset\n",
    "Q1 = np.percentile(movie_grp['conv_budget'], 25.0)\n",
    "Q3 = np.percentile(movie_grp['conv_budget'], 75.0)\n",
    "IQR = Q3 - Q1\n",
    "df_sub = movie_grp[movie_grp['conv_budget'] > Q3 + 1.5*IQR]\n",
    "movie_grp_mod = movie_grp.drop(df_sub.index)"
   ]
  },
  {
   "cell_type": "code",
   "execution_count": 50,
   "id": "b185e58a",
   "metadata": {},
   "outputs": [
    {
     "data": {
      "image/png": "[encoded data removed]",
      "text/plain": [
       "<Figure size 720x360 with 1 Axes>"
      ]
     },
     "metadata": {},
     "output_type": "display_data"
    }
   ],
   "source": [
    "# Using visual to check again for outliers\n",
    "fig, ax = plt.subplots(1, figsize=(10,5))\n",
    "sns.boxenplot(x='conv_budget', data=movie_grp_mod);"
   ]
  },
  {
   "cell_type": "code",
   "execution_count": 51,
   "id": "389c0b76",
   "metadata": {},
   "outputs": [
    {
     "data": {
      "image/png": "[encoded data removed]",
      "text/plain": [
       "<Figure size 1080x504 with 1 Axes>"
      ]
     },
     "metadata": {},
     "output_type": "display_data"
    }
   ],
   "source": [
    "# Visualize the distribution of the movies budgets\n",
    "plt.figure(figsize=(15, 7))\n",
    "sns.histplot(x=movie_grp_mod['conv_budget'], bins=20)\n",
    "plt.show()"
   ]
  },
  {
   "cell_type": "markdown",
   "id": "fe6ab18b",
   "metadata": {},
   "source": [
    "The histogram show that our budget is skewed to the right, and dipect, we have lesser film has cost of movie `budget` increases"
   ]
  },
  {
   "cell_type": "code",
   "execution_count": 78,
   "id": "f2b5da47",
   "metadata": {},
   "outputs": [
    {
     "data": {
      "image/png": "[encoded data removed]",
      "text/plain": [
       "<Figure size 1080x504 with 1 Axes>"
      ]
     },
     "metadata": {},
     "output_type": "display_data"
    }
   ],
   "source": [
    "# Plotting a scatter plot to visualize relationship between \n",
    "plt.figure(figsize=(15, 7))\n",
    "sns.scatterplot(data=movie_grp_mod, y='conv_budget', x='rating');\n",
    "plt.title(f'Relationship between Budget and users Rating have a\\\n",
    " correlation of {round(movie_grp_mod.conv_budget.corr(movie_grp_mod.rating),4)}', fontsize=20)\n",
    "plt.show()"
   ]
  },
  {
   "cell_type": "markdown",
   "id": "bc39f700",
   "metadata": {},
   "source": [
    "Though there might be some correlation between `budgets and rating` it is very `weak` and it is safe to assume that money used in making film does not really have much impart into what inform users ratings"
   ]
  },
  {
   "cell_type": "markdown",
   "id": "033d1a3f",
   "metadata": {},
   "source": [
    "#### Simple Recommender System\n",
    "- Using the year movie was made, ratings and each movies number of rating or voting to filter and rank movies to see what people are watching or get list of trendy films<br><br>\n",
    "Since we want to include the whole users input from the dataset we will go back to our earlier `train combined dataset (train_comb)` and use that to create new features, which we will then use in ranking `movies`"
   ]
  },
  {
   "cell_type": "code",
   "execution_count": 53,
   "id": "25ea8ab9",
   "metadata": {},
   "outputs": [
    {
     "data": {
      "text/html": [
       "<div>\n",
       "<style scoped>\n",
       "    .dataframe tbody tr th:only-of-type {\n",
       "        vertical-align: middle;\n",
       "    }\n",
       "\n",
       "    .dataframe tbody tr th {\n",
       "        vertical-align: top;\n",
       "    }\n",
       "\n",
       "    .dataframe thead th {\n",
       "        text-align: right;\n",
       "    }\n",
       "</style>\n",
       "<table border=\"1\" class=\"dataframe\">\n",
       "  <thead>\n",
       "    <tr style=\"text-align: right;\">\n",
       "      <th></th>\n",
       "      <th>title</th>\n",
       "      <th>rating_average</th>\n",
       "      <th>rating_count</th>\n",
       "      <th>popularity</th>\n",
       "      <th>year_made</th>\n",
       "    </tr>\n",
       "  </thead>\n",
       "  <tbody>\n",
       "    <tr>\n",
       "      <th>34480</th>\n",
       "      <td>Shawshank Redemption, The (1994)</td>\n",
       "      <td>4.417624</td>\n",
       "      <td>32831</td>\n",
       "      <td>145035.0</td>\n",
       "      <td>1994</td>\n",
       "    </tr>\n",
       "    <tr>\n",
       "      <th>14537</th>\n",
       "      <td>Forrest Gump (1994)</td>\n",
       "      <td>4.047216</td>\n",
       "      <td>32383</td>\n",
       "      <td>131061.0</td>\n",
       "      <td>1994</td>\n",
       "    </tr>\n",
       "    <tr>\n",
       "      <th>31236</th>\n",
       "      <td>Pulp Fiction (1994)</td>\n",
       "      <td>4.195097</td>\n",
       "      <td>31697</td>\n",
       "      <td>132972.0</td>\n",
       "      <td>1994</td>\n",
       "    </tr>\n",
       "    <tr>\n",
       "      <th>34840</th>\n",
       "      <td>Silence of the Lambs, The (1991)</td>\n",
       "      <td>4.144172</td>\n",
       "      <td>29444</td>\n",
       "      <td>122021.0</td>\n",
       "      <td>1991</td>\n",
       "    </tr>\n",
       "    <tr>\n",
       "      <th>25144</th>\n",
       "      <td>Matrix, The (1999)</td>\n",
       "      <td>4.154253</td>\n",
       "      <td>29014</td>\n",
       "      <td>120531.5</td>\n",
       "      <td>1999</td>\n",
       "    </tr>\n",
       "  </tbody>\n",
       "</table>\n",
       "</div>"
      ],
      "text/plain": [
       "                                  title  rating_average  rating_count  \\\n",
       "34480  Shawshank Redemption, The (1994)        4.417624         32831   \n",
       "14537               Forrest Gump (1994)        4.047216         32383   \n",
       "31236               Pulp Fiction (1994)        4.195097         31697   \n",
       "34840  Silence of the Lambs, The (1991)        4.144172         29444   \n",
       "25144                Matrix, The (1999)        4.154253         29014   \n",
       "\n",
       "       popularity year_made  \n",
       "34480    145035.0      1994  \n",
       "14537    131061.0      1994  \n",
       "31236    132972.0      1994  \n",
       "34840    122021.0      1991  \n",
       "25144    120531.5      1999  "
      ]
     },
     "execution_count": 53,
     "metadata": {},
     "output_type": "execute_result"
    }
   ],
   "source": [
    "# Creating new features 'rating_average' and 'rating_count' per each movies in our dataset\n",
    "movie_ranking_df = pd.DataFrame(train_comb.groupby(['title'])[['rating']].agg(\n",
    "    rating_average=('rating',np.mean), \n",
    "    rating_count=('rating','count')))\n",
    "\n",
    "# Using the product of the new features to create another feature call 'popularity'\n",
    "movie_ranking_df['popularity'] = movie_ranking_df['rating_average'] * movie_ranking_df['rating_count']\n",
    "\n",
    "# extracting the year in which the movie was made to create new features\n",
    "movie_ranking_df.reset_index(inplace=True)\n",
    "movie_ranking_df[\"year_made\"] = movie_ranking_df[\"title\"].apply(lambda x: \"\".join(re.findall(r\"\\((\\d+)\\)+$\", x)) \n",
    "                                                  if re.findall(r\"\\((\\d+)\\)+$\", x) else 0)\n",
    "\n",
    "movie_ranking_df.sort_values('rating_count', ascending=False).head()"
   ]
  },
  {
   "cell_type": "markdown",
   "id": "6ef7f465",
   "metadata": {
    "_cell_guid": "23cf39ba-ef09-4972-9d1f-ed91cb2ef134",
    "_uuid": "9571875d383f237f126febe9c76f966e2869fdc3"
   },
   "source": [
    "We will use the TMDB Ratings to come up with our **Top Movies Chart.** using the IMDB's *weighted rating* formula to construct the ranks. Mathematically, it is represented as follows:\n",
    "\n",
    "Weighted Rating (WR) = $(\\frac{v}{v + m} . R) + (\\frac{m}{v + m} . C)$\n",
    "\n",
    "where,\n",
    "* *v* is the number of votes for the movie\n",
    "* *m* is the minimum votes required to be listed in the chart\n",
    "* *R* is the average rating of the movie\n",
    "* *C* is the mean vote across the whole report\n",
    "\n",
    "The next step is to determine an appropriate value for *m*, the minimum votes required to be listed in the chart. We will use **95th percentile** as our cutoff. In other words, for a movie to feature in the charts, it must have more votes than at least 95% of the movies in the list.def weighted_rating(x):\n",
    "    v = x['vote_count']\n",
    "    R = x['vote_average']\n",
    "    return (v/(v+m) * R) + (m/(m+v) * C)\n",
    "\n",
    "qualified['wr'] = qualified.apply(weighted_rating, axis=1)\n",
    "\n",
    "qualified = qualified.sort_values('wr', ascending=False).head(250)\n",
    "\n",
    "### Top Movies\n",
    "\n",
    "qualified.head(15)\n",
    "\n",
    "We see that three Christopher Nolan Films, **Inception**, **The Dark Knight** and **Interstellar** occur at the very top of our chart. The chart also indicates a strong bias of TMDB Users towards particular genres and directors. \n",
    "\n",
    "Let us now construct our function that builds charts for particular genres. For this, we will use relax our default conditions to the **85th** percentile instead of 95. "
   ]
  },
  {
   "cell_type": "code",
   "execution_count": 54,
   "id": "ab4e6c0a",
   "metadata": {},
   "outputs": [
    {
     "name": "stdout",
     "output_type": "stream",
     "text": [
      "The mean rating for the whole dataset is 2.7 and minimum votes required to be listed is 816\n"
     ]
    }
   ],
   "source": [
    "# Attempt to create the formular above\n",
    "vote_counts = movie_ranking_df[movie_ranking_df['rating_count'].notnull()]['rating_count'].astype('int')\n",
    "vote_averages = movie_ranking_df[movie_ranking_df['rating_average'].notnull()]['rating_average'].astype('int')\n",
    "C = vote_averages.mean()\n",
    "m = vote_counts.quantile(0.95)\n",
    "print(f'The mean rating for the whole dataset is {round(C, 2)} and minimum votes required to be listed is {round(m)}')"
   ]
  },
  {
   "cell_type": "code",
   "execution_count": 55,
   "id": "af59d664",
   "metadata": {},
   "outputs": [
    {
     "data": {
      "text/html": [
       "<div>\n",
       "<style scoped>\n",
       "    .dataframe tbody tr th:only-of-type {\n",
       "        vertical-align: middle;\n",
       "    }\n",
       "\n",
       "    .dataframe tbody tr th {\n",
       "        vertical-align: top;\n",
       "    }\n",
       "\n",
       "    .dataframe thead th {\n",
       "        text-align: right;\n",
       "    }\n",
       "</style>\n",
       "<table border=\"1\" class=\"dataframe\">\n",
       "  <thead>\n",
       "    <tr style=\"text-align: right;\">\n",
       "      <th></th>\n",
       "      <th>title</th>\n",
       "      <th>rating_average</th>\n",
       "      <th>rating_count</th>\n",
       "      <th>popularity</th>\n",
       "      <th>year_made</th>\n",
       "    </tr>\n",
       "  </thead>\n",
       "  <tbody>\n",
       "    <tr>\n",
       "      <th>0</th>\n",
       "      <td>\"BLOW THE NIGHT!\" Let's Spend the Night Togeth...</td>\n",
       "      <td>3.000000</td>\n",
       "      <td>1</td>\n",
       "      <td>3.0</td>\n",
       "      <td>1983</td>\n",
       "    </tr>\n",
       "    <tr>\n",
       "      <th>1</th>\n",
       "      <td>\"Great Performances\" Cats (1998)</td>\n",
       "      <td>2.753731</td>\n",
       "      <td>67</td>\n",
       "      <td>184.5</td>\n",
       "      <td>1998</td>\n",
       "    </tr>\n",
       "    <tr>\n",
       "      <th>2</th>\n",
       "      <td>#1 Cheerleader Camp (2010)</td>\n",
       "      <td>1.900000</td>\n",
       "      <td>5</td>\n",
       "      <td>9.5</td>\n",
       "      <td>2010</td>\n",
       "    </tr>\n",
       "    <tr>\n",
       "      <th>3</th>\n",
       "      <td>#Female Pleasure (2018)</td>\n",
       "      <td>4.000000</td>\n",
       "      <td>1</td>\n",
       "      <td>4.0</td>\n",
       "      <td>2018</td>\n",
       "    </tr>\n",
       "    <tr>\n",
       "      <th>4</th>\n",
       "      <td>#FollowMe (2019)</td>\n",
       "      <td>2.400000</td>\n",
       "      <td>5</td>\n",
       "      <td>12.0</td>\n",
       "      <td>2019</td>\n",
       "    </tr>\n",
       "  </tbody>\n",
       "</table>\n",
       "</div>"
      ],
      "text/plain": [
       "                                               title  rating_average  \\\n",
       "0  \"BLOW THE NIGHT!\" Let's Spend the Night Togeth...        3.000000   \n",
       "1                   \"Great Performances\" Cats (1998)        2.753731   \n",
       "2                         #1 Cheerleader Camp (2010)        1.900000   \n",
       "3                            #Female Pleasure (2018)        4.000000   \n",
       "4                                   #FollowMe (2019)        2.400000   \n",
       "\n",
       "   rating_count  popularity year_made  \n",
       "0             1         3.0      1983  \n",
       "1            67       184.5      1998  \n",
       "2             5         9.5      2010  \n",
       "3             1         4.0      2018  \n",
       "4             5        12.0      2019  "
      ]
     },
     "execution_count": 55,
     "metadata": {},
     "output_type": "execute_result"
    }
   ],
   "source": [
    "movie_ranking_df.head()"
   ]
  },
  {
   "cell_type": "code",
   "execution_count": 56,
   "id": "5c7a5450",
   "metadata": {
    "_cell_guid": "db959c40-7618-4755-a05a-5347f9460929",
    "_uuid": "6414e1aa7ed8cb4184ec451f02a18cd187e5345e"
   },
   "outputs": [],
   "source": [
    "# creating a function to calculate the weighting rating as recommended by IMDB\n",
    "def weighted_rating(x, mini=m, avg_votes=C):\n",
    "    votes = x['rating_count']\n",
    "    avg_rating = x['rating_average']\n",
    "    return (votes/(votes+mini) * avg_rating) + (mini/(mini+votes) * avg_votes)"
   ]
  },
  {
   "cell_type": "code",
   "execution_count": 57,
   "id": "12191e99",
   "metadata": {
    "_cell_guid": "0f5e4384-51be-41df-a023-12a13e77d66c",
    "_uuid": "78ec5052b0e89ae51a834aa3a305cf55b6849f42"
   },
   "outputs": [
    {
     "data": {
      "text/html": [
       "<div>\n",
       "<style scoped>\n",
       "    .dataframe tbody tr th:only-of-type {\n",
       "        vertical-align: middle;\n",
       "    }\n",
       "\n",
       "    .dataframe tbody tr th {\n",
       "        vertical-align: top;\n",
       "    }\n",
       "\n",
       "    .dataframe thead th {\n",
       "        text-align: right;\n",
       "    }\n",
       "</style>\n",
       "<table border=\"1\" class=\"dataframe\">\n",
       "  <thead>\n",
       "    <tr style=\"text-align: right;\">\n",
       "      <th></th>\n",
       "      <th>title</th>\n",
       "      <th>rating_average</th>\n",
       "      <th>rating_count</th>\n",
       "      <th>popularity</th>\n",
       "      <th>year_made</th>\n",
       "      <th>weighted_rating</th>\n",
       "    </tr>\n",
       "  </thead>\n",
       "  <tbody>\n",
       "    <tr>\n",
       "      <th>34480</th>\n",
       "      <td>Shawshank Redemption, The (1994)</td>\n",
       "      <td>4.417624</td>\n",
       "      <td>32831</td>\n",
       "      <td>145035.0</td>\n",
       "      <td>1994</td>\n",
       "      <td>4.375983</td>\n",
       "    </tr>\n",
       "    <tr>\n",
       "      <th>15944</th>\n",
       "      <td>Godfather, The (1972)</td>\n",
       "      <td>4.311355</td>\n",
       "      <td>20960</td>\n",
       "      <td>90366.0</td>\n",
       "      <td>1972</td>\n",
       "      <td>4.251000</td>\n",
       "    </tr>\n",
       "    <tr>\n",
       "      <th>45118</th>\n",
       "      <td>Usual Suspects, The (1995)</td>\n",
       "      <td>4.278073</td>\n",
       "      <td>22032</td>\n",
       "      <td>94254.5</td>\n",
       "      <td>1995</td>\n",
       "      <td>4.221739</td>\n",
       "    </tr>\n",
       "    <tr>\n",
       "      <th>33688</th>\n",
       "      <td>Schindler's List (1993)</td>\n",
       "      <td>4.247625</td>\n",
       "      <td>24004</td>\n",
       "      <td>101960.0</td>\n",
       "      <td>1993</td>\n",
       "      <td>4.196769</td>\n",
       "    </tr>\n",
       "    <tr>\n",
       "      <th>15945</th>\n",
       "      <td>Godfather: Part II, The (1974)</td>\n",
       "      <td>4.274085</td>\n",
       "      <td>13525</td>\n",
       "      <td>57807.0</td>\n",
       "      <td>1974</td>\n",
       "      <td>4.184562</td>\n",
       "    </tr>\n",
       "  </tbody>\n",
       "</table>\n",
       "</div>"
      ],
      "text/plain": [
       "                                  title  rating_average  rating_count  \\\n",
       "34480  Shawshank Redemption, The (1994)        4.417624         32831   \n",
       "15944             Godfather, The (1972)        4.311355         20960   \n",
       "45118        Usual Suspects, The (1995)        4.278073         22032   \n",
       "33688           Schindler's List (1993)        4.247625         24004   \n",
       "15945    Godfather: Part II, The (1974)        4.274085         13525   \n",
       "\n",
       "       popularity year_made  weighted_rating  \n",
       "34480    145035.0      1994         4.375983  \n",
       "15944     90366.0      1972         4.251000  \n",
       "45118     94254.5      1995         4.221739  \n",
       "33688    101960.0      1993         4.196769  \n",
       "15945     57807.0      1974         4.184562  "
      ]
     },
     "execution_count": 57,
     "metadata": {},
     "output_type": "execute_result"
    }
   ],
   "source": [
    "# Creating th feature 'weighted_rating'\n",
    "movie_ranking_df['weighted_rating'] = movie_ranking_df.apply(weighted_rating, axis=1)\n",
    "\n",
    "movie_ranking_df.sort_values('weighted_rating', ascending=False).head()\n"
   ]
  },
  {
   "cell_type": "code",
   "execution_count": 58,
   "id": "9900e112",
   "metadata": {},
   "outputs": [
    {
     "data": {
      "text/plain": [
       "(2408, 6)"
      ]
     },
     "execution_count": 58,
     "metadata": {},
     "output_type": "execute_result"
    }
   ],
   "source": [
    "# Creating a dataframe for movies that meet requirement to be in the trend or ranked list\n",
    "qualify_df = movie_ranking_df[(movie_ranking_df['rating_count'] >= m)][['title', 'year_made', 'rating_count',\n",
    "                                                                        'rating_average', 'popularity', 'weighted_rating']]\n",
    "qualify_df['rating_count'] = qualify_df['rating_count'].astype('int')\n",
    "qualify_df['rating_average'] = qualify_df['rating_average'].astype('int')\n",
    "qualify_df.shape"
   ]
  },
  {
   "cell_type": "markdown",
   "id": "071d25db",
   "metadata": {},
   "source": [
    "Therefore, to qualify to be considered for the ranked movies, a movie has to have at least **816 ratings** on TMDB. We also see that the average rating for a movie on TMDB is **2.7** on a scale of 5. **2408** Movies qualify to be on our chart."
   ]
  },
  {
   "cell_type": "markdown",
   "id": "666ba4a3",
   "metadata": {
    "_cell_guid": "36a1b9ac-aff3-4d80-9e19-83a45f282062",
    "_uuid": "75eb9e1de05386d229746785a25c6a5c6ee4b61a"
   },
   "source": [
    "### Top Movies"
   ]
  },
  {
   "cell_type": "code",
   "execution_count": 59,
   "id": "4d80cfe5",
   "metadata": {
    "_cell_guid": "0bca5b03-0835-4902-aaa1-beceb9d9d47f",
    "_uuid": "f7f6821b7e9aff099b81fcc425fd20109894b351"
   },
   "outputs": [
    {
     "data": {
      "text/html": [
       "<div>\n",
       "<style scoped>\n",
       "    .dataframe tbody tr th:only-of-type {\n",
       "        vertical-align: middle;\n",
       "    }\n",
       "\n",
       "    .dataframe tbody tr th {\n",
       "        vertical-align: top;\n",
       "    }\n",
       "\n",
       "    .dataframe thead th {\n",
       "        text-align: right;\n",
       "    }\n",
       "</style>\n",
       "<table border=\"1\" class=\"dataframe\">\n",
       "  <thead>\n",
       "    <tr style=\"text-align: right;\">\n",
       "      <th></th>\n",
       "      <th>title</th>\n",
       "      <th>year_made</th>\n",
       "      <th>rating_count</th>\n",
       "      <th>rating_average</th>\n",
       "      <th>popularity</th>\n",
       "      <th>weighted_rating</th>\n",
       "    </tr>\n",
       "  </thead>\n",
       "  <tbody>\n",
       "    <tr>\n",
       "      <th>34480</th>\n",
       "      <td>Shawshank Redemption, The (1994)</td>\n",
       "      <td>1994</td>\n",
       "      <td>32831</td>\n",
       "      <td>4</td>\n",
       "      <td>145035.0</td>\n",
       "      <td>4.375983</td>\n",
       "    </tr>\n",
       "    <tr>\n",
       "      <th>15944</th>\n",
       "      <td>Godfather, The (1972)</td>\n",
       "      <td>1972</td>\n",
       "      <td>20960</td>\n",
       "      <td>4</td>\n",
       "      <td>90366.0</td>\n",
       "      <td>4.251000</td>\n",
       "    </tr>\n",
       "    <tr>\n",
       "      <th>45118</th>\n",
       "      <td>Usual Suspects, The (1995)</td>\n",
       "      <td>1995</td>\n",
       "      <td>22032</td>\n",
       "      <td>4</td>\n",
       "      <td>94254.5</td>\n",
       "      <td>4.221739</td>\n",
       "    </tr>\n",
       "    <tr>\n",
       "      <th>33688</th>\n",
       "      <td>Schindler's List (1993)</td>\n",
       "      <td>1993</td>\n",
       "      <td>24004</td>\n",
       "      <td>4</td>\n",
       "      <td>101960.0</td>\n",
       "      <td>4.196769</td>\n",
       "    </tr>\n",
       "    <tr>\n",
       "      <th>15945</th>\n",
       "      <td>Godfather: Part II, The (1974)</td>\n",
       "      <td>1974</td>\n",
       "      <td>13525</td>\n",
       "      <td>4</td>\n",
       "      <td>57807.0</td>\n",
       "      <td>4.184562</td>\n",
       "    </tr>\n",
       "    <tr>\n",
       "      <th>13799</th>\n",
       "      <td>Fight Club (1999)</td>\n",
       "      <td>1999</td>\n",
       "      <td>23536</td>\n",
       "      <td>4</td>\n",
       "      <td>99508.0</td>\n",
       "      <td>4.176733</td>\n",
       "    </tr>\n",
       "    <tr>\n",
       "      <th>31236</th>\n",
       "      <td>Pulp Fiction (1994)</td>\n",
       "      <td>1994</td>\n",
       "      <td>31697</td>\n",
       "      <td>4</td>\n",
       "      <td>132972.0</td>\n",
       "      <td>4.157593</td>\n",
       "    </tr>\n",
       "    <tr>\n",
       "      <th>28738</th>\n",
       "      <td>One Flew Over the Cuckoo's Nest (1975)</td>\n",
       "      <td>1975</td>\n",
       "      <td>14403</td>\n",
       "      <td>4</td>\n",
       "      <td>60750.5</td>\n",
       "      <td>4.136561</td>\n",
       "    </tr>\n",
       "    <tr>\n",
       "      <th>25144</th>\n",
       "      <td>Matrix, The (1999)</td>\n",
       "      <td>1999</td>\n",
       "      <td>29014</td>\n",
       "      <td>4</td>\n",
       "      <td>120531.5</td>\n",
       "      <td>4.114493</td>\n",
       "    </tr>\n",
       "    <tr>\n",
       "      <th>11749</th>\n",
       "      <td>Dr. Strangelove or: How I Learned to Stop Worr...</td>\n",
       "      <td>1964</td>\n",
       "      <td>10673</td>\n",
       "      <td>4</td>\n",
       "      <td>45017.5</td>\n",
       "      <td>4.110135</td>\n",
       "    </tr>\n",
       "    <tr>\n",
       "      <th>7380</th>\n",
       "      <td>Casablanca (1942)</td>\n",
       "      <td>1942</td>\n",
       "      <td>10735</td>\n",
       "      <td>4</td>\n",
       "      <td>45244.0</td>\n",
       "      <td>4.107683</td>\n",
       "    </tr>\n",
       "    <tr>\n",
       "      <th>34840</th>\n",
       "      <td>Silence of the Lambs, The (1991)</td>\n",
       "      <td>1991</td>\n",
       "      <td>29444</td>\n",
       "      <td>4</td>\n",
       "      <td>122021.0</td>\n",
       "      <td>4.105249</td>\n",
       "    </tr>\n",
       "    <tr>\n",
       "      <th>9929</th>\n",
       "      <td>Dark Knight, The (2008)</td>\n",
       "      <td>2008</td>\n",
       "      <td>16600</td>\n",
       "      <td>4</td>\n",
       "      <td>69257.5</td>\n",
       "      <td>4.103201</td>\n",
       "    </tr>\n",
       "    <tr>\n",
       "      <th>31852</th>\n",
       "      <td>Rear Window (1954)</td>\n",
       "      <td>1954</td>\n",
       "      <td>8160</td>\n",
       "      <td>4</td>\n",
       "      <td>34615.0</td>\n",
       "      <td>4.101921</td>\n",
       "    </tr>\n",
       "    <tr>\n",
       "      <th>36253</th>\n",
       "      <td>Star Wars: Episode V - The Empire Strikes Back...</td>\n",
       "      <td>1980</td>\n",
       "      <td>22956</td>\n",
       "      <td>4</td>\n",
       "      <td>95181.0</td>\n",
       "      <td>4.096620</td>\n",
       "    </tr>\n",
       "  </tbody>\n",
       "</table>\n",
       "</div>"
      ],
      "text/plain": [
       "                                                   title year_made  \\\n",
       "34480                   Shawshank Redemption, The (1994)      1994   \n",
       "15944                              Godfather, The (1972)      1972   \n",
       "45118                         Usual Suspects, The (1995)      1995   \n",
       "33688                            Schindler's List (1993)      1993   \n",
       "15945                     Godfather: Part II, The (1974)      1974   \n",
       "13799                                  Fight Club (1999)      1999   \n",
       "31236                                Pulp Fiction (1994)      1994   \n",
       "28738             One Flew Over the Cuckoo's Nest (1975)      1975   \n",
       "25144                                 Matrix, The (1999)      1999   \n",
       "11749  Dr. Strangelove or: How I Learned to Stop Worr...      1964   \n",
       "7380                                   Casablanca (1942)      1942   \n",
       "34840                   Silence of the Lambs, The (1991)      1991   \n",
       "9929                             Dark Knight, The (2008)      2008   \n",
       "31852                                 Rear Window (1954)      1954   \n",
       "36253  Star Wars: Episode V - The Empire Strikes Back...      1980   \n",
       "\n",
       "       rating_count  rating_average  popularity  weighted_rating  \n",
       "34480         32831               4    145035.0         4.375983  \n",
       "15944         20960               4     90366.0         4.251000  \n",
       "45118         22032               4     94254.5         4.221739  \n",
       "33688         24004               4    101960.0         4.196769  \n",
       "15945         13525               4     57807.0         4.184562  \n",
       "13799         23536               4     99508.0         4.176733  \n",
       "31236         31697               4    132972.0         4.157593  \n",
       "28738         14403               4     60750.5         4.136561  \n",
       "25144         29014               4    120531.5         4.114493  \n",
       "11749         10673               4     45017.5         4.110135  \n",
       "7380          10735               4     45244.0         4.107683  \n",
       "34840         29444               4    122021.0         4.105249  \n",
       "9929          16600               4     69257.5         4.103201  \n",
       "31852          8160               4     34615.0         4.101921  \n",
       "36253         22956               4     95181.0         4.096620  "
      ]
     },
     "execution_count": 59,
     "metadata": {},
     "output_type": "execute_result"
    }
   ],
   "source": [
    "qualify_df.sort_values('weighted_rating', ascending=False).head(15)"
   ]
  },
  {
   "cell_type": "markdown",
   "id": "a2298fb3",
   "metadata": {},
   "source": [
    "for easy access and not to be `genre` bias, we will split and match each genre to the appripoate movie, so as to filter by `genre` and see top listed movies"
   ]
  },
  {
   "cell_type": "code",
   "execution_count": 60,
   "id": "b840305c",
   "metadata": {},
   "outputs": [
    {
     "data": {
      "text/html": [
       "<div>\n",
       "<style scoped>\n",
       "    .dataframe tbody tr th:only-of-type {\n",
       "        vertical-align: middle;\n",
       "    }\n",
       "\n",
       "    .dataframe tbody tr th {\n",
       "        vertical-align: top;\n",
       "    }\n",
       "\n",
       "    .dataframe thead th {\n",
       "        text-align: right;\n",
       "    }\n",
       "</style>\n",
       "<table border=\"1\" class=\"dataframe\">\n",
       "  <thead>\n",
       "    <tr style=\"text-align: right;\">\n",
       "      <th></th>\n",
       "      <th>title</th>\n",
       "      <th>year_made</th>\n",
       "      <th>rating_count</th>\n",
       "      <th>rating_average</th>\n",
       "      <th>popularity</th>\n",
       "      <th>weighted_rating</th>\n",
       "      <th>genre</th>\n",
       "    </tr>\n",
       "  </thead>\n",
       "  <tbody>\n",
       "    <tr>\n",
       "      <th>0</th>\n",
       "      <td>'burbs, The (1989)</td>\n",
       "      <td>1989</td>\n",
       "      <td>1310</td>\n",
       "      <td>3</td>\n",
       "      <td>4029.5</td>\n",
       "      <td>2.932234</td>\n",
       "      <td>Comedy</td>\n",
       "    </tr>\n",
       "    <tr>\n",
       "      <th>1</th>\n",
       "      <td>(500) Days of Summer (2009)</td>\n",
       "      <td>2009</td>\n",
       "      <td>4524</td>\n",
       "      <td>3</td>\n",
       "      <td>16780.0</td>\n",
       "      <td>3.555078</td>\n",
       "      <td>Comedy</td>\n",
       "    </tr>\n",
       "    <tr>\n",
       "      <th>1</th>\n",
       "      <td>(500) Days of Summer (2009)</td>\n",
       "      <td>2009</td>\n",
       "      <td>4524</td>\n",
       "      <td>3</td>\n",
       "      <td>16780.0</td>\n",
       "      <td>3.555078</td>\n",
       "      <td>Drama</td>\n",
       "    </tr>\n",
       "    <tr>\n",
       "      <th>1</th>\n",
       "      <td>(500) Days of Summer (2009)</td>\n",
       "      <td>2009</td>\n",
       "      <td>4524</td>\n",
       "      <td>3</td>\n",
       "      <td>16780.0</td>\n",
       "      <td>3.555078</td>\n",
       "      <td>Romance</td>\n",
       "    </tr>\n",
       "    <tr>\n",
       "      <th>2</th>\n",
       "      <td>10 Cloverfield Lane (2016)</td>\n",
       "      <td>2016</td>\n",
       "      <td>1459</td>\n",
       "      <td>3</td>\n",
       "      <td>5421.0</td>\n",
       "      <td>3.351745</td>\n",
       "      <td>Thriller</td>\n",
       "    </tr>\n",
       "  </tbody>\n",
       "</table>\n",
       "</div>"
      ],
      "text/plain": [
       "                         title year_made  rating_count  rating_average  \\\n",
       "0           'burbs, The (1989)      1989          1310               3   \n",
       "1  (500) Days of Summer (2009)      2009          4524               3   \n",
       "1  (500) Days of Summer (2009)      2009          4524               3   \n",
       "1  (500) Days of Summer (2009)      2009          4524               3   \n",
       "2   10 Cloverfield Lane (2016)      2016          1459               3   \n",
       "\n",
       "   popularity  weighted_rating     genre  \n",
       "0      4029.5         2.932234    Comedy  \n",
       "1     16780.0         3.555078    Comedy  \n",
       "1     16780.0         3.555078     Drama  \n",
       "1     16780.0         3.555078   Romance  \n",
       "2      5421.0         3.351745  Thriller  "
      ]
     },
     "execution_count": 60,
     "metadata": {},
     "output_type": "execute_result"
    }
   ],
   "source": [
    "# drop duplicates to have a sync. merge of genres with the dataset\n",
    "temp_df = df_list[4].drop_duplicates(subset=['title'])\n",
    "\n",
    "# merging genres with the 'qualify_df'\n",
    "trend_df = temp_df[['title', 'genres']].merge(qualify_df, how=\"right\", on=\"title\")\n",
    "\n",
    "# making each genres into a list to be able to split\n",
    "trend_df['genres'] = trend_df['genres'].fillna('').apply(lambda x: x.split(\"|\"))\n",
    "\n",
    "# Splitting each genre to each movies\n",
    "genre = trend_df.apply(lambda x: pd.Series(x['genres']),axis=1).stack().reset_index(level=1, drop=True)\n",
    "genre.name = 'genre'\n",
    "qualify_df = trend_df.drop('genres', axis=1).join(genre)\n",
    "qualify_df.head()"
   ]
  },
  {
   "cell_type": "code",
   "execution_count": 84,
   "id": "9edec41c",
   "metadata": {},
   "outputs": [
    {
     "data": {
      "application/vnd.jupyter.widget-view+json": {
       "model_id": "7281d43565fd416f98ee84849cb712a2",
       "version_major": 2,
       "version_minor": 0
      },
      "text/plain": [
       "interactive(children=(Dropdown(description='filterBy', options=('Recent', 'Popularity', 'Hot-List'), value='Re…"
      ]
     },
     "metadata": {},
     "output_type": "display_data"
    }
   ],
   "source": [
    "# visualizing base on genre and other filtering method\n",
    "def iplotting():   \n",
    "    slider = widgets.IntSlider(value=10, min=5, max=50, step=1)\n",
    "    df_grp = qualify_df.groupby('genre')\n",
    "    genre_list = qualify_df.genre.unique()\n",
    "    @interact\n",
    "    def selecting(filterBy=['Recent', 'Popularity', 'Hot-List'], Genre=genre_list, Frequency=slider, ):\n",
    "        if filterBy == 'Recent':\n",
    "            temp = df_grp.get_group(Genre).sort_values(['year_made', 'weighted_rating'], ascending=False)[:Frequency]\n",
    "        elif filterBy == 'Popularity':\n",
    "            temp = df_grp.get_group(Genre).sort_values(['popularity', 'year_made'], ascending=False)[:Frequency]\n",
    "        else:\n",
    "            temp = df_grp.get_group(Genre).sort_values('weighted_rating', ascending=False)[:Frequency]\n",
    "        display(temp.drop('genre', axis=1).reset_index(drop=True))\n",
    "iplotting()"
   ]
  }
 ],
 "metadata": {
  "kernelspec": {
   "display_name": "Python 3 (ipykernel)",
   "language": "python",
   "name": "python3"
  },
  "language_info": {
   "codemirror_mode": {
    "name": "ipython",
    "version": 3
   },
   "file_extension": ".py",
   "mimetype": "text/x-python",
   "name": "python",
   "nbconvert_exporter": "python",
   "pygments_lexer": "ipython3",
   "version": "3.9.12"
  }
 },
 "nbformat": 4,
 "nbformat_minor": 5
}
