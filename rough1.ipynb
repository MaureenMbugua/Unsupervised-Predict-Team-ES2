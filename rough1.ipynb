{
 "cells": [
  {
   "cell_type": "code",
   "execution_count": 83,
   "id": "71b03806",
   "metadata": {},
   "outputs": [],
   "source": [
    "import requests\n",
    "import pickle\n",
    "import pandas as pd\n",
    "import numpy as np\n",
    "from numpy import random\n",
    "import itertools\n",
    "import matplotlib.pyplot as plt\n",
    "import re\n",
    "import seaborn as sns\n",
    "import matplotlib.pyplot as plt\n",
    "import matplotlib.ticker as ticker\n",
    "sns.set_style('darkgrid')\n",
    "from wordcloud import WordCloud\n",
    "from ipywidgets import interact, interact_manual, widgets\n",
    "\n",
    "from surprise import SVD, Reader\n",
    "from surprise import Dataset\n",
    "from surprise.model_selection import cross_validate\n",
    "from surprise.model_selection import GridSearchCV\n",
    "from surprise import NormalPredictor\n",
    "from surprise import KNNBaseline\n",
    "from surprise import KNNBasic\n",
    "from surprise import KNNWithMeans\n",
    "from surprise import BaselineOnly\n",
    "from surprise import CoClustering\n",
    "\n",
    "# Entity featurization and similarity computation\n",
    "from sklearn.metrics.pairwise import cosine_similarity \n",
    "from sklearn.feature_extraction.text import TfidfVectorizer\n",
    "from sklearn.model_selection import train_test_split\n",
    "\n",
    "\n",
    "\n",
    "# Libraries used during sorting procedures.\n",
    "import operator # <-- Convienient item retrieval during iteration \n",
    "import heapq # <-- Efficient sorting of large lists\n",
    "\n",
    "import os"
   ]
  },
  {
   "cell_type": "markdown",
   "id": "3f3f50c3",
   "metadata": {},
   "source": [
    "### Loading Dataset"
   ]
  },
  {
   "cell_type": "markdown",
   "id": "4fce4d9b",
   "metadata": {},
   "source": [
    "Loading all dataset for the project and appending to a list"
   ]
  },
  {
   "cell_type": "code",
   "execution_count": 88,
   "id": "ea42a1c4",
   "metadata": {
    "scrolled": false
   },
   "outputs": [
    {
     "name": "stdout",
     "output_type": "stream",
     "text": [
      "index 0: Overview of genome_scores.csv DataFrame\n"
     ]
    },
    {
     "data": {
      "text/html": [
       "<div>\n",
       "<style scoped>\n",
       "    .dataframe tbody tr th:only-of-type {\n",
       "        vertical-align: middle;\n",
       "    }\n",
       "\n",
       "    .dataframe tbody tr th {\n",
       "        vertical-align: top;\n",
       "    }\n",
       "\n",
       "    .dataframe thead th {\n",
       "        text-align: right;\n",
       "    }\n",
       "</style>\n",
       "<table border=\"1\" class=\"dataframe\">\n",
       "  <thead>\n",
       "    <tr style=\"text-align: right;\">\n",
       "      <th></th>\n",
       "      <th>movieId</th>\n",
       "      <th>tagId</th>\n",
       "      <th>relevance</th>\n",
       "    </tr>\n",
       "  </thead>\n",
       "  <tbody>\n",
       "    <tr>\n",
       "      <th>0</th>\n",
       "      <td>1</td>\n",
       "      <td>1</td>\n",
       "      <td>0.02875</td>\n",
       "    </tr>\n",
       "    <tr>\n",
       "      <th>1</th>\n",
       "      <td>1</td>\n",
       "      <td>2</td>\n",
       "      <td>0.02375</td>\n",
       "    </tr>\n",
       "    <tr>\n",
       "      <th>2</th>\n",
       "      <td>1</td>\n",
       "      <td>3</td>\n",
       "      <td>0.06250</td>\n",
       "    </tr>\n",
       "    <tr>\n",
       "      <th>3</th>\n",
       "      <td>1</td>\n",
       "      <td>4</td>\n",
       "      <td>0.07575</td>\n",
       "    </tr>\n",
       "    <tr>\n",
       "      <th>4</th>\n",
       "      <td>1</td>\n",
       "      <td>5</td>\n",
       "      <td>0.14075</td>\n",
       "    </tr>\n",
       "  </tbody>\n",
       "</table>\n",
       "</div>"
      ],
      "text/plain": [
       "   movieId  tagId  relevance\n",
       "0        1      1    0.02875\n",
       "1        1      2    0.02375\n",
       "2        1      3    0.06250\n",
       "3        1      4    0.07575\n",
       "4        1      5    0.14075"
      ]
     },
     "metadata": {},
     "output_type": "display_data"
    },
    {
     "name": "stdout",
     "output_type": "stream",
     "text": [
      "(15584448, 3)\n",
      "index 1: Overview of genome_tags.csv DataFrame\n"
     ]
    },
    {
     "data": {
      "text/html": [
       "<div>\n",
       "<style scoped>\n",
       "    .dataframe tbody tr th:only-of-type {\n",
       "        vertical-align: middle;\n",
       "    }\n",
       "\n",
       "    .dataframe tbody tr th {\n",
       "        vertical-align: top;\n",
       "    }\n",
       "\n",
       "    .dataframe thead th {\n",
       "        text-align: right;\n",
       "    }\n",
       "</style>\n",
       "<table border=\"1\" class=\"dataframe\">\n",
       "  <thead>\n",
       "    <tr style=\"text-align: right;\">\n",
       "      <th></th>\n",
       "      <th>tagId</th>\n",
       "      <th>tag</th>\n",
       "    </tr>\n",
       "  </thead>\n",
       "  <tbody>\n",
       "    <tr>\n",
       "      <th>0</th>\n",
       "      <td>1</td>\n",
       "      <td>007</td>\n",
       "    </tr>\n",
       "    <tr>\n",
       "      <th>1</th>\n",
       "      <td>2</td>\n",
       "      <td>007 (series)</td>\n",
       "    </tr>\n",
       "    <tr>\n",
       "      <th>2</th>\n",
       "      <td>3</td>\n",
       "      <td>18th century</td>\n",
       "    </tr>\n",
       "    <tr>\n",
       "      <th>3</th>\n",
       "      <td>4</td>\n",
       "      <td>1920s</td>\n",
       "    </tr>\n",
       "    <tr>\n",
       "      <th>4</th>\n",
       "      <td>5</td>\n",
       "      <td>1930s</td>\n",
       "    </tr>\n",
       "  </tbody>\n",
       "</table>\n",
       "</div>"
      ],
      "text/plain": [
       "   tagId           tag\n",
       "0      1           007\n",
       "1      2  007 (series)\n",
       "2      3  18th century\n",
       "3      4         1920s\n",
       "4      5         1930s"
      ]
     },
     "metadata": {},
     "output_type": "display_data"
    },
    {
     "name": "stdout",
     "output_type": "stream",
     "text": [
      "(1128, 2)\n",
      "index 2: Overview of imdb_data.csv DataFrame\n"
     ]
    },
    {
     "data": {
      "text/html": [
       "<div>\n",
       "<style scoped>\n",
       "    .dataframe tbody tr th:only-of-type {\n",
       "        vertical-align: middle;\n",
       "    }\n",
       "\n",
       "    .dataframe tbody tr th {\n",
       "        vertical-align: top;\n",
       "    }\n",
       "\n",
       "    .dataframe thead th {\n",
       "        text-align: right;\n",
       "    }\n",
       "</style>\n",
       "<table border=\"1\" class=\"dataframe\">\n",
       "  <thead>\n",
       "    <tr style=\"text-align: right;\">\n",
       "      <th></th>\n",
       "      <th>movieId</th>\n",
       "      <th>title_cast</th>\n",
       "      <th>director</th>\n",
       "      <th>runtime</th>\n",
       "      <th>budget</th>\n",
       "      <th>plot_keywords</th>\n",
       "    </tr>\n",
       "  </thead>\n",
       "  <tbody>\n",
       "    <tr>\n",
       "      <th>0</th>\n",
       "      <td>1</td>\n",
       "      <td>Tom Hanks|Tim Allen|Don Rickles|Jim Varney|Wal...</td>\n",
       "      <td>John Lasseter</td>\n",
       "      <td>81.0</td>\n",
       "      <td>$30,000,000</td>\n",
       "      <td>toy|rivalry|cowboy|cgi animation</td>\n",
       "    </tr>\n",
       "    <tr>\n",
       "      <th>1</th>\n",
       "      <td>2</td>\n",
       "      <td>Robin Williams|Jonathan Hyde|Kirsten Dunst|Bra...</td>\n",
       "      <td>Jonathan Hensleigh</td>\n",
       "      <td>104.0</td>\n",
       "      <td>$65,000,000</td>\n",
       "      <td>board game|adventurer|fight|game</td>\n",
       "    </tr>\n",
       "    <tr>\n",
       "      <th>2</th>\n",
       "      <td>3</td>\n",
       "      <td>Walter Matthau|Jack Lemmon|Sophia Loren|Ann-Ma...</td>\n",
       "      <td>Mark Steven Johnson</td>\n",
       "      <td>101.0</td>\n",
       "      <td>$25,000,000</td>\n",
       "      <td>boat|lake|neighbor|rivalry</td>\n",
       "    </tr>\n",
       "    <tr>\n",
       "      <th>3</th>\n",
       "      <td>4</td>\n",
       "      <td>Whitney Houston|Angela Bassett|Loretta Devine|...</td>\n",
       "      <td>Terry McMillan</td>\n",
       "      <td>124.0</td>\n",
       "      <td>$16,000,000</td>\n",
       "      <td>black american|husband wife relationship|betra...</td>\n",
       "    </tr>\n",
       "    <tr>\n",
       "      <th>4</th>\n",
       "      <td>5</td>\n",
       "      <td>Steve Martin|Diane Keaton|Martin Short|Kimberl...</td>\n",
       "      <td>Albert Hackett</td>\n",
       "      <td>106.0</td>\n",
       "      <td>$30,000,000</td>\n",
       "      <td>fatherhood|doberman|dog|mansion</td>\n",
       "    </tr>\n",
       "  </tbody>\n",
       "</table>\n",
       "</div>"
      ],
      "text/plain": [
       "   movieId                                         title_cast  \\\n",
       "0        1  Tom Hanks|Tim Allen|Don Rickles|Jim Varney|Wal...   \n",
       "1        2  Robin Williams|Jonathan Hyde|Kirsten Dunst|Bra...   \n",
       "2        3  Walter Matthau|Jack Lemmon|Sophia Loren|Ann-Ma...   \n",
       "3        4  Whitney Houston|Angela Bassett|Loretta Devine|...   \n",
       "4        5  Steve Martin|Diane Keaton|Martin Short|Kimberl...   \n",
       "\n",
       "              director  runtime       budget  \\\n",
       "0        John Lasseter     81.0  $30,000,000   \n",
       "1   Jonathan Hensleigh    104.0  $65,000,000   \n",
       "2  Mark Steven Johnson    101.0  $25,000,000   \n",
       "3       Terry McMillan    124.0  $16,000,000   \n",
       "4       Albert Hackett    106.0  $30,000,000   \n",
       "\n",
       "                                       plot_keywords  \n",
       "0                   toy|rivalry|cowboy|cgi animation  \n",
       "1                   board game|adventurer|fight|game  \n",
       "2                         boat|lake|neighbor|rivalry  \n",
       "3  black american|husband wife relationship|betra...  \n",
       "4                    fatherhood|doberman|dog|mansion  "
      ]
     },
     "metadata": {},
     "output_type": "display_data"
    },
    {
     "name": "stdout",
     "output_type": "stream",
     "text": [
      "(27278, 6)\n",
      "index 3: Overview of links.csv DataFrame\n"
     ]
    },
    {
     "data": {
      "text/html": [
       "<div>\n",
       "<style scoped>\n",
       "    .dataframe tbody tr th:only-of-type {\n",
       "        vertical-align: middle;\n",
       "    }\n",
       "\n",
       "    .dataframe tbody tr th {\n",
       "        vertical-align: top;\n",
       "    }\n",
       "\n",
       "    .dataframe thead th {\n",
       "        text-align: right;\n",
       "    }\n",
       "</style>\n",
       "<table border=\"1\" class=\"dataframe\">\n",
       "  <thead>\n",
       "    <tr style=\"text-align: right;\">\n",
       "      <th></th>\n",
       "      <th>movieId</th>\n",
       "      <th>imdbId</th>\n",
       "      <th>tmdbId</th>\n",
       "    </tr>\n",
       "  </thead>\n",
       "  <tbody>\n",
       "    <tr>\n",
       "      <th>0</th>\n",
       "      <td>1</td>\n",
       "      <td>114709</td>\n",
       "      <td>862.0</td>\n",
       "    </tr>\n",
       "    <tr>\n",
       "      <th>1</th>\n",
       "      <td>2</td>\n",
       "      <td>113497</td>\n",
       "      <td>8844.0</td>\n",
       "    </tr>\n",
       "    <tr>\n",
       "      <th>2</th>\n",
       "      <td>3</td>\n",
       "      <td>113228</td>\n",
       "      <td>15602.0</td>\n",
       "    </tr>\n",
       "    <tr>\n",
       "      <th>3</th>\n",
       "      <td>4</td>\n",
       "      <td>114885</td>\n",
       "      <td>31357.0</td>\n",
       "    </tr>\n",
       "    <tr>\n",
       "      <th>4</th>\n",
       "      <td>5</td>\n",
       "      <td>113041</td>\n",
       "      <td>11862.0</td>\n",
       "    </tr>\n",
       "  </tbody>\n",
       "</table>\n",
       "</div>"
      ],
      "text/plain": [
       "   movieId  imdbId   tmdbId\n",
       "0        1  114709    862.0\n",
       "1        2  113497   8844.0\n",
       "2        3  113228  15602.0\n",
       "3        4  114885  31357.0\n",
       "4        5  113041  11862.0"
      ]
     },
     "metadata": {},
     "output_type": "display_data"
    },
    {
     "name": "stdout",
     "output_type": "stream",
     "text": [
      "(62423, 3)\n",
      "index 4: Overview of movies.csv DataFrame\n"
     ]
    },
    {
     "data": {
      "text/html": [
       "<div>\n",
       "<style scoped>\n",
       "    .dataframe tbody tr th:only-of-type {\n",
       "        vertical-align: middle;\n",
       "    }\n",
       "\n",
       "    .dataframe tbody tr th {\n",
       "        vertical-align: top;\n",
       "    }\n",
       "\n",
       "    .dataframe thead th {\n",
       "        text-align: right;\n",
       "    }\n",
       "</style>\n",
       "<table border=\"1\" class=\"dataframe\">\n",
       "  <thead>\n",
       "    <tr style=\"text-align: right;\">\n",
       "      <th></th>\n",
       "      <th>movieId</th>\n",
       "      <th>title</th>\n",
       "      <th>genres</th>\n",
       "    </tr>\n",
       "  </thead>\n",
       "  <tbody>\n",
       "    <tr>\n",
       "      <th>0</th>\n",
       "      <td>1</td>\n",
       "      <td>Toy Story (1995)</td>\n",
       "      <td>Adventure|Animation|Children|Comedy|Fantasy</td>\n",
       "    </tr>\n",
       "    <tr>\n",
       "      <th>1</th>\n",
       "      <td>2</td>\n",
       "      <td>Jumanji (1995)</td>\n",
       "      <td>Adventure|Children|Fantasy</td>\n",
       "    </tr>\n",
       "    <tr>\n",
       "      <th>2</th>\n",
       "      <td>3</td>\n",
       "      <td>Grumpier Old Men (1995)</td>\n",
       "      <td>Comedy|Romance</td>\n",
       "    </tr>\n",
       "    <tr>\n",
       "      <th>3</th>\n",
       "      <td>4</td>\n",
       "      <td>Waiting to Exhale (1995)</td>\n",
       "      <td>Comedy|Drama|Romance</td>\n",
       "    </tr>\n",
       "    <tr>\n",
       "      <th>4</th>\n",
       "      <td>5</td>\n",
       "      <td>Father of the Bride Part II (1995)</td>\n",
       "      <td>Comedy</td>\n",
       "    </tr>\n",
       "  </tbody>\n",
       "</table>\n",
       "</div>"
      ],
      "text/plain": [
       "   movieId                               title  \\\n",
       "0        1                    Toy Story (1995)   \n",
       "1        2                      Jumanji (1995)   \n",
       "2        3             Grumpier Old Men (1995)   \n",
       "3        4            Waiting to Exhale (1995)   \n",
       "4        5  Father of the Bride Part II (1995)   \n",
       "\n",
       "                                        genres  \n",
       "0  Adventure|Animation|Children|Comedy|Fantasy  \n",
       "1                   Adventure|Children|Fantasy  \n",
       "2                               Comedy|Romance  \n",
       "3                         Comedy|Drama|Romance  \n",
       "4                                       Comedy  "
      ]
     },
     "metadata": {},
     "output_type": "display_data"
    },
    {
     "name": "stdout",
     "output_type": "stream",
     "text": [
      "(62423, 3)\n",
      "index 5: Overview of sample_submission.csv DataFrame\n"
     ]
    },
    {
     "data": {
      "text/html": [
       "<div>\n",
       "<style scoped>\n",
       "    .dataframe tbody tr th:only-of-type {\n",
       "        vertical-align: middle;\n",
       "    }\n",
       "\n",
       "    .dataframe tbody tr th {\n",
       "        vertical-align: top;\n",
       "    }\n",
       "\n",
       "    .dataframe thead th {\n",
       "        text-align: right;\n",
       "    }\n",
       "</style>\n",
       "<table border=\"1\" class=\"dataframe\">\n",
       "  <thead>\n",
       "    <tr style=\"text-align: right;\">\n",
       "      <th></th>\n",
       "      <th>Id</th>\n",
       "      <th>rating</th>\n",
       "    </tr>\n",
       "  </thead>\n",
       "  <tbody>\n",
       "    <tr>\n",
       "      <th>0</th>\n",
       "      <td>1_2011</td>\n",
       "      <td>1.0</td>\n",
       "    </tr>\n",
       "    <tr>\n",
       "      <th>1</th>\n",
       "      <td>1_4144</td>\n",
       "      <td>1.0</td>\n",
       "    </tr>\n",
       "    <tr>\n",
       "      <th>2</th>\n",
       "      <td>1_5767</td>\n",
       "      <td>1.0</td>\n",
       "    </tr>\n",
       "    <tr>\n",
       "      <th>3</th>\n",
       "      <td>1_6711</td>\n",
       "      <td>1.0</td>\n",
       "    </tr>\n",
       "    <tr>\n",
       "      <th>4</th>\n",
       "      <td>1_7318</td>\n",
       "      <td>1.0</td>\n",
       "    </tr>\n",
       "  </tbody>\n",
       "</table>\n",
       "</div>"
      ],
      "text/plain": [
       "       Id  rating\n",
       "0  1_2011     1.0\n",
       "1  1_4144     1.0\n",
       "2  1_5767     1.0\n",
       "3  1_6711     1.0\n",
       "4  1_7318     1.0"
      ]
     },
     "metadata": {},
     "output_type": "display_data"
    },
    {
     "name": "stdout",
     "output_type": "stream",
     "text": [
      "(5000019, 2)\n",
      "index 6: Overview of tags.csv DataFrame\n"
     ]
    },
    {
     "data": {
      "text/html": [
       "<div>\n",
       "<style scoped>\n",
       "    .dataframe tbody tr th:only-of-type {\n",
       "        vertical-align: middle;\n",
       "    }\n",
       "\n",
       "    .dataframe tbody tr th {\n",
       "        vertical-align: top;\n",
       "    }\n",
       "\n",
       "    .dataframe thead th {\n",
       "        text-align: right;\n",
       "    }\n",
       "</style>\n",
       "<table border=\"1\" class=\"dataframe\">\n",
       "  <thead>\n",
       "    <tr style=\"text-align: right;\">\n",
       "      <th></th>\n",
       "      <th>userId</th>\n",
       "      <th>movieId</th>\n",
       "      <th>tag</th>\n",
       "      <th>timestamp</th>\n",
       "    </tr>\n",
       "  </thead>\n",
       "  <tbody>\n",
       "    <tr>\n",
       "      <th>0</th>\n",
       "      <td>3</td>\n",
       "      <td>260</td>\n",
       "      <td>classic</td>\n",
       "      <td>1439472355</td>\n",
       "    </tr>\n",
       "    <tr>\n",
       "      <th>1</th>\n",
       "      <td>3</td>\n",
       "      <td>260</td>\n",
       "      <td>sci-fi</td>\n",
       "      <td>1439472256</td>\n",
       "    </tr>\n",
       "    <tr>\n",
       "      <th>2</th>\n",
       "      <td>4</td>\n",
       "      <td>1732</td>\n",
       "      <td>dark comedy</td>\n",
       "      <td>1573943598</td>\n",
       "    </tr>\n",
       "    <tr>\n",
       "      <th>3</th>\n",
       "      <td>4</td>\n",
       "      <td>1732</td>\n",
       "      <td>great dialogue</td>\n",
       "      <td>1573943604</td>\n",
       "    </tr>\n",
       "    <tr>\n",
       "      <th>4</th>\n",
       "      <td>4</td>\n",
       "      <td>7569</td>\n",
       "      <td>so bad it's good</td>\n",
       "      <td>1573943455</td>\n",
       "    </tr>\n",
       "  </tbody>\n",
       "</table>\n",
       "</div>"
      ],
      "text/plain": [
       "   userId  movieId               tag   timestamp\n",
       "0       3      260           classic  1439472355\n",
       "1       3      260            sci-fi  1439472256\n",
       "2       4     1732       dark comedy  1573943598\n",
       "3       4     1732    great dialogue  1573943604\n",
       "4       4     7569  so bad it's good  1573943455"
      ]
     },
     "metadata": {},
     "output_type": "display_data"
    },
    {
     "name": "stdout",
     "output_type": "stream",
     "text": [
      "(1093360, 4)\n",
      "index 7: Overview of test.csv DataFrame\n"
     ]
    },
    {
     "data": {
      "text/html": [
       "<div>\n",
       "<style scoped>\n",
       "    .dataframe tbody tr th:only-of-type {\n",
       "        vertical-align: middle;\n",
       "    }\n",
       "\n",
       "    .dataframe tbody tr th {\n",
       "        vertical-align: top;\n",
       "    }\n",
       "\n",
       "    .dataframe thead th {\n",
       "        text-align: right;\n",
       "    }\n",
       "</style>\n",
       "<table border=\"1\" class=\"dataframe\">\n",
       "  <thead>\n",
       "    <tr style=\"text-align: right;\">\n",
       "      <th></th>\n",
       "      <th>userId</th>\n",
       "      <th>movieId</th>\n",
       "    </tr>\n",
       "  </thead>\n",
       "  <tbody>\n",
       "    <tr>\n",
       "      <th>0</th>\n",
       "      <td>1</td>\n",
       "      <td>2011</td>\n",
       "    </tr>\n",
       "    <tr>\n",
       "      <th>1</th>\n",
       "      <td>1</td>\n",
       "      <td>4144</td>\n",
       "    </tr>\n",
       "    <tr>\n",
       "      <th>2</th>\n",
       "      <td>1</td>\n",
       "      <td>5767</td>\n",
       "    </tr>\n",
       "    <tr>\n",
       "      <th>3</th>\n",
       "      <td>1</td>\n",
       "      <td>6711</td>\n",
       "    </tr>\n",
       "    <tr>\n",
       "      <th>4</th>\n",
       "      <td>1</td>\n",
       "      <td>7318</td>\n",
       "    </tr>\n",
       "  </tbody>\n",
       "</table>\n",
       "</div>"
      ],
      "text/plain": [
       "   userId  movieId\n",
       "0       1     2011\n",
       "1       1     4144\n",
       "2       1     5767\n",
       "3       1     6711\n",
       "4       1     7318"
      ]
     },
     "metadata": {},
     "output_type": "display_data"
    },
    {
     "name": "stdout",
     "output_type": "stream",
     "text": [
      "(5000019, 2)\n",
      "index 8: Overview of train.csv DataFrame\n"
     ]
    },
    {
     "data": {
      "text/html": [
       "<div>\n",
       "<style scoped>\n",
       "    .dataframe tbody tr th:only-of-type {\n",
       "        vertical-align: middle;\n",
       "    }\n",
       "\n",
       "    .dataframe tbody tr th {\n",
       "        vertical-align: top;\n",
       "    }\n",
       "\n",
       "    .dataframe thead th {\n",
       "        text-align: right;\n",
       "    }\n",
       "</style>\n",
       "<table border=\"1\" class=\"dataframe\">\n",
       "  <thead>\n",
       "    <tr style=\"text-align: right;\">\n",
       "      <th></th>\n",
       "      <th>userId</th>\n",
       "      <th>movieId</th>\n",
       "      <th>rating</th>\n",
       "      <th>timestamp</th>\n",
       "    </tr>\n",
       "  </thead>\n",
       "  <tbody>\n",
       "    <tr>\n",
       "      <th>0</th>\n",
       "      <td>5163</td>\n",
       "      <td>57669</td>\n",
       "      <td>4.0</td>\n",
       "      <td>1518349992</td>\n",
       "    </tr>\n",
       "    <tr>\n",
       "      <th>1</th>\n",
       "      <td>106343</td>\n",
       "      <td>5</td>\n",
       "      <td>4.5</td>\n",
       "      <td>1206238739</td>\n",
       "    </tr>\n",
       "    <tr>\n",
       "      <th>2</th>\n",
       "      <td>146790</td>\n",
       "      <td>5459</td>\n",
       "      <td>5.0</td>\n",
       "      <td>1076215539</td>\n",
       "    </tr>\n",
       "    <tr>\n",
       "      <th>3</th>\n",
       "      <td>106362</td>\n",
       "      <td>32296</td>\n",
       "      <td>2.0</td>\n",
       "      <td>1423042565</td>\n",
       "    </tr>\n",
       "    <tr>\n",
       "      <th>4</th>\n",
       "      <td>9041</td>\n",
       "      <td>366</td>\n",
       "      <td>3.0</td>\n",
       "      <td>833375837</td>\n",
       "    </tr>\n",
       "  </tbody>\n",
       "</table>\n",
       "</div>"
      ],
      "text/plain": [
       "   userId  movieId  rating   timestamp\n",
       "0    5163    57669     4.0  1518349992\n",
       "1  106343        5     4.5  1206238739\n",
       "2  146790     5459     5.0  1076215539\n",
       "3  106362    32296     2.0  1423042565\n",
       "4    9041      366     3.0   833375837"
      ]
     },
     "metadata": {},
     "output_type": "display_data"
    },
    {
     "name": "stdout",
     "output_type": "stream",
     "text": [
      "(10000038, 4)\n"
     ]
    }
   ],
   "source": [
    "path = \"./edsa-movie-recommendation-2022\"\n",
    "dir_list = os.listdir(path)\n",
    "listing = []\n",
    "df_list = []\n",
    "for x in dir_list:\n",
    "    if x.endswith('.csv'):\n",
    "        listing .append(x)\n",
    "count = 0\n",
    "for x in listing:\n",
    "    print(f\"index {count}: Overview of {x} DataFrame\")\n",
    "    temp_df = pd.read_csv(f'{path}/{x}')\n",
    "    df_list.append(temp_df)\n",
    "    display(temp_df.head())\n",
    "    print(temp_df.shape)\n",
    "    count += 1"
   ]
  },
  {
   "cell_type": "markdown",
   "id": "1734fdc1",
   "metadata": {},
   "source": [
    "### Exploring `movies` dataset "
   ]
  },
  {
   "cell_type": "code",
   "execution_count": 3,
   "id": "c8a74829",
   "metadata": {},
   "outputs": [],
   "source": [
    "df_movies = df_list[4].copy()"
   ]
  },
  {
   "cell_type": "code",
   "execution_count": 4,
   "id": "8d87608d",
   "metadata": {},
   "outputs": [
    {
     "name": "stdout",
     "output_type": "stream",
     "text": [
      "<class 'pandas.core.frame.DataFrame'>\n",
      "RangeIndex: 62423 entries, 0 to 62422\n",
      "Data columns (total 3 columns):\n",
      " #   Column   Non-Null Count  Dtype \n",
      "---  ------   --------------  ----- \n",
      " 0   movieId  62423 non-null  int64 \n",
      " 1   title    62423 non-null  object\n",
      " 2   genres   62423 non-null  object\n",
      "dtypes: int64(1), object(2)\n",
      "memory usage: 1.4+ MB\n"
     ]
    }
   ],
   "source": [
    "df_movies.info()"
   ]
  },
  {
   "cell_type": "markdown",
   "id": "db35777c",
   "metadata": {},
   "source": [
    "The `movies` dataset has `62423` rows/movies and `3` features describing this movies and it has no null value since all value taly in the `Non-null count` column"
   ]
  },
  {
   "cell_type": "markdown",
   "id": "2cdcbb89",
   "metadata": {},
   "source": [
    "Extracting each movies year to forma new column on when each movies was made"
   ]
  },
  {
   "cell_type": "code",
   "execution_count": 5,
   "id": "129863fc",
   "metadata": {},
   "outputs": [
    {
     "data": {
      "text/html": [
       "<div>\n",
       "<style scoped>\n",
       "    .dataframe tbody tr th:only-of-type {\n",
       "        vertical-align: middle;\n",
       "    }\n",
       "\n",
       "    .dataframe tbody tr th {\n",
       "        vertical-align: top;\n",
       "    }\n",
       "\n",
       "    .dataframe thead th {\n",
       "        text-align: right;\n",
       "    }\n",
       "</style>\n",
       "<table border=\"1\" class=\"dataframe\">\n",
       "  <thead>\n",
       "    <tr style=\"text-align: right;\">\n",
       "      <th></th>\n",
       "      <th>movieId</th>\n",
       "      <th>title</th>\n",
       "      <th>genres</th>\n",
       "      <th>year_made</th>\n",
       "    </tr>\n",
       "  </thead>\n",
       "  <tbody>\n",
       "    <tr>\n",
       "      <th>0</th>\n",
       "      <td>1</td>\n",
       "      <td>Toy Story (1995)</td>\n",
       "      <td>Adventure|Animation|Children|Comedy|Fantasy</td>\n",
       "      <td>1995</td>\n",
       "    </tr>\n",
       "    <tr>\n",
       "      <th>1</th>\n",
       "      <td>2</td>\n",
       "      <td>Jumanji (1995)</td>\n",
       "      <td>Adventure|Children|Fantasy</td>\n",
       "      <td>1995</td>\n",
       "    </tr>\n",
       "    <tr>\n",
       "      <th>2</th>\n",
       "      <td>3</td>\n",
       "      <td>Grumpier Old Men (1995)</td>\n",
       "      <td>Comedy|Romance</td>\n",
       "      <td>1995</td>\n",
       "    </tr>\n",
       "    <tr>\n",
       "      <th>3</th>\n",
       "      <td>4</td>\n",
       "      <td>Waiting to Exhale (1995)</td>\n",
       "      <td>Comedy|Drama|Romance</td>\n",
       "      <td>1995</td>\n",
       "    </tr>\n",
       "    <tr>\n",
       "      <th>4</th>\n",
       "      <td>5</td>\n",
       "      <td>Father of the Bride Part II (1995)</td>\n",
       "      <td>Comedy</td>\n",
       "      <td>1995</td>\n",
       "    </tr>\n",
       "  </tbody>\n",
       "</table>\n",
       "</div>"
      ],
      "text/plain": [
       "   movieId                               title  \\\n",
       "0        1                    Toy Story (1995)   \n",
       "1        2                      Jumanji (1995)   \n",
       "2        3             Grumpier Old Men (1995)   \n",
       "3        4            Waiting to Exhale (1995)   \n",
       "4        5  Father of the Bride Part II (1995)   \n",
       "\n",
       "                                        genres year_made  \n",
       "0  Adventure|Animation|Children|Comedy|Fantasy      1995  \n",
       "1                   Adventure|Children|Fantasy      1995  \n",
       "2                               Comedy|Romance      1995  \n",
       "3                         Comedy|Drama|Romance      1995  \n",
       "4                                       Comedy      1995  "
      ]
     },
     "execution_count": 5,
     "metadata": {},
     "output_type": "execute_result"
    }
   ],
   "source": [
    "df_movies[\"year_made\"] = df_movies[\"title\"].apply(lambda x: \"\".join(re.findall(r\"\\((\\d+)\\)+$\", x)) \n",
    "                                                  if re.findall(r\"\\((\\d+)\\)+$\", x) else 0)\n",
    "\n",
    "df_movies.head()"
   ]
  },
  {
   "cell_type": "code",
   "execution_count": 6,
   "id": "5201bc43",
   "metadata": {},
   "outputs": [
    {
     "data": {
      "text/plain": [
       "movieId      0\n",
       "title        0\n",
       "genres       0\n",
       "year_made    0\n",
       "dtype: int64"
      ]
     },
     "execution_count": 6,
     "metadata": {},
     "output_type": "execute_result"
    }
   ],
   "source": [
    "# confirm if all movies have a year in it title and that we don't have a null value in our new column\n",
    "df_movies.isna().sum()"
   ]
  },
  {
   "cell_type": "code",
   "execution_count": 7,
   "id": "9b41c5ed",
   "metadata": {},
   "outputs": [
    {
     "data": {
      "text/html": [
       "<div>\n",
       "<style scoped>\n",
       "    .dataframe tbody tr th:only-of-type {\n",
       "        vertical-align: middle;\n",
       "    }\n",
       "\n",
       "    .dataframe tbody tr th {\n",
       "        vertical-align: top;\n",
       "    }\n",
       "\n",
       "    .dataframe thead th {\n",
       "        text-align: right;\n",
       "    }\n",
       "</style>\n",
       "<table border=\"1\" class=\"dataframe\">\n",
       "  <thead>\n",
       "    <tr style=\"text-align: right;\">\n",
       "      <th></th>\n",
       "      <th>movieId</th>\n",
       "      <th>title</th>\n",
       "      <th>year_made</th>\n",
       "      <th>genre</th>\n",
       "    </tr>\n",
       "  </thead>\n",
       "  <tbody>\n",
       "    <tr>\n",
       "      <th>0</th>\n",
       "      <td>1</td>\n",
       "      <td>Toy Story (1995)</td>\n",
       "      <td>1995</td>\n",
       "      <td>Adventure</td>\n",
       "    </tr>\n",
       "    <tr>\n",
       "      <th>0</th>\n",
       "      <td>1</td>\n",
       "      <td>Toy Story (1995)</td>\n",
       "      <td>1995</td>\n",
       "      <td>Animation</td>\n",
       "    </tr>\n",
       "    <tr>\n",
       "      <th>0</th>\n",
       "      <td>1</td>\n",
       "      <td>Toy Story (1995)</td>\n",
       "      <td>1995</td>\n",
       "      <td>Children</td>\n",
       "    </tr>\n",
       "    <tr>\n",
       "      <th>0</th>\n",
       "      <td>1</td>\n",
       "      <td>Toy Story (1995)</td>\n",
       "      <td>1995</td>\n",
       "      <td>Comedy</td>\n",
       "    </tr>\n",
       "    <tr>\n",
       "      <th>0</th>\n",
       "      <td>1</td>\n",
       "      <td>Toy Story (1995)</td>\n",
       "      <td>1995</td>\n",
       "      <td>Fantasy</td>\n",
       "    </tr>\n",
       "  </tbody>\n",
       "</table>\n",
       "</div>"
      ],
      "text/plain": [
       "   movieId             title year_made      genre\n",
       "0        1  Toy Story (1995)      1995  Adventure\n",
       "0        1  Toy Story (1995)      1995  Animation\n",
       "0        1  Toy Story (1995)      1995   Children\n",
       "0        1  Toy Story (1995)      1995     Comedy\n",
       "0        1  Toy Story (1995)      1995    Fantasy"
      ]
     },
     "execution_count": 7,
     "metadata": {},
     "output_type": "execute_result"
    }
   ],
   "source": [
    "# making each genres into a list to be able to split\n",
    "df_movies['genres'] = df_movies['genres'].fillna('').apply(lambda x: x.split(\"|\"))\n",
    "\n",
    "# Splitting each genre to each movies\n",
    "genre = df_movies.apply(lambda x: pd.Series(x['genres']),axis=1).stack().reset_index(level=1, drop=True)\n",
    "genre.name = 'genre'\n",
    "df_mov_gen = df_movies.drop('genres', axis=1).join(genre)\n",
    "df_mov_gen.head()"
   ]
  },
  {
   "cell_type": "code",
   "execution_count": 8,
   "id": "74a63655",
   "metadata": {},
   "outputs": [],
   "source": [
    "# Converting 'year_made' into numeric datatype\n",
    "df_mov_gen[\"year_made\"] = df_mov_gen[\"year_made\"].astype('int64')"
   ]
  },
  {
   "cell_type": "code",
   "execution_count": 9,
   "id": "f1ae47b1",
   "metadata": {},
   "outputs": [
    {
     "data": {
      "image/png": "[encoded data removed]",
      "text/plain": [
       "<Figure size 720x576 with 1 Axes>"
      ]
     },
     "metadata": {},
     "output_type": "display_data"
    }
   ],
   "source": [
    "# visualizing how the year of the movies are distributed\n",
    "df_mov_year = df_mov_gen.groupby(\"year_made\").agg({\"movieId\":\"count\"}).reset_index()\n",
    "fig, ax = plt.subplots(figsize=(10,8))\n",
    "ax = sns.barplot(data=df_mov_year,  x=\"year_made\", y=\"movieId\")\n",
    "ax.xaxis.set_major_locator(ticker.MultipleLocator(20))\n",
    "plt.show()"
   ]
  },
  {
   "cell_type": "code",
   "execution_count": 10,
   "id": "b6ce6e1a",
   "metadata": {},
   "outputs": [
    {
     "data": {
      "image/png": "[encoded data removed]",
      "text/plain": [
       "<Figure size 720x576 with 1 Axes>"
      ]
     },
     "metadata": {},
     "output_type": "display_data"
    }
   ],
   "source": [
    "# visualizing how the genres of the movies are distributed\n",
    "df_grp_gens = df_mov_gen.groupby(\"genre\").agg({\"movieId\":\"count\"}).reset_index()\n",
    "fig, ax = plt.subplots(figsize=(10,8))\n",
    "ax = sns.barplot(data=df_grp_gens,  x=\"genre\", y=\"movieId\")\n",
    "ax.set_xticks(ax.get_xticks())\n",
    "ax.set_xticklabels(ax.get_xticklabels(), rotation=45, ha='right')\n",
    "plt.show()"
   ]
  },
  {
   "cell_type": "markdown",
   "id": "d5af2e63",
   "metadata": {},
   "source": [
    "#### Creating a `word-cloud` for title of movies base on the `genres`"
   ]
  },
  {
   "cell_type": "code",
   "execution_count": 11,
   "id": "66862086",
   "metadata": {},
   "outputs": [],
   "source": [
    "def bag_of_words_count(words, splitter: str=' ',  word_dict={}):\n",
    "    \"\"\" this function takes in a list of words and returns a dictionary\n",
    "        with each word as a key, and the value represents the number of\n",
    "        times that word appeared\"\"\"\n",
    "    words = words.split(splitter)\n",
    "    for word in words:\n",
    "        if word in word_dict.keys():\n",
    "            word_dict[word] += 1\n",
    "        else:\n",
    "            word_dict[word] = 1\n",
    "    return word_dict"
   ]
  },
  {
   "cell_type": "code",
   "execution_count": 12,
   "id": "07c45077",
   "metadata": {},
   "outputs": [],
   "source": [
    "def word_extract(df=df_mov_gen, coln: str='title', splitter=' '):\n",
    "    \"\"\"This use to compile all the word and there frequency \n",
    "    in the individual category found in a particular column\"\"\"\n",
    "#     count = 0\n",
    "    result = {}\n",
    "    type_labels = df.genre.unique()\n",
    "    genres_dict = {}\n",
    "    df_grp = df.groupby('genre')\n",
    "    for pp in type_labels:\n",
    "        genres_dict[pp] = {}\n",
    "        for row in df_grp.get_group(pp)[coln]:\n",
    "            genres_dict[pp] = bag_of_words_count(words=row, splitter=splitter, word_dict=genres_dict[pp])\n",
    "    return genres_dict"
   ]
  },
  {
   "cell_type": "code",
   "execution_count": 13,
   "id": "f6fd2626",
   "metadata": {},
   "outputs": [
    {
     "data": {
      "application/vnd.jupyter.widget-view+json": {
       "model_id": "a06f03c9cfa04976a1e1f8a979fd3008",
       "version_major": 2,
       "version_minor": 0
      },
      "text/plain": [
       "interactive(children=(Dropdown(description='genre_name', options=('Adventure', 'Animation', 'Children', 'Comed…"
      ]
     },
     "metadata": {},
     "output_type": "display_data"
    }
   ],
   "source": [
    "# Interactive plotting\n",
    "def iplotting():\n",
    "    d = word_extract()\n",
    "    @interact_manual\n",
    "    def selecting(genre_name = d.keys()):\n",
    "        word_cloud_genre=WordCloud(width=1500, height=800, background_color='black', min_font_size=2,\n",
    "                        min_word_length=3).generate(str(d[genre_name]))\n",
    "        plt.figure(figsize=(20,10))\n",
    "        plt.axis('off')\n",
    "        plt.title(f'Word Cloud for {genre_name} Genre Movie titles',fontsize=30)\n",
    "        plt.imshow(word_cloud_genre);\n",
    "iplotting()"
   ]
  },
  {
   "cell_type": "markdown",
   "id": "a2ff07e1",
   "metadata": {},
   "source": [
    "### Exploring `train` dataset"
   ]
  },
  {
   "cell_type": "markdown",
   "id": "7a9e9036",
   "metadata": {},
   "source": [
    "Exploring the train dataset to gain insight into the rating of `movies` and there various tags using the `genome scores and tags`"
   ]
  },
  {
   "cell_type": "code",
   "execution_count": 14,
   "id": "e387cbe9",
   "metadata": {},
   "outputs": [],
   "source": [
    "df_genome_scores = df_list[0].copy() # loading & assigning a varaible to the 'genome_scores' dataset\n",
    "df_genome_tags = df_list[1].copy() # loading & assigning a varaible to the 'genome_tags' dataset\n",
    "df_train = df_list[8].copy() # loading & assigning a varaible to the 'train' dataset\n"
   ]
  },
  {
   "cell_type": "markdown",
   "id": "67d8b803",
   "metadata": {},
   "source": [
    "Merging the three dataframe plus `movies` dataset above to make one fine and informed dataframe"
   ]
  },
  {
   "cell_type": "code",
   "execution_count": 15,
   "id": "0d8b2fd4",
   "metadata": {},
   "outputs": [
    {
     "data": {
      "text/plain": [
       "(15584448, 4)"
      ]
     },
     "metadata": {},
     "output_type": "display_data"
    },
    {
     "data": {
      "text/html": [
       "<div>\n",
       "<style scoped>\n",
       "    .dataframe tbody tr th:only-of-type {\n",
       "        vertical-align: middle;\n",
       "    }\n",
       "\n",
       "    .dataframe tbody tr th {\n",
       "        vertical-align: top;\n",
       "    }\n",
       "\n",
       "    .dataframe thead th {\n",
       "        text-align: right;\n",
       "    }\n",
       "</style>\n",
       "<table border=\"1\" class=\"dataframe\">\n",
       "  <thead>\n",
       "    <tr style=\"text-align: right;\">\n",
       "      <th></th>\n",
       "      <th>movieId</th>\n",
       "      <th>tagId</th>\n",
       "      <th>relevance</th>\n",
       "      <th>tag</th>\n",
       "    </tr>\n",
       "  </thead>\n",
       "  <tbody>\n",
       "    <tr>\n",
       "      <th>0</th>\n",
       "      <td>1</td>\n",
       "      <td>1</td>\n",
       "      <td>0.02875</td>\n",
       "      <td>007</td>\n",
       "    </tr>\n",
       "    <tr>\n",
       "      <th>1</th>\n",
       "      <td>1</td>\n",
       "      <td>2</td>\n",
       "      <td>0.02375</td>\n",
       "      <td>007 (series)</td>\n",
       "    </tr>\n",
       "    <tr>\n",
       "      <th>2</th>\n",
       "      <td>1</td>\n",
       "      <td>3</td>\n",
       "      <td>0.06250</td>\n",
       "      <td>18th century</td>\n",
       "    </tr>\n",
       "    <tr>\n",
       "      <th>3</th>\n",
       "      <td>1</td>\n",
       "      <td>4</td>\n",
       "      <td>0.07575</td>\n",
       "      <td>1920s</td>\n",
       "    </tr>\n",
       "    <tr>\n",
       "      <th>4</th>\n",
       "      <td>1</td>\n",
       "      <td>5</td>\n",
       "      <td>0.14075</td>\n",
       "      <td>1930s</td>\n",
       "    </tr>\n",
       "    <tr>\n",
       "      <th>5</th>\n",
       "      <td>1</td>\n",
       "      <td>6</td>\n",
       "      <td>0.14675</td>\n",
       "      <td>1950s</td>\n",
       "    </tr>\n",
       "    <tr>\n",
       "      <th>6</th>\n",
       "      <td>1</td>\n",
       "      <td>7</td>\n",
       "      <td>0.06350</td>\n",
       "      <td>1960s</td>\n",
       "    </tr>\n",
       "    <tr>\n",
       "      <th>7</th>\n",
       "      <td>1</td>\n",
       "      <td>8</td>\n",
       "      <td>0.20375</td>\n",
       "      <td>1970s</td>\n",
       "    </tr>\n",
       "    <tr>\n",
       "      <th>8</th>\n",
       "      <td>1</td>\n",
       "      <td>9</td>\n",
       "      <td>0.20200</td>\n",
       "      <td>1980s</td>\n",
       "    </tr>\n",
       "    <tr>\n",
       "      <th>9</th>\n",
       "      <td>1</td>\n",
       "      <td>10</td>\n",
       "      <td>0.03075</td>\n",
       "      <td>19th century</td>\n",
       "    </tr>\n",
       "  </tbody>\n",
       "</table>\n",
       "</div>"
      ],
      "text/plain": [
       "   movieId  tagId  relevance           tag\n",
       "0        1      1    0.02875           007\n",
       "1        1      2    0.02375  007 (series)\n",
       "2        1      3    0.06250  18th century\n",
       "3        1      4    0.07575         1920s\n",
       "4        1      5    0.14075         1930s\n",
       "5        1      6    0.14675         1950s\n",
       "6        1      7    0.06350         1960s\n",
       "7        1      8    0.20375         1970s\n",
       "8        1      9    0.20200         1980s\n",
       "9        1     10    0.03075  19th century"
      ]
     },
     "execution_count": 15,
     "metadata": {},
     "output_type": "execute_result"
    }
   ],
   "source": [
    "# Combining dataframe 'df_genome_scores' and 'df_genome_tags'\n",
    "genome_comb = df_genome_scores.merge(df_genome_tags, how=\"left\", on=[\"tagId\"])\n",
    "display(genome_comb.shape)\n",
    "genome_comb.head(10)"
   ]
  },
  {
   "cell_type": "code",
   "execution_count": 16,
   "id": "2719813d",
   "metadata": {},
   "outputs": [
    {
     "data": {
      "text/plain": [
       "(13816, 2)"
      ]
     },
     "metadata": {},
     "output_type": "display_data"
    },
    {
     "data": {
      "text/html": [
       "<div>\n",
       "<style scoped>\n",
       "    .dataframe tbody tr th:only-of-type {\n",
       "        vertical-align: middle;\n",
       "    }\n",
       "\n",
       "    .dataframe tbody tr th {\n",
       "        vertical-align: top;\n",
       "    }\n",
       "\n",
       "    .dataframe thead th {\n",
       "        text-align: right;\n",
       "    }\n",
       "</style>\n",
       "<table border=\"1\" class=\"dataframe\">\n",
       "  <thead>\n",
       "    <tr style=\"text-align: right;\">\n",
       "      <th></th>\n",
       "      <th>movieId</th>\n",
       "      <th>relevance</th>\n",
       "    </tr>\n",
       "  </thead>\n",
       "  <tbody>\n",
       "    <tr>\n",
       "      <th>0</th>\n",
       "      <td>1</td>\n",
       "      <td>0.99925</td>\n",
       "    </tr>\n",
       "    <tr>\n",
       "      <th>1</th>\n",
       "      <td>2</td>\n",
       "      <td>0.97600</td>\n",
       "    </tr>\n",
       "    <tr>\n",
       "      <th>2</th>\n",
       "      <td>3</td>\n",
       "      <td>0.97525</td>\n",
       "    </tr>\n",
       "    <tr>\n",
       "      <th>3</th>\n",
       "      <td>4</td>\n",
       "      <td>0.97525</td>\n",
       "    </tr>\n",
       "    <tr>\n",
       "      <th>4</th>\n",
       "      <td>5</td>\n",
       "      <td>0.96025</td>\n",
       "    </tr>\n",
       "  </tbody>\n",
       "</table>\n",
       "</div>"
      ],
      "text/plain": [
       "   movieId  relevance\n",
       "0        1    0.99925\n",
       "1        2    0.97600\n",
       "2        3    0.97525\n",
       "3        4    0.97525\n",
       "4        5    0.96025"
      ]
     },
     "execution_count": 16,
     "metadata": {},
     "output_type": "execute_result"
    }
   ],
   "source": [
    "# grouping by 'movieId' and by calculating maximum 'relevance' corresponding to know the actual 'tag' of a 'movie'\n",
    "genome_grp = genome_comb.groupby('movieId')[[\"relevance\"]].max().reset_index()\n",
    "display(genome_grp.shape)\n",
    "genome_grp.head()"
   ]
  },
  {
   "cell_type": "code",
   "execution_count": 17,
   "id": "ed4ea050",
   "metadata": {},
   "outputs": [
    {
     "data": {
      "text/html": [
       "<div>\n",
       "<style scoped>\n",
       "    .dataframe tbody tr th:only-of-type {\n",
       "        vertical-align: middle;\n",
       "    }\n",
       "\n",
       "    .dataframe tbody tr th {\n",
       "        vertical-align: top;\n",
       "    }\n",
       "\n",
       "    .dataframe thead th {\n",
       "        text-align: right;\n",
       "    }\n",
       "</style>\n",
       "<table border=\"1\" class=\"dataframe\">\n",
       "  <thead>\n",
       "    <tr style=\"text-align: right;\">\n",
       "      <th></th>\n",
       "      <th>movieId</th>\n",
       "      <th>tag</th>\n",
       "    </tr>\n",
       "  </thead>\n",
       "  <tbody>\n",
       "    <tr>\n",
       "      <th>0</th>\n",
       "      <td>1</td>\n",
       "      <td>toys</td>\n",
       "    </tr>\n",
       "    <tr>\n",
       "      <th>1</th>\n",
       "      <td>2</td>\n",
       "      <td>adventure</td>\n",
       "    </tr>\n",
       "    <tr>\n",
       "      <th>2</th>\n",
       "      <td>3</td>\n",
       "      <td>sequel</td>\n",
       "    </tr>\n",
       "    <tr>\n",
       "      <th>3</th>\n",
       "      <td>4</td>\n",
       "      <td>women</td>\n",
       "    </tr>\n",
       "    <tr>\n",
       "      <th>4</th>\n",
       "      <td>5</td>\n",
       "      <td>sequel</td>\n",
       "    </tr>\n",
       "  </tbody>\n",
       "</table>\n",
       "</div>"
      ],
      "text/plain": [
       "   movieId        tag\n",
       "0        1       toys\n",
       "1        2  adventure\n",
       "2        3     sequel\n",
       "3        4      women\n",
       "4        5     sequel"
      ]
     },
     "execution_count": 17,
     "metadata": {},
     "output_type": "execute_result"
    }
   ],
   "source": [
    "# Combinig the the grouped dataframe with the original dataframe to match each 'tag' to it respecitive 'relevance'\n",
    "genome_comb1 = genome_grp.merge(genome_comb[['movieId', 'relevance', 'tag']], on=[\"movieId\", \"relevance\"])\n",
    "\n",
    "# drop duplicates to have a sync. merge of movie and `tag` and unccessary 'relevance' column\n",
    "genome_comb1 = genome_comb1.drop_duplicates(subset=['movieId'])\n",
    "genome_comb1 = genome_comb1.drop('relevance', axis=1)\n",
    "\n",
    "genome_comb1.head()"
   ]
  },
  {
   "cell_type": "code",
   "execution_count": 18,
   "id": "fccee883",
   "metadata": {},
   "outputs": [
    {
     "data": {
      "text/plain": [
       "(10000038, 5)"
      ]
     },
     "metadata": {},
     "output_type": "display_data"
    },
    {
     "data": {
      "text/html": [
       "<div>\n",
       "<style scoped>\n",
       "    .dataframe tbody tr th:only-of-type {\n",
       "        vertical-align: middle;\n",
       "    }\n",
       "\n",
       "    .dataframe tbody tr th {\n",
       "        vertical-align: top;\n",
       "    }\n",
       "\n",
       "    .dataframe thead th {\n",
       "        text-align: right;\n",
       "    }\n",
       "</style>\n",
       "<table border=\"1\" class=\"dataframe\">\n",
       "  <thead>\n",
       "    <tr style=\"text-align: right;\">\n",
       "      <th></th>\n",
       "      <th>userId</th>\n",
       "      <th>movieId</th>\n",
       "      <th>rating</th>\n",
       "      <th>timestamp</th>\n",
       "      <th>tag</th>\n",
       "    </tr>\n",
       "  </thead>\n",
       "  <tbody>\n",
       "    <tr>\n",
       "      <th>0</th>\n",
       "      <td>5163</td>\n",
       "      <td>57669</td>\n",
       "      <td>4.0</td>\n",
       "      <td>1518349992</td>\n",
       "      <td>hit men</td>\n",
       "    </tr>\n",
       "    <tr>\n",
       "      <th>1</th>\n",
       "      <td>106343</td>\n",
       "      <td>5</td>\n",
       "      <td>4.5</td>\n",
       "      <td>1206238739</td>\n",
       "      <td>sequel</td>\n",
       "    </tr>\n",
       "    <tr>\n",
       "      <th>2</th>\n",
       "      <td>146790</td>\n",
       "      <td>5459</td>\n",
       "      <td>5.0</td>\n",
       "      <td>1076215539</td>\n",
       "      <td>alien</td>\n",
       "    </tr>\n",
       "    <tr>\n",
       "      <th>3</th>\n",
       "      <td>106362</td>\n",
       "      <td>32296</td>\n",
       "      <td>2.0</td>\n",
       "      <td>1423042565</td>\n",
       "      <td>sequels</td>\n",
       "    </tr>\n",
       "    <tr>\n",
       "      <th>4</th>\n",
       "      <td>9041</td>\n",
       "      <td>366</td>\n",
       "      <td>3.0</td>\n",
       "      <td>833375837</td>\n",
       "      <td>horror</td>\n",
       "    </tr>\n",
       "    <tr>\n",
       "      <th>5</th>\n",
       "      <td>120949</td>\n",
       "      <td>81768</td>\n",
       "      <td>3.0</td>\n",
       "      <td>1289595242</td>\n",
       "      <td>NaN</td>\n",
       "    </tr>\n",
       "    <tr>\n",
       "      <th>6</th>\n",
       "      <td>19630</td>\n",
       "      <td>62049</td>\n",
       "      <td>4.0</td>\n",
       "      <td>1246729817</td>\n",
       "      <td>george orwell</td>\n",
       "    </tr>\n",
       "    <tr>\n",
       "      <th>7</th>\n",
       "      <td>21066</td>\n",
       "      <td>2282</td>\n",
       "      <td>1.0</td>\n",
       "      <td>945785907</td>\n",
       "      <td>weird</td>\n",
       "    </tr>\n",
       "    <tr>\n",
       "      <th>8</th>\n",
       "      <td>117563</td>\n",
       "      <td>120474</td>\n",
       "      <td>4.0</td>\n",
       "      <td>1515108225</td>\n",
       "      <td>toys</td>\n",
       "    </tr>\n",
       "    <tr>\n",
       "      <th>9</th>\n",
       "      <td>144018</td>\n",
       "      <td>1997</td>\n",
       "      <td>5.0</td>\n",
       "      <td>1109967647</td>\n",
       "      <td>horror</td>\n",
       "    </tr>\n",
       "  </tbody>\n",
       "</table>\n",
       "</div>"
      ],
      "text/plain": [
       "   userId  movieId  rating   timestamp            tag\n",
       "0    5163    57669     4.0  1518349992        hit men\n",
       "1  106343        5     4.5  1206238739         sequel\n",
       "2  146790     5459     5.0  1076215539          alien\n",
       "3  106362    32296     2.0  1423042565        sequels\n",
       "4    9041      366     3.0   833375837         horror\n",
       "5  120949    81768     3.0  1289595242            NaN\n",
       "6   19630    62049     4.0  1246729817  george orwell\n",
       "7   21066     2282     1.0   945785907          weird\n",
       "8  117563   120474     4.0  1515108225           toys\n",
       "9  144018     1997     5.0  1109967647         horror"
      ]
     },
     "execution_count": 18,
     "metadata": {},
     "output_type": "execute_result"
    }
   ],
   "source": [
    "# merging ealier dataframe 'df_comb2' with tag and movie dataframe 'df_gem_comb1'\n",
    "train_tags = df_train.merge(genome_comb1, how='left', on=[\"movieId\"])\n",
    "display(train_tags.shape)\n",
    "train_tags.head(10)"
   ]
  },
  {
   "cell_type": "code",
   "execution_count": 19,
   "id": "648c4a3c",
   "metadata": {},
   "outputs": [
    {
     "data": {
      "text/plain": [
       "(10000038, 8)"
      ]
     },
     "metadata": {},
     "output_type": "display_data"
    },
    {
     "data": {
      "text/html": [
       "<div>\n",
       "<style scoped>\n",
       "    .dataframe tbody tr th:only-of-type {\n",
       "        vertical-align: middle;\n",
       "    }\n",
       "\n",
       "    .dataframe tbody tr th {\n",
       "        vertical-align: top;\n",
       "    }\n",
       "\n",
       "    .dataframe thead th {\n",
       "        text-align: right;\n",
       "    }\n",
       "</style>\n",
       "<table border=\"1\" class=\"dataframe\">\n",
       "  <thead>\n",
       "    <tr style=\"text-align: right;\">\n",
       "      <th></th>\n",
       "      <th>userId</th>\n",
       "      <th>movieId</th>\n",
       "      <th>rating</th>\n",
       "      <th>timestamp</th>\n",
       "      <th>tag</th>\n",
       "      <th>title</th>\n",
       "      <th>genres</th>\n",
       "      <th>year_made</th>\n",
       "    </tr>\n",
       "  </thead>\n",
       "  <tbody>\n",
       "    <tr>\n",
       "      <th>0</th>\n",
       "      <td>5163</td>\n",
       "      <td>57669</td>\n",
       "      <td>4.0</td>\n",
       "      <td>1518349992</td>\n",
       "      <td>hit men</td>\n",
       "      <td>In Bruges (2008)</td>\n",
       "      <td>[Comedy, Crime, Drama, Thriller]</td>\n",
       "      <td>2008</td>\n",
       "    </tr>\n",
       "    <tr>\n",
       "      <th>1</th>\n",
       "      <td>87388</td>\n",
       "      <td>57669</td>\n",
       "      <td>3.5</td>\n",
       "      <td>1237455297</td>\n",
       "      <td>hit men</td>\n",
       "      <td>In Bruges (2008)</td>\n",
       "      <td>[Comedy, Crime, Drama, Thriller]</td>\n",
       "      <td>2008</td>\n",
       "    </tr>\n",
       "    <tr>\n",
       "      <th>2</th>\n",
       "      <td>137050</td>\n",
       "      <td>57669</td>\n",
       "      <td>4.0</td>\n",
       "      <td>1425631854</td>\n",
       "      <td>hit men</td>\n",
       "      <td>In Bruges (2008)</td>\n",
       "      <td>[Comedy, Crime, Drama, Thriller]</td>\n",
       "      <td>2008</td>\n",
       "    </tr>\n",
       "    <tr>\n",
       "      <th>3</th>\n",
       "      <td>120490</td>\n",
       "      <td>57669</td>\n",
       "      <td>4.5</td>\n",
       "      <td>1408228517</td>\n",
       "      <td>hit men</td>\n",
       "      <td>In Bruges (2008)</td>\n",
       "      <td>[Comedy, Crime, Drama, Thriller]</td>\n",
       "      <td>2008</td>\n",
       "    </tr>\n",
       "    <tr>\n",
       "      <th>4</th>\n",
       "      <td>50616</td>\n",
       "      <td>57669</td>\n",
       "      <td>4.5</td>\n",
       "      <td>1446941640</td>\n",
       "      <td>hit men</td>\n",
       "      <td>In Bruges (2008)</td>\n",
       "      <td>[Comedy, Crime, Drama, Thriller]</td>\n",
       "      <td>2008</td>\n",
       "    </tr>\n",
       "    <tr>\n",
       "      <th>5</th>\n",
       "      <td>99887</td>\n",
       "      <td>57669</td>\n",
       "      <td>0.5</td>\n",
       "      <td>1448839196</td>\n",
       "      <td>hit men</td>\n",
       "      <td>In Bruges (2008)</td>\n",
       "      <td>[Comedy, Crime, Drama, Thriller]</td>\n",
       "      <td>2008</td>\n",
       "    </tr>\n",
       "    <tr>\n",
       "      <th>6</th>\n",
       "      <td>120194</td>\n",
       "      <td>57669</td>\n",
       "      <td>4.5</td>\n",
       "      <td>1479382352</td>\n",
       "      <td>hit men</td>\n",
       "      <td>In Bruges (2008)</td>\n",
       "      <td>[Comedy, Crime, Drama, Thriller]</td>\n",
       "      <td>2008</td>\n",
       "    </tr>\n",
       "    <tr>\n",
       "      <th>7</th>\n",
       "      <td>847</td>\n",
       "      <td>57669</td>\n",
       "      <td>3.5</td>\n",
       "      <td>1232893563</td>\n",
       "      <td>hit men</td>\n",
       "      <td>In Bruges (2008)</td>\n",
       "      <td>[Comedy, Crime, Drama, Thriller]</td>\n",
       "      <td>2008</td>\n",
       "    </tr>\n",
       "    <tr>\n",
       "      <th>8</th>\n",
       "      <td>47201</td>\n",
       "      <td>57669</td>\n",
       "      <td>4.5</td>\n",
       "      <td>1464351173</td>\n",
       "      <td>hit men</td>\n",
       "      <td>In Bruges (2008)</td>\n",
       "      <td>[Comedy, Crime, Drama, Thriller]</td>\n",
       "      <td>2008</td>\n",
       "    </tr>\n",
       "    <tr>\n",
       "      <th>9</th>\n",
       "      <td>94499</td>\n",
       "      <td>57669</td>\n",
       "      <td>4.5</td>\n",
       "      <td>1316689295</td>\n",
       "      <td>hit men</td>\n",
       "      <td>In Bruges (2008)</td>\n",
       "      <td>[Comedy, Crime, Drama, Thriller]</td>\n",
       "      <td>2008</td>\n",
       "    </tr>\n",
       "  </tbody>\n",
       "</table>\n",
       "</div>"
      ],
      "text/plain": [
       "   userId  movieId  rating   timestamp      tag             title  \\\n",
       "0    5163    57669     4.0  1518349992  hit men  In Bruges (2008)   \n",
       "1   87388    57669     3.5  1237455297  hit men  In Bruges (2008)   \n",
       "2  137050    57669     4.0  1425631854  hit men  In Bruges (2008)   \n",
       "3  120490    57669     4.5  1408228517  hit men  In Bruges (2008)   \n",
       "4   50616    57669     4.5  1446941640  hit men  In Bruges (2008)   \n",
       "5   99887    57669     0.5  1448839196  hit men  In Bruges (2008)   \n",
       "6  120194    57669     4.5  1479382352  hit men  In Bruges (2008)   \n",
       "7     847    57669     3.5  1232893563  hit men  In Bruges (2008)   \n",
       "8   47201    57669     4.5  1464351173  hit men  In Bruges (2008)   \n",
       "9   94499    57669     4.5  1316689295  hit men  In Bruges (2008)   \n",
       "\n",
       "                             genres year_made  \n",
       "0  [Comedy, Crime, Drama, Thriller]      2008  \n",
       "1  [Comedy, Crime, Drama, Thriller]      2008  \n",
       "2  [Comedy, Crime, Drama, Thriller]      2008  \n",
       "3  [Comedy, Crime, Drama, Thriller]      2008  \n",
       "4  [Comedy, Crime, Drama, Thriller]      2008  \n",
       "5  [Comedy, Crime, Drama, Thriller]      2008  \n",
       "6  [Comedy, Crime, Drama, Thriller]      2008  \n",
       "7  [Comedy, Crime, Drama, Thriller]      2008  \n",
       "8  [Comedy, Crime, Drama, Thriller]      2008  \n",
       "9  [Comedy, Crime, Drama, Thriller]      2008  "
      ]
     },
     "execution_count": 19,
     "metadata": {},
     "output_type": "execute_result"
    }
   ],
   "source": [
    "#combining dataframe in index 8 and index 4 from the df_list\n",
    "train_comb = train_tags.merge(df_movies, how=\"inner\", on=[\"movieId\"])\n",
    "display(train_comb.shape)\n",
    "train_comb.head(10)"
   ]
  },
  {
   "cell_type": "code",
   "execution_count": 20,
   "id": "a372e696",
   "metadata": {},
   "outputs": [
    {
     "data": {
      "text/plain": [
       "userId            0\n",
       "movieId           0\n",
       "rating            0\n",
       "timestamp         0\n",
       "tag          130490\n",
       "title             0\n",
       "genres            0\n",
       "year_made         0\n",
       "dtype: int64"
      ]
     },
     "execution_count": 20,
     "metadata": {},
     "output_type": "execute_result"
    }
   ],
   "source": [
    "# Checking for null value after merging\n",
    "train_comb.isnull().sum()"
   ]
  },
  {
   "cell_type": "markdown",
   "id": "ec158b27",
   "metadata": {},
   "source": [
    "The tag features have a few null value in comparism with the large dataset, we will go ahead to replace those null values with keyword `unknown`"
   ]
  },
  {
   "cell_type": "code",
   "execution_count": 21,
   "id": "59842c3e",
   "metadata": {},
   "outputs": [],
   "source": [
    "# making each genres into a list to be able to split\n",
    "train_comb['tag'] = train_comb['tag'].fillna('unknown')"
   ]
  },
  {
   "cell_type": "markdown",
   "id": "72b00f0c",
   "metadata": {},
   "source": [
    "#### Converting the timestampe into `datetime` datatype and aslo into new features"
   ]
  },
  {
   "cell_type": "code",
   "execution_count": 22,
   "id": "4c48b82d",
   "metadata": {},
   "outputs": [],
   "source": [
    "train_comb['Rating_Datetime'] = pd.to_datetime(train_comb['timestamp'], unit='s')\n",
    "train_comb.drop('timestamp', axis=1, inplace=True)"
   ]
  },
  {
   "cell_type": "code",
   "execution_count": 23,
   "id": "7d3ac6e4",
   "metadata": {},
   "outputs": [
    {
     "data": {
      "text/html": [
       "<div>\n",
       "<style scoped>\n",
       "    .dataframe tbody tr th:only-of-type {\n",
       "        vertical-align: middle;\n",
       "    }\n",
       "\n",
       "    .dataframe tbody tr th {\n",
       "        vertical-align: top;\n",
       "    }\n",
       "\n",
       "    .dataframe thead th {\n",
       "        text-align: right;\n",
       "    }\n",
       "</style>\n",
       "<table border=\"1\" class=\"dataframe\">\n",
       "  <thead>\n",
       "    <tr style=\"text-align: right;\">\n",
       "      <th></th>\n",
       "      <th>userId</th>\n",
       "      <th>movieId</th>\n",
       "      <th>rating</th>\n",
       "      <th>tag</th>\n",
       "      <th>title</th>\n",
       "      <th>genres</th>\n",
       "      <th>year_made</th>\n",
       "      <th>Rating_Datetime</th>\n",
       "    </tr>\n",
       "  </thead>\n",
       "  <tbody>\n",
       "    <tr>\n",
       "      <th>0</th>\n",
       "      <td>5163</td>\n",
       "      <td>57669</td>\n",
       "      <td>4.0</td>\n",
       "      <td>hit men</td>\n",
       "      <td>In Bruges (2008)</td>\n",
       "      <td>[Comedy, Crime, Drama, Thriller]</td>\n",
       "      <td>2008</td>\n",
       "      <td>2018-02-11 11:53:12</td>\n",
       "    </tr>\n",
       "    <tr>\n",
       "      <th>1</th>\n",
       "      <td>87388</td>\n",
       "      <td>57669</td>\n",
       "      <td>3.5</td>\n",
       "      <td>hit men</td>\n",
       "      <td>In Bruges (2008)</td>\n",
       "      <td>[Comedy, Crime, Drama, Thriller]</td>\n",
       "      <td>2008</td>\n",
       "      <td>2009-03-19 09:34:57</td>\n",
       "    </tr>\n",
       "    <tr>\n",
       "      <th>2</th>\n",
       "      <td>137050</td>\n",
       "      <td>57669</td>\n",
       "      <td>4.0</td>\n",
       "      <td>hit men</td>\n",
       "      <td>In Bruges (2008)</td>\n",
       "      <td>[Comedy, Crime, Drama, Thriller]</td>\n",
       "      <td>2008</td>\n",
       "      <td>2015-03-06 08:50:54</td>\n",
       "    </tr>\n",
       "    <tr>\n",
       "      <th>3</th>\n",
       "      <td>120490</td>\n",
       "      <td>57669</td>\n",
       "      <td>4.5</td>\n",
       "      <td>hit men</td>\n",
       "      <td>In Bruges (2008)</td>\n",
       "      <td>[Comedy, Crime, Drama, Thriller]</td>\n",
       "      <td>2008</td>\n",
       "      <td>2014-08-16 22:35:17</td>\n",
       "    </tr>\n",
       "    <tr>\n",
       "      <th>4</th>\n",
       "      <td>50616</td>\n",
       "      <td>57669</td>\n",
       "      <td>4.5</td>\n",
       "      <td>hit men</td>\n",
       "      <td>In Bruges (2008)</td>\n",
       "      <td>[Comedy, Crime, Drama, Thriller]</td>\n",
       "      <td>2008</td>\n",
       "      <td>2015-11-08 00:14:00</td>\n",
       "    </tr>\n",
       "  </tbody>\n",
       "</table>\n",
       "</div>"
      ],
      "text/plain": [
       "   userId  movieId  rating      tag             title  \\\n",
       "0    5163    57669     4.0  hit men  In Bruges (2008)   \n",
       "1   87388    57669     3.5  hit men  In Bruges (2008)   \n",
       "2  137050    57669     4.0  hit men  In Bruges (2008)   \n",
       "3  120490    57669     4.5  hit men  In Bruges (2008)   \n",
       "4   50616    57669     4.5  hit men  In Bruges (2008)   \n",
       "\n",
       "                             genres year_made     Rating_Datetime  \n",
       "0  [Comedy, Crime, Drama, Thriller]      2008 2018-02-11 11:53:12  \n",
       "1  [Comedy, Crime, Drama, Thriller]      2008 2009-03-19 09:34:57  \n",
       "2  [Comedy, Crime, Drama, Thriller]      2008 2015-03-06 08:50:54  \n",
       "3  [Comedy, Crime, Drama, Thriller]      2008 2014-08-16 22:35:17  \n",
       "4  [Comedy, Crime, Drama, Thriller]      2008 2015-11-08 00:14:00  "
      ]
     },
     "execution_count": 23,
     "metadata": {},
     "output_type": "execute_result"
    }
   ],
   "source": [
    "train_comb.head()"
   ]
  },
  {
   "cell_type": "code",
   "execution_count": 24,
   "id": "59bc383d",
   "metadata": {},
   "outputs": [
    {
     "name": "stdout",
     "output_type": "stream",
     "text": [
      "<class 'pandas.core.frame.DataFrame'>\n",
      "Int64Index: 10000038 entries, 0 to 10000037\n",
      "Data columns (total 8 columns):\n",
      " #   Column           Dtype         \n",
      "---  ------           -----         \n",
      " 0   userId           int64         \n",
      " 1   movieId          int64         \n",
      " 2   rating           float64       \n",
      " 3   tag              object        \n",
      " 4   title            object        \n",
      " 5   genres           object        \n",
      " 6   year_made        object        \n",
      " 7   Rating_Datetime  datetime64[ns]\n",
      "dtypes: datetime64[ns](1), float64(1), int64(2), object(4)\n",
      "memory usage: 686.6+ MB\n"
     ]
    }
   ],
   "source": [
    "train_comb.info()"
   ]
  },
  {
   "cell_type": "code",
   "execution_count": 25,
   "id": "5d8b80cb",
   "metadata": {},
   "outputs": [],
   "source": [
    "# Converting 'year_made' into numeric datatype\n",
    "train_comb[\"year_made\"] = train_comb[\"year_made\"].astype('int64')"
   ]
  },
  {
   "cell_type": "code",
   "execution_count": 26,
   "id": "8656a12e",
   "metadata": {},
   "outputs": [
    {
     "data": {
      "text/plain": [
       "userId    162541\n",
       "dtype: int64"
      ]
     },
     "execution_count": 26,
     "metadata": {},
     "output_type": "execute_result"
    }
   ],
   "source": [
    "# Let's have a look at the unique number of users\n",
    "train_comb[[\"userId\"]].nunique() "
   ]
  },
  {
   "cell_type": "code",
   "execution_count": 27,
   "id": "83dc3253",
   "metadata": {},
   "outputs": [
    {
     "data": {
      "image/png": "[encoded data removed]",
      "text/plain": [
       "<Figure size 720x432 with 1 Axes>"
      ]
     },
     "metadata": {},
     "output_type": "display_data"
    }
   ],
   "source": [
    "# distribution of mean rating\n",
    "rating_grp = train_comb.groupby(\"movieId\")[[\"rating\"]].mean()\n",
    "rating_grp.hist(figsize=(10, 6));"
   ]
  },
  {
   "cell_type": "markdown",
   "id": "85965844",
   "metadata": {},
   "source": [
    "Bulk of the rating are between the value of `3-4` which bascially informed us while the dristibution is `left skewed`"
   ]
  },
  {
   "cell_type": "code",
   "execution_count": 28,
   "id": "1fe0e049",
   "metadata": {},
   "outputs": [],
   "source": [
    "# Group all 2 star and lower ratings together\n",
    "ratings = train_comb.copy()\n",
    "ratings[ratings.rating == 0.5] = 2\n",
    "ratings[ratings.rating == 1] = 2\n",
    "ratings[ratings.rating == 1.5] = 2"
   ]
  },
  {
   "cell_type": "code",
   "execution_count": 29,
   "id": "cf6ee96d",
   "metadata": {},
   "outputs": [],
   "source": [
    "def viza(title: str):\n",
    "    # Extract selected movie ratings\n",
    "    top = ratings[ratings['title'] == title]\n",
    "\n",
    "    # Count how many ratings are in each category: 1 star, 2 star, ect\n",
    "    grouped = pd.DataFrame(top.groupby(['rating'])['title'].count())\n",
    "    grouped.rename(columns={'title': 'rating_count'}, inplace=True)\n",
    "\n",
    "    # Create the figure\n",
    "    fig = plt.figure(figsize=(15, 10))\n",
    "    ax = fig.add_subplot(122)\n",
    "\n",
    "    # Create the colour palette\n",
    "    temp = grouped['rating_count']\n",
    "    temp_mod = [f'{round((x / sum(temp)) * 100)}%' for x in temp]\n",
    "    labels = [f'{x} Stars - {y}' for x, y in zip(grouped.index, temp_mod)]\n",
    "    theme = plt.get_cmap('Reds')\n",
    "    ax.set_prop_cycle(\"color\", [theme(1. * i / len(labels))\n",
    "                                for i in range(len(labels))])\n",
    "\n",
    "    # Create the pie chart\n",
    "    pie = ax.pie(grouped['rating_count'],\n",
    "                 labels=labels,\n",
    "                 shadow=True,\n",
    "                 startangle=10,\n",
    "                 pctdistance=1.115,\n",
    "                 explode=(random.choice([0.1], size=(len(grouped['rating_count']))))\n",
    "                 )\n",
    "\n",
    "    # Turn the pie chart into a donut chart\n",
    "    centre_circle = plt.Circle((0, 0), 0.70, fc='white')\n",
    "    fig = plt.gcf()\n",
    "    fig.gca().add_artist(centre_circle)\n",
    "\n",
    "    # Display the donut chart with a legend\n",
    "    ax.set_title(f'Rating distribution for the {title}\\n', fontsize=15)\n",
    "    plt.tight_layout()\n",
    "    plt.show()"
   ]
  },
  {
   "cell_type": "code",
   "execution_count": 30,
   "id": "71e326ac",
   "metadata": {},
   "outputs": [
    {
     "data": {
      "application/vnd.jupyter.widget-view+json": {
       "model_id": "2fd80979ac3d451689172ba86ad2b449",
       "version_major": 2,
       "version_minor": 0
      },
      "text/plain": [
       "interactive(children=(Dropdown(description='genres', options=('Adventure', 'Animation', 'Children', 'Comedy', …"
      ]
     },
     "metadata": {},
     "output_type": "display_data"
    }
   ],
   "source": [
    "# Interactive visual how movie fair via user ratings\n",
    "def iplotting_rating():\n",
    "    genres_df = df_mov_gen.groupby('genre')[['title']]\n",
    "    genres = df_mov_gen.genre.unique()\n",
    "#     titles=genres_df.get_group(gen)\n",
    "    @interact\n",
    "    def selecting(genres=genres):\n",
    "        titles = genres_df.get_group(genres)['title'].to_list()\n",
    "        @interact_manual\n",
    "        def selecting1(titles=titles):\n",
    "            viza(titles)\n",
    "iplotting_rating()\n"
   ]
  },
  {
   "cell_type": "markdown",
   "id": "01a47ec9",
   "metadata": {},
   "source": [
    "#### Exploring `imdb_data` DataFrame"
   ]
  },
  {
   "cell_type": "code",
   "execution_count": 31,
   "id": "cc336650",
   "metadata": {
    "scrolled": false
   },
   "outputs": [
    {
     "data": {
      "text/plain": [
       "(9633031, 13)"
      ]
     },
     "metadata": {},
     "output_type": "display_data"
    },
    {
     "data": {
      "text/html": [
       "<div>\n",
       "<style scoped>\n",
       "    .dataframe tbody tr th:only-of-type {\n",
       "        vertical-align: middle;\n",
       "    }\n",
       "\n",
       "    .dataframe tbody tr th {\n",
       "        vertical-align: top;\n",
       "    }\n",
       "\n",
       "    .dataframe thead th {\n",
       "        text-align: right;\n",
       "    }\n",
       "</style>\n",
       "<table border=\"1\" class=\"dataframe\">\n",
       "  <thead>\n",
       "    <tr style=\"text-align: right;\">\n",
       "      <th></th>\n",
       "      <th>movieId</th>\n",
       "      <th>title_cast</th>\n",
       "      <th>director</th>\n",
       "      <th>runtime</th>\n",
       "      <th>budget</th>\n",
       "      <th>plot_keywords</th>\n",
       "      <th>userId</th>\n",
       "      <th>rating</th>\n",
       "      <th>tag</th>\n",
       "      <th>title</th>\n",
       "      <th>genres</th>\n",
       "      <th>year_made</th>\n",
       "      <th>Rating_Datetime</th>\n",
       "    </tr>\n",
       "  </thead>\n",
       "  <tbody>\n",
       "    <tr>\n",
       "      <th>0</th>\n",
       "      <td>1</td>\n",
       "      <td>Tom Hanks|Tim Allen|Don Rickles|Jim Varney|Wal...</td>\n",
       "      <td>John Lasseter</td>\n",
       "      <td>81.0</td>\n",
       "      <td>$30,000,000</td>\n",
       "      <td>toy|rivalry|cowboy|cgi animation</td>\n",
       "      <td>158849</td>\n",
       "      <td>5.0</td>\n",
       "      <td>toys</td>\n",
       "      <td>Toy Story (1995)</td>\n",
       "      <td>[Adventure, Animation, Children, Comedy, Fantasy]</td>\n",
       "      <td>1995</td>\n",
       "      <td>2001-07-09 22:13:06</td>\n",
       "    </tr>\n",
       "    <tr>\n",
       "      <th>1</th>\n",
       "      <td>1</td>\n",
       "      <td>Tom Hanks|Tim Allen|Don Rickles|Jim Varney|Wal...</td>\n",
       "      <td>John Lasseter</td>\n",
       "      <td>81.0</td>\n",
       "      <td>$30,000,000</td>\n",
       "      <td>toy|rivalry|cowboy|cgi animation</td>\n",
       "      <td>97203</td>\n",
       "      <td>5.0</td>\n",
       "      <td>toys</td>\n",
       "      <td>Toy Story (1995)</td>\n",
       "      <td>[Adventure, Animation, Children, Comedy, Fantasy]</td>\n",
       "      <td>1995</td>\n",
       "      <td>1999-11-15 16:25:55</td>\n",
       "    </tr>\n",
       "    <tr>\n",
       "      <th>2</th>\n",
       "      <td>1</td>\n",
       "      <td>Tom Hanks|Tim Allen|Don Rickles|Jim Varney|Wal...</td>\n",
       "      <td>John Lasseter</td>\n",
       "      <td>81.0</td>\n",
       "      <td>$30,000,000</td>\n",
       "      <td>toy|rivalry|cowboy|cgi animation</td>\n",
       "      <td>161871</td>\n",
       "      <td>3.0</td>\n",
       "      <td>toys</td>\n",
       "      <td>Toy Story (1995)</td>\n",
       "      <td>[Adventure, Animation, Children, Comedy, Fantasy]</td>\n",
       "      <td>1995</td>\n",
       "      <td>1996-05-26 09:56:16</td>\n",
       "    </tr>\n",
       "    <tr>\n",
       "      <th>3</th>\n",
       "      <td>1</td>\n",
       "      <td>Tom Hanks|Tim Allen|Don Rickles|Jim Varney|Wal...</td>\n",
       "      <td>John Lasseter</td>\n",
       "      <td>81.0</td>\n",
       "      <td>$30,000,000</td>\n",
       "      <td>toy|rivalry|cowboy|cgi animation</td>\n",
       "      <td>45117</td>\n",
       "      <td>4.0</td>\n",
       "      <td>toys</td>\n",
       "      <td>Toy Story (1995)</td>\n",
       "      <td>[Adventure, Animation, Children, Comedy, Fantasy]</td>\n",
       "      <td>1995</td>\n",
       "      <td>2015-09-14 18:56:09</td>\n",
       "    </tr>\n",
       "    <tr>\n",
       "      <th>4</th>\n",
       "      <td>1</td>\n",
       "      <td>Tom Hanks|Tim Allen|Don Rickles|Jim Varney|Wal...</td>\n",
       "      <td>John Lasseter</td>\n",
       "      <td>81.0</td>\n",
       "      <td>$30,000,000</td>\n",
       "      <td>toy|rivalry|cowboy|cgi animation</td>\n",
       "      <td>27431</td>\n",
       "      <td>5.0</td>\n",
       "      <td>toys</td>\n",
       "      <td>Toy Story (1995)</td>\n",
       "      <td>[Adventure, Animation, Children, Comedy, Fantasy]</td>\n",
       "      <td>1995</td>\n",
       "      <td>1996-12-04 02:50:27</td>\n",
       "    </tr>\n",
       "  </tbody>\n",
       "</table>\n",
       "</div>"
      ],
      "text/plain": [
       "   movieId                                         title_cast       director  \\\n",
       "0        1  Tom Hanks|Tim Allen|Don Rickles|Jim Varney|Wal...  John Lasseter   \n",
       "1        1  Tom Hanks|Tim Allen|Don Rickles|Jim Varney|Wal...  John Lasseter   \n",
       "2        1  Tom Hanks|Tim Allen|Don Rickles|Jim Varney|Wal...  John Lasseter   \n",
       "3        1  Tom Hanks|Tim Allen|Don Rickles|Jim Varney|Wal...  John Lasseter   \n",
       "4        1  Tom Hanks|Tim Allen|Don Rickles|Jim Varney|Wal...  John Lasseter   \n",
       "\n",
       "   runtime       budget                     plot_keywords  userId  rating  \\\n",
       "0     81.0  $30,000,000  toy|rivalry|cowboy|cgi animation  158849     5.0   \n",
       "1     81.0  $30,000,000  toy|rivalry|cowboy|cgi animation   97203     5.0   \n",
       "2     81.0  $30,000,000  toy|rivalry|cowboy|cgi animation  161871     3.0   \n",
       "3     81.0  $30,000,000  toy|rivalry|cowboy|cgi animation   45117     4.0   \n",
       "4     81.0  $30,000,000  toy|rivalry|cowboy|cgi animation   27431     5.0   \n",
       "\n",
       "    tag             title                                             genres  \\\n",
       "0  toys  Toy Story (1995)  [Adventure, Animation, Children, Comedy, Fantasy]   \n",
       "1  toys  Toy Story (1995)  [Adventure, Animation, Children, Comedy, Fantasy]   \n",
       "2  toys  Toy Story (1995)  [Adventure, Animation, Children, Comedy, Fantasy]   \n",
       "3  toys  Toy Story (1995)  [Adventure, Animation, Children, Comedy, Fantasy]   \n",
       "4  toys  Toy Story (1995)  [Adventure, Animation, Children, Comedy, Fantasy]   \n",
       "\n",
       "   year_made     Rating_Datetime  \n",
       "0       1995 2001-07-09 22:13:06  \n",
       "1       1995 1999-11-15 16:25:55  \n",
       "2       1995 1996-05-26 09:56:16  \n",
       "3       1995 2015-09-14 18:56:09  \n",
       "4       1995 1996-12-04 02:50:27  "
      ]
     },
     "execution_count": 31,
     "metadata": {},
     "output_type": "execute_result"
    }
   ],
   "source": [
    "# combining dataframe in index 2 from the df_list and current train merged 'train_comb' to give\n",
    "# an enrich dataset for exploration of 'imdb data'\n",
    "df_imdb = df_list[2].merge(train_comb, how=\"inner\", on=[\"movieId\"])\n",
    "display(df_imdb.shape)\n",
    "df_imdb.head()"
   ]
  },
  {
   "cell_type": "code",
   "execution_count": 32,
   "id": "a84c17aa",
   "metadata": {},
   "outputs": [
    {
     "data": {
      "text/plain": [
       "movieId                  0\n",
       "title_cast         2604407\n",
       "director           2602688\n",
       "runtime            2653058\n",
       "budget             3152276\n",
       "plot_keywords      2610043\n",
       "userId                   0\n",
       "rating                   0\n",
       "tag                      0\n",
       "title                    0\n",
       "genres                   0\n",
       "year_made                0\n",
       "Rating_Datetime          0\n",
       "dtype: int64"
      ]
     },
     "execution_count": 32,
     "metadata": {},
     "output_type": "execute_result"
    }
   ],
   "source": [
    "# Checking for null values\n",
    "df_imdb.isnull().sum()"
   ]
  },
  {
   "cell_type": "code",
   "execution_count": 33,
   "id": "ac6cc982",
   "metadata": {},
   "outputs": [
    {
     "data": {
      "text/plain": [
       "movieId            0\n",
       "title_cast         0\n",
       "director           0\n",
       "runtime            0\n",
       "budget             0\n",
       "plot_keywords      0\n",
       "userId             0\n",
       "rating             0\n",
       "tag                0\n",
       "title              0\n",
       "genres             0\n",
       "year_made          0\n",
       "Rating_Datetime    0\n",
       "dtype: int64"
      ]
     },
     "execution_count": 33,
     "metadata": {},
     "output_type": "execute_result"
    }
   ],
   "source": [
    "# Dropping null values to have a better unbiased analysis of the dataset\n",
    "df_imdb = df_imdb.dropna(subset=['budget', 'runtime', 'plot_keywords', 'title_cast'])\n",
    "\n",
    "# Checking for null values again\n",
    "df_imdb.isnull().sum()"
   ]
  },
  {
   "cell_type": "code",
   "execution_count": 34,
   "id": "7ca0a65f",
   "metadata": {},
   "outputs": [
    {
     "name": "stdout",
     "output_type": "stream",
     "text": [
      "We have 162182 numbers of users in the new and modified \"imdb\" dataset and      \n",
      "We also have 6418 number of movies to explore YAY!!!\n",
      "The dataset has 6454993 rows/entries and 13 features/columns\n"
     ]
    }
   ],
   "source": [
    "print(f'We have {df_imdb.userId.nunique()} numbers of users in the new and modified \"imdb\" dataset and\\\n",
    "      \\nWe also have {df_imdb.movieId.nunique()} number of movies to explore YAY!!!')\n",
    "\n",
    "print(f'The dataset has {df_imdb.shape[0]} rows/entries and {df_imdb.shape[1]} features/columns') "
   ]
  },
  {
   "cell_type": "markdown",
   "id": "1bc1167d",
   "metadata": {},
   "source": [
    "#### Engineer new features for the `IMDB` dataset"
   ]
  },
  {
   "cell_type": "code",
   "execution_count": 35,
   "id": "d1fb698c",
   "metadata": {},
   "outputs": [],
   "source": [
    "df_imdb['rated_year'] = pd.DatetimeIndex(df_imdb['Rating_Datetime']).year\n",
    "df_imdb['rated_month'] = pd.DatetimeIndex(df_imdb['Rating_Datetime']).month\n",
    "df_imdb['rated_day'] = pd.DatetimeIndex(df_imdb['Rating_Datetime']).day\n",
    "df_imdb.drop('Rating_Datetime', axis=1, inplace=True)"
   ]
  },
  {
   "cell_type": "code",
   "execution_count": 36,
   "id": "9ffdc338",
   "metadata": {},
   "outputs": [
    {
     "data": {
      "text/html": [
       "<div>\n",
       "<style scoped>\n",
       "    .dataframe tbody tr th:only-of-type {\n",
       "        vertical-align: middle;\n",
       "    }\n",
       "\n",
       "    .dataframe tbody tr th {\n",
       "        vertical-align: top;\n",
       "    }\n",
       "\n",
       "    .dataframe thead th {\n",
       "        text-align: right;\n",
       "    }\n",
       "</style>\n",
       "<table border=\"1\" class=\"dataframe\">\n",
       "  <thead>\n",
       "    <tr style=\"text-align: right;\">\n",
       "      <th></th>\n",
       "      <th>movieId</th>\n",
       "      <th>title_cast</th>\n",
       "      <th>director</th>\n",
       "      <th>runtime</th>\n",
       "      <th>budget</th>\n",
       "      <th>plot_keywords</th>\n",
       "      <th>userId</th>\n",
       "      <th>rating</th>\n",
       "      <th>tag</th>\n",
       "      <th>title</th>\n",
       "      <th>genres</th>\n",
       "      <th>year_made</th>\n",
       "      <th>rated_year</th>\n",
       "      <th>rated_month</th>\n",
       "      <th>rated_day</th>\n",
       "    </tr>\n",
       "  </thead>\n",
       "  <tbody>\n",
       "    <tr>\n",
       "      <th>3314251</th>\n",
       "      <td>1544</td>\n",
       "      <td>Jeff Goldblum|Julianne Moore|Pete Postlethwait...</td>\n",
       "      <td>Michael Crichton</td>\n",
       "      <td>129.0</td>\n",
       "      <td>$73,000,000</td>\n",
       "      <td>dinosaur|costa rica|dog's death|blockbuster video</td>\n",
       "      <td>155563</td>\n",
       "      <td>4.0</td>\n",
       "      <td>dinosaurs</td>\n",
       "      <td>Lost World: Jurassic Park, The (1997)</td>\n",
       "      <td>[Action, Adventure, Sci-Fi, Thriller]</td>\n",
       "      <td>1997</td>\n",
       "      <td>2016</td>\n",
       "      <td>10</td>\n",
       "      <td>4</td>\n",
       "    </tr>\n",
       "    <tr>\n",
       "      <th>1961270</th>\n",
       "      <td>852</td>\n",
       "      <td>Kevin Costner|Rene Russo|Don Johnson|Cheech Ma...</td>\n",
       "      <td>John Norville</td>\n",
       "      <td>135.0</td>\n",
       "      <td>$45,000,000</td>\n",
       "      <td>golf|nickname|love|kiss</td>\n",
       "      <td>1475</td>\n",
       "      <td>3.0</td>\n",
       "      <td>golf</td>\n",
       "      <td>Tin Cup (1996)</td>\n",
       "      <td>[Comedy, Drama, Romance]</td>\n",
       "      <td>1996</td>\n",
       "      <td>2008</td>\n",
       "      <td>8</td>\n",
       "      <td>23</td>\n",
       "    </tr>\n",
       "    <tr>\n",
       "      <th>1810148</th>\n",
       "      <td>736</td>\n",
       "      <td>Helen Hunt|Bill Paxton|Cary Elwes|Jami Gertz|P...</td>\n",
       "      <td>Michael Crichton</td>\n",
       "      <td>113.0</td>\n",
       "      <td>$92,000,000</td>\n",
       "      <td>eating|steak|crashing a car into a house|cow</td>\n",
       "      <td>120696</td>\n",
       "      <td>1.0</td>\n",
       "      <td>natural disaster</td>\n",
       "      <td>Twister (1996)</td>\n",
       "      <td>[Action, Adventure, Romance, Thriller]</td>\n",
       "      <td>1996</td>\n",
       "      <td>2008</td>\n",
       "      <td>10</td>\n",
       "      <td>19</td>\n",
       "    </tr>\n",
       "    <tr>\n",
       "      <th>7988186</th>\n",
       "      <td>43928</td>\n",
       "      <td>Milla Jovovich|Cameron Bright|Nick Chinlund|Se...</td>\n",
       "      <td>Kurt Wimmer</td>\n",
       "      <td>88.0</td>\n",
       "      <td>$30,000,000</td>\n",
       "      <td>terrible dialogue|bad acting|bare midriff|bare...</td>\n",
       "      <td>57734</td>\n",
       "      <td>2.0</td>\n",
       "      <td>based on a comic</td>\n",
       "      <td>Ultraviolet (2006)</td>\n",
       "      <td>[Action, Fantasy, Sci-Fi, Thriller]</td>\n",
       "      <td>2006</td>\n",
       "      <td>2007</td>\n",
       "      <td>9</td>\n",
       "      <td>13</td>\n",
       "    </tr>\n",
       "    <tr>\n",
       "      <th>5819611</th>\n",
       "      <td>3950</td>\n",
       "      <td>Colin Farrell|Matthew Davis|Clifton Collins Jr...</td>\n",
       "      <td>Ross Klavan</td>\n",
       "      <td>101.0</td>\n",
       "      <td>$10,000,000</td>\n",
       "      <td>vietnam|platoon|recruit|sergeant</td>\n",
       "      <td>148149</td>\n",
       "      <td>2.0</td>\n",
       "      <td>vietnam war</td>\n",
       "      <td>Tigerland (2000)</td>\n",
       "      <td>[Drama]</td>\n",
       "      <td>2000</td>\n",
       "      <td>2010</td>\n",
       "      <td>7</td>\n",
       "      <td>1</td>\n",
       "    </tr>\n",
       "  </tbody>\n",
       "</table>\n",
       "</div>"
      ],
      "text/plain": [
       "         movieId                                         title_cast  \\\n",
       "3314251     1544  Jeff Goldblum|Julianne Moore|Pete Postlethwait...   \n",
       "1961270      852  Kevin Costner|Rene Russo|Don Johnson|Cheech Ma...   \n",
       "1810148      736  Helen Hunt|Bill Paxton|Cary Elwes|Jami Gertz|P...   \n",
       "7988186    43928  Milla Jovovich|Cameron Bright|Nick Chinlund|Se...   \n",
       "5819611     3950  Colin Farrell|Matthew Davis|Clifton Collins Jr...   \n",
       "\n",
       "                 director  runtime       budget  \\\n",
       "3314251  Michael Crichton    129.0  $73,000,000   \n",
       "1961270     John Norville    135.0  $45,000,000   \n",
       "1810148  Michael Crichton    113.0  $92,000,000   \n",
       "7988186       Kurt Wimmer     88.0  $30,000,000   \n",
       "5819611       Ross Klavan    101.0  $10,000,000   \n",
       "\n",
       "                                             plot_keywords  userId  rating  \\\n",
       "3314251  dinosaur|costa rica|dog's death|blockbuster video  155563     4.0   \n",
       "1961270                            golf|nickname|love|kiss    1475     3.0   \n",
       "1810148       eating|steak|crashing a car into a house|cow  120696     1.0   \n",
       "7988186  terrible dialogue|bad acting|bare midriff|bare...   57734     2.0   \n",
       "5819611                   vietnam|platoon|recruit|sergeant  148149     2.0   \n",
       "\n",
       "                      tag                                  title  \\\n",
       "3314251         dinosaurs  Lost World: Jurassic Park, The (1997)   \n",
       "1961270              golf                         Tin Cup (1996)   \n",
       "1810148  natural disaster                         Twister (1996)   \n",
       "7988186  based on a comic                     Ultraviolet (2006)   \n",
       "5819611       vietnam war                       Tigerland (2000)   \n",
       "\n",
       "                                         genres  year_made  rated_year  \\\n",
       "3314251   [Action, Adventure, Sci-Fi, Thriller]       1997        2016   \n",
       "1961270                [Comedy, Drama, Romance]       1996        2008   \n",
       "1810148  [Action, Adventure, Romance, Thriller]       1996        2008   \n",
       "7988186     [Action, Fantasy, Sci-Fi, Thriller]       2006        2007   \n",
       "5819611                                 [Drama]       2000        2010   \n",
       "\n",
       "         rated_month  rated_day  \n",
       "3314251           10          4  \n",
       "1961270            8         23  \n",
       "1810148           10         19  \n",
       "7988186            9         13  \n",
       "5819611            7          1  "
      ]
     },
     "execution_count": 36,
     "metadata": {},
     "output_type": "execute_result"
    }
   ],
   "source": [
    "df_imdb.sample(5)"
   ]
  },
  {
   "cell_type": "markdown",
   "id": "c3657d6b",
   "metadata": {},
   "source": [
    "#### Important  words for `Plot` and `Cast`"
   ]
  },
  {
   "cell_type": "code",
   "execution_count": 37,
   "id": "d9b1bbb9",
   "metadata": {},
   "outputs": [],
   "source": [
    "def imdb_extract(coln: str, splitter='|', df=df_imdb):\n",
    "    \"\"\"This use to compile all the keyword and there frequency \n",
    "    in the imdb dataset found in a particular column\"\"\"\n",
    "    keywords_dict = {}\n",
    "    movieId = df.movieId.unique()\n",
    "    df_grp = df_imdb.groupby('movieId')\n",
    "    for pp in movieId:\n",
    "        row = df_grp.get_group(pp)[coln].values[0]\n",
    "        keywords_dict = bag_of_words_count(words=row, splitter=splitter, word_dict=keywords_dict)\n",
    "        \n",
    "#     Sorting the dictionary\n",
    "    sorted_dt = {key: value for key, value in sorted(keywords_dict.items(), key=lambda item: item[1], reverse=True)}\n",
    "    return sorted_dt"
   ]
  },
  {
   "cell_type": "code",
   "execution_count": 38,
   "id": "39732def",
   "metadata": {},
   "outputs": [],
   "source": [
    "# making a dictionary for the keyword and there frequency\n",
    "keyword_dict = imdb_extract(coln='plot_keywords')\n",
    "\n",
    "# making a dictionary for the cast (actors and actress) and there frequency\n",
    "casts_dict = imdb_extract(coln='title_cast')"
   ]
  },
  {
   "cell_type": "code",
   "execution_count": 39,
   "id": "541eded0",
   "metadata": {},
   "outputs": [
    {
     "data": {
      "application/vnd.jupyter.widget-view+json": {
       "model_id": "5bbe574b9ec24cf995349ab3bc89c7e6",
       "version_major": 2,
       "version_minor": 0
      },
      "text/plain": [
       "interactive(children=(Dropdown(description='WordType', options=('Plot Keywords', 'Title Cast'), value='Plot Ke…"
      ]
     },
     "metadata": {},
     "output_type": "display_data"
    }
   ],
   "source": [
    "def iplotting():   \n",
    "    slider = widgets.IntSlider(value=25, min=10, max=50, step=1)\n",
    "    @interact_manual\n",
    "    def selecting(WordType=['Plot Keywords', 'Title Cast'], Frequency=slider, ):\n",
    "        if WordType == 'Title Cast':\n",
    "            num_dict_items = dict(itertools.islice(casts_dict.items(), Frequency))\n",
    "        else:\n",
    "            num_dict_items = dict(itertools.islice(keyword_dict.items(), Frequency))\n",
    "        word_cloud_genre=WordCloud(width=1500, height=800, background_color='white',\n",
    "                                   relative_scaling=0.2, min_font_size=2,).generate_from_frequencies(num_dict_items)\n",
    "        plt.figure(figsize=(20,10))\n",
    "        plt.axis('off')\n",
    "        plt.title(f'{WordType} for Movies',fontsize=30)\n",
    "        plt.imshow(word_cloud_genre);\n",
    "iplotting()"
   ]
  },
  {
   "cell_type": "markdown",
   "id": "a820ecbb",
   "metadata": {},
   "source": [
    "#### Movie Runtime Distribution"
   ]
  },
  {
   "cell_type": "code",
   "execution_count": 40,
   "id": "ae9737d7",
   "metadata": {},
   "outputs": [
    {
     "data": {
      "image/png": "[encoded data removed]",
      "text/plain": [
       "<Figure size 1080x504 with 1 Axes>"
      ]
     },
     "metadata": {},
     "output_type": "display_data"
    }
   ],
   "source": [
    "runtime_df = df_imdb.groupby('movieId')[['runtime']].mean()\n",
    "plt.figure(figsize=(15, 7))\n",
    "sns.histplot(runtime_df, bins=20)\n",
    "plt.xticks([30, 70, 110, 160, 200, 400, 600, 800])\n",
    "plt.show()"
   ]
  },
  {
   "cell_type": "markdown",
   "id": "124abd87",
   "metadata": {},
   "source": [
    "The `runtime` shows that bulk of movies are between `70-110 minutes` durations<br>\n",
    "while from `300 minutes` movies and `upwards` are rare and can be considered outliers"
   ]
  },
  {
   "cell_type": "markdown",
   "id": "e4e972c2",
   "metadata": {},
   "source": [
    "#### Budget VS Rating\n",
    "Visual for budget and how it affect rating by `users`"
   ]
  },
  {
   "cell_type": "code",
   "execution_count": 41,
   "id": "ac082d13",
   "metadata": {},
   "outputs": [],
   "source": [
    "# Converting budget into numeric datatype\n",
    "df_imdb['budget_currency'] = df_imdb.budget.apply(lambda x: re.match('[^0-9]+', x).group(0))\n",
    "df_imdb['budgets'] = df_imdb.budget.apply(lambda x: x.replace(re.match('[^0-9]+', x).group(0), ''))\n",
    "df_imdb['budgets'] = df_imdb.budgets.apply(lambda x: x.replace(',', '')).astype('float64')\n"
   ]
  },
  {
   "cell_type": "code",
   "execution_count": 42,
   "id": "a63592ac",
   "metadata": {},
   "outputs": [
    {
     "data": {
      "text/plain": [
       "array(['$', 'GBP', 'EUR', 'CAD', 'FRF', 'DEM', 'AUD', 'JPY', 'HKD', 'CHF',\n",
       "       'ESP', 'INR', 'BEF', 'SEK', 'ATS', 'NOK', 'FIM', 'SGD', 'DKK',\n",
       "       'THB', 'BRL', 'NLG', 'BND', 'CNY', 'NZD', 'HUF', 'KRW', 'CZK',\n",
       "       'PLN', 'ISK', 'BGL', 'IDR', 'MYR', 'CLP', 'MXN', 'ARS', 'ILS',\n",
       "       'PTE', 'VEB', 'TWD', 'NGN', 'ITL', 'LVL', 'RUR', 'PHP'],\n",
       "      dtype=object)"
      ]
     },
     "execution_count": 42,
     "metadata": {},
     "output_type": "execute_result"
    }
   ],
   "source": [
    "# Lisiting all currency in our dataset\n",
    "currency = df_imdb.budget_currency.unique()\n",
    "currency"
   ]
  },
  {
   "cell_type": "code",
   "execution_count": 43,
   "id": "79c54fca",
   "metadata": {
    "scrolled": false
   },
   "outputs": [],
   "source": [
    "# Importing current exchange rate from `exchangerate-api.com`\n",
    "url = 'https://open.er-api.com/v6/latest/USD'\n",
    "data = requests.get(url).json()\n",
    "currencies = data['rates']"
   ]
  },
  {
   "cell_type": "code",
   "execution_count": 44,
   "id": "bf678b8a",
   "metadata": {},
   "outputs": [
    {
     "name": "stdout",
     "output_type": "stream",
     "text": [
      "$,FRF,DEM,ESP,BEF,ATS,FIM,NLG,BGL,PTE,VEB,ITL,LVL,RUR,"
     ]
    }
   ],
   "source": [
    "# currency not in the json file\n",
    "for x in currency:\n",
    "    if x not in currencies:\n",
    "        print(x, end=\",\")"
   ]
  },
  {
   "cell_type": "code",
   "execution_count": 45,
   "id": "4a4ed94b",
   "metadata": {},
   "outputs": [],
   "source": [
    "# inputing manually for currency not so popular and not in the json file\n",
    "other_curr = {'$':1, 'FRF':0.155, 'DEM':0.52, 'ESP':1.02, 'BEF':0.025, 'ATS':0.074, \n",
    "              'FIM':0.17, 'NLG':0.46, 'BGL':0.52, 'PTE':0.00508, 'VEB':0.0000000018,\n",
    "              'ITL':0.000526, 'LVL':1.449,'RUR':0.016,}"
   ]
  },
  {
   "cell_type": "code",
   "execution_count": 46,
   "id": "fe7644b9",
   "metadata": {},
   "outputs": [],
   "source": [
    "# appending exchange rate against dollar to a dictionary\n",
    "currency_exchange = {}\n",
    "for x in currency:\n",
    "    currency_exchange[x] = (currencies | other_curr)[x]\n",
    "# currency_exchange"
   ]
  },
  {
   "cell_type": "code",
   "execution_count": 47,
   "id": "cbf8b1ce",
   "metadata": {},
   "outputs": [
    {
     "data": {
      "text/html": [
       "<div>\n",
       "<style scoped>\n",
       "    .dataframe tbody tr th:only-of-type {\n",
       "        vertical-align: middle;\n",
       "    }\n",
       "\n",
       "    .dataframe tbody tr th {\n",
       "        vertical-align: top;\n",
       "    }\n",
       "\n",
       "    .dataframe thead th {\n",
       "        text-align: right;\n",
       "    }\n",
       "</style>\n",
       "<table border=\"1\" class=\"dataframe\">\n",
       "  <thead>\n",
       "    <tr style=\"text-align: right;\">\n",
       "      <th></th>\n",
       "      <th>rating</th>\n",
       "      <th>budget_currency</th>\n",
       "      <th>budgets</th>\n",
       "      <th>conv_budget</th>\n",
       "    </tr>\n",
       "    <tr>\n",
       "      <th>movieId</th>\n",
       "      <th></th>\n",
       "      <th></th>\n",
       "      <th></th>\n",
       "      <th></th>\n",
       "    </tr>\n",
       "  </thead>\n",
       "  <tbody>\n",
       "    <tr>\n",
       "      <th>101025</th>\n",
       "      <td>2.996364</td>\n",
       "      <td>$</td>\n",
       "      <td>195000000.0</td>\n",
       "      <td>195000000</td>\n",
       "    </tr>\n",
       "    <tr>\n",
       "      <th>2325</th>\n",
       "      <td>3.118056</td>\n",
       "      <td>$</td>\n",
       "      <td>1000000.0</td>\n",
       "      <td>1000000</td>\n",
       "    </tr>\n",
       "    <tr>\n",
       "      <th>105</th>\n",
       "      <td>3.318596</td>\n",
       "      <td>$</td>\n",
       "      <td>24000000.0</td>\n",
       "      <td>24000000</td>\n",
       "    </tr>\n",
       "    <tr>\n",
       "      <th>47423</th>\n",
       "      <td>3.655832</td>\n",
       "      <td>$</td>\n",
       "      <td>700000.0</td>\n",
       "      <td>700000</td>\n",
       "    </tr>\n",
       "    <tr>\n",
       "      <th>87449</th>\n",
       "      <td>3.333333</td>\n",
       "      <td>EUR</td>\n",
       "      <td>3675000.0</td>\n",
       "      <td>3697183</td>\n",
       "    </tr>\n",
       "    <tr>\n",
       "      <th>51935</th>\n",
       "      <td>3.621007</td>\n",
       "      <td>$</td>\n",
       "      <td>61000000.0</td>\n",
       "      <td>61000000</td>\n",
       "    </tr>\n",
       "    <tr>\n",
       "      <th>88194</th>\n",
       "      <td>2.625000</td>\n",
       "      <td>$</td>\n",
       "      <td>1300000.0</td>\n",
       "      <td>1300000</td>\n",
       "    </tr>\n",
       "    <tr>\n",
       "      <th>91290</th>\n",
       "      <td>3.522222</td>\n",
       "      <td>EUR</td>\n",
       "      <td>10000000.0</td>\n",
       "      <td>10060362</td>\n",
       "    </tr>\n",
       "    <tr>\n",
       "      <th>6337</th>\n",
       "      <td>3.492991</td>\n",
       "      <td>$</td>\n",
       "      <td>10000000.0</td>\n",
       "      <td>10000000</td>\n",
       "    </tr>\n",
       "    <tr>\n",
       "      <th>33681</th>\n",
       "      <td>1.849693</td>\n",
       "      <td>$</td>\n",
       "      <td>50000000.0</td>\n",
       "      <td>50000000</td>\n",
       "    </tr>\n",
       "  </tbody>\n",
       "</table>\n",
       "</div>"
      ],
      "text/plain": [
       "           rating budget_currency      budgets  conv_budget\n",
       "movieId                                                    \n",
       "101025   2.996364               $  195000000.0    195000000\n",
       "2325     3.118056               $    1000000.0      1000000\n",
       "105      3.318596               $   24000000.0     24000000\n",
       "47423    3.655832               $     700000.0       700000\n",
       "87449    3.333333             EUR    3675000.0      3697183\n",
       "51935    3.621007               $   61000000.0     61000000\n",
       "88194    2.625000               $    1300000.0      1300000\n",
       "91290    3.522222             EUR   10000000.0     10060362\n",
       "6337     3.492991               $   10000000.0     10000000\n",
       "33681    1.849693               $   50000000.0     50000000"
      ]
     },
     "execution_count": 47,
     "metadata": {},
     "output_type": "execute_result"
    }
   ],
   "source": [
    "# Grouping to movies and converting all currency to 'USD'\n",
    "movie_grp = df_imdb.groupby('movieId').agg({\"rating\":\"mean\",\n",
    "                                            \"budget_currency\":lambda x: pd.Series.mode(x)[0], \"budgets\":\"mean\"})\n",
    "movie_grp['conv_budget'] = movie_grp.apply(lambda x: round(x.budgets/currency_exchange[x.budget_currency]), axis=1)\n",
    "movie_grp.sample(10)"
   ]
  },
  {
   "cell_type": "code",
   "execution_count": 48,
   "id": "ccae3581",
   "metadata": {},
   "outputs": [
    {
     "data": {
      "image/png": "[encoded data removed]",
      "text/plain": [
       "<Figure size 720x360 with 1 Axes>"
      ]
     },
     "metadata": {},
     "output_type": "display_data"
    }
   ],
   "source": [
    "# Using visual to check for outliers\n",
    "fig, ax = plt.subplots(1, figsize=(10,5))\n",
    "sns.boxenplot(x='conv_budget', data=movie_grp);\n"
   ]
  },
  {
   "cell_type": "markdown",
   "id": "d8d67d04",
   "metadata": {},
   "source": [
    "This visual show us there is extreme outlier(s) in the dataset and will have bad influence on the intepretation of following visuals, therefore we need to remove those `outliers`"
   ]
  },
  {
   "cell_type": "code",
   "execution_count": 49,
   "id": "cc0fdcb1",
   "metadata": {},
   "outputs": [],
   "source": [
    "# Dealing with outliers, since we have an outrageous one in our dataset\n",
    "Q1 = np.percentile(movie_grp['conv_budget'], 25.0)\n",
    "Q3 = np.percentile(movie_grp['conv_budget'], 75.0)\n",
    "IQR = Q3 - Q1\n",
    "df_sub = movie_grp[movie_grp['conv_budget'] > Q3 + 1.5*IQR]\n",
    "movie_grp_mod = movie_grp.drop(df_sub.index)"
   ]
  },
  {
   "cell_type": "code",
   "execution_count": 50,
   "id": "b185e58a",
   "metadata": {},
   "outputs": [
    {
     "data": {
      "image/png": "[encoded data removed]",
      "text/plain": [
       "<Figure size 720x360 with 1 Axes>"
      ]
     },
     "metadata": {},
     "output_type": "display_data"
    }
   ],
   "source": [
    "# Using visual to check again for outliers\n",
    "fig, ax = plt.subplots(1, figsize=(10,5))\n",
    "sns.boxenplot(x='conv_budget', data=movie_grp_mod);"
   ]
  },
  {
   "cell_type": "code",
   "execution_count": 51,
   "id": "389c0b76",
   "metadata": {},
   "outputs": [
    {
     "data": {
      "image/png": "[encoded data removed]",
      "text/plain": [
       "<Figure size 1080x504 with 1 Axes>"
      ]
     },
     "metadata": {},
     "output_type": "display_data"
    }
   ],
   "source": [
    "# Visualize the distribution of the movies budgets\n",
    "plt.figure(figsize=(15, 7))\n",
    "sns.histplot(x=movie_grp_mod['conv_budget'], bins=20)\n",
    "plt.show()"
   ]
  },
  {
   "cell_type": "markdown",
   "id": "fe6ab18b",
   "metadata": {},
   "source": [
    "The histogram show that our budget is skewed to the right, and dipect, we have lesser film has cost of movie `budget` increases"
   ]
  },
  {
   "cell_type": "code",
   "execution_count": 52,
   "id": "f2b5da47",
   "metadata": {},
   "outputs": [
    {
     "data": {
      "image/png": "[encoded data removed]",
      "text/plain": [
       "<Figure size 1080x504 with 1 Axes>"
      ]
     },
     "metadata": {},
     "output_type": "display_data"
    }
   ],
   "source": [
    "# Plotting a scatter plot to visualize relationship between \n",
    "plt.figure(figsize=(15, 7))\n",
    "sns.scatterplot(data=movie_grp_mod, y='conv_budget', x='rating');\n",
    "plt.title(f'Relationship between Budget and users Rating have a\\\n",
    " correlation of {round(movie_grp_mod.conv_budget.corr(movie_grp_mod.rating),4)}', fontsize=20)\n",
    "plt.show()"
   ]
  },
  {
   "cell_type": "markdown",
   "id": "bc39f700",
   "metadata": {},
   "source": [
    "Though there might be some correlation between `budgets and rating` it is very `weak` and it is safe to assume that money used in making film does not really have much impart into what inform users ratings"
   ]
  },
  {
   "cell_type": "markdown",
   "id": "033d1a3f",
   "metadata": {},
   "source": [
    "#### Simple Recommender System\n",
    "- Using the year movie was made, ratings and each movies number of rating or voting to filter and rank movies to see what people are watching or get list of trendy films<br><br>\n",
    "Since we want to include the whole users input from the dataset we will go back to our earlier `train combined dataset (train_comb)` and use that to create new features, which we will then use in ranking `movies`"
   ]
  },
  {
   "cell_type": "code",
   "execution_count": 53,
   "id": "25ea8ab9",
   "metadata": {},
   "outputs": [
    {
     "data": {
      "text/html": [
       "<div>\n",
       "<style scoped>\n",
       "    .dataframe tbody tr th:only-of-type {\n",
       "        vertical-align: middle;\n",
       "    }\n",
       "\n",
       "    .dataframe tbody tr th {\n",
       "        vertical-align: top;\n",
       "    }\n",
       "\n",
       "    .dataframe thead th {\n",
       "        text-align: right;\n",
       "    }\n",
       "</style>\n",
       "<table border=\"1\" class=\"dataframe\">\n",
       "  <thead>\n",
       "    <tr style=\"text-align: right;\">\n",
       "      <th></th>\n",
       "      <th>title</th>\n",
       "      <th>rating_average</th>\n",
       "      <th>rating_count</th>\n",
       "      <th>popularity</th>\n",
       "      <th>year_made</th>\n",
       "    </tr>\n",
       "  </thead>\n",
       "  <tbody>\n",
       "    <tr>\n",
       "      <th>34480</th>\n",
       "      <td>Shawshank Redemption, The (1994)</td>\n",
       "      <td>4.417624</td>\n",
       "      <td>32831</td>\n",
       "      <td>145035.0</td>\n",
       "      <td>1994</td>\n",
       "    </tr>\n",
       "    <tr>\n",
       "      <th>14537</th>\n",
       "      <td>Forrest Gump (1994)</td>\n",
       "      <td>4.047216</td>\n",
       "      <td>32383</td>\n",
       "      <td>131061.0</td>\n",
       "      <td>1994</td>\n",
       "    </tr>\n",
       "    <tr>\n",
       "      <th>31236</th>\n",
       "      <td>Pulp Fiction (1994)</td>\n",
       "      <td>4.195097</td>\n",
       "      <td>31697</td>\n",
       "      <td>132972.0</td>\n",
       "      <td>1994</td>\n",
       "    </tr>\n",
       "    <tr>\n",
       "      <th>34840</th>\n",
       "      <td>Silence of the Lambs, The (1991)</td>\n",
       "      <td>4.144172</td>\n",
       "      <td>29444</td>\n",
       "      <td>122021.0</td>\n",
       "      <td>1991</td>\n",
       "    </tr>\n",
       "    <tr>\n",
       "      <th>25144</th>\n",
       "      <td>Matrix, The (1999)</td>\n",
       "      <td>4.154253</td>\n",
       "      <td>29014</td>\n",
       "      <td>120531.5</td>\n",
       "      <td>1999</td>\n",
       "    </tr>\n",
       "  </tbody>\n",
       "</table>\n",
       "</div>"
      ],
      "text/plain": [
       "                                  title  rating_average  rating_count  \\\n",
       "34480  Shawshank Redemption, The (1994)        4.417624         32831   \n",
       "14537               Forrest Gump (1994)        4.047216         32383   \n",
       "31236               Pulp Fiction (1994)        4.195097         31697   \n",
       "34840  Silence of the Lambs, The (1991)        4.144172         29444   \n",
       "25144                Matrix, The (1999)        4.154253         29014   \n",
       "\n",
       "       popularity year_made  \n",
       "34480    145035.0      1994  \n",
       "14537    131061.0      1994  \n",
       "31236    132972.0      1994  \n",
       "34840    122021.0      1991  \n",
       "25144    120531.5      1999  "
      ]
     },
     "execution_count": 53,
     "metadata": {},
     "output_type": "execute_result"
    }
   ],
   "source": [
    "# Creating new features 'rating_average' and 'rating_count' per each movies in our dataset\n",
    "movie_ranking_df = pd.DataFrame(train_comb.groupby(['title'])[['rating']].agg(\n",
    "    rating_average=('rating',np.mean), \n",
    "    rating_count=('rating','count')))\n",
    "\n",
    "# Using the product of the new features to create another feature call 'popularity'\n",
    "movie_ranking_df['popularity'] = movie_ranking_df['rating_average'] * movie_ranking_df['rating_count']\n",
    "\n",
    "# extracting the year in which the movie was made to create new features\n",
    "movie_ranking_df.reset_index(inplace=True)\n",
    "movie_ranking_df[\"year_made\"] = movie_ranking_df[\"title\"].apply(lambda x: \"\".join(re.findall(r\"\\((\\d+)\\)+$\", x)) \n",
    "                                                  if re.findall(r\"\\((\\d+)\\)+$\", x) else 0)\n",
    "\n",
    "movie_ranking_df.sort_values('rating_count', ascending=False).head()"
   ]
  },
  {
   "cell_type": "markdown",
   "id": "6ef7f465",
   "metadata": {
    "_cell_guid": "23cf39ba-ef09-4972-9d1f-ed91cb2ef134",
    "_uuid": "9571875d383f237f126febe9c76f966e2869fdc3"
   },
   "source": [
    "We will use the TMDB Ratings to come up with our **Top Movies Chart.** using the IMDB's *weighted rating* formula to construct the ranks. Mathematically, it is represented as follows:\n",
    "\n",
    "Weighted Rating (WR) = $(\\frac{v}{v + m} . R) + (\\frac{m}{v + m} . C)$\n",
    "\n",
    "where,\n",
    "* *v* is the number of votes for the movie\n",
    "* *m* is the minimum votes required to be listed in the chart\n",
    "* *R* is the average rating of the movie\n",
    "* *C* is the mean vote across the whole report\n",
    "\n",
    "The next step is to determine an appropriate value for *m*, the minimum votes required to be listed in the chart. We will use **95th percentile** as our cutoff. In other words, for a movie to feature in the charts, it must have more votes than at least 95% of the movies in the list.def weighted_rating(x):\n",
    "    v = x['vote_count']\n",
    "    R = x['vote_average']\n",
    "    return (v/(v+m) * R) + (m/(m+v) * C)\n",
    "\n",
    "qualified['wr'] = qualified.apply(weighted_rating, axis=1)\n",
    "\n",
    "qualified = qualified.sort_values('wr', ascending=False).head(250)\n",
    "\n",
    "### Top Movies\n",
    "\n",
    "qualified.head(15)\n",
    "\n",
    "We see that three Christopher Nolan Films, **Inception**, **The Dark Knight** and **Interstellar** occur at the very top of our chart. The chart also indicates a strong bias of TMDB Users towards particular genres and directors. \n",
    "\n",
    "Let us now construct our function that builds charts for particular genres. For this, we will use relax our default conditions to the **85th** percentile instead of 95. "
   ]
  },
  {
   "cell_type": "code",
   "execution_count": 54,
   "id": "ab4e6c0a",
   "metadata": {},
   "outputs": [
    {
     "name": "stdout",
     "output_type": "stream",
     "text": [
      "The mean rating for the whole dataset is 2.7 and minimum votes required to be listed is 816\n"
     ]
    }
   ],
   "source": [
    "# Attempt to create the formular above\n",
    "vote_counts = movie_ranking_df[movie_ranking_df['rating_count'].notnull()]['rating_count'].astype('int')\n",
    "vote_averages = movie_ranking_df[movie_ranking_df['rating_average'].notnull()]['rating_average'].astype('int')\n",
    "C = vote_averages.mean()\n",
    "m = vote_counts.quantile(0.95)\n",
    "print(f'The mean rating for the whole dataset is {round(C, 2)} and minimum votes required to be listed is {round(m)}')"
   ]
  },
  {
   "cell_type": "code",
   "execution_count": 55,
   "id": "af59d664",
   "metadata": {},
   "outputs": [
    {
     "data": {
      "text/html": [
       "<div>\n",
       "<style scoped>\n",
       "    .dataframe tbody tr th:only-of-type {\n",
       "        vertical-align: middle;\n",
       "    }\n",
       "\n",
       "    .dataframe tbody tr th {\n",
       "        vertical-align: top;\n",
       "    }\n",
       "\n",
       "    .dataframe thead th {\n",
       "        text-align: right;\n",
       "    }\n",
       "</style>\n",
       "<table border=\"1\" class=\"dataframe\">\n",
       "  <thead>\n",
       "    <tr style=\"text-align: right;\">\n",
       "      <th></th>\n",
       "      <th>title</th>\n",
       "      <th>rating_average</th>\n",
       "      <th>rating_count</th>\n",
       "      <th>popularity</th>\n",
       "      <th>year_made</th>\n",
       "    </tr>\n",
       "  </thead>\n",
       "  <tbody>\n",
       "    <tr>\n",
       "      <th>0</th>\n",
       "      <td>\"BLOW THE NIGHT!\" Let's Spend the Night Togeth...</td>\n",
       "      <td>3.000000</td>\n",
       "      <td>1</td>\n",
       "      <td>3.0</td>\n",
       "      <td>1983</td>\n",
       "    </tr>\n",
       "    <tr>\n",
       "      <th>1</th>\n",
       "      <td>\"Great Performances\" Cats (1998)</td>\n",
       "      <td>2.753731</td>\n",
       "      <td>67</td>\n",
       "      <td>184.5</td>\n",
       "      <td>1998</td>\n",
       "    </tr>\n",
       "    <tr>\n",
       "      <th>2</th>\n",
       "      <td>#1 Cheerleader Camp (2010)</td>\n",
       "      <td>1.900000</td>\n",
       "      <td>5</td>\n",
       "      <td>9.5</td>\n",
       "      <td>2010</td>\n",
       "    </tr>\n",
       "    <tr>\n",
       "      <th>3</th>\n",
       "      <td>#Female Pleasure (2018)</td>\n",
       "      <td>4.000000</td>\n",
       "      <td>1</td>\n",
       "      <td>4.0</td>\n",
       "      <td>2018</td>\n",
       "    </tr>\n",
       "    <tr>\n",
       "      <th>4</th>\n",
       "      <td>#FollowMe (2019)</td>\n",
       "      <td>2.400000</td>\n",
       "      <td>5</td>\n",
       "      <td>12.0</td>\n",
       "      <td>2019</td>\n",
       "    </tr>\n",
       "  </tbody>\n",
       "</table>\n",
       "</div>"
      ],
      "text/plain": [
       "                                               title  rating_average  \\\n",
       "0  \"BLOW THE NIGHT!\" Let's Spend the Night Togeth...        3.000000   \n",
       "1                   \"Great Performances\" Cats (1998)        2.753731   \n",
       "2                         #1 Cheerleader Camp (2010)        1.900000   \n",
       "3                            #Female Pleasure (2018)        4.000000   \n",
       "4                                   #FollowMe (2019)        2.400000   \n",
       "\n",
       "   rating_count  popularity year_made  \n",
       "0             1         3.0      1983  \n",
       "1            67       184.5      1998  \n",
       "2             5         9.5      2010  \n",
       "3             1         4.0      2018  \n",
       "4             5        12.0      2019  "
      ]
     },
     "execution_count": 55,
     "metadata": {},
     "output_type": "execute_result"
    }
   ],
   "source": [
    "movie_ranking_df.head()"
   ]
  },
  {
   "cell_type": "code",
   "execution_count": 56,
   "id": "5c7a5450",
   "metadata": {
    "_cell_guid": "db959c40-7618-4755-a05a-5347f9460929",
    "_uuid": "6414e1aa7ed8cb4184ec451f02a18cd187e5345e"
   },
   "outputs": [],
   "source": [
    "# creating a function to calculate the weighting rating as recommended by IMDB\n",
    "def weighted_rating(x, mini=m, avg_votes=C):\n",
    "    votes = x['rating_count']\n",
    "    avg_rating = x['rating_average']\n",
    "    return (votes/(votes+mini) * avg_rating) + (mini/(mini+votes) * avg_votes)"
   ]
  },
  {
   "cell_type": "code",
   "execution_count": 57,
   "id": "12191e99",
   "metadata": {
    "_cell_guid": "0f5e4384-51be-41df-a023-12a13e77d66c",
    "_uuid": "78ec5052b0e89ae51a834aa3a305cf55b6849f42"
   },
   "outputs": [
    {
     "data": {
      "text/html": [
       "<div>\n",
       "<style scoped>\n",
       "    .dataframe tbody tr th:only-of-type {\n",
       "        vertical-align: middle;\n",
       "    }\n",
       "\n",
       "    .dataframe tbody tr th {\n",
       "        vertical-align: top;\n",
       "    }\n",
       "\n",
       "    .dataframe thead th {\n",
       "        text-align: right;\n",
       "    }\n",
       "</style>\n",
       "<table border=\"1\" class=\"dataframe\">\n",
       "  <thead>\n",
       "    <tr style=\"text-align: right;\">\n",
       "      <th></th>\n",
       "      <th>title</th>\n",
       "      <th>rating_average</th>\n",
       "      <th>rating_count</th>\n",
       "      <th>popularity</th>\n",
       "      <th>year_made</th>\n",
       "      <th>weighted_rating</th>\n",
       "    </tr>\n",
       "  </thead>\n",
       "  <tbody>\n",
       "    <tr>\n",
       "      <th>34480</th>\n",
       "      <td>Shawshank Redemption, The (1994)</td>\n",
       "      <td>4.417624</td>\n",
       "      <td>32831</td>\n",
       "      <td>145035.0</td>\n",
       "      <td>1994</td>\n",
       "      <td>4.375983</td>\n",
       "    </tr>\n",
       "    <tr>\n",
       "      <th>15944</th>\n",
       "      <td>Godfather, The (1972)</td>\n",
       "      <td>4.311355</td>\n",
       "      <td>20960</td>\n",
       "      <td>90366.0</td>\n",
       "      <td>1972</td>\n",
       "      <td>4.251000</td>\n",
       "    </tr>\n",
       "    <tr>\n",
       "      <th>45118</th>\n",
       "      <td>Usual Suspects, The (1995)</td>\n",
       "      <td>4.278073</td>\n",
       "      <td>22032</td>\n",
       "      <td>94254.5</td>\n",
       "      <td>1995</td>\n",
       "      <td>4.221739</td>\n",
       "    </tr>\n",
       "    <tr>\n",
       "      <th>33688</th>\n",
       "      <td>Schindler's List (1993)</td>\n",
       "      <td>4.247625</td>\n",
       "      <td>24004</td>\n",
       "      <td>101960.0</td>\n",
       "      <td>1993</td>\n",
       "      <td>4.196769</td>\n",
       "    </tr>\n",
       "    <tr>\n",
       "      <th>15945</th>\n",
       "      <td>Godfather: Part II, The (1974)</td>\n",
       "      <td>4.274085</td>\n",
       "      <td>13525</td>\n",
       "      <td>57807.0</td>\n",
       "      <td>1974</td>\n",
       "      <td>4.184562</td>\n",
       "    </tr>\n",
       "  </tbody>\n",
       "</table>\n",
       "</div>"
      ],
      "text/plain": [
       "                                  title  rating_average  rating_count  \\\n",
       "34480  Shawshank Redemption, The (1994)        4.417624         32831   \n",
       "15944             Godfather, The (1972)        4.311355         20960   \n",
       "45118        Usual Suspects, The (1995)        4.278073         22032   \n",
       "33688           Schindler's List (1993)        4.247625         24004   \n",
       "15945    Godfather: Part II, The (1974)        4.274085         13525   \n",
       "\n",
       "       popularity year_made  weighted_rating  \n",
       "34480    145035.0      1994         4.375983  \n",
       "15944     90366.0      1972         4.251000  \n",
       "45118     94254.5      1995         4.221739  \n",
       "33688    101960.0      1993         4.196769  \n",
       "15945     57807.0      1974         4.184562  "
      ]
     },
     "execution_count": 57,
     "metadata": {},
     "output_type": "execute_result"
    }
   ],
   "source": [
    "# Creating th feature 'weighted_rating'\n",
    "movie_ranking_df['weighted_rating'] = movie_ranking_df.apply(weighted_rating, axis=1)\n",
    "\n",
    "movie_ranking_df.sort_values('weighted_rating', ascending=False).head()\n"
   ]
  },
  {
   "cell_type": "code",
   "execution_count": 58,
   "id": "9900e112",
   "metadata": {},
   "outputs": [
    {
     "data": {
      "text/plain": [
       "(2408, 6)"
      ]
     },
     "execution_count": 58,
     "metadata": {},
     "output_type": "execute_result"
    }
   ],
   "source": [
    "# Creating a dataframe for movies that meet requirement to be in the trend or ranked list\n",
    "qualify_df = movie_ranking_df[(movie_ranking_df['rating_count'] >= m)][['title', 'year_made', 'rating_count',\n",
    "                                                                        'rating_average', 'popularity', 'weighted_rating']]\n",
    "qualify_df['rating_count'] = qualify_df['rating_count'].astype('int')\n",
    "qualify_df['rating_average'] = qualify_df['rating_average'].astype('int')\n",
    "qualify_df.shape"
   ]
  },
  {
   "cell_type": "markdown",
   "id": "071d25db",
   "metadata": {},
   "source": [
    "Therefore, to qualify to be considered for the ranked movies, a movie has to have at least **816 ratings** on TMDB. We also see that the average rating for a movie on TMDB is **2.7** on a scale of 5. **2408** Movies qualify to be on our chart."
   ]
  },
  {
   "cell_type": "markdown",
   "id": "666ba4a3",
   "metadata": {
    "_cell_guid": "36a1b9ac-aff3-4d80-9e19-83a45f282062",
    "_uuid": "75eb9e1de05386d229746785a25c6a5c6ee4b61a"
   },
   "source": [
    "### Top Movies"
   ]
  },
  {
   "cell_type": "code",
   "execution_count": 59,
   "id": "4d80cfe5",
   "metadata": {
    "_cell_guid": "0bca5b03-0835-4902-aaa1-beceb9d9d47f",
    "_uuid": "f7f6821b7e9aff099b81fcc425fd20109894b351"
   },
   "outputs": [
    {
     "data": {
      "text/html": [
       "<div>\n",
       "<style scoped>\n",
       "    .dataframe tbody tr th:only-of-type {\n",
       "        vertical-align: middle;\n",
       "    }\n",
       "\n",
       "    .dataframe tbody tr th {\n",
       "        vertical-align: top;\n",
       "    }\n",
       "\n",
       "    .dataframe thead th {\n",
       "        text-align: right;\n",
       "    }\n",
       "</style>\n",
       "<table border=\"1\" class=\"dataframe\">\n",
       "  <thead>\n",
       "    <tr style=\"text-align: right;\">\n",
       "      <th></th>\n",
       "      <th>title</th>\n",
       "      <th>year_made</th>\n",
       "      <th>rating_count</th>\n",
       "      <th>rating_average</th>\n",
       "      <th>popularity</th>\n",
       "      <th>weighted_rating</th>\n",
       "    </tr>\n",
       "  </thead>\n",
       "  <tbody>\n",
       "    <tr>\n",
       "      <th>34480</th>\n",
       "      <td>Shawshank Redemption, The (1994)</td>\n",
       "      <td>1994</td>\n",
       "      <td>32831</td>\n",
       "      <td>4</td>\n",
       "      <td>145035.0</td>\n",
       "      <td>4.375983</td>\n",
       "    </tr>\n",
       "    <tr>\n",
       "      <th>15944</th>\n",
       "      <td>Godfather, The (1972)</td>\n",
       "      <td>1972</td>\n",
       "      <td>20960</td>\n",
       "      <td>4</td>\n",
       "      <td>90366.0</td>\n",
       "      <td>4.251000</td>\n",
       "    </tr>\n",
       "    <tr>\n",
       "      <th>45118</th>\n",
       "      <td>Usual Suspects, The (1995)</td>\n",
       "      <td>1995</td>\n",
       "      <td>22032</td>\n",
       "      <td>4</td>\n",
       "      <td>94254.5</td>\n",
       "      <td>4.221739</td>\n",
       "    </tr>\n",
       "    <tr>\n",
       "      <th>33688</th>\n",
       "      <td>Schindler's List (1993)</td>\n",
       "      <td>1993</td>\n",
       "      <td>24004</td>\n",
       "      <td>4</td>\n",
       "      <td>101960.0</td>\n",
       "      <td>4.196769</td>\n",
       "    </tr>\n",
       "    <tr>\n",
       "      <th>15945</th>\n",
       "      <td>Godfather: Part II, The (1974)</td>\n",
       "      <td>1974</td>\n",
       "      <td>13525</td>\n",
       "      <td>4</td>\n",
       "      <td>57807.0</td>\n",
       "      <td>4.184562</td>\n",
       "    </tr>\n",
       "    <tr>\n",
       "      <th>13799</th>\n",
       "      <td>Fight Club (1999)</td>\n",
       "      <td>1999</td>\n",
       "      <td>23536</td>\n",
       "      <td>4</td>\n",
       "      <td>99508.0</td>\n",
       "      <td>4.176733</td>\n",
       "    </tr>\n",
       "    <tr>\n",
       "      <th>31236</th>\n",
       "      <td>Pulp Fiction (1994)</td>\n",
       "      <td>1994</td>\n",
       "      <td>31697</td>\n",
       "      <td>4</td>\n",
       "      <td>132972.0</td>\n",
       "      <td>4.157593</td>\n",
       "    </tr>\n",
       "    <tr>\n",
       "      <th>28738</th>\n",
       "      <td>One Flew Over the Cuckoo's Nest (1975)</td>\n",
       "      <td>1975</td>\n",
       "      <td>14403</td>\n",
       "      <td>4</td>\n",
       "      <td>60750.5</td>\n",
       "      <td>4.136561</td>\n",
       "    </tr>\n",
       "    <tr>\n",
       "      <th>25144</th>\n",
       "      <td>Matrix, The (1999)</td>\n",
       "      <td>1999</td>\n",
       "      <td>29014</td>\n",
       "      <td>4</td>\n",
       "      <td>120531.5</td>\n",
       "      <td>4.114493</td>\n",
       "    </tr>\n",
       "    <tr>\n",
       "      <th>11749</th>\n",
       "      <td>Dr. Strangelove or: How I Learned to Stop Worr...</td>\n",
       "      <td>1964</td>\n",
       "      <td>10673</td>\n",
       "      <td>4</td>\n",
       "      <td>45017.5</td>\n",
       "      <td>4.110135</td>\n",
       "    </tr>\n",
       "    <tr>\n",
       "      <th>7380</th>\n",
       "      <td>Casablanca (1942)</td>\n",
       "      <td>1942</td>\n",
       "      <td>10735</td>\n",
       "      <td>4</td>\n",
       "      <td>45244.0</td>\n",
       "      <td>4.107683</td>\n",
       "    </tr>\n",
       "    <tr>\n",
       "      <th>34840</th>\n",
       "      <td>Silence of the Lambs, The (1991)</td>\n",
       "      <td>1991</td>\n",
       "      <td>29444</td>\n",
       "      <td>4</td>\n",
       "      <td>122021.0</td>\n",
       "      <td>4.105249</td>\n",
       "    </tr>\n",
       "    <tr>\n",
       "      <th>9929</th>\n",
       "      <td>Dark Knight, The (2008)</td>\n",
       "      <td>2008</td>\n",
       "      <td>16600</td>\n",
       "      <td>4</td>\n",
       "      <td>69257.5</td>\n",
       "      <td>4.103201</td>\n",
       "    </tr>\n",
       "    <tr>\n",
       "      <th>31852</th>\n",
       "      <td>Rear Window (1954)</td>\n",
       "      <td>1954</td>\n",
       "      <td>8160</td>\n",
       "      <td>4</td>\n",
       "      <td>34615.0</td>\n",
       "      <td>4.101921</td>\n",
       "    </tr>\n",
       "    <tr>\n",
       "      <th>36253</th>\n",
       "      <td>Star Wars: Episode V - The Empire Strikes Back...</td>\n",
       "      <td>1980</td>\n",
       "      <td>22956</td>\n",
       "      <td>4</td>\n",
       "      <td>95181.0</td>\n",
       "      <td>4.096620</td>\n",
       "    </tr>\n",
       "  </tbody>\n",
       "</table>\n",
       "</div>"
      ],
      "text/plain": [
       "                                                   title year_made  \\\n",
       "34480                   Shawshank Redemption, The (1994)      1994   \n",
       "15944                              Godfather, The (1972)      1972   \n",
       "45118                         Usual Suspects, The (1995)      1995   \n",
       "33688                            Schindler's List (1993)      1993   \n",
       "15945                     Godfather: Part II, The (1974)      1974   \n",
       "13799                                  Fight Club (1999)      1999   \n",
       "31236                                Pulp Fiction (1994)      1994   \n",
       "28738             One Flew Over the Cuckoo's Nest (1975)      1975   \n",
       "25144                                 Matrix, The (1999)      1999   \n",
       "11749  Dr. Strangelove or: How I Learned to Stop Worr...      1964   \n",
       "7380                                   Casablanca (1942)      1942   \n",
       "34840                   Silence of the Lambs, The (1991)      1991   \n",
       "9929                             Dark Knight, The (2008)      2008   \n",
       "31852                                 Rear Window (1954)      1954   \n",
       "36253  Star Wars: Episode V - The Empire Strikes Back...      1980   \n",
       "\n",
       "       rating_count  rating_average  popularity  weighted_rating  \n",
       "34480         32831               4    145035.0         4.375983  \n",
       "15944         20960               4     90366.0         4.251000  \n",
       "45118         22032               4     94254.5         4.221739  \n",
       "33688         24004               4    101960.0         4.196769  \n",
       "15945         13525               4     57807.0         4.184562  \n",
       "13799         23536               4     99508.0         4.176733  \n",
       "31236         31697               4    132972.0         4.157593  \n",
       "28738         14403               4     60750.5         4.136561  \n",
       "25144         29014               4    120531.5         4.114493  \n",
       "11749         10673               4     45017.5         4.110135  \n",
       "7380          10735               4     45244.0         4.107683  \n",
       "34840         29444               4    122021.0         4.105249  \n",
       "9929          16600               4     69257.5         4.103201  \n",
       "31852          8160               4     34615.0         4.101921  \n",
       "36253         22956               4     95181.0         4.096620  "
      ]
     },
     "execution_count": 59,
     "metadata": {},
     "output_type": "execute_result"
    }
   ],
   "source": [
    "qualify_df.sort_values('weighted_rating', ascending=False).head(15)"
   ]
  },
  {
   "cell_type": "markdown",
   "id": "a2298fb3",
   "metadata": {},
   "source": [
    "for easy access and not to be `genre` bias, we will split and match each genre to the appripoate movie, so as to filter by `genre` and see top listed movies"
   ]
  },
  {
   "cell_type": "code",
   "execution_count": 60,
   "id": "b840305c",
   "metadata": {},
   "outputs": [
    {
     "data": {
      "text/html": [
       "<div>\n",
       "<style scoped>\n",
       "    .dataframe tbody tr th:only-of-type {\n",
       "        vertical-align: middle;\n",
       "    }\n",
       "\n",
       "    .dataframe tbody tr th {\n",
       "        vertical-align: top;\n",
       "    }\n",
       "\n",
       "    .dataframe thead th {\n",
       "        text-align: right;\n",
       "    }\n",
       "</style>\n",
       "<table border=\"1\" class=\"dataframe\">\n",
       "  <thead>\n",
       "    <tr style=\"text-align: right;\">\n",
       "      <th></th>\n",
       "      <th>title</th>\n",
       "      <th>year_made</th>\n",
       "      <th>rating_count</th>\n",
       "      <th>rating_average</th>\n",
       "      <th>popularity</th>\n",
       "      <th>weighted_rating</th>\n",
       "      <th>genre</th>\n",
       "    </tr>\n",
       "  </thead>\n",
       "  <tbody>\n",
       "    <tr>\n",
       "      <th>0</th>\n",
       "      <td>'burbs, The (1989)</td>\n",
       "      <td>1989</td>\n",
       "      <td>1310</td>\n",
       "      <td>3</td>\n",
       "      <td>4029.5</td>\n",
       "      <td>2.932234</td>\n",
       "      <td>Comedy</td>\n",
       "    </tr>\n",
       "    <tr>\n",
       "      <th>1</th>\n",
       "      <td>(500) Days of Summer (2009)</td>\n",
       "      <td>2009</td>\n",
       "      <td>4524</td>\n",
       "      <td>3</td>\n",
       "      <td>16780.0</td>\n",
       "      <td>3.555078</td>\n",
       "      <td>Comedy</td>\n",
       "    </tr>\n",
       "    <tr>\n",
       "      <th>1</th>\n",
       "      <td>(500) Days of Summer (2009)</td>\n",
       "      <td>2009</td>\n",
       "      <td>4524</td>\n",
       "      <td>3</td>\n",
       "      <td>16780.0</td>\n",
       "      <td>3.555078</td>\n",
       "      <td>Drama</td>\n",
       "    </tr>\n",
       "    <tr>\n",
       "      <th>1</th>\n",
       "      <td>(500) Days of Summer (2009)</td>\n",
       "      <td>2009</td>\n",
       "      <td>4524</td>\n",
       "      <td>3</td>\n",
       "      <td>16780.0</td>\n",
       "      <td>3.555078</td>\n",
       "      <td>Romance</td>\n",
       "    </tr>\n",
       "    <tr>\n",
       "      <th>2</th>\n",
       "      <td>10 Cloverfield Lane (2016)</td>\n",
       "      <td>2016</td>\n",
       "      <td>1459</td>\n",
       "      <td>3</td>\n",
       "      <td>5421.0</td>\n",
       "      <td>3.351745</td>\n",
       "      <td>Thriller</td>\n",
       "    </tr>\n",
       "  </tbody>\n",
       "</table>\n",
       "</div>"
      ],
      "text/plain": [
       "                         title year_made  rating_count  rating_average  \\\n",
       "0           'burbs, The (1989)      1989          1310               3   \n",
       "1  (500) Days of Summer (2009)      2009          4524               3   \n",
       "1  (500) Days of Summer (2009)      2009          4524               3   \n",
       "1  (500) Days of Summer (2009)      2009          4524               3   \n",
       "2   10 Cloverfield Lane (2016)      2016          1459               3   \n",
       "\n",
       "   popularity  weighted_rating     genre  \n",
       "0      4029.5         2.932234    Comedy  \n",
       "1     16780.0         3.555078    Comedy  \n",
       "1     16780.0         3.555078     Drama  \n",
       "1     16780.0         3.555078   Romance  \n",
       "2      5421.0         3.351745  Thriller  "
      ]
     },
     "execution_count": 60,
     "metadata": {},
     "output_type": "execute_result"
    }
   ],
   "source": [
    "# drop duplicates to have a sync. merge of genres with the dataset\n",
    "temp_df = df_list[4].drop_duplicates(subset=['title'])\n",
    "\n",
    "# merging genres with the 'qualify_df'\n",
    "trend_df = temp_df[['title', 'genres']].merge(qualify_df, how=\"right\", on=\"title\")\n",
    "\n",
    "# making each genres into a list to be able to split\n",
    "trend_df['genres'] = trend_df['genres'].fillna('').apply(lambda x: x.split(\"|\"))\n",
    "\n",
    "# Splitting each genre to each movies\n",
    "genre = trend_df.apply(lambda x: pd.Series(x['genres']),axis=1).stack().reset_index(level=1, drop=True)\n",
    "genre.name = 'genre'\n",
    "qualify_df = trend_df.drop('genres', axis=1).join(genre)\n",
    "qualify_df.head()"
   ]
  },
  {
   "cell_type": "code",
   "execution_count": 61,
   "id": "9edec41c",
   "metadata": {
    "scrolled": false
   },
   "outputs": [
    {
     "data": {
      "application/vnd.jupyter.widget-view+json": {
       "model_id": "094fd4a3b39449349766b22b6c179cc7",
       "version_major": 2,
       "version_minor": 0
      },
      "text/plain": [
       "interactive(children=(Dropdown(description='filterBy', options=('Recent', 'Popularity', 'Hot-List'), value='Re…"
      ]
     },
     "metadata": {},
     "output_type": "display_data"
    }
   ],
   "source": [
    "# visualizing base on genre and other filtering method\n",
    "def iplotting():   \n",
    "    slider = widgets.IntSlider(value=10, min=5, max=50, step=1)\n",
    "    df_grp = qualify_df.groupby('genre')\n",
    "    genre_list = qualify_df.genre.unique()\n",
    "    @interact\n",
    "    def selecting(filterBy=['Recent', 'Popularity', 'Hot-List'], Genre=genre_list, Frequency=slider, ):\n",
    "        if filterBy == 'Recent':\n",
    "            temp = df_grp.get_group(Genre).sort_values(['year_made', 'weighted_rating'], ascending=False)[:Frequency]\n",
    "        elif filterBy == 'Popularity':\n",
    "            temp = df_grp.get_group(Genre).sort_values(['popularity', 'year_made'], ascending=False)[:Frequency]\n",
    "        else:\n",
    "            temp = df_grp.get_group(Genre).sort_values('weighted_rating', ascending=False)[:Frequency]\n",
    "        display(temp.drop('genre', axis=1).reset_index(drop=True))\n",
    "iplotting()"
   ]
  },
  {
   "cell_type": "markdown",
   "id": "ae58ae23",
   "metadata": {},
   "source": [
    "### Preparing Dataset for Recommendation system"
   ]
  },
  {
   "cell_type": "code",
   "execution_count": 62,
   "id": "49a0e859",
   "metadata": {},
   "outputs": [
    {
     "data": {
      "text/html": [
       "<div>\n",
       "<style scoped>\n",
       "    .dataframe tbody tr th:only-of-type {\n",
       "        vertical-align: middle;\n",
       "    }\n",
       "\n",
       "    .dataframe tbody tr th {\n",
       "        vertical-align: top;\n",
       "    }\n",
       "\n",
       "    .dataframe thead th {\n",
       "        text-align: right;\n",
       "    }\n",
       "</style>\n",
       "<table border=\"1\" class=\"dataframe\">\n",
       "  <thead>\n",
       "    <tr style=\"text-align: right;\">\n",
       "      <th></th>\n",
       "      <th>movieId</th>\n",
       "      <th>title_cast</th>\n",
       "      <th>director</th>\n",
       "      <th>runtime</th>\n",
       "      <th>budget</th>\n",
       "      <th>plot_keywords</th>\n",
       "    </tr>\n",
       "  </thead>\n",
       "  <tbody>\n",
       "    <tr>\n",
       "      <th>0</th>\n",
       "      <td>1</td>\n",
       "      <td>Tom Hanks|Tim Allen|Don Rickles|Jim Varney|Wal...</td>\n",
       "      <td>John Lasseter</td>\n",
       "      <td>81.0</td>\n",
       "      <td>$30,000,000</td>\n",
       "      <td>toy|rivalry|cowboy|cgi animation</td>\n",
       "    </tr>\n",
       "    <tr>\n",
       "      <th>1</th>\n",
       "      <td>2</td>\n",
       "      <td>Robin Williams|Jonathan Hyde|Kirsten Dunst|Bra...</td>\n",
       "      <td>Jonathan Hensleigh</td>\n",
       "      <td>104.0</td>\n",
       "      <td>$65,000,000</td>\n",
       "      <td>board game|adventurer|fight|game</td>\n",
       "    </tr>\n",
       "    <tr>\n",
       "      <th>2</th>\n",
       "      <td>3</td>\n",
       "      <td>Walter Matthau|Jack Lemmon|Sophia Loren|Ann-Ma...</td>\n",
       "      <td>Mark Steven Johnson</td>\n",
       "      <td>101.0</td>\n",
       "      <td>$25,000,000</td>\n",
       "      <td>boat|lake|neighbor|rivalry</td>\n",
       "    </tr>\n",
       "    <tr>\n",
       "      <th>3</th>\n",
       "      <td>4</td>\n",
       "      <td>Whitney Houston|Angela Bassett|Loretta Devine|...</td>\n",
       "      <td>Terry McMillan</td>\n",
       "      <td>124.0</td>\n",
       "      <td>$16,000,000</td>\n",
       "      <td>black american|husband wife relationship|betra...</td>\n",
       "    </tr>\n",
       "    <tr>\n",
       "      <th>4</th>\n",
       "      <td>5</td>\n",
       "      <td>Steve Martin|Diane Keaton|Martin Short|Kimberl...</td>\n",
       "      <td>Albert Hackett</td>\n",
       "      <td>106.0</td>\n",
       "      <td>$30,000,000</td>\n",
       "      <td>fatherhood|doberman|dog|mansion</td>\n",
       "    </tr>\n",
       "  </tbody>\n",
       "</table>\n",
       "</div>"
      ],
      "text/plain": [
       "   movieId                                         title_cast  \\\n",
       "0        1  Tom Hanks|Tim Allen|Don Rickles|Jim Varney|Wal...   \n",
       "1        2  Robin Williams|Jonathan Hyde|Kirsten Dunst|Bra...   \n",
       "2        3  Walter Matthau|Jack Lemmon|Sophia Loren|Ann-Ma...   \n",
       "3        4  Whitney Houston|Angela Bassett|Loretta Devine|...   \n",
       "4        5  Steve Martin|Diane Keaton|Martin Short|Kimberl...   \n",
       "\n",
       "              director  runtime       budget  \\\n",
       "0        John Lasseter     81.0  $30,000,000   \n",
       "1   Jonathan Hensleigh    104.0  $65,000,000   \n",
       "2  Mark Steven Johnson    101.0  $25,000,000   \n",
       "3       Terry McMillan    124.0  $16,000,000   \n",
       "4       Albert Hackett    106.0  $30,000,000   \n",
       "\n",
       "                                       plot_keywords  \n",
       "0                   toy|rivalry|cowboy|cgi animation  \n",
       "1                   board game|adventurer|fight|game  \n",
       "2                         boat|lake|neighbor|rivalry  \n",
       "3  black american|husband wife relationship|betra...  \n",
       "4                    fatherhood|doberman|dog|mansion  "
      ]
     },
     "execution_count": 62,
     "metadata": {},
     "output_type": "execute_result"
    }
   ],
   "source": [
    "# assigning the imdb dataset to a variable\n",
    "imdb_df = df_list[2].copy()\n",
    "imdb_df.head()"
   ]
  },
  {
   "cell_type": "code",
   "execution_count": 63,
   "id": "98e5128f",
   "metadata": {},
   "outputs": [],
   "source": [
    "# spliting and joining the title cast and also picking the first three (3) actors\n",
    "imdb_df['title_cast'] = imdb_df['title_cast'].fillna('').apply(lambda x: \" \". join(x.replace(\" \", \"\").split('|')[:3]))\n",
    "\n",
    "# spliting and joining the plot keywords\n",
    "imdb_df['plot_keywords'] = imdb_df['plot_keywords'].fillna('').apply(lambda x: \" \". join(x.split('|')))\n"
   ]
  },
  {
   "cell_type": "code",
   "execution_count": 64,
   "id": "1ed8d36d",
   "metadata": {},
   "outputs": [
    {
     "data": {
      "text/html": [
       "<div>\n",
       "<style scoped>\n",
       "    .dataframe tbody tr th:only-of-type {\n",
       "        vertical-align: middle;\n",
       "    }\n",
       "\n",
       "    .dataframe tbody tr th {\n",
       "        vertical-align: top;\n",
       "    }\n",
       "\n",
       "    .dataframe thead th {\n",
       "        text-align: right;\n",
       "    }\n",
       "</style>\n",
       "<table border=\"1\" class=\"dataframe\">\n",
       "  <thead>\n",
       "    <tr style=\"text-align: right;\">\n",
       "      <th></th>\n",
       "      <th>movieId</th>\n",
       "      <th>title</th>\n",
       "      <th>genres</th>\n",
       "    </tr>\n",
       "  </thead>\n",
       "  <tbody>\n",
       "    <tr>\n",
       "      <th>0</th>\n",
       "      <td>1</td>\n",
       "      <td>Toy Story (1995)</td>\n",
       "      <td>Adventure Animation Children Comedy Fantasy</td>\n",
       "    </tr>\n",
       "    <tr>\n",
       "      <th>1</th>\n",
       "      <td>2</td>\n",
       "      <td>Jumanji (1995)</td>\n",
       "      <td>Adventure Children Fantasy</td>\n",
       "    </tr>\n",
       "    <tr>\n",
       "      <th>2</th>\n",
       "      <td>3</td>\n",
       "      <td>Grumpier Old Men (1995)</td>\n",
       "      <td>Comedy Romance</td>\n",
       "    </tr>\n",
       "    <tr>\n",
       "      <th>3</th>\n",
       "      <td>4</td>\n",
       "      <td>Waiting to Exhale (1995)</td>\n",
       "      <td>Comedy Drama Romance</td>\n",
       "    </tr>\n",
       "    <tr>\n",
       "      <th>4</th>\n",
       "      <td>5</td>\n",
       "      <td>Father of the Bride Part II (1995)</td>\n",
       "      <td>Comedy</td>\n",
       "    </tr>\n",
       "  </tbody>\n",
       "</table>\n",
       "</div>"
      ],
      "text/plain": [
       "   movieId                               title  \\\n",
       "0        1                    Toy Story (1995)   \n",
       "1        2                      Jumanji (1995)   \n",
       "2        3             Grumpier Old Men (1995)   \n",
       "3        4            Waiting to Exhale (1995)   \n",
       "4        5  Father of the Bride Part II (1995)   \n",
       "\n",
       "                                        genres  \n",
       "0  Adventure Animation Children Comedy Fantasy  \n",
       "1                   Adventure Children Fantasy  \n",
       "2                               Comedy Romance  \n",
       "3                         Comedy Drama Romance  \n",
       "4                                       Comedy  "
      ]
     },
     "execution_count": 64,
     "metadata": {},
     "output_type": "execute_result"
    }
   ],
   "source": [
    "# assigning the movies dataset to a variable\n",
    "movies_df = df_list[4].copy()\n",
    "\n",
    "# spliting and joining the genres keywords\n",
    "movies_df['genres'] = movies_df['genres'].fillna('').apply(lambda x: \" \". join(x.split('|')))\n",
    "\n",
    "movies_df.head()"
   ]
  },
  {
   "cell_type": "code",
   "execution_count": 65,
   "id": "f36fea02",
   "metadata": {},
   "outputs": [
    {
     "data": {
      "text/plain": [
       "(27278, 6)"
      ]
     },
     "execution_count": 65,
     "metadata": {},
     "output_type": "execute_result"
    }
   ],
   "source": [
    "# merging the imbd movies dataset with movies dataset\n",
    "imdb_df = imdb_df[[\"movieId\", \"title_cast\", \"director\", \"plot_keywords\"]] # selected features\n",
    "comb_df = imdb_df.merge(movies_df, how=\"left\", on=\"movieId\")\n",
    "comb_df.shape"
   ]
  },
  {
   "cell_type": "code",
   "execution_count": 66,
   "id": "c7797cde",
   "metadata": {},
   "outputs": [
    {
     "data": {
      "text/plain": [
       "movieId             0\n",
       "title_cast          0\n",
       "director         9874\n",
       "plot_keywords       0\n",
       "title            2412\n",
       "genres           2412\n",
       "dtype: int64"
      ]
     },
     "execution_count": 66,
     "metadata": {},
     "output_type": "execute_result"
    }
   ],
   "source": [
    "# checking for null value\n",
    "comb_df.isnull().sum()"
   ]
  },
  {
   "cell_type": "code",
   "execution_count": 67,
   "id": "2ea6891f",
   "metadata": {},
   "outputs": [
    {
     "data": {
      "text/plain": [
       "movieId          0\n",
       "title_cast       0\n",
       "director         0\n",
       "plot_keywords    0\n",
       "title            0\n",
       "genres           0\n",
       "dtype: int64"
      ]
     },
     "execution_count": 67,
     "metadata": {},
     "output_type": "execute_result"
    }
   ],
   "source": [
    "# drop all row having null value in it 'titlle'\n",
    "comb_df.dropna(subset='title', inplace=True)\n",
    "\n",
    "# replacing all 'director' null values into an empty string\n",
    "comb_df['director'] = comb_df['director'].fillna('')\n",
    "\n",
    "# checking for null value again\n",
    "comb_df.isnull().sum()"
   ]
  },
  {
   "cell_type": "markdown",
   "id": "51827230",
   "metadata": {},
   "source": [
    "#### Merging the tags and using `relevance` to pick the most appriopate tag for each movies"
   ]
  },
  {
   "cell_type": "code",
   "execution_count": 68,
   "id": "f288af27",
   "metadata": {},
   "outputs": [
    {
     "data": {
      "text/html": [
       "<div>\n",
       "<style scoped>\n",
       "    .dataframe tbody tr th:only-of-type {\n",
       "        vertical-align: middle;\n",
       "    }\n",
       "\n",
       "    .dataframe tbody tr th {\n",
       "        vertical-align: top;\n",
       "    }\n",
       "\n",
       "    .dataframe thead th {\n",
       "        text-align: right;\n",
       "    }\n",
       "</style>\n",
       "<table border=\"1\" class=\"dataframe\">\n",
       "  <thead>\n",
       "    <tr style=\"text-align: right;\">\n",
       "      <th></th>\n",
       "      <th>movieId</th>\n",
       "      <th>tagId</th>\n",
       "      <th>relevance</th>\n",
       "    </tr>\n",
       "  </thead>\n",
       "  <tbody>\n",
       "    <tr>\n",
       "      <th>0</th>\n",
       "      <td>1</td>\n",
       "      <td>1</td>\n",
       "      <td>0.02875</td>\n",
       "    </tr>\n",
       "    <tr>\n",
       "      <th>1</th>\n",
       "      <td>1</td>\n",
       "      <td>2</td>\n",
       "      <td>0.02375</td>\n",
       "    </tr>\n",
       "    <tr>\n",
       "      <th>2</th>\n",
       "      <td>1</td>\n",
       "      <td>3</td>\n",
       "      <td>0.06250</td>\n",
       "    </tr>\n",
       "    <tr>\n",
       "      <th>3</th>\n",
       "      <td>1</td>\n",
       "      <td>4</td>\n",
       "      <td>0.07575</td>\n",
       "    </tr>\n",
       "    <tr>\n",
       "      <th>4</th>\n",
       "      <td>1</td>\n",
       "      <td>5</td>\n",
       "      <td>0.14075</td>\n",
       "    </tr>\n",
       "  </tbody>\n",
       "</table>\n",
       "</div>"
      ],
      "text/plain": [
       "   movieId  tagId  relevance\n",
       "0        1      1    0.02875\n",
       "1        1      2    0.02375\n",
       "2        1      3    0.06250\n",
       "3        1      4    0.07575\n",
       "4        1      5    0.14075"
      ]
     },
     "metadata": {},
     "output_type": "display_data"
    },
    {
     "data": {
      "text/html": [
       "<div>\n",
       "<style scoped>\n",
       "    .dataframe tbody tr th:only-of-type {\n",
       "        vertical-align: middle;\n",
       "    }\n",
       "\n",
       "    .dataframe tbody tr th {\n",
       "        vertical-align: top;\n",
       "    }\n",
       "\n",
       "    .dataframe thead th {\n",
       "        text-align: right;\n",
       "    }\n",
       "</style>\n",
       "<table border=\"1\" class=\"dataframe\">\n",
       "  <thead>\n",
       "    <tr style=\"text-align: right;\">\n",
       "      <th></th>\n",
       "      <th>tagId</th>\n",
       "      <th>tag</th>\n",
       "    </tr>\n",
       "  </thead>\n",
       "  <tbody>\n",
       "    <tr>\n",
       "      <th>0</th>\n",
       "      <td>1</td>\n",
       "      <td>007</td>\n",
       "    </tr>\n",
       "    <tr>\n",
       "      <th>1</th>\n",
       "      <td>2</td>\n",
       "      <td>007 (series)</td>\n",
       "    </tr>\n",
       "    <tr>\n",
       "      <th>2</th>\n",
       "      <td>3</td>\n",
       "      <td>18th century</td>\n",
       "    </tr>\n",
       "    <tr>\n",
       "      <th>3</th>\n",
       "      <td>4</td>\n",
       "      <td>1920s</td>\n",
       "    </tr>\n",
       "    <tr>\n",
       "      <th>4</th>\n",
       "      <td>5</td>\n",
       "      <td>1930s</td>\n",
       "    </tr>\n",
       "  </tbody>\n",
       "</table>\n",
       "</div>"
      ],
      "text/plain": [
       "   tagId           tag\n",
       "0      1           007\n",
       "1      2  007 (series)\n",
       "2      3  18th century\n",
       "3      4         1920s\n",
       "4      5         1930s"
      ]
     },
     "metadata": {},
     "output_type": "display_data"
    }
   ],
   "source": [
    "# assigning the movies dataset to a variable\n",
    "tags_df = df_list[0].copy()\n",
    "display(tags_df.head())\n",
    "\n",
    "# assigning the movies dataset to a variable\n",
    "tag_movie_df = df_list[1].copy()\n",
    "display(tag_movie_df.head())"
   ]
  },
  {
   "cell_type": "code",
   "execution_count": 69,
   "id": "11b27cf4",
   "metadata": {},
   "outputs": [
    {
     "data": {
      "text/plain": [
       "(15584448, 4)"
      ]
     },
     "metadata": {},
     "output_type": "display_data"
    },
    {
     "data": {
      "text/html": [
       "<div>\n",
       "<style scoped>\n",
       "    .dataframe tbody tr th:only-of-type {\n",
       "        vertical-align: middle;\n",
       "    }\n",
       "\n",
       "    .dataframe tbody tr th {\n",
       "        vertical-align: top;\n",
       "    }\n",
       "\n",
       "    .dataframe thead th {\n",
       "        text-align: right;\n",
       "    }\n",
       "</style>\n",
       "<table border=\"1\" class=\"dataframe\">\n",
       "  <thead>\n",
       "    <tr style=\"text-align: right;\">\n",
       "      <th></th>\n",
       "      <th>movieId</th>\n",
       "      <th>tagId</th>\n",
       "      <th>relevance</th>\n",
       "      <th>tag</th>\n",
       "    </tr>\n",
       "  </thead>\n",
       "  <tbody>\n",
       "    <tr>\n",
       "      <th>0</th>\n",
       "      <td>1</td>\n",
       "      <td>1</td>\n",
       "      <td>0.02875</td>\n",
       "      <td>007</td>\n",
       "    </tr>\n",
       "    <tr>\n",
       "      <th>1</th>\n",
       "      <td>2</td>\n",
       "      <td>1</td>\n",
       "      <td>0.04125</td>\n",
       "      <td>007</td>\n",
       "    </tr>\n",
       "    <tr>\n",
       "      <th>2</th>\n",
       "      <td>3</td>\n",
       "      <td>1</td>\n",
       "      <td>0.04675</td>\n",
       "      <td>007</td>\n",
       "    </tr>\n",
       "    <tr>\n",
       "      <th>3</th>\n",
       "      <td>4</td>\n",
       "      <td>1</td>\n",
       "      <td>0.03425</td>\n",
       "      <td>007</td>\n",
       "    </tr>\n",
       "    <tr>\n",
       "      <th>4</th>\n",
       "      <td>5</td>\n",
       "      <td>1</td>\n",
       "      <td>0.04300</td>\n",
       "      <td>007</td>\n",
       "    </tr>\n",
       "  </tbody>\n",
       "</table>\n",
       "</div>"
      ],
      "text/plain": [
       "   movieId  tagId  relevance  tag\n",
       "0        1      1    0.02875  007\n",
       "1        2      1    0.04125  007\n",
       "2        3      1    0.04675  007\n",
       "3        4      1    0.03425  007\n",
       "4        5      1    0.04300  007"
      ]
     },
     "execution_count": 69,
     "metadata": {},
     "output_type": "execute_result"
    }
   ],
   "source": [
    "tag_comb_df = tags_df.merge(tag_movie_df, on=\"tagId\")\n",
    "display(tag_comb_df.shape)\n",
    "tag_comb_df.head()"
   ]
  },
  {
   "cell_type": "code",
   "execution_count": 70,
   "id": "6de1c755",
   "metadata": {},
   "outputs": [
    {
     "data": {
      "text/plain": [
       "(13816, 2)"
      ]
     },
     "metadata": {},
     "output_type": "display_data"
    },
    {
     "data": {
      "text/html": [
       "<div>\n",
       "<style scoped>\n",
       "    .dataframe tbody tr th:only-of-type {\n",
       "        vertical-align: middle;\n",
       "    }\n",
       "\n",
       "    .dataframe tbody tr th {\n",
       "        vertical-align: top;\n",
       "    }\n",
       "\n",
       "    .dataframe thead th {\n",
       "        text-align: right;\n",
       "    }\n",
       "</style>\n",
       "<table border=\"1\" class=\"dataframe\">\n",
       "  <thead>\n",
       "    <tr style=\"text-align: right;\">\n",
       "      <th></th>\n",
       "      <th>movieId</th>\n",
       "      <th>relevance</th>\n",
       "    </tr>\n",
       "  </thead>\n",
       "  <tbody>\n",
       "    <tr>\n",
       "      <th>0</th>\n",
       "      <td>1</td>\n",
       "      <td>0.99925</td>\n",
       "    </tr>\n",
       "    <tr>\n",
       "      <th>1</th>\n",
       "      <td>2</td>\n",
       "      <td>0.97600</td>\n",
       "    </tr>\n",
       "    <tr>\n",
       "      <th>2</th>\n",
       "      <td>3</td>\n",
       "      <td>0.97525</td>\n",
       "    </tr>\n",
       "    <tr>\n",
       "      <th>3</th>\n",
       "      <td>4</td>\n",
       "      <td>0.97525</td>\n",
       "    </tr>\n",
       "    <tr>\n",
       "      <th>4</th>\n",
       "      <td>5</td>\n",
       "      <td>0.96025</td>\n",
       "    </tr>\n",
       "  </tbody>\n",
       "</table>\n",
       "</div>"
      ],
      "text/plain": [
       "   movieId  relevance\n",
       "0        1    0.99925\n",
       "1        2    0.97600\n",
       "2        3    0.97525\n",
       "3        4    0.97525\n",
       "4        5    0.96025"
      ]
     },
     "execution_count": 70,
     "metadata": {},
     "output_type": "execute_result"
    }
   ],
   "source": [
    "# grouping by 'movieId' and by calculating maximum 'relevance' corresponding to know the actual 'tag' of a 'movie'\n",
    "tag_grp_df = tag_comb_df.groupby('movieId')[[\"relevance\"]].max().reset_index()\n",
    "display(tag_grp_df.shape)\n",
    "tag_grp_df.head()"
   ]
  },
  {
   "cell_type": "code",
   "execution_count": 71,
   "id": "67757acd",
   "metadata": {},
   "outputs": [
    {
     "data": {
      "text/html": [
       "<div>\n",
       "<style scoped>\n",
       "    .dataframe tbody tr th:only-of-type {\n",
       "        vertical-align: middle;\n",
       "    }\n",
       "\n",
       "    .dataframe tbody tr th {\n",
       "        vertical-align: top;\n",
       "    }\n",
       "\n",
       "    .dataframe thead th {\n",
       "        text-align: right;\n",
       "    }\n",
       "</style>\n",
       "<table border=\"1\" class=\"dataframe\">\n",
       "  <thead>\n",
       "    <tr style=\"text-align: right;\">\n",
       "      <th></th>\n",
       "      <th>movieId</th>\n",
       "      <th>tag</th>\n",
       "    </tr>\n",
       "  </thead>\n",
       "  <tbody>\n",
       "    <tr>\n",
       "      <th>0</th>\n",
       "      <td>1</td>\n",
       "      <td>toys</td>\n",
       "    </tr>\n",
       "    <tr>\n",
       "      <th>1</th>\n",
       "      <td>2</td>\n",
       "      <td>adventure</td>\n",
       "    </tr>\n",
       "    <tr>\n",
       "      <th>2</th>\n",
       "      <td>3</td>\n",
       "      <td>sequel</td>\n",
       "    </tr>\n",
       "    <tr>\n",
       "      <th>3</th>\n",
       "      <td>4</td>\n",
       "      <td>women</td>\n",
       "    </tr>\n",
       "    <tr>\n",
       "      <th>4</th>\n",
       "      <td>5</td>\n",
       "      <td>sequel</td>\n",
       "    </tr>\n",
       "  </tbody>\n",
       "</table>\n",
       "</div>"
      ],
      "text/plain": [
       "   movieId        tag\n",
       "0        1       toys\n",
       "1        2  adventure\n",
       "2        3     sequel\n",
       "3        4      women\n",
       "4        5     sequel"
      ]
     },
     "execution_count": 71,
     "metadata": {},
     "output_type": "execute_result"
    }
   ],
   "source": [
    "# Combinig the the grouped dataframe with the original dataframe to match each 'tag' to it respecitive 'relevance'\n",
    "tag_mod_df = tag_grp_df.merge(tag_comb_df[['movieId', 'relevance', 'tag']], how='inner', on=[\"movieId\", \"relevance\"])\n",
    "\n",
    "# drop duplicates to have a sync. merge of movie and `tag` and unccessary 'relevance' column\n",
    "tag_mod_df = tag_mod_df.drop_duplicates(subset=['movieId'])\n",
    "tag_mod_df = tag_mod_df.drop('relevance', axis=1)\n",
    "\n",
    "tag_mod_df.head()"
   ]
  },
  {
   "cell_type": "markdown",
   "id": "8a48018f",
   "metadata": {},
   "source": [
    "#### Merging all the prepared dataset to have a better enriching features"
   ]
  },
  {
   "cell_type": "code",
   "execution_count": 72,
   "id": "de7a9d71",
   "metadata": {},
   "outputs": [
    {
     "data": {
      "text/plain": [
       "(24866, 7)"
      ]
     },
     "metadata": {},
     "output_type": "display_data"
    },
    {
     "data": {
      "text/html": [
       "<div>\n",
       "<style scoped>\n",
       "    .dataframe tbody tr th:only-of-type {\n",
       "        vertical-align: middle;\n",
       "    }\n",
       "\n",
       "    .dataframe tbody tr th {\n",
       "        vertical-align: top;\n",
       "    }\n",
       "\n",
       "    .dataframe thead th {\n",
       "        text-align: right;\n",
       "    }\n",
       "</style>\n",
       "<table border=\"1\" class=\"dataframe\">\n",
       "  <thead>\n",
       "    <tr style=\"text-align: right;\">\n",
       "      <th></th>\n",
       "      <th>movieId</th>\n",
       "      <th>title_cast</th>\n",
       "      <th>director</th>\n",
       "      <th>plot_keywords</th>\n",
       "      <th>title</th>\n",
       "      <th>genres</th>\n",
       "      <th>tag</th>\n",
       "    </tr>\n",
       "  </thead>\n",
       "  <tbody>\n",
       "    <tr>\n",
       "      <th>0</th>\n",
       "      <td>1</td>\n",
       "      <td>TomHanks TimAllen DonRickles</td>\n",
       "      <td>John Lasseter</td>\n",
       "      <td>toy rivalry cowboy cgi animation</td>\n",
       "      <td>Toy Story (1995)</td>\n",
       "      <td>Adventure Animation Children Comedy Fantasy</td>\n",
       "      <td>toys</td>\n",
       "    </tr>\n",
       "    <tr>\n",
       "      <th>1</th>\n",
       "      <td>2</td>\n",
       "      <td>RobinWilliams JonathanHyde KirstenDunst</td>\n",
       "      <td>Jonathan Hensleigh</td>\n",
       "      <td>board game adventurer fight game</td>\n",
       "      <td>Jumanji (1995)</td>\n",
       "      <td>Adventure Children Fantasy</td>\n",
       "      <td>adventure</td>\n",
       "    </tr>\n",
       "    <tr>\n",
       "      <th>2</th>\n",
       "      <td>3</td>\n",
       "      <td>WalterMatthau JackLemmon SophiaLoren</td>\n",
       "      <td>Mark Steven Johnson</td>\n",
       "      <td>boat lake neighbor rivalry</td>\n",
       "      <td>Grumpier Old Men (1995)</td>\n",
       "      <td>Comedy Romance</td>\n",
       "      <td>sequel</td>\n",
       "    </tr>\n",
       "    <tr>\n",
       "      <th>3</th>\n",
       "      <td>4</td>\n",
       "      <td>WhitneyHouston AngelaBassett LorettaDevine</td>\n",
       "      <td>Terry McMillan</td>\n",
       "      <td>black american husband wife relationship betra...</td>\n",
       "      <td>Waiting to Exhale (1995)</td>\n",
       "      <td>Comedy Drama Romance</td>\n",
       "      <td>women</td>\n",
       "    </tr>\n",
       "    <tr>\n",
       "      <th>4</th>\n",
       "      <td>5</td>\n",
       "      <td>SteveMartin DianeKeaton MartinShort</td>\n",
       "      <td>Albert Hackett</td>\n",
       "      <td>fatherhood doberman dog mansion</td>\n",
       "      <td>Father of the Bride Part II (1995)</td>\n",
       "      <td>Comedy</td>\n",
       "      <td>sequel</td>\n",
       "    </tr>\n",
       "  </tbody>\n",
       "</table>\n",
       "</div>"
      ],
      "text/plain": [
       "   movieId                                  title_cast             director  \\\n",
       "0        1                TomHanks TimAllen DonRickles        John Lasseter   \n",
       "1        2     RobinWilliams JonathanHyde KirstenDunst   Jonathan Hensleigh   \n",
       "2        3        WalterMatthau JackLemmon SophiaLoren  Mark Steven Johnson   \n",
       "3        4  WhitneyHouston AngelaBassett LorettaDevine       Terry McMillan   \n",
       "4        5         SteveMartin DianeKeaton MartinShort       Albert Hackett   \n",
       "\n",
       "                                       plot_keywords  \\\n",
       "0                   toy rivalry cowboy cgi animation   \n",
       "1                   board game adventurer fight game   \n",
       "2                         boat lake neighbor rivalry   \n",
       "3  black american husband wife relationship betra...   \n",
       "4                    fatherhood doberman dog mansion   \n",
       "\n",
       "                                title  \\\n",
       "0                    Toy Story (1995)   \n",
       "1                      Jumanji (1995)   \n",
       "2             Grumpier Old Men (1995)   \n",
       "3            Waiting to Exhale (1995)   \n",
       "4  Father of the Bride Part II (1995)   \n",
       "\n",
       "                                        genres        tag  \n",
       "0  Adventure Animation Children Comedy Fantasy       toys  \n",
       "1                   Adventure Children Fantasy  adventure  \n",
       "2                               Comedy Romance     sequel  \n",
       "3                         Comedy Drama Romance      women  \n",
       "4                                       Comedy     sequel  "
      ]
     },
     "execution_count": 72,
     "metadata": {},
     "output_type": "execute_result"
    }
   ],
   "source": [
    "all_df = comb_df.merge(tag_mod_df, how=\"left\", on=\"movieId\")\n",
    "display(all_df.shape)\n",
    "all_df.head()"
   ]
  },
  {
   "cell_type": "code",
   "execution_count": 73,
   "id": "bcbf87c1",
   "metadata": {},
   "outputs": [
    {
     "data": {
      "text/plain": [
       "movieId          0\n",
       "title_cast       0\n",
       "director         0\n",
       "plot_keywords    0\n",
       "title            0\n",
       "genres           0\n",
       "tag              0\n",
       "dtype: int64"
      ]
     },
     "execution_count": 73,
     "metadata": {},
     "output_type": "execute_result"
    }
   ],
   "source": [
    "# replacing all 'tag' null values into an empty string\n",
    "all_df['tag'] = all_df['tag'].fillna('')\n",
    "\n",
    "# checking for null value\n",
    "all_df.isnull().sum()"
   ]
  },
  {
   "cell_type": "code",
   "execution_count": 74,
   "id": "9dce1693",
   "metadata": {},
   "outputs": [],
   "source": [
    "# all_df.to_csv('recommender_dataset.csv')"
   ]
  },
  {
   "cell_type": "markdown",
   "id": "51a34ab5",
   "metadata": {},
   "source": [
    "## Content-based Filtering "
   ]
  },
  {
   "cell_type": "code",
   "execution_count": 75,
   "id": "a225eb49",
   "metadata": {},
   "outputs": [],
   "source": [
    "all_df['concat'] = (pd.Series(all_df[['title_cast', 'director', 'plot_keywords', 'genres', 'tag']]\n",
    "                      .values.tolist()).str.join(' '))"
   ]
  },
  {
   "cell_type": "code",
   "execution_count": 76,
   "id": "ed0306e2",
   "metadata": {},
   "outputs": [],
   "source": [
    "# Convienient indexes to map between movie titles and indexes of the 'all_df' dataframe\n",
    "titles = all_df['title']\n",
    "indices = pd.Series(all_df.index, index=all_df['title'])"
   ]
  },
  {
   "cell_type": "code",
   "execution_count": 77,
   "id": "d147c052",
   "metadata": {},
   "outputs": [],
   "source": [
    "tf = TfidfVectorizer(analyzer='word', ngram_range=(1,2),\n",
    "                     min_df=0, stop_words='english')\n",
    "\n",
    "# Produce a feature matrix, where each row corresponds to a movie,\n",
    "# with TF-IDF features as columns \n",
    "tf_enrich_matrix = tf.fit_transform(all_df['concat'])"
   ]
  },
  {
   "cell_type": "code",
   "execution_count": 78,
   "id": "f5d15591",
   "metadata": {},
   "outputs": [
    {
     "data": {
      "text/plain": [
       "(24866, 172751)"
      ]
     },
     "execution_count": 78,
     "metadata": {},
     "output_type": "execute_result"
    }
   ],
   "source": [
    "tf_enrich_matrix.shape"
   ]
  },
  {
   "cell_type": "code",
   "execution_count": 79,
   "id": "99930c39",
   "metadata": {},
   "outputs": [
    {
     "name": "stdout",
     "output_type": "stream",
     "text": [
      "(24866, 24866)\n"
     ]
    }
   ],
   "source": [
    "cosine_sim_enrich = cosine_similarity(tf_enrich_matrix, \n",
    "                                        tf_enrich_matrix)\n",
    "print (cosine_sim_enrich.shape)"
   ]
  },
  {
   "cell_type": "code",
   "execution_count": 80,
   "id": "312399bd",
   "metadata": {},
   "outputs": [],
   "source": [
    "def content_generate_top_N_recommendations(movie_title, N=10):\n",
    "    # Convert the string movie title to a numeric index for our \n",
    "    # similarity matrix\n",
    "    b_idx = indices[movie_title]\n",
    "    # Extract all similarity values computed with the reference movie title\n",
    "    sim_scores = list(enumerate(cosine_sim_enrich[b_idx]))\n",
    "    # Sort the values, keeping a copy of the original index of each value\n",
    "    sim_scores = sorted(sim_scores, key=lambda x: x[1], reverse=True)\n",
    "    # Select the top-N values for recommendation\n",
    "    sim_scores = sim_scores[1:N]\n",
    "    # Collect indexes \n",
    "    movie_indices = [i[0] for i in sim_scores]\n",
    "    # Convert the indexes back into titles \n",
    "    return titles.iloc[movie_indices]"
   ]
  },
  {
   "cell_type": "code",
   "execution_count": 81,
   "id": "3e6ba72b",
   "metadata": {
    "scrolled": true
   },
   "outputs": [
    {
     "name": "stdout",
     "output_type": "stream",
     "text": [
      "New Jersey Drive (1995) has this following recommendation\n"
     ]
    },
    {
     "data": {
      "text/plain": [
       "6325                   From the Terrace (1960)\n",
       "4522                   New York Stories (1989)\n",
       "2255     Pope of Greenwich Village, The (1984)\n",
       "10630                       Freedomland (2006)\n",
       "4864               Moscow on the Hudson (1984)\n",
       "11888                              Scum (1979)\n",
       "7291                        Jersey Girl (1992)\n",
       "16599                   Laws of Gravity (1992)\n",
       "1754                            Illtown (1996)\n",
       "Name: title, dtype: object"
      ]
     },
     "execution_count": 81,
     "metadata": {},
     "output_type": "execute_result"
    }
   ],
   "source": [
    "title = indices.index[random.randint(24866)]\n",
    "print(f'{title} has this following recommendation')\n",
    "content_generate_top_N_recommendations(title).head(10)"
   ]
  },
  {
   "cell_type": "markdown",
   "id": "f674d9eb",
   "metadata": {},
   "source": [
    "#### Getting the train dataset ready for rating predictions"
   ]
  },
  {
   "cell_type": "code",
   "execution_count": 83,
   "id": "dd131ba1",
   "metadata": {},
   "outputs": [
    {
     "data": {
      "text/plain": [
       "(10000038, 11)"
      ]
     },
     "metadata": {},
     "output_type": "display_data"
    },
    {
     "data": {
      "text/html": [
       "<div>\n",
       "<style scoped>\n",
       "    .dataframe tbody tr th:only-of-type {\n",
       "        vertical-align: middle;\n",
       "    }\n",
       "\n",
       "    .dataframe tbody tr th {\n",
       "        vertical-align: top;\n",
       "    }\n",
       "\n",
       "    .dataframe thead th {\n",
       "        text-align: right;\n",
       "    }\n",
       "</style>\n",
       "<table border=\"1\" class=\"dataframe\">\n",
       "  <thead>\n",
       "    <tr style=\"text-align: right;\">\n",
       "      <th></th>\n",
       "      <th>userId</th>\n",
       "      <th>movieId</th>\n",
       "      <th>rating</th>\n",
       "      <th>timestamp</th>\n",
       "      <th>title_cast</th>\n",
       "      <th>director</th>\n",
       "      <th>plot_keywords</th>\n",
       "      <th>title</th>\n",
       "      <th>genres</th>\n",
       "      <th>tag</th>\n",
       "      <th>concat</th>\n",
       "    </tr>\n",
       "  </thead>\n",
       "  <tbody>\n",
       "    <tr>\n",
       "      <th>0</th>\n",
       "      <td>5163</td>\n",
       "      <td>57669</td>\n",
       "      <td>4.0</td>\n",
       "      <td>1518349992</td>\n",
       "      <td>ElizabethBerrington RudyBlomme OlivierBonjour</td>\n",
       "      <td>Martin McDonagh</td>\n",
       "      <td>dwarf bruges irish hitman</td>\n",
       "      <td>In Bruges (2008)</td>\n",
       "      <td>Comedy Crime Drama Thriller</td>\n",
       "      <td>hit men</td>\n",
       "      <td>ElizabethBerrington RudyBlomme OlivierBonjour ...</td>\n",
       "    </tr>\n",
       "    <tr>\n",
       "      <th>1</th>\n",
       "      <td>106343</td>\n",
       "      <td>5</td>\n",
       "      <td>4.5</td>\n",
       "      <td>1206238739</td>\n",
       "      <td>SteveMartin DianeKeaton MartinShort</td>\n",
       "      <td>Albert Hackett</td>\n",
       "      <td>fatherhood doberman dog mansion</td>\n",
       "      <td>Father of the Bride Part II (1995)</td>\n",
       "      <td>Comedy</td>\n",
       "      <td>sequel</td>\n",
       "      <td>SteveMartin DianeKeaton MartinShort Albert Hac...</td>\n",
       "    </tr>\n",
       "    <tr>\n",
       "      <th>2</th>\n",
       "      <td>146790</td>\n",
       "      <td>5459</td>\n",
       "      <td>5.0</td>\n",
       "      <td>1076215539</td>\n",
       "      <td>TommyLeeJones WillSmith RipTorn</td>\n",
       "      <td>Lowell Cunningham</td>\n",
       "      <td>lingerie michael jackson character shorthaired...</td>\n",
       "      <td>Men in Black II (a.k.a. MIIB) (a.k.a. MIB 2) (...</td>\n",
       "      <td>Action Comedy Sci-Fi</td>\n",
       "      <td>alien</td>\n",
       "      <td>TommyLeeJones WillSmith RipTorn Lowell Cunning...</td>\n",
       "    </tr>\n",
       "    <tr>\n",
       "      <th>3</th>\n",
       "      <td>106362</td>\n",
       "      <td>32296</td>\n",
       "      <td>2.0</td>\n",
       "      <td>1423042565</td>\n",
       "      <td>SandraBullock ReginaKing EnriqueMurciano</td>\n",
       "      <td>Marc Lawrence</td>\n",
       "      <td>female protagonist cleave gag good woman fbi</td>\n",
       "      <td>Miss Congeniality 2: Armed and Fabulous (2005)</td>\n",
       "      <td>Adventure Comedy Crime</td>\n",
       "      <td>sequels</td>\n",
       "      <td>SandraBullock ReginaKing EnriqueMurciano Marc ...</td>\n",
       "    </tr>\n",
       "    <tr>\n",
       "      <th>4</th>\n",
       "      <td>9041</td>\n",
       "      <td>366</td>\n",
       "      <td>3.0</td>\n",
       "      <td>833375837</td>\n",
       "      <td>JeffDavis HeatherLangenkamp MikoHughes</td>\n",
       "      <td>Wes Craven</td>\n",
       "      <td>freddy krueger elm street famous director as h...</td>\n",
       "      <td>Wes Craven's New Nightmare (Nightmare on Elm S...</td>\n",
       "      <td>Drama Horror Mystery Thriller</td>\n",
       "      <td>horror</td>\n",
       "      <td>JeffDavis HeatherLangenkamp MikoHughes Wes Cra...</td>\n",
       "    </tr>\n",
       "  </tbody>\n",
       "</table>\n",
       "</div>"
      ],
      "text/plain": [
       "   userId  movieId  rating   timestamp  \\\n",
       "0    5163    57669     4.0  1518349992   \n",
       "1  106343        5     4.5  1206238739   \n",
       "2  146790     5459     5.0  1076215539   \n",
       "3  106362    32296     2.0  1423042565   \n",
       "4    9041      366     3.0   833375837   \n",
       "\n",
       "                                      title_cast           director  \\\n",
       "0  ElizabethBerrington RudyBlomme OlivierBonjour    Martin McDonagh   \n",
       "1            SteveMartin DianeKeaton MartinShort     Albert Hackett   \n",
       "2                TommyLeeJones WillSmith RipTorn  Lowell Cunningham   \n",
       "3       SandraBullock ReginaKing EnriqueMurciano      Marc Lawrence   \n",
       "4         JeffDavis HeatherLangenkamp MikoHughes         Wes Craven   \n",
       "\n",
       "                                       plot_keywords  \\\n",
       "0                          dwarf bruges irish hitman   \n",
       "1                    fatherhood doberman dog mansion   \n",
       "2  lingerie michael jackson character shorthaired...   \n",
       "3       female protagonist cleave gag good woman fbi   \n",
       "4  freddy krueger elm street famous director as h...   \n",
       "\n",
       "                                               title  \\\n",
       "0                                   In Bruges (2008)   \n",
       "1                 Father of the Bride Part II (1995)   \n",
       "2  Men in Black II (a.k.a. MIIB) (a.k.a. MIB 2) (...   \n",
       "3     Miss Congeniality 2: Armed and Fabulous (2005)   \n",
       "4  Wes Craven's New Nightmare (Nightmare on Elm S...   \n",
       "\n",
       "                          genres      tag  \\\n",
       "0    Comedy Crime Drama Thriller  hit men   \n",
       "1                         Comedy   sequel   \n",
       "2           Action Comedy Sci-Fi    alien   \n",
       "3         Adventure Comedy Crime  sequels   \n",
       "4  Drama Horror Mystery Thriller   horror   \n",
       "\n",
       "                                              concat  \n",
       "0  ElizabethBerrington RudyBlomme OlivierBonjour ...  \n",
       "1  SteveMartin DianeKeaton MartinShort Albert Hac...  \n",
       "2  TommyLeeJones WillSmith RipTorn Lowell Cunning...  \n",
       "3  SandraBullock ReginaKing EnriqueMurciano Marc ...  \n",
       "4  JeffDavis HeatherLangenkamp MikoHughes Wes Cra...  "
      ]
     },
     "execution_count": 83,
     "metadata": {},
     "output_type": "execute_result"
    }
   ],
   "source": [
    "train_df = df_list[8].merge(all_df, how=\"left\", on='movieId')\n",
    "display(train_df.shape)\n",
    "train_df.head()"
   ]
  },
  {
   "cell_type": "code",
   "execution_count": 84,
   "id": "1d1ec826",
   "metadata": {},
   "outputs": [],
   "source": [
    "train_df = train_df.fillna('')"
   ]
  },
  {
   "cell_type": "code",
   "execution_count": 85,
   "id": "b0b65e3c",
   "metadata": {},
   "outputs": [],
   "source": [
    "def content_generate_rating_estimate(movie_title, user, rating_data, k=20, threshold=0.0):\n",
    "    # Convert the book title to a numeric index for our \n",
    "    # similarity matrix\n",
    "    b_idx = indices[movie_title]\n",
    "    neighbors = [] # <-- Stores our collection of similarity values \n",
    "     \n",
    "    # Gather the similarity ratings between each book the user has rated\n",
    "    # and the reference book \n",
    "    for index, row in rating_data[rating_data['userId']==user].iterrows():\n",
    "        if row['title']:\n",
    "            sim = cosine_sim_enrich[b_idx-1, indices[row['title']]-1]\n",
    "        else:\n",
    "            pass\n",
    "        if type(sim) == np.ndarray:\n",
    "            sim = sim[1]\n",
    "        neighbors.append((sim, row['rating']))\n",
    "#     print(type(sim))\n",
    "#     print(neighbors)\n",
    "    # Select the top-N values from our collection\n",
    "    k_neighbors = heapq.nlargest(k, neighbors, key=lambda t: t[0])\n",
    "\n",
    "    # Compute the weighted average using similarity scores and \n",
    "    # user item ratings. \n",
    "    simTotal, weightedSum = 0, 0\n",
    "    for (simScore, rating) in k_neighbors:\n",
    "        # Ensure that similarity ratings are above a given threshold\n",
    "        if (simScore > threshold):\n",
    "            simTotal += simScore\n",
    "            weightedSum += simScore * rating\n",
    "    try:\n",
    "        predictedRating = weightedSum / simTotal\n",
    "    except ZeroDivisionError:\n",
    "        # Cold-start problem - No ratings given by user. \n",
    "        # We use the average rating for the reference item as a proxy in this case \n",
    "        predictedRating = np.mean(rating_data[rating_data['title']==movie_title]['rating'])\n",
    "    return predictedRating"
   ]
  },
  {
   "cell_type": "code",
   "execution_count": 86,
   "id": "d7b8d322",
   "metadata": {},
   "outputs": [
    {
     "data": {
      "text/html": [
       "<div>\n",
       "<style scoped>\n",
       "    .dataframe tbody tr th:only-of-type {\n",
       "        vertical-align: middle;\n",
       "    }\n",
       "\n",
       "    .dataframe tbody tr th {\n",
       "        vertical-align: top;\n",
       "    }\n",
       "\n",
       "    .dataframe thead th {\n",
       "        text-align: right;\n",
       "    }\n",
       "</style>\n",
       "<table border=\"1\" class=\"dataframe\">\n",
       "  <thead>\n",
       "    <tr style=\"text-align: right;\">\n",
       "      <th></th>\n",
       "      <th>title</th>\n",
       "      <th>rating</th>\n",
       "      <th>director</th>\n",
       "    </tr>\n",
       "  </thead>\n",
       "  <tbody>\n",
       "    <tr>\n",
       "      <th>27693</th>\n",
       "      <td>Wyatt Earp (1994)</td>\n",
       "      <td>4.0</td>\n",
       "      <td>Dan Gordon</td>\n",
       "    </tr>\n",
       "    <tr>\n",
       "      <th>532328</th>\n",
       "      <td>Mission: Impossible (1996)</td>\n",
       "      <td>3.0</td>\n",
       "      <td>Bruce Geller</td>\n",
       "    </tr>\n",
       "    <tr>\n",
       "      <th>1280594</th>\n",
       "      <td>Forrest Gump (1994)</td>\n",
       "      <td>4.0</td>\n",
       "      <td>Winston Groom</td>\n",
       "    </tr>\n",
       "    <tr>\n",
       "      <th>1950657</th>\n",
       "      <td>Much Ado About Nothing (1993)</td>\n",
       "      <td>5.0</td>\n",
       "      <td>William Shakespeare</td>\n",
       "    </tr>\n",
       "    <tr>\n",
       "      <th>2118680</th>\n",
       "      <td>First Knight (1995)</td>\n",
       "      <td>4.0</td>\n",
       "      <td>Lorne Cameron</td>\n",
       "    </tr>\n",
       "    <tr>\n",
       "      <th>2146227</th>\n",
       "      <td>Remains of the Day, The (1993)</td>\n",
       "      <td>3.0</td>\n",
       "      <td>Kazuo Ishiguro</td>\n",
       "    </tr>\n",
       "    <tr>\n",
       "      <th>2733246</th>\n",
       "      <td>Persuasion (1995)</td>\n",
       "      <td>5.0</td>\n",
       "      <td>Roger Michell</td>\n",
       "    </tr>\n",
       "    <tr>\n",
       "      <th>3073295</th>\n",
       "      <td>Three Musketeers, The (1993)</td>\n",
       "      <td>3.0</td>\n",
       "      <td>Alexandre Dumas</td>\n",
       "    </tr>\n",
       "    <tr>\n",
       "      <th>3541280</th>\n",
       "      <td>I.Q. (1994)</td>\n",
       "      <td>4.0</td>\n",
       "      <td>Andy Breckman</td>\n",
       "    </tr>\n",
       "    <tr>\n",
       "      <th>4747038</th>\n",
       "      <td>Independence Day (a.k.a. ID4) (1996)</td>\n",
       "      <td>3.0</td>\n",
       "      <td>Dean Devlin</td>\n",
       "    </tr>\n",
       "    <tr>\n",
       "      <th>5268995</th>\n",
       "      <td>Fugitive, The (1993)</td>\n",
       "      <td>5.0</td>\n",
       "      <td>Jeb Stuart</td>\n",
       "    </tr>\n",
       "    <tr>\n",
       "      <th>5624506</th>\n",
       "      <td>Batman Forever (1995)</td>\n",
       "      <td>4.0</td>\n",
       "      <td>Bob Kane</td>\n",
       "    </tr>\n",
       "    <tr>\n",
       "      <th>6707525</th>\n",
       "      <td>Firm, The (1993)</td>\n",
       "      <td>4.0</td>\n",
       "      <td>John Grisham</td>\n",
       "    </tr>\n",
       "    <tr>\n",
       "      <th>7607034</th>\n",
       "      <td>Home Alone (1990)</td>\n",
       "      <td>3.0</td>\n",
       "      <td></td>\n",
       "    </tr>\n",
       "    <tr>\n",
       "      <th>7951999</th>\n",
       "      <td>Sense and Sensibility (1995)</td>\n",
       "      <td>5.0</td>\n",
       "      <td>Jane Austen</td>\n",
       "    </tr>\n",
       "    <tr>\n",
       "      <th>9003840</th>\n",
       "      <td>Mortal Kombat (1995)</td>\n",
       "      <td>3.0</td>\n",
       "      <td>Ed Boon</td>\n",
       "    </tr>\n",
       "    <tr>\n",
       "      <th>9237416</th>\n",
       "      <td>Mask, The (1994)</td>\n",
       "      <td>3.0</td>\n",
       "      <td>Michael Fallon</td>\n",
       "    </tr>\n",
       "    <tr>\n",
       "      <th>9315522</th>\n",
       "      <td>Nell (1994)</td>\n",
       "      <td>3.0</td>\n",
       "      <td>Mark Handley</td>\n",
       "    </tr>\n",
       "  </tbody>\n",
       "</table>\n",
       "</div>"
      ],
      "text/plain": [
       "                                        title  rating             director\n",
       "27693                       Wyatt Earp (1994)     4.0           Dan Gordon\n",
       "532328             Mission: Impossible (1996)     3.0         Bruce Geller\n",
       "1280594                   Forrest Gump (1994)     4.0        Winston Groom\n",
       "1950657         Much Ado About Nothing (1993)     5.0  William Shakespeare\n",
       "2118680                   First Knight (1995)     4.0        Lorne Cameron\n",
       "2146227        Remains of the Day, The (1993)     3.0       Kazuo Ishiguro\n",
       "2733246                     Persuasion (1995)     5.0        Roger Michell\n",
       "3073295          Three Musketeers, The (1993)     3.0      Alexandre Dumas\n",
       "3541280                           I.Q. (1994)     4.0        Andy Breckman\n",
       "4747038  Independence Day (a.k.a. ID4) (1996)     3.0          Dean Devlin\n",
       "5268995                  Fugitive, The (1993)     5.0           Jeb Stuart\n",
       "5624506                 Batman Forever (1995)     4.0             Bob Kane\n",
       "6707525                      Firm, The (1993)     4.0         John Grisham\n",
       "7607034                     Home Alone (1990)     3.0                     \n",
       "7951999          Sense and Sensibility (1995)     5.0          Jane Austen\n",
       "9003840                  Mortal Kombat (1995)     3.0              Ed Boon\n",
       "9237416                      Mask, The (1994)     3.0       Michael Fallon\n",
       "9315522                           Nell (1994)     3.0         Mark Handley"
      ]
     },
     "execution_count": 86,
     "metadata": {},
     "output_type": "execute_result"
    }
   ],
   "source": [
    "# Subset of ratings from user 314\n",
    "train_df[train_df['userId'] == 314][['title', 'rating', 'director']]"
   ]
  },
  {
   "cell_type": "markdown",
   "id": "8feb5421",
   "metadata": {},
   "source": [
    "We first generate some ratings for books which user 314 has already rated:"
   ]
  },
  {
   "cell_type": "code",
   "execution_count": 87,
   "id": "32187228",
   "metadata": {},
   "outputs": [
    {
     "name": "stdout",
     "output_type": "stream",
     "text": [
      "Title - Three Musketeers, The (1993)\n",
      "---\n",
      "Actual rating: \t\t 3.0\n",
      "Predicted rating: \t 3.02615994556119\n"
     ]
    }
   ],
   "source": [
    "title = \"Three Musketeers, The (1993)\"\n",
    "actual_rating = train_df[(train_df['userId'] == 314) & (train_df['title'] == title)]['rating'].values[0]\n",
    "pred_rating = content_generate_rating_estimate(movie_title=title, user=314, rating_data=train_df)\n",
    "print (f\"Title - {title}\")\n",
    "print (\"---\")\n",
    "print (f\"Actual rating: \\t\\t {actual_rating}\")\n",
    "print (f\"Predicted rating: \\t {pred_rating}\")"
   ]
  },
  {
   "cell_type": "code",
   "execution_count": 88,
   "id": "5a543d2f",
   "metadata": {},
   "outputs": [
    {
     "name": "stdout",
     "output_type": "stream",
     "text": [
      "Title - Fugitive, The (1993)\n",
      "---\n",
      "Actual rating: \t\t 5.0\n",
      "Predicted rating: \t 4.919284002527432\n"
     ]
    }
   ],
   "source": [
    "title = \"Fugitive, The (1993)\"\n",
    "actual_rating = train_df[(train_df['userId'] == 314) & (train_df['title'] == title)]['rating'].values[0]\n",
    "pred_rating = content_generate_rating_estimate(movie_title=title, user=314, rating_data=train_df)\n",
    "print (f\"Title - {title}\")\n",
    "print (\"---\")\n",
    "print (f\"Actual rating: \\t\\t {actual_rating}\")\n",
    "print (f\"Predicted rating: \\t {pred_rating}\")"
   ]
  },
  {
   "cell_type": "code",
   "execution_count": 89,
   "id": "87dfeee4",
   "metadata": {},
   "outputs": [
    {
     "name": "stdout",
     "output_type": "stream",
     "text": [
      "Title - Igby Goes Down (2002)\n",
      "---\n",
      "Actual rating: \t\t ?\n",
      "Predicted rating: \t 3.803239654527025\n"
     ]
    }
   ],
   "source": [
    "title = indices.index[random.randint(24866)]\n",
    "actual = train_df.loc[((train_df['userId'] == 314) & (train_df['title'] == title))]\n",
    "pred_rating = content_generate_rating_estimate(movie_title=title, user=314, rating_data=train_df)\n",
    "print (f\"Title - {title}\")\n",
    "print (\"---\")\n",
    "if actual.shape[0]:\n",
    "    actual_rating = actual['rating'].values[0]\n",
    "    print (f\"Actual rating: \\t\\t {actual_rating}\")\n",
    "else:\n",
    "    print (f\"Actual rating: \\t\\t ?\")\n",
    "print (f\"Predicted rating: \\t {pred_rating}\")"
   ]
  },
  {
   "cell_type": "markdown",
   "id": "bbc4a66a",
   "metadata": {
    "_cell_guid": "a9a16fac-217d-4b36-b280-ca250ee921fe",
    "_uuid": "ddc06567eb0fe770c7f3b77f3cb7b777a6923f5c"
   },
   "source": [
    "## Collaborative Filtering\n",
    "\n",
    "Our content based engine suffers from some severe limitations. It is only capable of suggesting movies which are *close* to a certain movie. That is, it is not capable of capturing tastes and providing recommendations across genres.\n",
    "\n",
    "Also, the engine that we built is not really personal in that it doesn't capture the personal tastes and biases of a user. Anyone querying our engine for recommendations based on a movie will receive the same recommendations for that movie, regardless of who s/he is.\n",
    "\n",
    "Therefore, in this section, we will use a technique called **Collaborative Filtering** to make recommendations to Movie Watchers. Collaborative Filtering is based on the idea that users similar to a me can be used to predict how much I will like a particular product or service those users have used/experienced but I have not.\n",
    "\n",
    "I will not be implementing Collaborative Filtering from scratch. Instead, I will use the **Surprise** library that used extremely powerful algorithms like **Singular Value Decomposition (SVD)** to minimise RMSE (Root Mean Square Error) and give great recommendations."
   ]
  },
  {
   "cell_type": "code",
   "execution_count": null,
   "id": "929e1fcb",
   "metadata": {},
   "outputs": [],
   "source": [
    "reader = Reader()"
   ]
  },
  {
   "cell_type": "code",
   "execution_count": null,
   "id": "7d0a29a3",
   "metadata": {},
   "outputs": [],
   "source": [
    "ratings = df_list[8]\n",
    "ratings.head()"
   ]
  },
  {
   "cell_type": "code",
   "execution_count": null,
   "id": "473c2b21",
   "metadata": {},
   "outputs": [],
   "source": [
    "X_train, X_test = train_test_split(ratings, test_size=0.9, random_state=0)"
   ]
  },
  {
   "cell_type": "code",
   "execution_count": null,
   "id": "52df64a2",
   "metadata": {},
   "outputs": [],
   "source": [
    "X_test.shape"
   ]
  },
  {
   "cell_type": "code",
   "execution_count": null,
   "id": "f31a7358",
   "metadata": {},
   "outputs": [],
   "source": [
    "# data = Dataset.load_from_df(ratings[['userId', 'movieId', 'rating']], reader)"
   ]
  },
  {
   "cell_type": "code",
   "execution_count": null,
   "id": "15aa2fdb",
   "metadata": {},
   "outputs": [],
   "source": [
    "# model = SVD()\n",
    "# # model.fit(data)\n",
    "# cross_validate(model, data, measures=['rmse', 'mae'], cv=3)"
   ]
  },
  {
   "cell_type": "code",
   "execution_count": null,
   "id": "93edccab",
   "metadata": {},
   "outputs": [],
   "source": [
    "trainsets = data.build_full_trainset()\n",
    "# model.fit(trainsets)"
   ]
  },
  {
   "cell_type": "code",
   "execution_count": null,
   "id": "a5031a10",
   "metadata": {},
   "outputs": [],
   "source": [
    "# We make use of an SVD model trained on a subset of the MovieLens 10k dataset.\n",
    "model=pickle.load(open('resources/models/svd_custom_model.pkl', 'rb'))"
   ]
  },
  {
   "cell_type": "code",
   "execution_count": null,
   "id": "5149a01d",
   "metadata": {},
   "outputs": [],
   "source": [
    "X_train[X_train['userId'] == 2]"
   ]
  },
  {
   "cell_type": "code",
   "execution_count": null,
   "id": "5ae013df",
   "metadata": {},
   "outputs": [],
   "source": [
    "model.predict(2, 314, 5)"
   ]
  },
  {
   "cell_type": "code",
   "execution_count": null,
   "id": "fa94ebad",
   "metadata": {},
   "outputs": [],
   "source": [
    "model_save_path = \"svd_custom_model.pkl\"\n",
    "with open(model_save_path,'wb') as file:\n",
    "    pickle.dump(model, file)"
   ]
  },
  {
   "cell_type": "code",
   "execution_count": null,
   "id": "9b342c02",
   "metadata": {},
   "outputs": [],
   "source": [
    "test_df = df_list[7]\n",
    "test_df.head()"
   ]
  },
  {
   "cell_type": "code",
   "execution_count": null,
   "id": "828af6eb",
   "metadata": {},
   "outputs": [],
   "source": [
    "# # Train the model on the entire dataset \n",
    "# reader = Reader(rating_scale=(0.5, 5))\n",
    "# data = Dataset.load_from_df(train[['userId','movieId','rating']], reader)\n",
    "# trainingSet = data.build_full_trainset()\n",
    "# svd.fit(trainingSet)\n",
    "\n",
    "# Make predictions using the trained model\n",
    "pred = [model.predict(test_df.userId[i], test_df.movieId[i]).est for i in test_df.index]\n",
    "test_df['rating'] = pred"
   ]
  },
  {
   "cell_type": "code",
   "execution_count": null,
   "id": "66a10dff",
   "metadata": {},
   "outputs": [],
   "source": [
    "# Create the csv file for submission\n",
    "test_df['Id'] = test_df['userId'].astype(str)+'_'+test_df['movieId'].astype(str)\n",
    "test_df = test_df[['Id','rating']]\n",
    "test_df.to_csv('submission.csv', index=False)"
   ]
  },
  {
   "cell_type": "markdown",
   "id": "994fb87a",
   "metadata": {},
   "source": [
    "trial1"
   ]
  },
  {
   "cell_type": "code",
   "execution_count": 142,
   "id": "5caaa757",
   "metadata": {},
   "outputs": [],
   "source": [
    "ratings_df = pd.read_csv('resources/data/ratings.csv')\n",
    "ratings_df.drop(['timestamp'], axis=1,inplace=True)"
   ]
  },
  {
   "cell_type": "code",
   "execution_count": 143,
   "id": "4e96a5ff",
   "metadata": {},
   "outputs": [],
   "source": [
    "# We make use of an SVD model trained on a subset of the MovieLens 10k dataset.\n",
    "model=pickle.load(open('resources/models/baselineOnly.pkl', 'rb'))"
   ]
  },
  {
   "cell_type": "code",
   "execution_count": 144,
   "id": "7bad5a26",
   "metadata": {},
   "outputs": [
    {
     "data": {
      "text/plain": [
       "Prediction(uid=2, iid=314, r_ui=5, est=3.6372448521783283, details={'was_impossible': False})"
      ]
     },
     "execution_count": 144,
     "metadata": {},
     "output_type": "execute_result"
    }
   ],
   "source": [
    "model.predict(2, 314, 5)"
   ]
  },
  {
   "cell_type": "code",
   "execution_count": 146,
   "id": "f7b062df",
   "metadata": {},
   "outputs": [],
   "source": [
    "reader = Reader()\n",
    "load_df = Dataset.load_from_df(ratings_df, reader)\n",
    "a_train = load_df.build_full_trainset()"
   ]
  },
  {
   "cell_type": "code",
   "execution_count": 147,
   "id": "30ab362e",
   "metadata": {},
   "outputs": [
    {
     "data": {
      "text/html": [
       "<div>\n",
       "<style scoped>\n",
       "    .dataframe tbody tr th:only-of-type {\n",
       "        vertical-align: middle;\n",
       "    }\n",
       "\n",
       "    .dataframe tbody tr th {\n",
       "        vertical-align: top;\n",
       "    }\n",
       "\n",
       "    .dataframe thead th {\n",
       "        text-align: right;\n",
       "    }\n",
       "</style>\n",
       "<table border=\"1\" class=\"dataframe\">\n",
       "  <thead>\n",
       "    <tr style=\"text-align: right;\">\n",
       "      <th></th>\n",
       "      <th>movieId</th>\n",
       "      <th>title</th>\n",
       "      <th>genres</th>\n",
       "    </tr>\n",
       "  </thead>\n",
       "  <tbody>\n",
       "    <tr>\n",
       "      <th>24473</th>\n",
       "      <td>121577</td>\n",
       "      <td>Revolt of the Praetorians (1964)</td>\n",
       "      <td>Action|Adventure|Drama</td>\n",
       "    </tr>\n",
       "    <tr>\n",
       "      <th>23773</th>\n",
       "      <td>119305</td>\n",
       "      <td>The Nutcracker Prince (1990)</td>\n",
       "      <td>Adventure|Animation|Children|Fantasy</td>\n",
       "    </tr>\n",
       "    <tr>\n",
       "      <th>3915</th>\n",
       "      <td>4019</td>\n",
       "      <td>Finding Forrester (2000)</td>\n",
       "      <td>Drama</td>\n",
       "    </tr>\n",
       "    <tr>\n",
       "      <th>22067</th>\n",
       "      <td>113317</td>\n",
       "      <td>Before Winter Comes (1969)</td>\n",
       "      <td>Comedy|Drama|War</td>\n",
       "    </tr>\n",
       "    <tr>\n",
       "      <th>14666</th>\n",
       "      <td>77818</td>\n",
       "      <td>Gunless (2010)</td>\n",
       "      <td>Action|Comedy|Drama|Western</td>\n",
       "    </tr>\n",
       "    <tr>\n",
       "      <th>24955</th>\n",
       "      <td>122679</td>\n",
       "      <td>John Goldfarb, Please Come Home! (1965)</td>\n",
       "      <td>(no genres listed)</td>\n",
       "    </tr>\n",
       "    <tr>\n",
       "      <th>26621</th>\n",
       "      <td>126747</td>\n",
       "      <td>Lotta på Bråkmakargatan (1992)</td>\n",
       "      <td>Children</td>\n",
       "    </tr>\n",
       "    <tr>\n",
       "      <th>23626</th>\n",
       "      <td>118774</td>\n",
       "      <td>The Widow From Chicago (1930)</td>\n",
       "      <td>Crime|Drama|Romance</td>\n",
       "    </tr>\n",
       "    <tr>\n",
       "      <th>24847</th>\n",
       "      <td>122441</td>\n",
       "      <td>Tales That Witness Madness (1973)</td>\n",
       "      <td>Comedy|Horror|Mystery|Sci-Fi</td>\n",
       "    </tr>\n",
       "    <tr>\n",
       "      <th>1248</th>\n",
       "      <td>1281</td>\n",
       "      <td>Great Dictator, The (1940)</td>\n",
       "      <td>Comedy|Drama|War</td>\n",
       "    </tr>\n",
       "  </tbody>\n",
       "</table>\n",
       "</div>"
      ],
      "text/plain": [
       "       movieId                                    title  \\\n",
       "24473   121577         Revolt of the Praetorians (1964)   \n",
       "23773   119305             The Nutcracker Prince (1990)   \n",
       "3915      4019                 Finding Forrester (2000)   \n",
       "22067   113317               Before Winter Comes (1969)   \n",
       "14666    77818                           Gunless (2010)   \n",
       "24955   122679  John Goldfarb, Please Come Home! (1965)   \n",
       "26621   126747           Lotta på Bråkmakargatan (1992)   \n",
       "23626   118774            The Widow From Chicago (1930)   \n",
       "24847   122441        Tales That Witness Madness (1973)   \n",
       "1248      1281               Great Dictator, The (1940)   \n",
       "\n",
       "                                     genres  \n",
       "24473                Action|Adventure|Drama  \n",
       "23773  Adventure|Animation|Children|Fantasy  \n",
       "3915                                  Drama  \n",
       "22067                      Comedy|Drama|War  \n",
       "14666           Action|Comedy|Drama|Western  \n",
       "24955                    (no genres listed)  \n",
       "26621                              Children  \n",
       "23626                   Crime|Drama|Romance  \n",
       "24847          Comedy|Horror|Mystery|Sci-Fi  \n",
       "1248                       Comedy|Drama|War  "
      ]
     },
     "execution_count": 147,
     "metadata": {},
     "output_type": "execute_result"
    }
   ],
   "source": [
    "# decoy\n",
    "df = df_list[4][:27000]\n",
    "df.sample(10)"
   ]
  },
  {
   "cell_type": "code",
   "execution_count": 148,
   "id": "0838d2ce",
   "metadata": {},
   "outputs": [
    {
     "data": {
      "text/plain": [
       "41712"
      ]
     },
     "execution_count": 148,
     "metadata": {},
     "output_type": "execute_result"
    }
   ],
   "source": [
    "df.loc[df['title']=='Room for Romeo Brass, A (1999)', 'movieId'].values[0]"
   ]
  },
  {
   "cell_type": "code",
   "execution_count": 162,
   "id": "0c79fe47",
   "metadata": {},
   "outputs": [],
   "source": [
    "movie_list = [113317, 1281, 53476]\n",
    "predictions = []\n",
    "id_store = []\n",
    "for iid in movie_list:\n",
    "    for ui in a_train.all_users():\n",
    "        predictions.append(model.predict(iid=iid, uid=ui, verbose=False))\n",
    "    predictions.sort(key=lambda x: x.est, reverse=True)\n",
    "    # Take the top 10 user id's from each movie with highest rankings\n",
    "    for pred in predictions[:50]:\n",
    "        id_store.append(pred.uid)"
   ]
  },
  {
   "cell_type": "code",
   "execution_count": 163,
   "id": "44e44314",
   "metadata": {},
   "outputs": [
    {
     "data": {
      "text/plain": [
       "(6606, 3)"
      ]
     },
     "metadata": {},
     "output_type": "display_data"
    },
    {
     "data": {
      "text/html": [
       "<div>\n",
       "<style scoped>\n",
       "    .dataframe tbody tr th:only-of-type {\n",
       "        vertical-align: middle;\n",
       "    }\n",
       "\n",
       "    .dataframe tbody tr th {\n",
       "        vertical-align: top;\n",
       "    }\n",
       "\n",
       "    .dataframe thead th {\n",
       "        text-align: right;\n",
       "    }\n",
       "</style>\n",
       "<table border=\"1\" class=\"dataframe\">\n",
       "  <thead>\n",
       "    <tr style=\"text-align: right;\">\n",
       "      <th></th>\n",
       "      <th>userId</th>\n",
       "      <th>movieId</th>\n",
       "      <th>rating</th>\n",
       "    </tr>\n",
       "  </thead>\n",
       "  <tbody>\n",
       "    <tr>\n",
       "      <th>7252</th>\n",
       "      <td>44</td>\n",
       "      <td>1</td>\n",
       "      <td>4.0</td>\n",
       "    </tr>\n",
       "    <tr>\n",
       "      <th>7253</th>\n",
       "      <td>44</td>\n",
       "      <td>3</td>\n",
       "      <td>5.0</td>\n",
       "    </tr>\n",
       "    <tr>\n",
       "      <th>7254</th>\n",
       "      <td>44</td>\n",
       "      <td>5</td>\n",
       "      <td>3.0</td>\n",
       "    </tr>\n",
       "    <tr>\n",
       "      <th>7255</th>\n",
       "      <td>44</td>\n",
       "      <td>6</td>\n",
       "      <td>3.0</td>\n",
       "    </tr>\n",
       "    <tr>\n",
       "      <th>7256</th>\n",
       "      <td>44</td>\n",
       "      <td>17</td>\n",
       "      <td>2.0</td>\n",
       "    </tr>\n",
       "  </tbody>\n",
       "</table>\n",
       "</div>"
      ],
      "text/plain": [
       "      userId  movieId  rating\n",
       "7252      44        1     4.0\n",
       "7253      44        3     5.0\n",
       "7254      44        5     3.0\n",
       "7255      44        6     3.0\n",
       "7256      44       17     2.0"
      ]
     },
     "execution_count": 163,
     "metadata": {},
     "output_type": "execute_result"
    }
   ],
   "source": [
    "pred_users = ratings_df[ratings_df['userId'].isin(id_store)]\n",
    "display(pred_users.shape)\n",
    "pred_users.head()"
   ]
  },
  {
   "cell_type": "code",
   "execution_count": 164,
   "id": "f218f3ce",
   "metadata": {},
   "outputs": [
    {
     "data": {
      "text/html": [
       "<div>\n",
       "<style scoped>\n",
       "    .dataframe tbody tr th:only-of-type {\n",
       "        vertical-align: middle;\n",
       "    }\n",
       "\n",
       "    .dataframe tbody tr th {\n",
       "        vertical-align: top;\n",
       "    }\n",
       "\n",
       "    .dataframe thead th {\n",
       "        text-align: right;\n",
       "    }\n",
       "</style>\n",
       "<table border=\"1\" class=\"dataframe\">\n",
       "  <thead>\n",
       "    <tr style=\"text-align: right;\">\n",
       "      <th></th>\n",
       "      <th>rating_count</th>\n",
       "      <th>rating_mean</th>\n",
       "    </tr>\n",
       "    <tr>\n",
       "      <th>title</th>\n",
       "      <th></th>\n",
       "      <th></th>\n",
       "    </tr>\n",
       "  </thead>\n",
       "  <tbody>\n",
       "    <tr>\n",
       "      <th>'burbs, The (1989)</th>\n",
       "      <td>1</td>\n",
       "      <td>2.000000</td>\n",
       "    </tr>\n",
       "    <tr>\n",
       "      <th>'night Mother (1986)</th>\n",
       "      <td>1</td>\n",
       "      <td>5.000000</td>\n",
       "    </tr>\n",
       "    <tr>\n",
       "      <th>(500) Days of Summer (2009)</th>\n",
       "      <td>5</td>\n",
       "      <td>3.800000</td>\n",
       "    </tr>\n",
       "    <tr>\n",
       "      <th>...And Justice for All (1979)</th>\n",
       "      <td>2</td>\n",
       "      <td>4.500000</td>\n",
       "    </tr>\n",
       "    <tr>\n",
       "      <th>10 Things I Hate About You (1999)</th>\n",
       "      <td>3</td>\n",
       "      <td>3.666667</td>\n",
       "    </tr>\n",
       "  </tbody>\n",
       "</table>\n",
       "</div>"
      ],
      "text/plain": [
       "                                   rating_count  rating_mean\n",
       "title                                                       \n",
       "'burbs, The (1989)                            1     2.000000\n",
       "'night Mother (1986)                          1     5.000000\n",
       "(500) Days of Summer (2009)                   5     3.800000\n",
       "...And Justice for All (1979)                 2     4.500000\n",
       "10 Things I Hate About You (1999)             3     3.666667"
      ]
     },
     "execution_count": 164,
     "metadata": {},
     "output_type": "execute_result"
    }
   ],
   "source": [
    "df3 = pred_users.merge(df_list[4], on='movieId')\n",
    "df3_mod = df3.groupby('title').agg(rating_count=('rating', 'count'), \n",
    "                                   rating_mean=('rating', 'mean'))\n",
    "df3_mod.head()"
   ]
  },
  {
   "cell_type": "code",
   "execution_count": 165,
   "id": "2a9e44e0",
   "metadata": {},
   "outputs": [
    {
     "name": "stdout",
     "output_type": "stream",
     "text": [
      "The mean rating for the whole dataset is 3.5 and minimum votes required to be listed is 9\n"
     ]
    }
   ],
   "source": [
    "# Attempt to create the formular above\n",
    "vote_counts = df3_mod[df3_mod['rating_count'].notnull()]['rating_count']\n",
    "vote_averages = df3_mod[df3_mod['rating_mean'].notnull()]['rating_mean']\n",
    "C = vote_averages.mean()\n",
    "m = vote_counts.quantile(0.95)\n",
    "print(f'The mean rating for the whole dataset is {round(C, 2)} and minimum votes required to be listed is {round(m)}')"
   ]
  },
  {
   "cell_type": "code",
   "execution_count": 166,
   "id": "bc973f51",
   "metadata": {},
   "outputs": [],
   "source": [
    "# creating a function to calculate the weighting rating as recommended by IMDB\n",
    "def weighted_rating(x, mini=m, avg_votes=C):\n",
    "    votes = x['rating_count']\n",
    "    avg_rating = x['rating_mean']\n",
    "    return (votes/(votes+mini) * avg_rating) + (mini/(mini+votes) * avg_votes)\n",
    "\n",
    "# Creating th feature 'weighted_rating'\n",
    "df3_mod['weighted_rating'] = df3_mod.apply(weighted_rating, axis=1)\n",
    "\n",
    "sorted_df = df3_mod.sort_values('weighted_rating', ascending=False)"
   ]
  },
  {
   "cell_type": "code",
   "execution_count": 167,
   "id": "a728110a",
   "metadata": {},
   "outputs": [],
   "source": [
    "sorted_df.reset_index(inplace=True)"
   ]
  },
  {
   "cell_type": "code",
   "execution_count": 172,
   "id": "e49b36c8",
   "metadata": {},
   "outputs": [
    {
     "data": {
      "text/html": [
       "<div>\n",
       "<style scoped>\n",
       "    .dataframe tbody tr th:only-of-type {\n",
       "        vertical-align: middle;\n",
       "    }\n",
       "\n",
       "    .dataframe tbody tr th {\n",
       "        vertical-align: top;\n",
       "    }\n",
       "\n",
       "    .dataframe thead th {\n",
       "        text-align: right;\n",
       "    }\n",
       "</style>\n",
       "<table border=\"1\" class=\"dataframe\">\n",
       "  <thead>\n",
       "    <tr style=\"text-align: right;\">\n",
       "      <th></th>\n",
       "      <th>title</th>\n",
       "      <th>rating_count</th>\n",
       "      <th>rating_mean</th>\n",
       "      <th>weighted_rating</th>\n",
       "    </tr>\n",
       "  </thead>\n",
       "  <tbody>\n",
       "    <tr>\n",
       "      <th>0</th>\n",
       "      <td>Godfather, The (1972)</td>\n",
       "      <td>18</td>\n",
       "      <td>4.666667</td>\n",
       "      <td>4.277188</td>\n",
       "    </tr>\n",
       "    <tr>\n",
       "      <th>1</th>\n",
       "      <td>Shawshank Redemption, The (1994)</td>\n",
       "      <td>22</td>\n",
       "      <td>4.568182</td>\n",
       "      <td>4.257551</td>\n",
       "    </tr>\n",
       "    <tr>\n",
       "      <th>2</th>\n",
       "      <td>Godfather: Part II, The (1974)</td>\n",
       "      <td>11</td>\n",
       "      <td>4.863636</td>\n",
       "      <td>4.249204</td>\n",
       "    </tr>\n",
       "    <tr>\n",
       "      <th>3</th>\n",
       "      <td>American Beauty (1999)</td>\n",
       "      <td>21</td>\n",
       "      <td>4.476190</td>\n",
       "      <td>4.182803</td>\n",
       "    </tr>\n",
       "    <tr>\n",
       "      <th>4</th>\n",
       "      <td>Star Wars: Episode IV - A New Hope (1977)</td>\n",
       "      <td>19</td>\n",
       "      <td>4.421053</td>\n",
       "      <td>4.124432</td>\n",
       "    </tr>\n",
       "  </tbody>\n",
       "</table>\n",
       "</div>"
      ],
      "text/plain": [
       "                                       title  rating_count  rating_mean  \\\n",
       "0                      Godfather, The (1972)            18     4.666667   \n",
       "1           Shawshank Redemption, The (1994)            22     4.568182   \n",
       "2             Godfather: Part II, The (1974)            11     4.863636   \n",
       "3                     American Beauty (1999)            21     4.476190   \n",
       "4  Star Wars: Episode IV - A New Hope (1977)            19     4.421053   \n",
       "\n",
       "   weighted_rating  \n",
       "0         4.277188  \n",
       "1         4.257551  \n",
       "2         4.249204  \n",
       "3         4.182803  \n",
       "4         4.124432  "
      ]
     },
     "execution_count": 172,
     "metadata": {},
     "output_type": "execute_result"
    }
   ],
   "source": [
    "sorted_df.head()"
   ]
  },
  {
   "cell_type": "markdown",
   "id": "8fabb255",
   "metadata": {},
   "source": [
    "cosinig"
   ]
  },
  {
   "cell_type": "code",
   "execution_count": 173,
   "id": "22ab1132",
   "metadata": {},
   "outputs": [],
   "source": [
    "# Convienient indexes to map between movie titles and indexes of the 'all_df' dataframe\n",
    "titles = sorted_df['title']\n",
    "indices = pd.Series(sorted_df.index, index=sorted_df['title'])"
   ]
  },
  {
   "cell_type": "code",
   "execution_count": 184,
   "id": "8662fa2e",
   "metadata": {},
   "outputs": [],
   "source": [
    "df_array = np.array(sorted_df[[\"rating_count\", \"rating_mean\", \"weighted_rating\"]])"
   ]
  },
  {
   "cell_type": "code",
   "execution_count": 185,
   "id": "471b2d4c",
   "metadata": {},
   "outputs": [
    {
     "name": "stdout",
     "output_type": "stream",
     "text": [
      "(2513, 2513)\n"
     ]
    }
   ],
   "source": [
    "cosine_sim_enrich = cosine_similarity(df_array, \n",
    "                                        df_array)\n",
    "print (cosine_sim_enrich.shape)"
   ]
  },
  {
   "cell_type": "code",
   "execution_count": 186,
   "id": "1e4f9d86",
   "metadata": {},
   "outputs": [],
   "source": [
    "def content_generate_top_N_recommendations(movie_title, N=10):\n",
    "    # Convert the string movie title to a numeric index for our \n",
    "    # similarity matrix\n",
    "    b_idx = indices[movie_title]\n",
    "    # Extract all similarity values computed with the reference movie title\n",
    "    sim_scores = list(enumerate(cosine_sim_enrich[b_idx]))\n",
    "    # Sort the values, keeping a copy of the original index of each value\n",
    "    sim_scores = sorted(sim_scores, key=lambda x: x[1], reverse=True)\n",
    "    # Select the top-N values for recommendation\n",
    "    sim_scores = sim_scores[1:N]\n",
    "    # Collect indexes \n",
    "    movie_indices = [i[0] for i in sim_scores]\n",
    "    # Convert the indexes back into titles \n",
    "    return titles.iloc[movie_indices]"
   ]
  },
  {
   "cell_type": "code",
   "execution_count": 192,
   "id": "5defa8c4",
   "metadata": {
    "scrolled": true
   },
   "outputs": [
    {
     "name": "stdout",
     "output_type": "stream",
     "text": [
      "Man in the Iron Mask, The (1998) has this following recommendation\n"
     ]
    },
    {
     "data": {
      "text/plain": [
       "2341                                   Click (2006)\n",
       "2342    Confessions of a Teenage Drama Queen (2004)\n",
       "2343                              Shark Tale (2004)\n",
       "2344                          Counselor, The (2013)\n",
       "2345                     Crank: High Voltage (2009)\n",
       "2346                             Cats & Dogs (2001)\n",
       "2347                      Mr. Bean's Holiday (2007)\n",
       "2348          Day the Earth Stood Still, The (2008)\n",
       "2349                         Days of Thunder (1990)\n",
       "Name: title, dtype: object"
      ]
     },
     "execution_count": 192,
     "metadata": {},
     "output_type": "execute_result"
    }
   ],
   "source": [
    "title = indices.index[random.randint(2513)]\n",
    "print(f'{title} has this following recommendation')\n",
    "content_generate_top_N_recommendations(title).head(10)"
   ]
  },
  {
   "cell_type": "code",
   "execution_count": 190,
   "id": "5fb3a778",
   "metadata": {},
   "outputs": [
    {
     "data": {
      "text/plain": [
       "['Godfather, The (1972)',\n",
       " 'Shawshank Redemption, The (1994)',\n",
       " 'Godfather: Part II, The (1974)',\n",
       " 'American Beauty (1999)',\n",
       " 'Star Wars: Episode IV - A New Hope (1977)',\n",
       " 'Sixth Sense, The (1999)',\n",
       " 'Silence of the Lambs, The (1991)',\n",
       " 'Star Wars: Episode V - The Empire Strikes Back (1980)',\n",
       " 'Pulp Fiction (1994)',\n",
       " 'Goodfellas (1990)']"
      ]
     },
     "execution_count": 190,
     "metadata": {},
     "output_type": "execute_result"
    }
   ],
   "source": [
    "sorted_df.title.to_list()[:10]"
   ]
  },
  {
   "cell_type": "code",
   "execution_count": 169,
   "id": "9ebc1cf5",
   "metadata": {},
   "outputs": [
    {
     "data": {
      "text/plain": [
       "['Godfather, The (1972)',\n",
       " 'Shawshank Redemption, The (1994)',\n",
       " 'Godfather: Part II, The (1974)',\n",
       " 'American Beauty (1999)',\n",
       " 'Star Wars: Episode IV - A New Hope (1977)',\n",
       " 'Sixth Sense, The (1999)',\n",
       " 'Silence of the Lambs, The (1991)',\n",
       " 'Star Wars: Episode V - The Empire Strikes Back (1980)',\n",
       " 'Pulp Fiction (1994)',\n",
       " 'Goodfellas (1990)']"
      ]
     },
     "execution_count": 169,
     "metadata": {},
     "output_type": "execute_result"
    }
   ],
   "source": [
    "sorted_df.title.to_list()[:10]"
   ]
  },
  {
   "cell_type": "code",
   "execution_count": null,
   "id": "f4dbd009",
   "metadata": {},
   "outputs": [],
   "source": []
  },
  {
   "cell_type": "code",
   "execution_count": 168,
   "id": "a62726b0",
   "metadata": {},
   "outputs": [
    {
     "data": {
      "text/plain": [
       "(140, 3)"
      ]
     },
     "execution_count": 168,
     "metadata": {},
     "output_type": "execute_result"
    }
   ],
   "source": [
    "# Creating a dataframe for movies that meet requirement to be in the trend or ranked list\n",
    "df3_mod = df3_mod[(df3_mod['rating_count'] >= m)]\n",
    "df3_mod.shape"
   ]
  }
 ],
 "metadata": {
  "kernelspec": {
   "display_name": "Python 3 (ipykernel)",
   "language": "python",
   "name": "python3"
  },
  "language_info": {
   "codemirror_mode": {
    "name": "ipython",
    "version": 3
   },
   "file_extension": ".py",
   "mimetype": "text/x-python",
   "name": "python",
   "nbconvert_exporter": "python",
   "pygments_lexer": "ipython3",
   "version": "3.9.12"
  }
 },
 "nbformat": 4,
 "nbformat_minor": 5
}
